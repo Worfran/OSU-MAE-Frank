{
 "cells": [
  {
   "cell_type": "code",
   "execution_count": 1,
   "id": "343d97a9-98a8-45cd-af2b-619704e6c5e2",
   "metadata": {},
   "outputs": [],
   "source": [
    "import pandas as pd\n",
    "import numpy as np\n",
    "from scipy.integrate import solve_ivp\n",
    "import matplotlib.pyplot as plt\n",
    "\n",
    "import plotly.graph_objs as go\n",
    "from plotly.subplots import make_subplots"
   ]
  },
  {
   "cell_type": "code",
   "execution_count": 2,
   "id": "afd9063e-0791-4f30-becd-e1282d4b34d3",
   "metadata": {},
   "outputs": [],
   "source": [
    "#Contans\n",
    "pi = np.pi\n",
    "kb = 8.617333262145e-5  # Boltzmann constant in eV/K\n",
    "T = 600 + 273.15        # Temperature in Kelvin"
   ]
  },
  {
   "cell_type": "code",
   "execution_count": 65,
   "id": "5e6bec3f-169c-4214-91a5-fbb7a304bf89",
   "metadata": {},
   "outputs": [],
   "source": [
    "# Helper functions\n",
    "def D_Coeff(D_0, E_m, T):\n",
    "    return D_0 * np.exp(-E_m / (kb * T))\n",
    "\n",
    "def log_factor(r_0, r_L, eps=1e-10):\n",
    "    logt = np.log(8 * r_L / r_0)\n",
    "    r = r_0 * logt\n",
    "    return 1 / r if r > eps else eps\n",
    "\n",
    "def compute_j_L_i(C_Th_i, D_Th_i, r_0, r_L, eps=1e-10):\n",
    "    log_fact = log_factor(r_0, r_L)\n",
    "    num = D_Th_i * C_Th_i\n",
    "    return log_fact * num \n",
    "\n",
    "def compute_j_ii(C_Th_i, C_O_i, D_Th_i, D_O_i, eta, Z_2_Th = 6, Z_2_O = 6, eps=1e-10):\n",
    "    \n",
    "    numerator = Z_2_Th * D_Th_i * (C_Th_i**2) * Z_2_O * D_O_i * (C_O_i**2)\n",
    "    denominator = 2 * Z_2_Th * D_Th_i * (C_Th_i**2) + Z_2_O * D_O_i * (C_O_i**2)\n",
    "    \n",
    "    return eta * numerator / denominator \n",
    "\n",
    "def loop_life_time_term(N_L, R_L, alpha, beta, k_lf):\n",
    "    pro = np.power(N_L, alpha) * np.power(R_L, beta)\n",
    "    return k_lf * np.power(N_L, alpha) * np.power(R_L, beta)\n"
   ]
  },
  {
   "cell_type": "code",
   "execution_count": 101,
   "id": "a6fd886e-9cd9-4f27-becf-e4facb69fab4",
   "metadata": {},
   "outputs": [],
   "source": [
    "# ODE system\n",
    "def ODE_system(t, y, params):\n",
    "    C_Th_v, C_O_v, C_Th_i, C_O_i, N_L, R_L = y\n",
    "\n",
    "    G_Th_v = params['G_Th_v']\n",
    "    G_O_v  = params['G_O_v']\n",
    "    G_Th_i = params['G_Th_i']\n",
    "    G_O_i  = params['G_O_i']\n",
    "    a     = params['a']\n",
    "    Omega_0 = (a**3) / 12\n",
    "    D_Th_i = params['D_Th_i']\n",
    "    D_O_i  = params['D_O_i']\n",
    "    D_Th_v = params['D_Th_v']\n",
    "    D_O_v  = params['D_O_v']\n",
    "    r0     = params['r0']\n",
    "    L = params['L']\n",
    "    b = a / np.sqrt(3)\n",
    "    alpha = params['alpha']\n",
    "    beta = params['beta']\n",
    "    k_lf = params['k_lf']\n",
    "    eta =  Omega_0 / a**2\n",
    "    st   = 2 * pi * R_L * N_L\n",
    "\n",
    "     \n",
    "    j_L_i = 0\n",
    "    j_ii = 0\n",
    "    \n",
    "    if C_Th_i != 0 or C_O_i != 0:\n",
    "        j_L_i = compute_j_L_i(C_Th_i, D_Th_i, r0, R_L)\n",
    "        j_ii  = compute_j_ii(C_Th_i, C_O_i, D_Th_i, D_O_i, eta)\n",
    "    \n",
    "    tau = loop_life_time_term(N_L, R_L, alpha, beta, k_lf)\n",
    "    \n",
    "    k_Th = eta * (48 * D_Th_i + 48 * D_Th_i)\n",
    "    k_O  = eta * (36 * D_O_i + 24 * D_O_i)\n",
    "\n",
    "    c_lamalle = 12/(L**2)\n",
    "\n",
    "    \n",
    "    dc = np.zeros(6)\n",
    "    \n",
    "    #R_L evolution\n",
    "    \n",
    "    dc[5] = 3 * Omega_0 * 2 * pi * r0 * j_L_i / b\n",
    "\n",
    "    dc[4] =  j_ii \n",
    "\n",
    "    if tau != 0 :\n",
    "        dc[4] -=  N_L / tau\n",
    "    \n",
    "\n",
    "    \n",
    "    if dc[5] < 0 and R_L <= 2*r0:\n",
    "        dc[5] = 0\n",
    "\n",
    "    if dc[4] < 0 and N_L <= 0:\n",
    "        dc[4] = 0\n",
    "\n",
    "    dc[0] = G_Th_v - k_Th * C_Th_v * C_Th_i # - c_lamalle * D_Th_v * C_Th_v (neglected)\n",
    "    dc[1] = G_O_v  - k_O  * C_O_v  * C_O_i  - c_lamalle * D_O_v * C_O_v\n",
    "    dc[2] = G_Th_i - k_Th * C_Th_i * C_Th_v - c_lamalle * D_Th_i * C_Th_i  - j_L_i * pi * r0 * st - j_ii\n",
    "    dc[3] = G_O_i  - k_O  * C_O_i  * C_O_v  - c_lamalle * D_O_i * C_O_i - 2 * j_L_i * pi * r0 * st - 2 * j_ii\n",
    "\n",
    "    return dc\n"
   ]
  },
  {
   "cell_type": "code",
   "execution_count": 102,
   "id": "7d588345-acc4-40a8-bcdc-012558ed4860",
   "metadata": {},
   "outputs": [],
   "source": [
    "\n",
    "def interactive_plots(results, G_0):\n",
    "    time = results['time']\n",
    "    dose = time * G_0\n",
    "\n",
    "    # Ce Concentrations\n",
    "    fig1 = go.Figure()\n",
    "    fig1.add_trace(go.Scatter(x=time, y=results['C_Th_v'],\n",
    "                              mode='lines', name='C_Th_v'))\n",
    "    fig1.add_trace(go.Scatter(x=time, y=results['C_Th_i'],\n",
    "                              mode='lines', name='C_Th_i'))\n",
    "    fig1.update_layout(title=\"Vacancy Concentrations\",\n",
    "                       xaxis=dict(title=\"Time [s]\", type=\"log\",  exponentformat='power'),\n",
    "                       yaxis=dict(title=\"Concentration [cm<sup>-3</sup>]\", type=\"log\", exponentformat='power'),\n",
    "                       width=600, height=500)\n",
    "    fig1.show()\n",
    "\n",
    "    # O Concentrations\n",
    "    fig2 = go.Figure()\n",
    "    fig2.add_trace(go.Scatter(x=time, y=results['C_O_v'],\n",
    "                              mode='lines', name='C_O_v'))\n",
    "    fig2.add_trace(go.Scatter(x=time, y=results['C_O_i'],\n",
    "                              mode='lines', name='C_O_i'))\n",
    "    fig2.update_layout(title=\"Interstitial Concentrations\",\n",
    "                       xaxis=dict(title=\"Time [s]\", type=\"log\", exponentformat='power'),\n",
    "                       yaxis=dict(title=\"Concentration [cm<sup>-3</sup>]\", type=\"log\", exponentformat='power'),\n",
    "                       width=600, height=500)\n",
    "    fig2.show()\n",
    "\n",
    "    # Loop density\n",
    "    fig3 = go.Figure()\n",
    "    fig3.add_trace(go.Scatter(x=dose, y=results['N_L']*1e-16,\n",
    "                              mode='lines', name='N_L'))\n",
    "    fig3.update_layout(title=\"Dislocation Loop Density\",\n",
    "                       xaxis=dict(title=\"Dose [dpa]\"),\n",
    "                       yaxis=dict(title=\"Loop Density [ 10<sup>16</sup> cm<sup>-3</sup>] \"),\n",
    "                       width=600, height=500)\n",
    "    fig3.show()\n",
    "\n",
    "    # Loop radius\n",
    "    fig4 = go.Figure()\n",
    "    fig4.add_trace(go.Scatter(x=dose, y=results['R_L']*1e7,\n",
    "                              mode='lines', name='R_L'))\n",
    "    fig4.update_layout(title=\"Dislocation Loop Radius\",\n",
    "                       xaxis=dict(title=\"Dose [dpa]\"),\n",
    "                       yaxis=dict(title=\"Loop Radius [nm]\"),\n",
    "                       width=600, height=500)\n",
    "    fig4.show()\n"
   ]
  },
  {
   "cell_type": "code",
   "execution_count": 103,
   "id": "1dfc727a-b6b1-49d7-b3db-3aa318a93e17",
   "metadata": {},
   "outputs": [
    {
     "name": "stdout",
     "output_type": "stream",
     "text": [
      "D_Ce_i = 9.839e-18 cm^2/s\n",
      "D_Ce_v = 8.978e-30 cm^2/s\n",
      "D_O_i  = 1.495e-07 cm^2/s\n",
      "D_O_v  = 3.091e-09 cm^2/s\n",
      "G_Ce   = 2.651e+19 dpa/(s*cm^3)\n",
      "G_O   = 1.047e+20 dpa/(s*cm^3)\n"
     ]
    }
   ],
   "source": [
    "#Parameters\n",
    "a = 561e-10   # cm\n",
    "N = 12 \n",
    "Omega_0 = (a**3) / N\n",
    "b = a / np.sqrt(3)\n",
    "\n",
    "L = 100e-7 # Lamallae thickness cm\n",
    "\n",
    "alpha = 1\n",
    "beta = 1\n",
    "\n",
    "D_0_Th_v, D_0_Th_i, D_0_O_v, D_0_O_i = 0.65, 0.01, 0.02, 0.01\n",
    "\n",
    "E_m_Th_v, E_m_Th_i, E_m_O_v, E_m_O_i = 5.0, 2.6, 1.18, 0.836\n",
    "\n",
    "# Dose rate dpa/s\n",
    "G_Th_0 = 0.39e-3  \n",
    "G_O_0 = 1.54e-3\n",
    "\n",
    "# Dose rato to dpa/(s*cm^-3)\n",
    "\n",
    "G_Th = G_Th_0 / Omega_0 \n",
    "G_O  = G_O_0 / Omega_0\n",
    "r0 = 180.4e-10 #cm\n",
    "\n",
    "k_lf = 2\n",
    "\n",
    "params = {\n",
    "    'G_Th_v': G_Th, 'G_O_v': G_O,\n",
    "    'G_Th_i': G_Th, 'G_O_i': G_O,\n",
    "    'a': a, \n",
    "    'D_Th_i': D_Coeff(D_0_Th_i, E_m_Th_i, T),\n",
    "    'D_Th_v': D_Coeff(D_0_Th_v, E_m_Th_v, T),\n",
    "    'D_O_i':  D_Coeff(D_0_O_i,  E_m_O_i, T),\n",
    "    'D_O_v':  D_Coeff(D_0_O_v,  E_m_O_v, T),\n",
    "    'r0': r0,\n",
    "    'L': L,\n",
    "    'alpha': alpha,\n",
    "    'beta': beta,\n",
    "    'k_lf': k_lf\n",
    "}\n",
    "\n",
    "print(f\"D_Ce_i = {params['D_Th_i']:.3e} cm^2/s\")\n",
    "print(f\"D_Ce_v = {params['D_Th_v']:.3e} cm^2/s\")\n",
    "print(f\"D_O_i  = {params['D_O_i']:.3e} cm^2/s\")\n",
    "print(f\"D_O_v  = {params['D_O_v']:.3e} cm^2/s\")\n",
    "print(f\"G_Ce   = {params['G_Th_v']:.3e} dpa/(s*cm^3)\")\n",
    "print(f\"G_O   = {params['G_O_v']:.3e} dpa/(s*cm^3)\")\n"
   ]
  },
  {
   "cell_type": "code",
   "execution_count": 104,
   "id": "c05d7c34-b6e4-4440-97e8-e440d8687e4d",
   "metadata": {},
   "outputs": [],
   "source": [
    "# Initial conditions\n",
    "t0 = 0.0001149\n",
    "y0 = [0,0,0,0,0, 2*pi*a**2]\n",
    "\n",
    "#Damage rate dpa/s\n",
    "G_0 = 1.9e-3\n",
    "\n",
    "# Total time from total dose\n",
    "dmg = 3.0   # dpa\n",
    "t_end = dmg / G_0\n",
    "t_span = (t0, t_end)\n",
    "t_eval = np.linspace(t0, t_end, 1000)\n",
    "\n",
    "solution = solve_ivp(ODE_system, method='BDF', t_span=t_span, y0=y0,\n",
    "                     args=(params,), t_eval=t_eval)\n"
   ]
  },
  {
   "cell_type": "code",
   "execution_count": 105,
   "id": "0c1d72ff-ffc0-4b5a-b8ca-0ba8fa3a0de8",
   "metadata": {},
   "outputs": [],
   "source": [
    "# Collect results and plot\n",
    "results = pd.DataFrame(solution.y.T,\n",
    "                       columns=['C_Th_v','C_O_v','C_Th_i','C_O_i','N_L','R_L'])\n",
    "results['time'] = solution.t\n"
   ]
  },
  {
   "cell_type": "code",
   "execution_count": 106,
   "id": "e6a6385f-d24a-4c04-b5c8-2e2efdad4d41",
   "metadata": {},
   "outputs": [
    {
     "data": {
      "application/vnd.plotly.v1+json": {
       "config": {
        "plotlyServerURL": "https://plot.ly"
       },
       "data": [
        {
         "mode": "lines",
         "name": "C_Th_v",
         "type": "scatter",
         "x": {
          "bdata": "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",
          "dtype": "f8"
         },
         "y": {
          "bdata": "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",
          "dtype": "f8"
         }
        },
        {
         "mode": "lines",
         "name": "C_Th_i",
         "type": "scatter",
         "x": {
          "bdata": "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",
          "dtype": "f8"
         },
         "y": {
          "bdata": "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",
          "dtype": "f8"
         }
        }
       ],
       "layout": {
        "height": 500,
        "template": {
         "data": {
          "bar": [
           {
            "error_x": {
             "color": "#2a3f5f"
            },
            "error_y": {
             "color": "#2a3f5f"
            },
            "marker": {
             "line": {
              "color": "#E5ECF6",
              "width": 0.5
             },
             "pattern": {
              "fillmode": "overlay",
              "size": 10,
              "solidity": 0.2
             }
            },
            "type": "bar"
           }
          ],
          "barpolar": [
           {
            "marker": {
             "line": {
              "color": "#E5ECF6",
              "width": 0.5
             },
             "pattern": {
              "fillmode": "overlay",
              "size": 10,
              "solidity": 0.2
             }
            },
            "type": "barpolar"
           }
          ],
          "carpet": [
           {
            "aaxis": {
             "endlinecolor": "#2a3f5f",
             "gridcolor": "white",
             "linecolor": "white",
             "minorgridcolor": "white",
             "startlinecolor": "#2a3f5f"
            },
            "baxis": {
             "endlinecolor": "#2a3f5f",
             "gridcolor": "white",
             "linecolor": "white",
             "minorgridcolor": "white",
             "startlinecolor": "#2a3f5f"
            },
            "type": "carpet"
           }
          ],
          "choropleth": [
           {
            "colorbar": {
             "outlinewidth": 0,
             "ticks": ""
            },
            "type": "choropleth"
           }
          ],
          "contour": [
           {
            "colorbar": {
             "outlinewidth": 0,
             "ticks": ""
            },
            "colorscale": [
             [
              0,
              "#0d0887"
             ],
             [
              0.1111111111111111,
              "#46039f"
             ],
             [
              0.2222222222222222,
              "#7201a8"
             ],
             [
              0.3333333333333333,
              "#9c179e"
             ],
             [
              0.4444444444444444,
              "#bd3786"
             ],
             [
              0.5555555555555556,
              "#d8576b"
             ],
             [
              0.6666666666666666,
              "#ed7953"
             ],
             [
              0.7777777777777778,
              "#fb9f3a"
             ],
             [
              0.8888888888888888,
              "#fdca26"
             ],
             [
              1,
              "#f0f921"
             ]
            ],
            "type": "contour"
           }
          ],
          "contourcarpet": [
           {
            "colorbar": {
             "outlinewidth": 0,
             "ticks": ""
            },
            "type": "contourcarpet"
           }
          ],
          "heatmap": [
           {
            "colorbar": {
             "outlinewidth": 0,
             "ticks": ""
            },
            "colorscale": [
             [
              0,
              "#0d0887"
             ],
             [
              0.1111111111111111,
              "#46039f"
             ],
             [
              0.2222222222222222,
              "#7201a8"
             ],
             [
              0.3333333333333333,
              "#9c179e"
             ],
             [
              0.4444444444444444,
              "#bd3786"
             ],
             [
              0.5555555555555556,
              "#d8576b"
             ],
             [
              0.6666666666666666,
              "#ed7953"
             ],
             [
              0.7777777777777778,
              "#fb9f3a"
             ],
             [
              0.8888888888888888,
              "#fdca26"
             ],
             [
              1,
              "#f0f921"
             ]
            ],
            "type": "heatmap"
           }
          ],
          "histogram": [
           {
            "marker": {
             "pattern": {
              "fillmode": "overlay",
              "size": 10,
              "solidity": 0.2
             }
            },
            "type": "histogram"
           }
          ],
          "histogram2d": [
           {
            "colorbar": {
             "outlinewidth": 0,
             "ticks": ""
            },
            "colorscale": [
             [
              0,
              "#0d0887"
             ],
             [
              0.1111111111111111,
              "#46039f"
             ],
             [
              0.2222222222222222,
              "#7201a8"
             ],
             [
              0.3333333333333333,
              "#9c179e"
             ],
             [
              0.4444444444444444,
              "#bd3786"
             ],
             [
              0.5555555555555556,
              "#d8576b"
             ],
             [
              0.6666666666666666,
              "#ed7953"
             ],
             [
              0.7777777777777778,
              "#fb9f3a"
             ],
             [
              0.8888888888888888,
              "#fdca26"
             ],
             [
              1,
              "#f0f921"
             ]
            ],
            "type": "histogram2d"
           }
          ],
          "histogram2dcontour": [
           {
            "colorbar": {
             "outlinewidth": 0,
             "ticks": ""
            },
            "colorscale": [
             [
              0,
              "#0d0887"
             ],
             [
              0.1111111111111111,
              "#46039f"
             ],
             [
              0.2222222222222222,
              "#7201a8"
             ],
             [
              0.3333333333333333,
              "#9c179e"
             ],
             [
              0.4444444444444444,
              "#bd3786"
             ],
             [
              0.5555555555555556,
              "#d8576b"
             ],
             [
              0.6666666666666666,
              "#ed7953"
             ],
             [
              0.7777777777777778,
              "#fb9f3a"
             ],
             [
              0.8888888888888888,
              "#fdca26"
             ],
             [
              1,
              "#f0f921"
             ]
            ],
            "type": "histogram2dcontour"
           }
          ],
          "mesh3d": [
           {
            "colorbar": {
             "outlinewidth": 0,
             "ticks": ""
            },
            "type": "mesh3d"
           }
          ],
          "parcoords": [
           {
            "line": {
             "colorbar": {
              "outlinewidth": 0,
              "ticks": ""
             }
            },
            "type": "parcoords"
           }
          ],
          "pie": [
           {
            "automargin": true,
            "type": "pie"
           }
          ],
          "scatter": [
           {
            "fillpattern": {
             "fillmode": "overlay",
             "size": 10,
             "solidity": 0.2
            },
            "type": "scatter"
           }
          ],
          "scatter3d": [
           {
            "line": {
             "colorbar": {
              "outlinewidth": 0,
              "ticks": ""
             }
            },
            "marker": {
             "colorbar": {
              "outlinewidth": 0,
              "ticks": ""
             }
            },
            "type": "scatter3d"
           }
          ],
          "scattercarpet": [
           {
            "marker": {
             "colorbar": {
              "outlinewidth": 0,
              "ticks": ""
             }
            },
            "type": "scattercarpet"
           }
          ],
          "scattergeo": [
           {
            "marker": {
             "colorbar": {
              "outlinewidth": 0,
              "ticks": ""
             }
            },
            "type": "scattergeo"
           }
          ],
          "scattergl": [
           {
            "marker": {
             "colorbar": {
              "outlinewidth": 0,
              "ticks": ""
             }
            },
            "type": "scattergl"
           }
          ],
          "scattermap": [
           {
            "marker": {
             "colorbar": {
              "outlinewidth": 0,
              "ticks": ""
             }
            },
            "type": "scattermap"
           }
          ],
          "scattermapbox": [
           {
            "marker": {
             "colorbar": {
              "outlinewidth": 0,
              "ticks": ""
             }
            },
            "type": "scattermapbox"
           }
          ],
          "scatterpolar": [
           {
            "marker": {
             "colorbar": {
              "outlinewidth": 0,
              "ticks": ""
             }
            },
            "type": "scatterpolar"
           }
          ],
          "scatterpolargl": [
           {
            "marker": {
             "colorbar": {
              "outlinewidth": 0,
              "ticks": ""
             }
            },
            "type": "scatterpolargl"
           }
          ],
          "scatterternary": [
           {
            "marker": {
             "colorbar": {
              "outlinewidth": 0,
              "ticks": ""
             }
            },
            "type": "scatterternary"
           }
          ],
          "surface": [
           {
            "colorbar": {
             "outlinewidth": 0,
             "ticks": ""
            },
            "colorscale": [
             [
              0,
              "#0d0887"
             ],
             [
              0.1111111111111111,
              "#46039f"
             ],
             [
              0.2222222222222222,
              "#7201a8"
             ],
             [
              0.3333333333333333,
              "#9c179e"
             ],
             [
              0.4444444444444444,
              "#bd3786"
             ],
             [
              0.5555555555555556,
              "#d8576b"
             ],
             [
              0.6666666666666666,
              "#ed7953"
             ],
             [
              0.7777777777777778,
              "#fb9f3a"
             ],
             [
              0.8888888888888888,
              "#fdca26"
             ],
             [
              1,
              "#f0f921"
             ]
            ],
            "type": "surface"
           }
          ],
          "table": [
           {
            "cells": {
             "fill": {
              "color": "#EBF0F8"
             },
             "line": {
              "color": "white"
             }
            },
            "header": {
             "fill": {
              "color": "#C8D4E3"
             },
             "line": {
              "color": "white"
             }
            },
            "type": "table"
           }
          ]
         },
         "layout": {
          "annotationdefaults": {
           "arrowcolor": "#2a3f5f",
           "arrowhead": 0,
           "arrowwidth": 1
          },
          "autotypenumbers": "strict",
          "coloraxis": {
           "colorbar": {
            "outlinewidth": 0,
            "ticks": ""
           }
          },
          "colorscale": {
           "diverging": [
            [
             0,
             "#8e0152"
            ],
            [
             0.1,
             "#c51b7d"
            ],
            [
             0.2,
             "#de77ae"
            ],
            [
             0.3,
             "#f1b6da"
            ],
            [
             0.4,
             "#fde0ef"
            ],
            [
             0.5,
             "#f7f7f7"
            ],
            [
             0.6,
             "#e6f5d0"
            ],
            [
             0.7,
             "#b8e186"
            ],
            [
             0.8,
             "#7fbc41"
            ],
            [
             0.9,
             "#4d9221"
            ],
            [
             1,
             "#276419"
            ]
           ],
           "sequential": [
            [
             0,
             "#0d0887"
            ],
            [
             0.1111111111111111,
             "#46039f"
            ],
            [
             0.2222222222222222,
             "#7201a8"
            ],
            [
             0.3333333333333333,
             "#9c179e"
            ],
            [
             0.4444444444444444,
             "#bd3786"
            ],
            [
             0.5555555555555556,
             "#d8576b"
            ],
            [
             0.6666666666666666,
             "#ed7953"
            ],
            [
             0.7777777777777778,
             "#fb9f3a"
            ],
            [
             0.8888888888888888,
             "#fdca26"
            ],
            [
             1,
             "#f0f921"
            ]
           ],
           "sequentialminus": [
            [
             0,
             "#0d0887"
            ],
            [
             0.1111111111111111,
             "#46039f"
            ],
            [
             0.2222222222222222,
             "#7201a8"
            ],
            [
             0.3333333333333333,
             "#9c179e"
            ],
            [
             0.4444444444444444,
             "#bd3786"
            ],
            [
             0.5555555555555556,
             "#d8576b"
            ],
            [
             0.6666666666666666,
             "#ed7953"
            ],
            [
             0.7777777777777778,
             "#fb9f3a"
            ],
            [
             0.8888888888888888,
             "#fdca26"
            ],
            [
             1,
             "#f0f921"
            ]
           ]
          },
          "colorway": [
           "#636efa",
           "#EF553B",
           "#00cc96",
           "#ab63fa",
           "#FFA15A",
           "#19d3f3",
           "#FF6692",
           "#B6E880",
           "#FF97FF",
           "#FECB52"
          ],
          "font": {
           "color": "#2a3f5f"
          },
          "geo": {
           "bgcolor": "white",
           "lakecolor": "white",
           "landcolor": "#E5ECF6",
           "showlakes": true,
           "showland": true,
           "subunitcolor": "white"
          },
          "hoverlabel": {
           "align": "left"
          },
          "hovermode": "closest",
          "mapbox": {
           "style": "light"
          },
          "paper_bgcolor": "white",
          "plot_bgcolor": "#E5ECF6",
          "polar": {
           "angularaxis": {
            "gridcolor": "white",
            "linecolor": "white",
            "ticks": ""
           },
           "bgcolor": "#E5ECF6",
           "radialaxis": {
            "gridcolor": "white",
            "linecolor": "white",
            "ticks": ""
           }
          },
          "scene": {
           "xaxis": {
            "backgroundcolor": "#E5ECF6",
            "gridcolor": "white",
            "gridwidth": 2,
            "linecolor": "white",
            "showbackground": true,
            "ticks": "",
            "zerolinecolor": "white"
           },
           "yaxis": {
            "backgroundcolor": "#E5ECF6",
            "gridcolor": "white",
            "gridwidth": 2,
            "linecolor": "white",
            "showbackground": true,
            "ticks": "",
            "zerolinecolor": "white"
           },
           "zaxis": {
            "backgroundcolor": "#E5ECF6",
            "gridcolor": "white",
            "gridwidth": 2,
            "linecolor": "white",
            "showbackground": true,
            "ticks": "",
            "zerolinecolor": "white"
           }
          },
          "shapedefaults": {
           "line": {
            "color": "#2a3f5f"
           }
          },
          "ternary": {
           "aaxis": {
            "gridcolor": "white",
            "linecolor": "white",
            "ticks": ""
           },
           "baxis": {
            "gridcolor": "white",
            "linecolor": "white",
            "ticks": ""
           },
           "bgcolor": "#E5ECF6",
           "caxis": {
            "gridcolor": "white",
            "linecolor": "white",
            "ticks": ""
           }
          },
          "title": {
           "x": 0.05
          },
          "xaxis": {
           "automargin": true,
           "gridcolor": "white",
           "linecolor": "white",
           "ticks": "",
           "title": {
            "standoff": 15
           },
           "zerolinecolor": "white",
           "zerolinewidth": 2
          },
          "yaxis": {
           "automargin": true,
           "gridcolor": "white",
           "linecolor": "white",
           "ticks": "",
           "title": {
            "standoff": 15
           },
           "zerolinecolor": "white",
           "zerolinewidth": 2
          }
         }
        },
        "title": {
         "text": "Vacancy Concentrations"
        },
        "width": 600,
        "xaxis": {
         "exponentformat": "power",
         "title": {
          "text": "Time [s]"
         },
         "type": "log"
        },
        "yaxis": {
         "exponentformat": "power",
         "title": {
          "text": "Concentration [cm<sup>-3</sup>]"
         },
         "type": "log"
        }
       }
      },
      "image/png": "[encoded data removed]"
     },
     "metadata": {},
     "output_type": "display_data"
    },
    {
     "data": {
      "application/vnd.plotly.v1+json": {
       "config": {
        "plotlyServerURL": "https://plot.ly"
       },
       "data": [
        {
         "mode": "lines",
         "name": "C_O_v",
         "type": "scatter",
         "x": {
          "bdata": "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",
          "dtype": "f8"
         },
         "y": {
          "bdata": "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",
          "dtype": "f8"
         }
        },
        {
         "mode": "lines",
         "name": "C_O_i",
         "type": "scatter",
         "x": {
          "bdata": "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",
          "dtype": "f8"
         },
         "y": {
          "bdata": "AAAAAAAAAABQHGi0IYQsQ97R0yjsgyxDT/YKGJyDLEO1zgvkO4MsQxdP+FHVgixDUY/B5G+CLEOuLxiGEIIsQ9QVjKq5gSxD7+9uRGyBLENvObFGKIEsQ+UMKePsgCxDotyaRbmALEOh5u1xjIAsQxz8E71lgCxDJoJaRUSALEN14H0UJ4AsQzwwVGUNgCxDUQuLtPZ/LEPxd8YZ438sQ2lBvp3RfyxDTz1808F/LEP95oz+s38sQwgHUq+nfyxD4YBuupx/LEO0fBydkn8sQ66NeICJfyxDNN2fYoF/LEO0lDNRen8sQ18bi/1zfyxDWH6A2G1/LEMH0ERAaH8sQyiNKDZjfyxD5w/Cwl5/LENDzLmWWn8sQ2DC2qFWfyxDRxTJ/lJ/LEMrcnKtT38sQz/1+bBMfyxDDk+Q0Ul/LEPRKwckR38sQ0k1bqhEfyxDjbYMXkJ/LEMVxv5AQH8sQxYtVzw+fyxDLaAjWTx/LEODMPGVOn8sQ3g2BPI4fyxDVTpfVzd/LEM8RP66NX8sQ1W9KjE0fyxDXCNDujJ/LEO2vkdXMX8sQ3qi2gkwfyxDaKw/1C5/LEPxhFy5LX8sQzGfuLwsfyxD8zh94it/LEOvWnUvK38sQ4nXDakqfyxDVU1VVSp/LEO/6oeZKX8sQzawNsQofyxDcCVf9yd/LENrjSA0J38sQ3dV4nsmfyxDLxVU0CV/LEN7jm0zJX8sQ5KtbqckfyxD9ojfLiR/LEN6YZDMI38sQzqimYMjfyxDo+BbVyN/LEN/ujQ8I38sQx1ZvtEifyxDxL1EayJ/LEMEedUIIn8sQ00Rj6ohfyxD7AKhUCF/LEMMwEv7IH8sQ7Ww4KogfyxDzzLCXyB/LEMfmmMaIH8sQ0YwSdsffyxDxTQIox9/LEP83EZyH38sQ7gLwz4ffyxDwLyGAh9/LENdUnvIHn8sQ6GmoZAefyxD+GoAWx5/LEMtKKQnHn8sQ2Y+n/YdfyxDJeUJyB1/LENKKwKcHX8sQxH3q3IdfyxDEQYxTB1/LENA7cAoHX8sQ+4YkQgdfyxDVRuI5Rx/LEM6PULCHH8sQ93dDqAcfyxDPy3Ufhx/LENeW3heHH8sQzmY4T4cfyxDzRP2Hxx/LEMb/psBHH8sQyCHueMbfyxD2940xht/LENMNfSoG38sQ3C63YsbfyxD/K2ubxt/LEMdPi9aG38sQ0FZsEUbfyxD5pAmMht/LEOJdoYfG38sQ6ubxA0bfyxDx5HV/Bp/LENd6q3sGn8sQ+s2Qt0afyxD7wiHzhp/LEPn8XDAGn8sQ1KD9LIafyxDrU4Gphp/LEN35ZqZGn8sQy3Zpo0afyxDT7seghp/LENaHfd2Gn8sQ8yQJGwafyxDJKebYRp/LEPg8VBXGn8sQ42nSU4afyxDnnOiRRp/LEOfG0U9Gn8sQwBeKDUafyxDL/lCLRp/LEOaq4slGn8sQ7Az+R0afyxD4E+CFhp/LEOXvh0PGn8sQ0Y+wgcafyxDWY1mABp/LENAagH5GX8sQ2mTifEZfyxDQ8f16Rl/LEM9xDziGX8sQ8RIVdoZfyxDRxM20hl/LEM14tXJGX8sQ/1zK8EZfyxDkx4Buxl/LEMUg8O1GX8sQ5QNtbAZfyxDCJvTqxl/LENkCB2nGX8sQ5oyj6IZfyxDnvYnnhl/LENkMeWZGX8sQ9+/xJUZfyxDBH/EkRl/LEPFS+KNGX8sQxYDHIoZfyxD6oFvhhl/LEM2pdqCGX8sQ+1JW38ZfyxDAk3vexl/LENpi5R4GX8sQxXiSHUZfyxD+i0Kchl/LEPWeuduGX8sQ4uY5msZfyxDRMP/aBl/LEMA+zJmGX8sQ8E/gGMZfyxDhZHnYBl/LENN8GheGX8sQxlcBFwZfyxD6NS5WRl/LEO8WolXGX8sQ5PtclUZfyxDbo12Uxl/LENNOpRRGX8sQzD0y08ZfyxDF7sdThl/LEMBj4lMGX8sQ/BvD0sZfyxD4l2vSRl/LEPYWGlIGX8sQ6JW/EYZfyxDcfdORRl/LENLQLBDGX8sQzExIEIZfyxDIsqeQBl/LEMeCyw/GX8sQyX0xz0ZfyxDOIVyPBl/LENWvis7GX8sQ4Cf8zkZfyxDtSjKOBl/LEP1Wa83GX8sQ0AzozYZfyxDl7SlNRl/LEP53bY0GX8sQ2ev1jMZfyxD3ygFMxl/LENkSkIyGX8sQ/MTjjEZfyxDjoXoMBl/LEM0n1EwGX8sQ+VgyS8ZfyxDospPLxl/LENq3OQuGX8sQz2WiC4ZfyxDPzE3Lhl/LEOz+pMtGX8sQ9zZ9ywZfyxDu85iLBl/LENQ2dQrGX8sQ5v5TSsZfyxDmy/OKhl/LENRe1UqGX8sQ7zc4ykZfyxD3VN5KRl/LEO04BUpGX8sQ0CDuSgZfyxDgjtkKBl/LEN6CRYoGX8sQyftzicZfyxDiuaOJxl/LEOi9VUnGX8sQ3AaJCcZfyxD9FT5Jhl/LEMtpdUmGX8sQxwLuSYZfyxDwYajJhl/LEMbGJUmGX8sQyu/jSYZfyxD8XuNJhl/LENsTpQmGX8sQ4Y/lyYZfyxDWziVJhl/LEMwMZMmGX8sQwQqkSYZfyxD2SKPJhl/LEOtG40mGX8sQ4IUiyYZfyxDVw2JJhl/LEMrBocmGX8sQwD/hCYZfyxD1PeCJhl/LEOp8IAmGX8sQ37pfiYZfyxDUuJ8Jhl/LEMn23omGX8sQ/vTeCYZfyxD0Mx2Jhl/LEOkxXQmGX8sQ3m+ciYZfyxDTrdwJhl/LEMisG4mGX8sQ/eobCYZfyxDy6FqJhl/LEOgmmgmGX8sQ3WTZiYZfyxD71FsJhl/LEPbeosmGX8sQ8ajqiYZfyxDsszJJhl/LEOd9egmGX8sQ4keCCcZfyxDdEcnJxl/LENgcEYnGX8sQ0uZZScZfyxDN8KEJxl/LEMi66MnGX8sQw4UwycZfyxD+jziJxl/LEPlZQEoGX8sQ9GOICgZfyxDvLc/KBl/LEOo4F4oGX8sQ5MJfigZfyxDfzKdKBl/LENqW7woGX8sQ1aE2ygZfyxDQq36KBl/LEMt1hkpGX8sQxn/OCkZfyxDBChYKRl/LEPwUHcpGX8sQ9t5likZfyxDx6K1KRl/LEOyy9QpGX8sQ5708ykZfyxDih0TKhl/LEN1RjIqGX8sQ2FvUSoZfyxDTJhwKhl/LEM4wY8qGX8sQyPqrioZfyxDDxPOKhl/LEP6O+0qGX8sQ+ZkDCsZfyxD0Y0rKxl/LEO9tkorGX8sQ6nfaSsZfyxDlAiJKxl/LEOAMagrGX8sQ2taxysZfyxDV4PmKxl/LENCrAUsGX8sQy7VJCwZfyxDGf5DLBl/LEMFJ2MsGX8sQ/FPgiwZfyxD3HihLBl/LEPIocAsGX8sQ7PK3ywZfyxDn/P+LBl/LEOKHB4tGX8sQ3ZFPS0ZfyxDYW5cLRl/LENNl3stGX8sQznAmi0ZfyxDJOm5LRl/LEMQEtktGX8sQ/s6+C0ZfyxD52MXLhl/LEPSjDYuGX8sQ/0ZWC4ZfyxDKNV+Lhl/LENTkKUuGX8sQ39LzC4ZfyxDqgbzLhl/LEPVwRkvGX8sQwB9QC8ZfyxDLDhnLxl/LENX840vGX8sQ4KutC8ZfyxDrWnbLxl/LEPZJAIwGX8sQwTgKDAZfyxDL5tPMBl/LENaVnYwGX8sQ4YRnTAZfyxDsczDMBl/LEPch+owGX8sQwhDETEZfyxDM/43MRl/LENeuV4xGX8sQ4l0hTEZfyxDtS+sMRl/LEPg6tIxGX8sQwum+TEZfyxDNmEgMhl/LENiHEcyGX8sQ43XbTIZfyxDuJKUMhl/LEPjTbsyGX8sQw8J4jIZfyxDOsQIMxl/LENlfy8zGX8sQ5A6VjMZfyxDvPV8Mxl/LEPnsKMzGX8sQxJsyjMZfyxDPSfxMxl/LENp4hc0GX8sQ5SdPjQZfyxDv1hlNBl/LEPqE4w0GX8sQxbPsjQZfyxDQYrZNBl/LENsRQA1GX8sQ5gAJzUZfyxDw7tNNRl/LEPudnQ1GX8sQxkymzUZfyxDRe3BNRl/LENwqOg1GX8sQ5tjDzYZfyxDxh42Nhl/LEPy2Vw2GX8sQx2VgzYZfyxDSFCqNhl/LENzC9E2GX8sQ5/G9zYZfyxDyoEeNxl/LEP1PEU3GX8sQyD4azcZfyxDTLOSNxl/LEN3brk3GX8sQ6Ip4DcZfyxDzeQGOBl/LEPNKC44GX8sQyI8VjgZfyxDd09+OBl/LEPMYqY4GX8sQyF2zjgZfyxDd4n2OBl/LEPMnB45GX8sQyGwRjkZfyxDdsNuORl/LEPL1pY5GX8sQyDqvjkZfyxDdf3mORl/LEPLEA86GX8sQyAkNzoZfyxDdTdfOhl/LEPKSoc6GX8sQx9erzoZfyxDdHHXOhl/LEPJhP86GX8sQx+YJzsZfyxDdKtPOxl/LEPJvnc7GX8sQx7SnzsZfyxDc+XHOxl/LEPI+O87GX8sQx0MGDwZfyxDcx9APBl/LEPIMmg8GX8sQx1GkDwZfyxDclm4PBl/LEPHbOA8GX8sQxyACD0ZfyxDcZMwPRl/LEPHplg9GX8sQxy6gD0ZfyxDcc2oPRl/LEPG4NA9GX8sQxv0+D0ZfyxDcAchPhl/LEPFGkk+GX8sQxsucT4ZfyxDcEGZPhl/LEPFVME+GX8sQxpo6T4ZfyxDb3sRPxl/LEPEjjk/GX8sQxmiYT8ZfyxDb7WJPxl/LEPEyLE/GX8sQxnc2T8ZfyxDbu8BQBl/LEPDAipAGX8sQxgWUkAZfyxDbSl6QBl/LEPDPKJAGX8sQxhQykAZfyxDbWPyQBl/LEPCdhpBGX8sQxeKQkEZfyxDbJ1qQRl/LEPBsJJBGX8sQxfEukEZfyxDbNfiQRl/LEPB6gpCGX8sQxb+MkIZfyxDaxFbQhl/LEPAJINCGX8sQxU4q0IZfyxDa0vTQhl/LEPAXvtCGX8sQxVyI0MZfyxDaoVLQxl/LEO/mHNDGX8sQxSsm0MZfyxDab/DQxl/LEO/0utDGX8sQxTmE0QZfyxDafk7RBl/LEO+DGREGX8sQxMgjEQZfyxDaDO0RBl/LEO9RtxEGX8sQxNaBEUZfyxDaG0sRRl/LEO9gFRFGX8sQxKUfEUZfyxDZ6ekRRl/LEO8usxFGX8sQxHO9EUZfyxDZ+EcRhl/LEO89ERGGX8sQxEIbUYZfyxDZhuVRhl/LEO7Lr1GGX8sQxBC5UYZfyxDZVUNRxl/LEO7aDVHGX8sQxB8XUcZfyxDZY+FRxl/LEO6oq1HGX8sQw+21UcZfyxDZMn9Rxl/LEO53CVIGX8sQw/wTUgZfyxDZAN2SBl/LEO5Fp5IGX8sQw4qxkgZfyxDYz3uSBl/LEO4UBZJGX8sQw1kPkkZfyxDY3dmSRl/LEO4io5JGX8sQw2etkkZfyxDYrHeSRl/LEO3xAZKGX8sQwzYLkoZfyxDYetWShl/LEO3/n5KGX8sQwwSp0oZfyxDYSXPShl/LEO2OPdKGX8sQwtMH0sZfyxDYF9HSxl/LEO1cm9LGX8sQwuGl0sZfyxDYJm/Sxl/LEO1rOdLGX8sQwrAD0wZfyxDX9M3TBl/LEO05l9MGX8sQwn6h0wZfyxDXw2wTBl/LEO0INhMGX8sQwk0AE0ZfyxDXkcoTRl/LEOzWlBNGX8sQwhueE0ZfyxDXYGgTRl/LEOzlMhNGX8sQwio8E0ZfyxDXbsYThl/LEOyzkBOGX8sQwfiaE4ZfyxDXPWQThl/LEOxCLlOGX8sQwYc4U4ZfyxDXC8JTxl/LEOxQjFPGX8sQwZWWU8ZfyxDW2mBTxl/LEOwfKlPGX8sQwWQ0U8ZfyxDWqP5Txl/LEOwtiFQGX8sQwXKSVAZfyxDWt1xUBl/LEOv8JlQGX8sQwQEwlAZfyxDWRfqUBl/LEOuKhJRGX8sQwQ+OlEZfyxDWVFiURl/LEOuZIpRGX8sQwN4slEZfyxDWIvaURl/LEOtngJSGX8sQwKyKlIZfyxDWMVSUhl/LEOt2HpSGX8sQwLsolIZfyxDV//KUhl/LEOsEvNSGX8sQwEmG1MZfyxDVjlDUxl/LEOsTGtTGX8sQwFgk1MZfyxDVnO7Uxl/LEOrhuNTGX8sQwCaC1QZfyxDVa0zVBl/LEOqwFtUGX8sQwDUg1QZfyxDVeerVBl/LEOq+tNUGX8sQ/8N/FQZfyxDVCEkVRl/LEOpNExVGX8sQ/5HdFUZfyxDVFucVRl/LEOpbsRVGX8sQ/6B7FUZfyxDU5UUVhl/LEOoqDxWGX8sQ/27ZFYZfyxDUs+MVhl/LEOo4rRWGX8sQ/313FYZfyxDUgkFVxl/LEOnHC1XGX8sQ/wvVVcZfyxDUUN9Vxl/LEOmVqVXGX8sQ/xpzVcZfyxDUX31Vxl/LEOmkB1YGX8sQ/ujRVgZfyxDULdtWBl/LEOlypVYGX8sQ/rdvVgZfyxDUPHlWBl/LEOlBA5ZGX8sQ/oXNlkZfyxDTyteWRl/LEOkPoZZGX8sQ/lRrlkZfyxDTmXWWRl/LEOkeP5ZGX8sQ/mLJloZfyxDTp9OWhl/LEOjsnZaGX8sQ/jFnloZfyxDTdnGWhl/LEOi7O5aGX8sQ/j/FlsZfyxDTRM/Wxl/LEOiJmdbGX8sQ/c5j1sZfyxDTE23Wxl/LEOhYN9bGX8sQ/ZzB1wZfyxDTIcvXBl/LEOhmldcGX8sQ/atf1wZfyxDS8GnXBl/LEOg1M9cGX8sQ/Xn91wZfyxDSvsfXRl/LEOgDkhdGX8sQ/UhcF0ZfyxDSjWYXRl/LEOfSMBdGX8sQ/Rb6F0ZfyxDSW8QXhl/LEOegjheGX8sQ/SVYF4ZfyxDSamIXhl/LEOevLBeGX8sQ/PP2F4ZfyxDSOMAXxl/LEOd9ihfGX8sQ/IJUV8ZfyxDSB15Xxl/LEOdMKFfGX8sQ/JDyV8ZfyxDR1fxXxl/LEOcahlgGX8sQ/F9QWAZfyxDRpFpYBl/LEOcpJFgGX8sQ/G3uWAZfyxDRsvhYBl/LEOb3glhGX8sQ/DxMWEZfyxDRQVaYRl/LEOaGIJhGX8sQ/ArqmEZfyxDRT/SYRl/LEOaUvphGX8sQ+9lImIZfyxDRHlKYhl/LEOZjHJiGX8sQ+6fmmIZfyxDRLPCYhl/LEOZxupiGX8sQ+7ZEmMZfyxDQ+06Yxl/LEOYAGNjGX8sQ+0Ti2MZfyxDQiezYxl/LEOYOttjGX8sQ+1NA2QZfyxDQmErZBl/LEOXdFNkGX8sQ+yHe2QZfyxDQZujZBl/LEOWrstkGX8sQ+zB82QZfyxDQdUbZRl/LEOW6ENlGX8sQ+v7a2UZfyxDQA+UZRl/LEOVIrxlGX8sQ+o15GUZfyxDQEkMZhl/LEOVXDRmGX8sQ+pvXGYZfyxDP4OEZhl/LEOUlqxmGX8sQ+mp1GYZfyxDPr38Zhl/LEOU0CRnGX8sQ+njTGcZfyxDPvd0Zxl/LEOTCp1nGX8sQ+gdxWcZfyxDPTHtZxl/LEOSRBVoGX8sQ+hXPWgZfyxDPWtlaBl/LEOSfo1oGX8sQ+eRtWgZfyxDPKXdaBl/LEORuAVpGX8sQ+bLLWkZfyxDPN9VaRl/LEOR8n1pGX8sQ+YFpmkZfyxDOxnOaRl/LEOQLPZpGX8sQ+U/HmoZfyxDOlNGahl/LEOQZm5qGX8sQ+V5lmoZfyxDOo2+ahl/LEOPoOZqGX8sQ+SzDmsZfyxDOcc2axl/LEOO2l5rGX8sQ+PthmsZfyxDOQGvaxl/LEOQVNdrGX8sQ06x/2sZfyxDDQ4obBl/LEPLalBsGX8sQ4nHeGwZfyxDRyShbBl/LEMGgclsGX8sQ8Td8WwZfyxDgjoabRl/LENAl0JtGX8sQ//zam0ZfyxDvVCTbRl/LEN7rbttGX8sQzkK5G0ZfyxD+GYMbhl/LEO2wzRuGX8sQ3QgXW4ZfyxDMn2Fbhl/LEPx2a1uGX8sQ6821m4ZfyxDbZP+bhl/LEMr8CZvGX8sQ+pMT28ZfyxDqKl3bxl/LENmBqBvGX8sQyRjyG8ZfyxD47/wbxl/LEOhHBlwGX8sQ195QXAZfyxDHdZpcBl/LEPcMpJwGX8sQ5qPunAZfyxDWOzicBl/LEMWSQtxGX8sQ9WlM3EZfyxDkwJccRl/LENRX4RxGX8sQw+8rHEZfyxDzhjVcRl/LEOMdf1xGX8sQ0rSJXIZfyxDCC9Ochl/LEPHi3ZyGX8sQ4XonnIZfyxDQ0XHchl/LEMBou9yGX8sQ8D+F3MZfyxDfltAcxl/LEM8uGhzGX8sQ/oUkXMZfyxDuXG5cxl/LEN3zuFzGX8sQzUrCnQZfyxD84cydBl/LEOy5Fp0GX8sQ3BBg3QZfyxDLp6rdBl/LEPs+tN0GX8sQ6tX/HQZfyxDabQkdRl/LEMnEU11GX8sQ+VtdXUZfyxDpMqddRl/LENiJ8Z1GX8sQyCE7nUZfyxD3uAWdhl/LEOdPT92GX8sQ1uaZ3YZfyxDGfePdhl/LEPXU7h2GX8sQ5aw4HYZfyxDVA0Jdxl/LEMSajF3GX8sQ9DGWXcZfyxDjyOCdxl/LENNgKp3GX8sQwvd0ncZfyxDyTn7dxl/LEOIliN4GX8sQ0bzS3gZfyxDBFB0eBl/LEPCrJx4GX8sQ4EJxXgZfyxDP2bteBl/LEP9whV5GX8sQ7sfPnkZfyxDenxmeRl/LEM42Y55GX8sQ/Y1t3kZfyxDtJLfeRl/LENz7wd6GX8sQzFMMHoZfyxD76hYehl/LEOtBYF6GX8sQ2xiqXoZfyxDKr/Rehl/LEPoG/p6GX8sQ6Z4InsZfyxDZdVKexl/LEMjMnN7GX8sQ+GOm3sZfyxDn+vDexl/LENeSOx7GX8sQxylFHwZfyxD2gE9fBl/LEOYXmV8GX8sQ1e7jXwZfyxDFRi2fBl/LEPTdN58GX8sQ5HRBn0ZfyxDUC4vfRl/LEMOi1d9GX8sQ8znf30ZfyxDikSofRl/LENJodB9GX8sQwf++H0ZfyxDxVohfhl/LEODt0l+GX8sQ0IUcn4ZfyxDAHGafhl/LEO+zcJ+GX8sQ3wq634ZfyxDO4cTfxl/LEP54zt/GX8sQ7dAZH8ZfyxDdZ2Mfxl/LEM0+rR/GX8sQ/JW3X8ZfyxDsLMFgBl/LENuEC6AGX8sQy1tVoAZfyxD68l+gBl/LEOpJqeAGX8sQ2eDz4AZfyxDJuD3gBl/LEPkPCCBGX8sQ6KZSIEZfyxDYPZwgRl/LEMfU5mBGX8sQ92vwYEZfyxDmwzqgRl/LENZaRKCGX8sQxjGOoIZfyxD1iJjghl/LEOUf4uCGX8sQ1Lcs4IZfyxDETncghl/LEPPlQSDGX8sQ43yLIMZfyxDS09Vgxl/LEMKrH2DGX8sQ8gIpoMZfyxDhmXOgxl/LENEwvaDGX8sQwMfH4QZfyxDwXtHhBl/LEN/2G+EGX8sQz01mIQZfyxD/JHAhBl/LEO67uiEGX8sQ3hLEYUZfyxDNqg5hRl/LEP1BGKFGX8sQ7NhioUZfyxDcb6yhRl/LEMvG9uFGX8sQ+53A4YZfyxDrNQrhhl/LENqMVSGGX8sQyiOfIYZfyxD5+qkhhl/LEOlR82GGX8sQ2Ok9YYZfyxDIQEehxl/LEPgXUaHGX8sQ566bocZfyxDXBeXhxl/LEMadL+HGX8sQ9nQ54cZfyxDly0QiBl/LENVijiIGX8sQxPnYIgZfyxD0kOJiBl/LEOQoLGIGX8sQ0792YgZfyxDDFoCiRl/LEPLtiqJGX8sQ4kTU4kZfyxDR3B7iRl/LEMFzaOJGX8sQ8QpzIkZfyxDgob0iRl/LENA4xyKGX8sQ/4/RYoZfyxDvZxtihl/LEN7+ZWKGX8sQzlWvooZfyxD97Lmihl/LEO2Dw+LGX8sQ3RsN4sZfyxDMslfixl/LEPwJYiLGX8sQ6+CsIsZfyxDbd/Yixl/LEMrPAGMGX8sQ+mYKYwZfyxDqPVRjBl/LENmUnqMGX8sQySvoowZfyxD4gvLjBl/LEOhaPOMGX8sQ1/FG40ZfyxDHSJEjRl/LEPbfmyNGX8sQ5rblI0ZfyxDWDi9jRl/LEMWleWNGX8sQ9TxDY4ZfyxDk042jhl/LENRq16OGX8sQw8Ih44ZfyxDzWSvjhl/LEOMwdeOGX8sQ0oeAI8ZfyxDCHsojxl/LEPG11CPGX8sQ4U0eY8ZfyxDQ5Ghjxl/LEMB7smPGX8sQ79K8o8ZfyxDfqcakBl/LEM8BEOQGX8sQ/pga5AZfyxDuL2TkBl/LEN3GryQGX8sQzV35JAZfyxD89MMkRl/LEOxMDWRGX8sQ3CNXZEZfyxDLuqFkRl/LEPsRq6RGX8sQ6qj1pEZfyxDaQD/kRl/LEMnXSeSGX8sQ+W5T5IZfyxDoxZ4khl/LENic6CSGX8sQyDQyJIZfyxD3izxkhl/LEOciRmTGX8sQ1vmQZMZfyxDGUNqkxl/LEPXn5KTGX8sQ5X8upMZfyxDVFnjkxl/LEMStguUGX8sQ9ASNJQZfyxDjm9clBl/LENNzISUGX8sQwsprZQZfyxDyYXVlBl/LEOH4v2UGX8sQ0Y/JpUZfyxDBJxOlRl/LEPC+HaVGX8sQ4BVn5UZfyxDP7LHlRl/LEP9DvCVGX8sQ7trGJYZfyxDechAlhl/LEM4JWmWGX8sQ/aBkZYZfyxDtN65lhl/LENyO+KWGX8sQzGYCpcZfyxD7/Qylxl/LEM=",
          "dtype": "f8"
         }
        }
       ],
       "layout": {
        "height": 500,
        "template": {
         "data": {
          "bar": [
           {
            "error_x": {
             "color": "#2a3f5f"
            },
            "error_y": {
             "color": "#2a3f5f"
            },
            "marker": {
             "line": {
              "color": "#E5ECF6",
              "width": 0.5
             },
             "pattern": {
              "fillmode": "overlay",
              "size": 10,
              "solidity": 0.2
             }
            },
            "type": "bar"
           }
          ],
          "barpolar": [
           {
            "marker": {
             "line": {
              "color": "#E5ECF6",
              "width": 0.5
             },
             "pattern": {
              "fillmode": "overlay",
              "size": 10,
              "solidity": 0.2
             }
            },
            "type": "barpolar"
           }
          ],
          "carpet": [
           {
            "aaxis": {
             "endlinecolor": "#2a3f5f",
             "gridcolor": "white",
             "linecolor": "white",
             "minorgridcolor": "white",
             "startlinecolor": "#2a3f5f"
            },
            "baxis": {
             "endlinecolor": "#2a3f5f",
             "gridcolor": "white",
             "linecolor": "white",
             "minorgridcolor": "white",
             "startlinecolor": "#2a3f5f"
            },
            "type": "carpet"
           }
          ],
          "choropleth": [
           {
            "colorbar": {
             "outlinewidth": 0,
             "ticks": ""
            },
            "type": "choropleth"
           }
          ],
          "contour": [
           {
            "colorbar": {
             "outlinewidth": 0,
             "ticks": ""
            },
            "colorscale": [
             [
              0,
              "#0d0887"
             ],
             [
              0.1111111111111111,
              "#46039f"
             ],
             [
              0.2222222222222222,
              "#7201a8"
             ],
             [
              0.3333333333333333,
              "#9c179e"
             ],
             [
              0.4444444444444444,
              "#bd3786"
             ],
             [
              0.5555555555555556,
              "#d8576b"
             ],
             [
              0.6666666666666666,
              "#ed7953"
             ],
             [
              0.7777777777777778,
              "#fb9f3a"
             ],
             [
              0.8888888888888888,
              "#fdca26"
             ],
             [
              1,
              "#f0f921"
             ]
            ],
            "type": "contour"
           }
          ],
          "contourcarpet": [
           {
            "colorbar": {
             "outlinewidth": 0,
             "ticks": ""
            },
            "type": "contourcarpet"
           }
          ],
          "heatmap": [
           {
            "colorbar": {
             "outlinewidth": 0,
             "ticks": ""
            },
            "colorscale": [
             [
              0,
              "#0d0887"
             ],
             [
              0.1111111111111111,
              "#46039f"
             ],
             [
              0.2222222222222222,
              "#7201a8"
             ],
             [
              0.3333333333333333,
              "#9c179e"
             ],
             [
              0.4444444444444444,
              "#bd3786"
             ],
             [
              0.5555555555555556,
              "#d8576b"
             ],
             [
              0.6666666666666666,
              "#ed7953"
             ],
             [
              0.7777777777777778,
              "#fb9f3a"
             ],
             [
              0.8888888888888888,
              "#fdca26"
             ],
             [
              1,
              "#f0f921"
             ]
            ],
            "type": "heatmap"
           }
          ],
          "histogram": [
           {
            "marker": {
             "pattern": {
              "fillmode": "overlay",
              "size": 10,
              "solidity": 0.2
             }
            },
            "type": "histogram"
           }
          ],
          "histogram2d": [
           {
            "colorbar": {
             "outlinewidth": 0,
             "ticks": ""
            },
            "colorscale": [
             [
              0,
              "#0d0887"
             ],
             [
              0.1111111111111111,
              "#46039f"
             ],
             [
              0.2222222222222222,
              "#7201a8"
             ],
             [
              0.3333333333333333,
              "#9c179e"
             ],
             [
              0.4444444444444444,
              "#bd3786"
             ],
             [
              0.5555555555555556,
              "#d8576b"
             ],
             [
              0.6666666666666666,
              "#ed7953"
             ],
             [
              0.7777777777777778,
              "#fb9f3a"
             ],
             [
              0.8888888888888888,
              "#fdca26"
             ],
             [
              1,
              "#f0f921"
             ]
            ],
            "type": "histogram2d"
           }
          ],
          "histogram2dcontour": [
           {
            "colorbar": {
             "outlinewidth": 0,
             "ticks": ""
            },
            "colorscale": [
             [
              0,
              "#0d0887"
             ],
             [
              0.1111111111111111,
              "#46039f"
             ],
             [
              0.2222222222222222,
              "#7201a8"
             ],
             [
              0.3333333333333333,
              "#9c179e"
             ],
             [
              0.4444444444444444,
              "#bd3786"
             ],
             [
              0.5555555555555556,
              "#d8576b"
             ],
             [
              0.6666666666666666,
              "#ed7953"
             ],
             [
              0.7777777777777778,
              "#fb9f3a"
             ],
             [
              0.8888888888888888,
              "#fdca26"
             ],
             [
              1,
              "#f0f921"
             ]
            ],
            "type": "histogram2dcontour"
           }
          ],
          "mesh3d": [
           {
            "colorbar": {
             "outlinewidth": 0,
             "ticks": ""
            },
            "type": "mesh3d"
           }
          ],
          "parcoords": [
           {
            "line": {
             "colorbar": {
              "outlinewidth": 0,
              "ticks": ""
             }
            },
            "type": "parcoords"
           }
          ],
          "pie": [
           {
            "automargin": true,
            "type": "pie"
           }
          ],
          "scatter": [
           {
            "fillpattern": {
             "fillmode": "overlay",
             "size": 10,
             "solidity": 0.2
            },
            "type": "scatter"
           }
          ],
          "scatter3d": [
           {
            "line": {
             "colorbar": {
              "outlinewidth": 0,
              "ticks": ""
             }
            },
            "marker": {
             "colorbar": {
              "outlinewidth": 0,
              "ticks": ""
             }
            },
            "type": "scatter3d"
           }
          ],
          "scattercarpet": [
           {
            "marker": {
             "colorbar": {
              "outlinewidth": 0,
              "ticks": ""
             }
            },
            "type": "scattercarpet"
           }
          ],
          "scattergeo": [
           {
            "marker": {
             "colorbar": {
              "outlinewidth": 0,
              "ticks": ""
             }
            },
            "type": "scattergeo"
           }
          ],
          "scattergl": [
           {
            "marker": {
             "colorbar": {
              "outlinewidth": 0,
              "ticks": ""
             }
            },
            "type": "scattergl"
           }
          ],
          "scattermap": [
           {
            "marker": {
             "colorbar": {
              "outlinewidth": 0,
              "ticks": ""
             }
            },
            "type": "scattermap"
           }
          ],
          "scattermapbox": [
           {
            "marker": {
             "colorbar": {
              "outlinewidth": 0,
              "ticks": ""
             }
            },
            "type": "scattermapbox"
           }
          ],
          "scatterpolar": [
           {
            "marker": {
             "colorbar": {
              "outlinewidth": 0,
              "ticks": ""
             }
            },
            "type": "scatterpolar"
           }
          ],
          "scatterpolargl": [
           {
            "marker": {
             "colorbar": {
              "outlinewidth": 0,
              "ticks": ""
             }
            },
            "type": "scatterpolargl"
           }
          ],
          "scatterternary": [
           {
            "marker": {
             "colorbar": {
              "outlinewidth": 0,
              "ticks": ""
             }
            },
            "type": "scatterternary"
           }
          ],
          "surface": [
           {
            "colorbar": {
             "outlinewidth": 0,
             "ticks": ""
            },
            "colorscale": [
             [
              0,
              "#0d0887"
             ],
             [
              0.1111111111111111,
              "#46039f"
             ],
             [
              0.2222222222222222,
              "#7201a8"
             ],
             [
              0.3333333333333333,
              "#9c179e"
             ],
             [
              0.4444444444444444,
              "#bd3786"
             ],
             [
              0.5555555555555556,
              "#d8576b"
             ],
             [
              0.6666666666666666,
              "#ed7953"
             ],
             [
              0.7777777777777778,
              "#fb9f3a"
             ],
             [
              0.8888888888888888,
              "#fdca26"
             ],
             [
              1,
              "#f0f921"
             ]
            ],
            "type": "surface"
           }
          ],
          "table": [
           {
            "cells": {
             "fill": {
              "color": "#EBF0F8"
             },
             "line": {
              "color": "white"
             }
            },
            "header": {
             "fill": {
              "color": "#C8D4E3"
             },
             "line": {
              "color": "white"
             }
            },
            "type": "table"
           }
          ]
         },
         "layout": {
          "annotationdefaults": {
           "arrowcolor": "#2a3f5f",
           "arrowhead": 0,
           "arrowwidth": 1
          },
          "autotypenumbers": "strict",
          "coloraxis": {
           "colorbar": {
            "outlinewidth": 0,
            "ticks": ""
           }
          },
          "colorscale": {
           "diverging": [
            [
             0,
             "#8e0152"
            ],
            [
             0.1,
             "#c51b7d"
            ],
            [
             0.2,
             "#de77ae"
            ],
            [
             0.3,
             "#f1b6da"
            ],
            [
             0.4,
             "#fde0ef"
            ],
            [
             0.5,
             "#f7f7f7"
            ],
            [
             0.6,
             "#e6f5d0"
            ],
            [
             0.7,
             "#b8e186"
            ],
            [
             0.8,
             "#7fbc41"
            ],
            [
             0.9,
             "#4d9221"
            ],
            [
             1,
             "#276419"
            ]
           ],
           "sequential": [
            [
             0,
             "#0d0887"
            ],
            [
             0.1111111111111111,
             "#46039f"
            ],
            [
             0.2222222222222222,
             "#7201a8"
            ],
            [
             0.3333333333333333,
             "#9c179e"
            ],
            [
             0.4444444444444444,
             "#bd3786"
            ],
            [
             0.5555555555555556,
             "#d8576b"
            ],
            [
             0.6666666666666666,
             "#ed7953"
            ],
            [
             0.7777777777777778,
             "#fb9f3a"
            ],
            [
             0.8888888888888888,
             "#fdca26"
            ],
            [
             1,
             "#f0f921"
            ]
           ],
           "sequentialminus": [
            [
             0,
             "#0d0887"
            ],
            [
             0.1111111111111111,
             "#46039f"
            ],
            [
             0.2222222222222222,
             "#7201a8"
            ],
            [
             0.3333333333333333,
             "#9c179e"
            ],
            [
             0.4444444444444444,
             "#bd3786"
            ],
            [
             0.5555555555555556,
             "#d8576b"
            ],
            [
             0.6666666666666666,
             "#ed7953"
            ],
            [
             0.7777777777777778,
             "#fb9f3a"
            ],
            [
             0.8888888888888888,
             "#fdca26"
            ],
            [
             1,
             "#f0f921"
            ]
           ]
          },
          "colorway": [
           "#636efa",
           "#EF553B",
           "#00cc96",
           "#ab63fa",
           "#FFA15A",
           "#19d3f3",
           "#FF6692",
           "#B6E880",
           "#FF97FF",
           "#FECB52"
          ],
          "font": {
           "color": "#2a3f5f"
          },
          "geo": {
           "bgcolor": "white",
           "lakecolor": "white",
           "landcolor": "#E5ECF6",
           "showlakes": true,
           "showland": true,
           "subunitcolor": "white"
          },
          "hoverlabel": {
           "align": "left"
          },
          "hovermode": "closest",
          "mapbox": {
           "style": "light"
          },
          "paper_bgcolor": "white",
          "plot_bgcolor": "#E5ECF6",
          "polar": {
           "angularaxis": {
            "gridcolor": "white",
            "linecolor": "white",
            "ticks": ""
           },
           "bgcolor": "#E5ECF6",
           "radialaxis": {
            "gridcolor": "white",
            "linecolor": "white",
            "ticks": ""
           }
          },
          "scene": {
           "xaxis": {
            "backgroundcolor": "#E5ECF6",
            "gridcolor": "white",
            "gridwidth": 2,
            "linecolor": "white",
            "showbackground": true,
            "ticks": "",
            "zerolinecolor": "white"
           },
           "yaxis": {
            "backgroundcolor": "#E5ECF6",
            "gridcolor": "white",
            "gridwidth": 2,
            "linecolor": "white",
            "showbackground": true,
            "ticks": "",
            "zerolinecolor": "white"
           },
           "zaxis": {
            "backgroundcolor": "#E5ECF6",
            "gridcolor": "white",
            "gridwidth": 2,
            "linecolor": "white",
            "showbackground": true,
            "ticks": "",
            "zerolinecolor": "white"
           }
          },
          "shapedefaults": {
           "line": {
            "color": "#2a3f5f"
           }
          },
          "ternary": {
           "aaxis": {
            "gridcolor": "white",
            "linecolor": "white",
            "ticks": ""
           },
           "baxis": {
            "gridcolor": "white",
            "linecolor": "white",
            "ticks": ""
           },
           "bgcolor": "#E5ECF6",
           "caxis": {
            "gridcolor": "white",
            "linecolor": "white",
            "ticks": ""
           }
          },
          "title": {
           "x": 0.05
          },
          "xaxis": {
           "automargin": true,
           "gridcolor": "white",
           "linecolor": "white",
           "ticks": "",
           "title": {
            "standoff": 15
           },
           "zerolinecolor": "white",
           "zerolinewidth": 2
          },
          "yaxis": {
           "automargin": true,
           "gridcolor": "white",
           "linecolor": "white",
           "ticks": "",
           "title": {
            "standoff": 15
           },
           "zerolinecolor": "white",
           "zerolinewidth": 2
          }
         }
        },
        "title": {
         "text": "Interstitial Concentrations"
        },
        "width": 600,
        "xaxis": {
         "exponentformat": "power",
         "title": {
          "text": "Time [s]"
         },
         "type": "log"
        },
        "yaxis": {
         "exponentformat": "power",
         "title": {
          "text": "Concentration [cm<sup>-3</sup>]"
         },
         "type": "log"
        }
       }
      },
      "image/png": "[encoded data removed]"
     },
     "metadata": {},
     "output_type": "display_data"
    },
    {
     "data": {
      "application/vnd.plotly.v1+json": {
       "config": {
        "plotlyServerURL": "https://plot.ly"
       },
       "data": [
        {
         "mode": "lines",
         "name": "N_L",
         "type": "scatter",
         "x": {
          "bdata": "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",
          "dtype": "f8"
         },
         "y": {
          "bdata": "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",
          "dtype": "f8"
         }
        }
       ],
       "layout": {
        "height": 500,
        "template": {
         "data": {
          "bar": [
           {
            "error_x": {
             "color": "#2a3f5f"
            },
            "error_y": {
             "color": "#2a3f5f"
            },
            "marker": {
             "line": {
              "color": "#E5ECF6",
              "width": 0.5
             },
             "pattern": {
              "fillmode": "overlay",
              "size": 10,
              "solidity": 0.2
             }
            },
            "type": "bar"
           }
          ],
          "barpolar": [
           {
            "marker": {
             "line": {
              "color": "#E5ECF6",
              "width": 0.5
             },
             "pattern": {
              "fillmode": "overlay",
              "size": 10,
              "solidity": 0.2
             }
            },
            "type": "barpolar"
           }
          ],
          "carpet": [
           {
            "aaxis": {
             "endlinecolor": "#2a3f5f",
             "gridcolor": "white",
             "linecolor": "white",
             "minorgridcolor": "white",
             "startlinecolor": "#2a3f5f"
            },
            "baxis": {
             "endlinecolor": "#2a3f5f",
             "gridcolor": "white",
             "linecolor": "white",
             "minorgridcolor": "white",
             "startlinecolor": "#2a3f5f"
            },
            "type": "carpet"
           }
          ],
          "choropleth": [
           {
            "colorbar": {
             "outlinewidth": 0,
             "ticks": ""
            },
            "type": "choropleth"
           }
          ],
          "contour": [
           {
            "colorbar": {
             "outlinewidth": 0,
             "ticks": ""
            },
            "colorscale": [
             [
              0,
              "#0d0887"
             ],
             [
              0.1111111111111111,
              "#46039f"
             ],
             [
              0.2222222222222222,
              "#7201a8"
             ],
             [
              0.3333333333333333,
              "#9c179e"
             ],
             [
              0.4444444444444444,
              "#bd3786"
             ],
             [
              0.5555555555555556,
              "#d8576b"
             ],
             [
              0.6666666666666666,
              "#ed7953"
             ],
             [
              0.7777777777777778,
              "#fb9f3a"
             ],
             [
              0.8888888888888888,
              "#fdca26"
             ],
             [
              1,
              "#f0f921"
             ]
            ],
            "type": "contour"
           }
          ],
          "contourcarpet": [
           {
            "colorbar": {
             "outlinewidth": 0,
             "ticks": ""
            },
            "type": "contourcarpet"
           }
          ],
          "heatmap": [
           {
            "colorbar": {
             "outlinewidth": 0,
             "ticks": ""
            },
            "colorscale": [
             [
              0,
              "#0d0887"
             ],
             [
              0.1111111111111111,
              "#46039f"
             ],
             [
              0.2222222222222222,
              "#7201a8"
             ],
             [
              0.3333333333333333,
              "#9c179e"
             ],
             [
              0.4444444444444444,
              "#bd3786"
             ],
             [
              0.5555555555555556,
              "#d8576b"
             ],
             [
              0.6666666666666666,
              "#ed7953"
             ],
             [
              0.7777777777777778,
              "#fb9f3a"
             ],
             [
              0.8888888888888888,
              "#fdca26"
             ],
             [
              1,
              "#f0f921"
             ]
            ],
            "type": "heatmap"
           }
          ],
          "histogram": [
           {
            "marker": {
             "pattern": {
              "fillmode": "overlay",
              "size": 10,
              "solidity": 0.2
             }
            },
            "type": "histogram"
           }
          ],
          "histogram2d": [
           {
            "colorbar": {
             "outlinewidth": 0,
             "ticks": ""
            },
            "colorscale": [
             [
              0,
              "#0d0887"
             ],
             [
              0.1111111111111111,
              "#46039f"
             ],
             [
              0.2222222222222222,
              "#7201a8"
             ],
             [
              0.3333333333333333,
              "#9c179e"
             ],
             [
              0.4444444444444444,
              "#bd3786"
             ],
             [
              0.5555555555555556,
              "#d8576b"
             ],
             [
              0.6666666666666666,
              "#ed7953"
             ],
             [
              0.7777777777777778,
              "#fb9f3a"
             ],
             [
              0.8888888888888888,
              "#fdca26"
             ],
             [
              1,
              "#f0f921"
             ]
            ],
            "type": "histogram2d"
           }
          ],
          "histogram2dcontour": [
           {
            "colorbar": {
             "outlinewidth": 0,
             "ticks": ""
            },
            "colorscale": [
             [
              0,
              "#0d0887"
             ],
             [
              0.1111111111111111,
              "#46039f"
             ],
             [
              0.2222222222222222,
              "#7201a8"
             ],
             [
              0.3333333333333333,
              "#9c179e"
             ],
             [
              0.4444444444444444,
              "#bd3786"
             ],
             [
              0.5555555555555556,
              "#d8576b"
             ],
             [
              0.6666666666666666,
              "#ed7953"
             ],
             [
              0.7777777777777778,
              "#fb9f3a"
             ],
             [
              0.8888888888888888,
              "#fdca26"
             ],
             [
              1,
              "#f0f921"
             ]
            ],
            "type": "histogram2dcontour"
           }
          ],
          "mesh3d": [
           {
            "colorbar": {
             "outlinewidth": 0,
             "ticks": ""
            },
            "type": "mesh3d"
           }
          ],
          "parcoords": [
           {
            "line": {
             "colorbar": {
              "outlinewidth": 0,
              "ticks": ""
             }
            },
            "type": "parcoords"
           }
          ],
          "pie": [
           {
            "automargin": true,
            "type": "pie"
           }
          ],
          "scatter": [
           {
            "fillpattern": {
             "fillmode": "overlay",
             "size": 10,
             "solidity": 0.2
            },
            "type": "scatter"
           }
          ],
          "scatter3d": [
           {
            "line": {
             "colorbar": {
              "outlinewidth": 0,
              "ticks": ""
             }
            },
            "marker": {
             "colorbar": {
              "outlinewidth": 0,
              "ticks": ""
             }
            },
            "type": "scatter3d"
           }
          ],
          "scattercarpet": [
           {
            "marker": {
             "colorbar": {
              "outlinewidth": 0,
              "ticks": ""
             }
            },
            "type": "scattercarpet"
           }
          ],
          "scattergeo": [
           {
            "marker": {
             "colorbar": {
              "outlinewidth": 0,
              "ticks": ""
             }
            },
            "type": "scattergeo"
           }
          ],
          "scattergl": [
           {
            "marker": {
             "colorbar": {
              "outlinewidth": 0,
              "ticks": ""
             }
            },
            "type": "scattergl"
           }
          ],
          "scattermap": [
           {
            "marker": {
             "colorbar": {
              "outlinewidth": 0,
              "ticks": ""
             }
            },
            "type": "scattermap"
           }
          ],
          "scattermapbox": [
           {
            "marker": {
             "colorbar": {
              "outlinewidth": 0,
              "ticks": ""
             }
            },
            "type": "scattermapbox"
           }
          ],
          "scatterpolar": [
           {
            "marker": {
             "colorbar": {
              "outlinewidth": 0,
              "ticks": ""
             }
            },
            "type": "scatterpolar"
           }
          ],
          "scatterpolargl": [
           {
            "marker": {
             "colorbar": {
              "outlinewidth": 0,
              "ticks": ""
             }
            },
            "type": "scatterpolargl"
           }
          ],
          "scatterternary": [
           {
            "marker": {
             "colorbar": {
              "outlinewidth": 0,
              "ticks": ""
             }
            },
            "type": "scatterternary"
           }
          ],
          "surface": [
           {
            "colorbar": {
             "outlinewidth": 0,
             "ticks": ""
            },
            "colorscale": [
             [
              0,
              "#0d0887"
             ],
             [
              0.1111111111111111,
              "#46039f"
             ],
             [
              0.2222222222222222,
              "#7201a8"
             ],
             [
              0.3333333333333333,
              "#9c179e"
             ],
             [
              0.4444444444444444,
              "#bd3786"
             ],
             [
              0.5555555555555556,
              "#d8576b"
             ],
             [
              0.6666666666666666,
              "#ed7953"
             ],
             [
              0.7777777777777778,
              "#fb9f3a"
             ],
             [
              0.8888888888888888,
              "#fdca26"
             ],
             [
              1,
              "#f0f921"
             ]
            ],
            "type": "surface"
           }
          ],
          "table": [
           {
            "cells": {
             "fill": {
              "color": "#EBF0F8"
             },
             "line": {
              "color": "white"
             }
            },
            "header": {
             "fill": {
              "color": "#C8D4E3"
             },
             "line": {
              "color": "white"
             }
            },
            "type": "table"
           }
          ]
         },
         "layout": {
          "annotationdefaults": {
           "arrowcolor": "#2a3f5f",
           "arrowhead": 0,
           "arrowwidth": 1
          },
          "autotypenumbers": "strict",
          "coloraxis": {
           "colorbar": {
            "outlinewidth": 0,
            "ticks": ""
           }
          },
          "colorscale": {
           "diverging": [
            [
             0,
             "#8e0152"
            ],
            [
             0.1,
             "#c51b7d"
            ],
            [
             0.2,
             "#de77ae"
            ],
            [
             0.3,
             "#f1b6da"
            ],
            [
             0.4,
             "#fde0ef"
            ],
            [
             0.5,
             "#f7f7f7"
            ],
            [
             0.6,
             "#e6f5d0"
            ],
            [
             0.7,
             "#b8e186"
            ],
            [
             0.8,
             "#7fbc41"
            ],
            [
             0.9,
             "#4d9221"
            ],
            [
             1,
             "#276419"
            ]
           ],
           "sequential": [
            [
             0,
             "#0d0887"
            ],
            [
             0.1111111111111111,
             "#46039f"
            ],
            [
             0.2222222222222222,
             "#7201a8"
            ],
            [
             0.3333333333333333,
             "#9c179e"
            ],
            [
             0.4444444444444444,
             "#bd3786"
            ],
            [
             0.5555555555555556,
             "#d8576b"
            ],
            [
             0.6666666666666666,
             "#ed7953"
            ],
            [
             0.7777777777777778,
             "#fb9f3a"
            ],
            [
             0.8888888888888888,
             "#fdca26"
            ],
            [
             1,
             "#f0f921"
            ]
           ],
           "sequentialminus": [
            [
             0,
             "#0d0887"
            ],
            [
             0.1111111111111111,
             "#46039f"
            ],
            [
             0.2222222222222222,
             "#7201a8"
            ],
            [
             0.3333333333333333,
             "#9c179e"
            ],
            [
             0.4444444444444444,
             "#bd3786"
            ],
            [
             0.5555555555555556,
             "#d8576b"
            ],
            [
             0.6666666666666666,
             "#ed7953"
            ],
            [
             0.7777777777777778,
             "#fb9f3a"
            ],
            [
             0.8888888888888888,
             "#fdca26"
            ],
            [
             1,
             "#f0f921"
            ]
           ]
          },
          "colorway": [
           "#636efa",
           "#EF553B",
           "#00cc96",
           "#ab63fa",
           "#FFA15A",
           "#19d3f3",
           "#FF6692",
           "#B6E880",
           "#FF97FF",
           "#FECB52"
          ],
          "font": {
           "color": "#2a3f5f"
          },
          "geo": {
           "bgcolor": "white",
           "lakecolor": "white",
           "landcolor": "#E5ECF6",
           "showlakes": true,
           "showland": true,
           "subunitcolor": "white"
          },
          "hoverlabel": {
           "align": "left"
          },
          "hovermode": "closest",
          "mapbox": {
           "style": "light"
          },
          "paper_bgcolor": "white",
          "plot_bgcolor": "#E5ECF6",
          "polar": {
           "angularaxis": {
            "gridcolor": "white",
            "linecolor": "white",
            "ticks": ""
           },
           "bgcolor": "#E5ECF6",
           "radialaxis": {
            "gridcolor": "white",
            "linecolor": "white",
            "ticks": ""
           }
          },
          "scene": {
           "xaxis": {
            "backgroundcolor": "#E5ECF6",
            "gridcolor": "white",
            "gridwidth": 2,
            "linecolor": "white",
            "showbackground": true,
            "ticks": "",
            "zerolinecolor": "white"
           },
           "yaxis": {
            "backgroundcolor": "#E5ECF6",
            "gridcolor": "white",
            "gridwidth": 2,
            "linecolor": "white",
            "showbackground": true,
            "ticks": "",
            "zerolinecolor": "white"
           },
           "zaxis": {
            "backgroundcolor": "#E5ECF6",
            "gridcolor": "white",
            "gridwidth": 2,
            "linecolor": "white",
            "showbackground": true,
            "ticks": "",
            "zerolinecolor": "white"
           }
          },
          "shapedefaults": {
           "line": {
            "color": "#2a3f5f"
           }
          },
          "ternary": {
           "aaxis": {
            "gridcolor": "white",
            "linecolor": "white",
            "ticks": ""
           },
           "baxis": {
            "gridcolor": "white",
            "linecolor": "white",
            "ticks": ""
           },
           "bgcolor": "#E5ECF6",
           "caxis": {
            "gridcolor": "white",
            "linecolor": "white",
            "ticks": ""
           }
          },
          "title": {
           "x": 0.05
          },
          "xaxis": {
           "automargin": true,
           "gridcolor": "white",
           "linecolor": "white",
           "ticks": "",
           "title": {
            "standoff": 15
           },
           "zerolinecolor": "white",
           "zerolinewidth": 2
          },
          "yaxis": {
           "automargin": true,
           "gridcolor": "white",
           "linecolor": "white",
           "ticks": "",
           "title": {
            "standoff": 15
           },
           "zerolinecolor": "white",
           "zerolinewidth": 2
          }
         }
        },
        "title": {
         "text": "Dislocation Loop Density"
        },
        "width": 600,
        "xaxis": {
         "title": {
          "text": "Dose [dpa]"
         }
        },
        "yaxis": {
         "title": {
          "text": "Loop Density [ 10<sup>16</sup> cm<sup>-3</sup>] "
         }
        }
       }
      },
      "image/png": "[encoded data removed]"
     },
     "metadata": {},
     "output_type": "display_data"
    },
    {
     "data": {
      "application/vnd.plotly.v1+json": {
       "config": {
        "plotlyServerURL": "https://plot.ly"
       },
       "data": [
        {
         "mode": "lines",
         "name": "R_L",
         "type": "scatter",
         "x": {
          "bdata": "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",
          "dtype": "f8"
         },
         "y": {
          "bdata": "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",
          "dtype": "f8"
         }
        }
       ],
       "layout": {
        "height": 500,
        "template": {
         "data": {
          "bar": [
           {
            "error_x": {
             "color": "#2a3f5f"
            },
            "error_y": {
             "color": "#2a3f5f"
            },
            "marker": {
             "line": {
              "color": "#E5ECF6",
              "width": 0.5
             },
             "pattern": {
              "fillmode": "overlay",
              "size": 10,
              "solidity": 0.2
             }
            },
            "type": "bar"
           }
          ],
          "barpolar": [
           {
            "marker": {
             "line": {
              "color": "#E5ECF6",
              "width": 0.5
             },
             "pattern": {
              "fillmode": "overlay",
              "size": 10,
              "solidity": 0.2
             }
            },
            "type": "barpolar"
           }
          ],
          "carpet": [
           {
            "aaxis": {
             "endlinecolor": "#2a3f5f",
             "gridcolor": "white",
             "linecolor": "white",
             "minorgridcolor": "white",
             "startlinecolor": "#2a3f5f"
            },
            "baxis": {
             "endlinecolor": "#2a3f5f",
             "gridcolor": "white",
             "linecolor": "white",
             "minorgridcolor": "white",
             "startlinecolor": "#2a3f5f"
            },
            "type": "carpet"
           }
          ],
          "choropleth": [
           {
            "colorbar": {
             "outlinewidth": 0,
             "ticks": ""
            },
            "type": "choropleth"
           }
          ],
          "contour": [
           {
            "colorbar": {
             "outlinewidth": 0,
             "ticks": ""
            },
            "colorscale": [
             [
              0,
              "#0d0887"
             ],
             [
              0.1111111111111111,
              "#46039f"
             ],
             [
              0.2222222222222222,
              "#7201a8"
             ],
             [
              0.3333333333333333,
              "#9c179e"
             ],
             [
              0.4444444444444444,
              "#bd3786"
             ],
             [
              0.5555555555555556,
              "#d8576b"
             ],
             [
              0.6666666666666666,
              "#ed7953"
             ],
             [
              0.7777777777777778,
              "#fb9f3a"
             ],
             [
              0.8888888888888888,
              "#fdca26"
             ],
             [
              1,
              "#f0f921"
             ]
            ],
            "type": "contour"
           }
          ],
          "contourcarpet": [
           {
            "colorbar": {
             "outlinewidth": 0,
             "ticks": ""
            },
            "type": "contourcarpet"
           }
          ],
          "heatmap": [
           {
            "colorbar": {
             "outlinewidth": 0,
             "ticks": ""
            },
            "colorscale": [
             [
              0,
              "#0d0887"
             ],
             [
              0.1111111111111111,
              "#46039f"
             ],
             [
              0.2222222222222222,
              "#7201a8"
             ],
             [
              0.3333333333333333,
              "#9c179e"
             ],
             [
              0.4444444444444444,
              "#bd3786"
             ],
             [
              0.5555555555555556,
              "#d8576b"
             ],
             [
              0.6666666666666666,
              "#ed7953"
             ],
             [
              0.7777777777777778,
              "#fb9f3a"
             ],
             [
              0.8888888888888888,
              "#fdca26"
             ],
             [
              1,
              "#f0f921"
             ]
            ],
            "type": "heatmap"
           }
          ],
          "histogram": [
           {
            "marker": {
             "pattern": {
              "fillmode": "overlay",
              "size": 10,
              "solidity": 0.2
             }
            },
            "type": "histogram"
           }
          ],
          "histogram2d": [
           {
            "colorbar": {
             "outlinewidth": 0,
             "ticks": ""
            },
            "colorscale": [
             [
              0,
              "#0d0887"
             ],
             [
              0.1111111111111111,
              "#46039f"
             ],
             [
              0.2222222222222222,
              "#7201a8"
             ],
             [
              0.3333333333333333,
              "#9c179e"
             ],
             [
              0.4444444444444444,
              "#bd3786"
             ],
             [
              0.5555555555555556,
              "#d8576b"
             ],
             [
              0.6666666666666666,
              "#ed7953"
             ],
             [
              0.7777777777777778,
              "#fb9f3a"
             ],
             [
              0.8888888888888888,
              "#fdca26"
             ],
             [
              1,
              "#f0f921"
             ]
            ],
            "type": "histogram2d"
           }
          ],
          "histogram2dcontour": [
           {
            "colorbar": {
             "outlinewidth": 0,
             "ticks": ""
            },
            "colorscale": [
             [
              0,
              "#0d0887"
             ],
             [
              0.1111111111111111,
              "#46039f"
             ],
             [
              0.2222222222222222,
              "#7201a8"
             ],
             [
              0.3333333333333333,
              "#9c179e"
             ],
             [
              0.4444444444444444,
              "#bd3786"
             ],
             [
              0.5555555555555556,
              "#d8576b"
             ],
             [
              0.6666666666666666,
              "#ed7953"
             ],
             [
              0.7777777777777778,
              "#fb9f3a"
             ],
             [
              0.8888888888888888,
              "#fdca26"
             ],
             [
              1,
              "#f0f921"
             ]
            ],
            "type": "histogram2dcontour"
           }
          ],
          "mesh3d": [
           {
            "colorbar": {
             "outlinewidth": 0,
             "ticks": ""
            },
            "type": "mesh3d"
           }
          ],
          "parcoords": [
           {
            "line": {
             "colorbar": {
              "outlinewidth": 0,
              "ticks": ""
             }
            },
            "type": "parcoords"
           }
          ],
          "pie": [
           {
            "automargin": true,
            "type": "pie"
           }
          ],
          "scatter": [
           {
            "fillpattern": {
             "fillmode": "overlay",
             "size": 10,
             "solidity": 0.2
            },
            "type": "scatter"
           }
          ],
          "scatter3d": [
           {
            "line": {
             "colorbar": {
              "outlinewidth": 0,
              "ticks": ""
             }
            },
            "marker": {
             "colorbar": {
              "outlinewidth": 0,
              "ticks": ""
             }
            },
            "type": "scatter3d"
           }
          ],
          "scattercarpet": [
           {
            "marker": {
             "colorbar": {
              "outlinewidth": 0,
              "ticks": ""
             }
            },
            "type": "scattercarpet"
           }
          ],
          "scattergeo": [
           {
            "marker": {
             "colorbar": {
              "outlinewidth": 0,
              "ticks": ""
             }
            },
            "type": "scattergeo"
           }
          ],
          "scattergl": [
           {
            "marker": {
             "colorbar": {
              "outlinewidth": 0,
              "ticks": ""
             }
            },
            "type": "scattergl"
           }
          ],
          "scattermap": [
           {
            "marker": {
             "colorbar": {
              "outlinewidth": 0,
              "ticks": ""
             }
            },
            "type": "scattermap"
           }
          ],
          "scattermapbox": [
           {
            "marker": {
             "colorbar": {
              "outlinewidth": 0,
              "ticks": ""
             }
            },
            "type": "scattermapbox"
           }
          ],
          "scatterpolar": [
           {
            "marker": {
             "colorbar": {
              "outlinewidth": 0,
              "ticks": ""
             }
            },
            "type": "scatterpolar"
           }
          ],
          "scatterpolargl": [
           {
            "marker": {
             "colorbar": {
              "outlinewidth": 0,
              "ticks": ""
             }
            },
            "type": "scatterpolargl"
           }
          ],
          "scatterternary": [
           {
            "marker": {
             "colorbar": {
              "outlinewidth": 0,
              "ticks": ""
             }
            },
            "type": "scatterternary"
           }
          ],
          "surface": [
           {
            "colorbar": {
             "outlinewidth": 0,
             "ticks": ""
            },
            "colorscale": [
             [
              0,
              "#0d0887"
             ],
             [
              0.1111111111111111,
              "#46039f"
             ],
             [
              0.2222222222222222,
              "#7201a8"
             ],
             [
              0.3333333333333333,
              "#9c179e"
             ],
             [
              0.4444444444444444,
              "#bd3786"
             ],
             [
              0.5555555555555556,
              "#d8576b"
             ],
             [
              0.6666666666666666,
              "#ed7953"
             ],
             [
              0.7777777777777778,
              "#fb9f3a"
             ],
             [
              0.8888888888888888,
              "#fdca26"
             ],
             [
              1,
              "#f0f921"
             ]
            ],
            "type": "surface"
           }
          ],
          "table": [
           {
            "cells": {
             "fill": {
              "color": "#EBF0F8"
             },
             "line": {
              "color": "white"
             }
            },
            "header": {
             "fill": {
              "color": "#C8D4E3"
             },
             "line": {
              "color": "white"
             }
            },
            "type": "table"
           }
          ]
         },
         "layout": {
          "annotationdefaults": {
           "arrowcolor": "#2a3f5f",
           "arrowhead": 0,
           "arrowwidth": 1
          },
          "autotypenumbers": "strict",
          "coloraxis": {
           "colorbar": {
            "outlinewidth": 0,
            "ticks": ""
           }
          },
          "colorscale": {
           "diverging": [
            [
             0,
             "#8e0152"
            ],
            [
             0.1,
             "#c51b7d"
            ],
            [
             0.2,
             "#de77ae"
            ],
            [
             0.3,
             "#f1b6da"
            ],
            [
             0.4,
             "#fde0ef"
            ],
            [
             0.5,
             "#f7f7f7"
            ],
            [
             0.6,
             "#e6f5d0"
            ],
            [
             0.7,
             "#b8e186"
            ],
            [
             0.8,
             "#7fbc41"
            ],
            [
             0.9,
             "#4d9221"
            ],
            [
             1,
             "#276419"
            ]
           ],
           "sequential": [
            [
             0,
             "#0d0887"
            ],
            [
             0.1111111111111111,
             "#46039f"
            ],
            [
             0.2222222222222222,
             "#7201a8"
            ],
            [
             0.3333333333333333,
             "#9c179e"
            ],
            [
             0.4444444444444444,
             "#bd3786"
            ],
            [
             0.5555555555555556,
             "#d8576b"
            ],
            [
             0.6666666666666666,
             "#ed7953"
            ],
            [
             0.7777777777777778,
             "#fb9f3a"
            ],
            [
             0.8888888888888888,
             "#fdca26"
            ],
            [
             1,
             "#f0f921"
            ]
           ],
           "sequentialminus": [
            [
             0,
             "#0d0887"
            ],
            [
             0.1111111111111111,
             "#46039f"
            ],
            [
             0.2222222222222222,
             "#7201a8"
            ],
            [
             0.3333333333333333,
             "#9c179e"
            ],
            [
             0.4444444444444444,
             "#bd3786"
            ],
            [
             0.5555555555555556,
             "#d8576b"
            ],
            [
             0.6666666666666666,
             "#ed7953"
            ],
            [
             0.7777777777777778,
             "#fb9f3a"
            ],
            [
             0.8888888888888888,
             "#fdca26"
            ],
            [
             1,
             "#f0f921"
            ]
           ]
          },
          "colorway": [
           "#636efa",
           "#EF553B",
           "#00cc96",
           "#ab63fa",
           "#FFA15A",
           "#19d3f3",
           "#FF6692",
           "#B6E880",
           "#FF97FF",
           "#FECB52"
          ],
          "font": {
           "color": "#2a3f5f"
          },
          "geo": {
           "bgcolor": "white",
           "lakecolor": "white",
           "landcolor": "#E5ECF6",
           "showlakes": true,
           "showland": true,
           "subunitcolor": "white"
          },
          "hoverlabel": {
           "align": "left"
          },
          "hovermode": "closest",
          "mapbox": {
           "style": "light"
          },
          "paper_bgcolor": "white",
          "plot_bgcolor": "#E5ECF6",
          "polar": {
           "angularaxis": {
            "gridcolor": "white",
            "linecolor": "white",
            "ticks": ""
           },
           "bgcolor": "#E5ECF6",
           "radialaxis": {
            "gridcolor": "white",
            "linecolor": "white",
            "ticks": ""
           }
          },
          "scene": {
           "xaxis": {
            "backgroundcolor": "#E5ECF6",
            "gridcolor": "white",
            "gridwidth": 2,
            "linecolor": "white",
            "showbackground": true,
            "ticks": "",
            "zerolinecolor": "white"
           },
           "yaxis": {
            "backgroundcolor": "#E5ECF6",
            "gridcolor": "white",
            "gridwidth": 2,
            "linecolor": "white",
            "showbackground": true,
            "ticks": "",
            "zerolinecolor": "white"
           },
           "zaxis": {
            "backgroundcolor": "#E5ECF6",
            "gridcolor": "white",
            "gridwidth": 2,
            "linecolor": "white",
            "showbackground": true,
            "ticks": "",
            "zerolinecolor": "white"
           }
          },
          "shapedefaults": {
           "line": {
            "color": "#2a3f5f"
           }
          },
          "ternary": {
           "aaxis": {
            "gridcolor": "white",
            "linecolor": "white",
            "ticks": ""
           },
           "baxis": {
            "gridcolor": "white",
            "linecolor": "white",
            "ticks": ""
           },
           "bgcolor": "#E5ECF6",
           "caxis": {
            "gridcolor": "white",
            "linecolor": "white",
            "ticks": ""
           }
          },
          "title": {
           "x": 0.05
          },
          "xaxis": {
           "automargin": true,
           "gridcolor": "white",
           "linecolor": "white",
           "ticks": "",
           "title": {
            "standoff": 15
           },
           "zerolinecolor": "white",
           "zerolinewidth": 2
          },
          "yaxis": {
           "automargin": true,
           "gridcolor": "white",
           "linecolor": "white",
           "ticks": "",
           "title": {
            "standoff": 15
           },
           "zerolinecolor": "white",
           "zerolinewidth": 2
          }
         }
        },
        "title": {
         "text": "Dislocation Loop Radius"
        },
        "width": 600,
        "xaxis": {
         "title": {
          "text": "Dose [dpa]"
         }
        },
        "yaxis": {
         "title": {
          "text": "Loop Radius [nm]"
         }
        }
       }
      },
      "image/png": "[encoded data removed]"
     },
     "metadata": {},
     "output_type": "display_data"
    }
   ],
   "source": [
    "interactive_plots(results, G_0)"
   ]
  }
 ],
 "metadata": {
  "kernelspec": {
   "display_name": "Python 3 (ipykernel)",
   "language": "python",
   "name": "python3"
  },
  "language_info": {
   "codemirror_mode": {
    "name": "ipython",
    "version": 3
   },
   "file_extension": ".py",
   "mimetype": "text/x-python",
   "name": "python",
   "nbconvert_exporter": "python",
   "pygments_lexer": "ipython3",
   "version": "3.9.23"
  }
 },
 "nbformat": 4,
 "nbformat_minor": 5
}

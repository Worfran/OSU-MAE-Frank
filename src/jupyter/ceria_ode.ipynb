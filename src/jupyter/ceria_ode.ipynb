{
 "cells": [
  {
   "cell_type": "markdown",
   "id": "4808625f-a050-411b-a44d-e8b1a42a0a12",
   "metadata": {},
   "source": [
    "<h1><center>Plotting Ceria defect points equations</center></h1>\n",
    "\n",
    "<h2>Imports and helper functions</h2>"
   ]
  },
  {
   "cell_type": "code",
   "execution_count": 5,
   "id": "32e4838b-0fc3-4b31-a9a3-fdb5dee8dc04",
   "metadata": {},
   "outputs": [],
   "source": [
    "import pandas as pd\n",
    "import numpy as np\n",
    "from scipy.integrate import solve_ivp\n",
    "import matplotlib.pyplot as plt\n",
    "\n",
    "import plotly.graph_objs as go\n",
    "from plotly.subplots import make_subplots"
   ]
  },
  {
   "cell_type": "code",
   "execution_count": 6,
   "id": "ce183d6b-0480-4c92-b09d-05c52abf398b",
   "metadata": {},
   "outputs": [],
   "source": [
    "#Contans\n",
    "pi = np.pi\n",
    "kb = 8.617333262145e-5  # Boltzmann constant in eV/K\n",
    "T = 600 + 273.15        # Temperature in Kelvin"
   ]
  },
  {
   "cell_type": "code",
   "execution_count": 7,
   "id": "cc8b79a4-8e4b-4cc6-8433-a6e3eaf11c7e",
   "metadata": {},
   "outputs": [],
   "source": [
    "# Helper functions\n",
    "def D_Coeff(D_0, E_m, T):\n",
    "    return D_0 * np.exp(-E_m / (kb * T))\n",
    "\n",
    "def log_factor(r_0, r_L, eps=1e-10):\n",
    "    logt = np.log(8 * r_L / r_0)\n",
    "    r = r_0 * logt\n",
    "    return 1 / r \n",
    "\n",
    "def compute_j_L_v(C_Ce_v, C_O_v, D_Ce_v, D_O_v, r_0, r_L, eps=1e-10):\n",
    "    log_fact = log_factor(r_0, r_L)\n",
    "    num = D_Ce_v * C_Ce_v * D_O_v * C_O_v\n",
    "    den = 2 * D_Ce_v * C_Ce_v + D_O_v * C_O_v\n",
    "    return log_fact * num / den \n",
    "\n",
    "def compute_j_L_i(C_Ce_i, C_O_i, D_Ce_i, D_O_i, r_0, r_L, eps=1e-10):\n",
    "    log_fact = log_factor(r_0, r_L)\n",
    "    num = D_Ce_i * C_Ce_i * D_O_i * C_O_i\n",
    "    den = 2 * D_Ce_i * C_Ce_i + D_O_i * C_O_i\n",
    "    return log_fact * num / den \n",
    "\n",
    "def compute_j_ii(C_Ce_i, C_O_i, D_Ce_i, D_O_i, eps=1e-10):\n",
    "    num = D_Ce_i * (C_Ce_i**2) * D_O_i * (C_O_i**2)\n",
    "    den = 2 * D_Ce_i * (C_Ce_i**2) + D_O_i * (C_O_i**2)\n",
    "    return num / den \n",
    "\n"
   ]
  },
  {
   "cell_type": "markdown",
   "id": "8abd8c92-c16e-4ef8-8a17-5420116b661e",
   "metadata": {},
   "source": [
    "<h2>ODE System</h2>"
   ]
  },
  {
   "cell_type": "code",
   "execution_count": 8,
   "id": "ac255788-90d2-4ca7-85e9-5249b13b71b8",
   "metadata": {},
   "outputs": [],
   "source": [
    "# ODE system\n",
    "def ODE_system(t, y, params):\n",
    "    C_Ce_v, C_O_v, C_Ce_i, C_O_i, N_L, R_L = y\n",
    "\n",
    "    G_VCe = params['G_Ce_v']\n",
    "    G_VO  = params['G_O_v']\n",
    "    G_CeI = params['G_Ce_i']\n",
    "    G_OI  = params['G_O_i']\n",
    "    a     = params['a']\n",
    "    Omega_0 = (a**3) / 12\n",
    "    D_Ce_i = params['D_Ce_i']\n",
    "    D_O_i  = params['D_O_i']\n",
    "    D_Ce_v = params['D_Ce_v']\n",
    "    D_O_v  = params['D_O_v']\n",
    "    r0     = params['r0']\n",
    "    b = a / np.sqrt(3)\n",
    "\n",
    "    j_L_v = compute_j_L_v(C_Ce_v, C_O_v, D_Ce_v, D_O_v, r0, R_L)\n",
    "    j_L_i = compute_j_L_i(C_Ce_i, C_O_i, D_Ce_i, D_O_i, r0, R_L)\n",
    "    j_ii  = compute_j_ii(C_Ce_i, C_O_i, D_Ce_i, D_O_i)\n",
    "\n",
    "    k_ce = (Omega_0 / a**2) * (48 * D_Ce_i + 48 * D_Ce_i)\n",
    "    k_o  = (Omega_0 / a**2) * (36 * D_O_i + 24 * D_O_i)\n",
    "\n",
    "    beta = 84 * Omega_0 / a**2\n",
    "    st   = 2 * pi * R_L * N_L\n",
    "\n",
    "    if j_L_i - j_L_v <= 0:\n",
    "        j_L_i = j_L_v = 0\n",
    "\n",
    "    dc = np.zeros(6)\n",
    "    \n",
    "    dc[5] = 3 * Omega_0 * 2 * pi * r0 / b * (j_L_i - j_L_v) - R_L / (2 * N_L) * beta * j_ii\n",
    "    \n",
    "    if dc[5] < 0 and R_L < 2*r0:\n",
    "        dc[5] = 0\n",
    "\n",
    "    dc[0] = G_VCe - k_ce * C_Ce_v * C_Ce_i - j_L_v * pi * r0 * st\n",
    "    dc[1] = G_VO  - k_o  * C_O_v  * C_O_i  - 2 * j_L_v * pi * r0 * st\n",
    "    dc[2] = G_CeI - k_ce * C_Ce_i * C_Ce_v - j_L_i * pi * r0 * st - beta * j_ii\n",
    "    dc[3] = G_OI  - k_o  * C_O_i  * C_O_v  - 2 * j_L_i * pi * r0 * st - 2 * beta * j_ii\n",
    "    dc[4] = beta * j_ii\n",
    "\n",
    "    return dc\n"
   ]
  },
  {
   "cell_type": "markdown",
   "id": "deedd4a3-2eab-4d02-9dbb-d9394509bb26",
   "metadata": {},
   "source": [
    "<h2>Plotting Functions</h2>"
   ]
  },
  {
   "cell_type": "code",
   "execution_count": 9,
   "id": "8f8035e9-c1b1-42f0-8226-f4a268aea3a3",
   "metadata": {},
   "outputs": [],
   "source": [
    "def plotting_report(exp_data, results, G_0):\n",
    "    time = results['time']\n",
    "    dose = time * G_0\n",
    "    exp_dose = exp_data['dose']\n",
    "\n",
    "    fig = make_subplots(rows=2, cols=1,\n",
    "                        shared_xaxes=True,\n",
    "                        vertical_spacing=0.08,\n",
    "                        subplot_titles=(\"Loop Radius\", \"Loop Density\"))\n",
    "\n",
    "    fig.add_trace(go.Scatter(\n",
    "        x=dose, y=results['R_L-LF']*1e7/2,  \n",
    "        mode=\"lines\", name=\"LF (600 °C)\",\n",
    "        line=dict(color=\"red\", dash=\"dashdot\")\n",
    "    ), row=1, col=1)\n",
    "\n",
    "    fig.add_trace(go.Scatter(\n",
    "        x=dose, y=results['R_L-HF']*1e7/2,\n",
    "        mode=\"lines\", name=\"HF (600 °C)\",\n",
    "        line=dict(color=\"green\")\n",
    "    ), row=1, col=1)\n",
    "\n",
    "    fig.add_trace(go.Scatter(\n",
    "        x=[exp_dose], y=[exp_data['R_L (LF)']],\n",
    "        mode=\"markers\", marker=dict(symbol=\"square\", color=\"red\", size=12),\n",
    "        error_y=dict(type=\"data\", array=[exp_data['err R_L (LF)']]),\n",
    "        name=\"Exp LF\"\n",
    "    ), row=1, col=1)\n",
    "\n",
    "    fig.add_trace(go.Scatter(\n",
    "        x=[exp_dose], y=[exp_data['R_L (HF)']],\n",
    "        mode=\"markers\", marker=dict(symbol=\"diamond\", color=\"green\", size=12),\n",
    "        error_y=dict(type=\"data\", array=[exp_data['err R_L (HF)']]),\n",
    "        name=\"Exp HF\"\n",
    "    ), row=1, col=1)\n",
    "\n",
    "    fig.add_trace(go.Scatter(\n",
    "        x=dose, y=results['N_L-LF']*1e-16,\n",
    "        mode=\"lines\", name=\"LF (600 °C)\",\n",
    "        line=dict(color=\"red\", dash=\"dashdot\"),\n",
    "        showlegend=False\n",
    "    ), row=2, col=1)\n",
    "\n",
    "    fig.add_trace(go.Scatter(\n",
    "        x=dose, y=results['N_L-HF']*1e-16,\n",
    "        mode=\"lines\", name=\"HF (600 °C)\",\n",
    "        line=dict(color=\"green\"),\n",
    "        showlegend=False\n",
    "    ), row=2, col=1)\n",
    "\n",
    "    fig.add_trace(go.Scatter(\n",
    "        x=[exp_dose], y=[exp_data['N_L (LF)']*1e-16],\n",
    "        mode=\"markers\", marker=dict(symbol=\"square\", color=\"red\", size=12),\n",
    "        name=\"Exp LF\", showlegend=False\n",
    "    ), row=2, col=1)\n",
    "\n",
    "    fig.add_trace(go.Scatter(\n",
    "        x=[exp_dose], y=[exp_data['N_L (HF)']*1e-16],\n",
    "        mode=\"markers\", marker=dict(symbol=\"diamond\", color=\"green\", size=12),\n",
    "        name=\"Exp HF\", showlegend=False\n",
    "    ), row=2, col=1)\n",
    "\n",
    "    fig.update_xaxes(title_text=\"Dose [dpa]\", row=2, col=1)\n",
    "    fig.update_yaxes(title_text=\"Radius [nm]\", row=1, col=1)\n",
    "    fig.update_yaxes(title_text=\"Density [10<sup>16</sup> cm<sup>-3</sup>]\", row=2, col=1)\n",
    "\n",
    "    fig.update_layout(\n",
    "        width=500, height=700,\n",
    "        legend=dict(x=0.05, y=0.95, bgcolor=\"rgba(255,255,255,0.6)\")\n",
    "    )\n",
    "\n",
    "    fig.write_image(\"../../images/Ceria-plot.svg\")\n",
    "\n",
    "    fig.show()\n",
    "    return fig"
   ]
  },
  {
   "cell_type": "markdown",
   "id": "a79f1375-e3b5-42c2-bd37-1b2e074b8f30",
   "metadata": {},
   "source": [
    "<h3>Solving equations</h3>"
   ]
  },
  {
   "cell_type": "code",
   "execution_count": 10,
   "id": "ad467dce-da26-4de8-aff8-6cfebe883b1e",
   "metadata": {},
   "outputs": [],
   "source": [
    "#Parameters\n",
    "a = 541e-10   # cm\n",
    "N = 12 \n",
    "Omega_0 = (a**3) / N\n",
    "b = a / np.sqrt(3)\n",
    "\n",
    "D_0_Ce_v, D_0_Ce_i, D_0_O_v, D_0_O_i = 0.65, 0.01, 0.02, 0.01\n",
    "E_m_Ce_v, E_m_Ce_i, E_m_O_v, E_m_O_i = 5.3, 2.6, 0.836, 1.18\n",
    "\n",
    "# Dose rate dpa/s\n",
    "G_0 = 0.87e-6 #LF\n",
    "\n",
    "ratio = 2\n",
    "G_tot = G_0 / Omega_0\n",
    "G_Ce = G_tot * (ratio / (1 + ratio))\n",
    "G_O  = G_Ce   * (1 - ratio / (1 + ratio))\n",
    "\n",
    "params = {\n",
    "    'G_Ce_v': G_Ce, 'G_O_v': G_O,\n",
    "    'G_Ce_i': G_Ce, 'G_O_i': G_O,\n",
    "    'a': a, \n",
    "    'D_Ce_i': D_Coeff(D_0_Ce_i, E_m_Ce_i, T),\n",
    "    'D_Ce_v': D_Coeff(D_0_Ce_v, E_m_Ce_v, T),\n",
    "    'D_O_i':  D_Coeff(D_0_O_i,  E_m_O_i, T),\n",
    "    'D_O_v':  D_Coeff(D_0_O_v,  E_m_O_v, T),\n",
    "    'r0': 4*a,\n",
    "}"
   ]
  },
  {
   "cell_type": "code",
   "execution_count": 11,
   "id": "b90ee053-8d2e-4625-98d8-ec5939e1b9f3",
   "metadata": {},
   "outputs": [],
   "source": [
    "# Initial conditions\n",
    "t0 = 0.0001149\n",
    "y0 = [G_Ce*t0, G_O*t0, G_Ce*t0, G_O*t0, G_O*t0*1e-6, np.sqrt(N*Omega_0/(pi*b))]\n",
    "\n",
    "# Total time from total dose\n",
    "dmg = 0.15   # dpa\n",
    "t_end = dmg / G_0\n",
    "t_span = (t0, t_end)\n",
    "t_eval = np.linspace(t0, t_end, 1000)\n",
    "\n",
    "solution_LF = solve_ivp(ODE_system, method='BDF', t_span=t_span, y0=y0,\n",
    "                     args=(params,), t_eval=t_eval)\n"
   ]
  },
  {
   "cell_type": "code",
   "execution_count": 12,
   "id": "eaa2c977-f00b-4b4d-a43d-3d800694d14e",
   "metadata": {},
   "outputs": [],
   "source": [
    "\n",
    "G_0 = 2.6e-6   #HF\n",
    "\n",
    "ratio = 2\n",
    "G_tot = G_0 / Omega_0\n",
    "G_Ce = G_tot * (ratio / (1 + ratio))\n",
    "G_O  = G_Ce   * (1 - ratio / (1 + ratio))\n",
    "\n",
    "params['G_Ce_v'] = G_Ce\n",
    "params['G_Ce_i'] = G_Ce\n",
    "params['G_O_v'] = G_O\n",
    "params['G_O_i'] = G_O\n",
    "\n",
    "solution_HF = solve_ivp(ODE_system, method='BDF', t_span=t_span, y0=y0,\n",
    "                     args=(params,), t_eval=t_eval)\n"
   ]
  },
  {
   "cell_type": "code",
   "execution_count": 13,
   "id": "44381375-1aa8-46a8-a029-d726e592a09c",
   "metadata": {},
   "outputs": [],
   "source": [
    "# Put LF results in a DataFrame\n",
    "results = pd.DataFrame({\n",
    "    'time': solution_LF.t,\n",
    "    'dose': solution_LF.t * G_0,\n",
    "    'C_Ce_v-LF': solution_LF.y[0],\n",
    "    'C_O_v-LF':  solution_LF.y[1],\n",
    "    'C_Ce_i-LF': solution_LF.y[2],\n",
    "    'C_O_i-LF':  solution_LF.y[3],\n",
    "    'N_L-LF':    solution_LF.y[4],\n",
    "    'R_L-LF':    solution_LF.y[5],\n",
    "    'C_Ce_v-HF': solution_HF.y[0],\n",
    "    'C_O_v-HF':  solution_HF.y[1],\n",
    "    'C_Ce_i-HF': solution_HF.y[2],\n",
    "    'C_O_i-HF':  solution_HF.y[3],\n",
    "    'N_L-HF':    solution_HF.y[4],\n",
    "    'R_L-HF':    solution_HF.y[5],\n",
    "})\n",
    "\n",
    "# Experimental data\n",
    "exp_data = {\n",
    "    'dose': 0.14,\n",
    "    'R_L (LF)': 1.79,  'err R_L (LF)': 0.49,\n",
    "    'R_L (HF)': 2.00,  'err R_L (HF)': 0.51,\n",
    "    'N_L (LF)': 6.5e16,'N_L (HF)': 11.8e16,\n",
    "}\n",
    "\n"
   ]
  },
  {
   "cell_type": "code",
   "execution_count": 14,
   "id": "46292ab5-ea62-492c-87ce-4af7d5671573",
   "metadata": {},
   "outputs": [
    {
     "data": {
      "application/vnd.plotly.v1+json": {
       "config": {
        "plotlyServerURL": "https://plot.ly"
       },
       "data": [
        {
         "line": {
          "color": "red",
          "dash": "dashdot"
         },
         "mode": "lines",
         "name": "LF (600 °C)",
         "type": "scatter",
         "x": {
          "bdata": "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",
          "dtype": "f8"
         },
         "xaxis": "x",
         "y": {
          "bdata": "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",
          "dtype": "f8"
         },
         "yaxis": "y"
        },
        {
         "line": {
          "color": "green"
         },
         "mode": "lines",
         "name": "HF (600 °C)",
         "type": "scatter",
         "x": {
          "bdata": "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",
          "dtype": "f8"
         },
         "xaxis": "x",
         "y": {
          "bdata": "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",
          "dtype": "f8"
         },
         "yaxis": "y"
        },
        {
         "error_y": {
          "array": [
           0.49
          ],
          "type": "data"
         },
         "marker": {
          "color": "red",
          "size": 12,
          "symbol": "square"
         },
         "mode": "markers",
         "name": "Exp LF",
         "type": "scatter",
         "x": [
          0.14
         ],
         "xaxis": "x",
         "y": [
          1.79
         ],
         "yaxis": "y"
        },
        {
         "error_y": {
          "array": [
           0.51
          ],
          "type": "data"
         },
         "marker": {
          "color": "green",
          "size": 12,
          "symbol": "diamond"
         },
         "mode": "markers",
         "name": "Exp HF",
         "type": "scatter",
         "x": [
          0.14
         ],
         "xaxis": "x",
         "y": [
          2
         ],
         "yaxis": "y"
        },
        {
         "line": {
          "color": "red",
          "dash": "dashdot"
         },
         "mode": "lines",
         "name": "LF (600 °C)",
         "showlegend": false,
         "type": "scatter",
         "x": {
          "bdata": "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",
          "dtype": "f8"
         },
         "xaxis": "x2",
         "y": {
          "bdata": "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",
          "dtype": "f8"
         },
         "yaxis": "y2"
        },
        {
         "line": {
          "color": "green"
         },
         "mode": "lines",
         "name": "HF (600 °C)",
         "showlegend": false,
         "type": "scatter",
         "x": {
          "bdata": "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",
          "dtype": "f8"
         },
         "xaxis": "x2",
         "y": {
          "bdata": "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",
          "dtype": "f8"
         },
         "yaxis": "y2"
        },
        {
         "marker": {
          "color": "red",
          "size": 12,
          "symbol": "square"
         },
         "mode": "markers",
         "name": "Exp LF",
         "showlegend": false,
         "type": "scatter",
         "x": [
          0.14
         ],
         "xaxis": "x2",
         "y": [
          6.5
         ],
         "yaxis": "y2"
        },
        {
         "marker": {
          "color": "green",
          "size": 12,
          "symbol": "diamond"
         },
         "mode": "markers",
         "name": "Exp HF",
         "showlegend": false,
         "type": "scatter",
         "x": [
          0.14
         ],
         "xaxis": "x2",
         "y": [
          11.799999999999999
         ],
         "yaxis": "y2"
        }
       ],
       "layout": {
        "annotations": [
         {
          "font": {
           "size": 16
          },
          "showarrow": false,
          "text": "Loop Radius",
          "x": 0.5,
          "xanchor": "center",
          "xref": "paper",
          "y": 1,
          "yanchor": "bottom",
          "yref": "paper"
         },
         {
          "font": {
           "size": 16
          },
          "showarrow": false,
          "text": "Loop Density",
          "x": 0.5,
          "xanchor": "center",
          "xref": "paper",
          "y": 0.46,
          "yanchor": "bottom",
          "yref": "paper"
         }
        ],
        "height": 700,
        "legend": {
         "bgcolor": "rgba(255,255,255,0.6)",
         "x": 0.05,
         "y": 0.95
        },
        "template": {
         "data": {
          "bar": [
           {
            "error_x": {
             "color": "#2a3f5f"
            },
            "error_y": {
             "color": "#2a3f5f"
            },
            "marker": {
             "line": {
              "color": "#E5ECF6",
              "width": 0.5
             },
             "pattern": {
              "fillmode": "overlay",
              "size": 10,
              "solidity": 0.2
             }
            },
            "type": "bar"
           }
          ],
          "barpolar": [
           {
            "marker": {
             "line": {
              "color": "#E5ECF6",
              "width": 0.5
             },
             "pattern": {
              "fillmode": "overlay",
              "size": 10,
              "solidity": 0.2
             }
            },
            "type": "barpolar"
           }
          ],
          "carpet": [
           {
            "aaxis": {
             "endlinecolor": "#2a3f5f",
             "gridcolor": "white",
             "linecolor": "white",
             "minorgridcolor": "white",
             "startlinecolor": "#2a3f5f"
            },
            "baxis": {
             "endlinecolor": "#2a3f5f",
             "gridcolor": "white",
             "linecolor": "white",
             "minorgridcolor": "white",
             "startlinecolor": "#2a3f5f"
            },
            "type": "carpet"
           }
          ],
          "choropleth": [
           {
            "colorbar": {
             "outlinewidth": 0,
             "ticks": ""
            },
            "type": "choropleth"
           }
          ],
          "contour": [
           {
            "colorbar": {
             "outlinewidth": 0,
             "ticks": ""
            },
            "colorscale": [
             [
              0,
              "#0d0887"
             ],
             [
              0.1111111111111111,
              "#46039f"
             ],
             [
              0.2222222222222222,
              "#7201a8"
             ],
             [
              0.3333333333333333,
              "#9c179e"
             ],
             [
              0.4444444444444444,
              "#bd3786"
             ],
             [
              0.5555555555555556,
              "#d8576b"
             ],
             [
              0.6666666666666666,
              "#ed7953"
             ],
             [
              0.7777777777777778,
              "#fb9f3a"
             ],
             [
              0.8888888888888888,
              "#fdca26"
             ],
             [
              1,
              "#f0f921"
             ]
            ],
            "type": "contour"
           }
          ],
          "contourcarpet": [
           {
            "colorbar": {
             "outlinewidth": 0,
             "ticks": ""
            },
            "type": "contourcarpet"
           }
          ],
          "heatmap": [
           {
            "colorbar": {
             "outlinewidth": 0,
             "ticks": ""
            },
            "colorscale": [
             [
              0,
              "#0d0887"
             ],
             [
              0.1111111111111111,
              "#46039f"
             ],
             [
              0.2222222222222222,
              "#7201a8"
             ],
             [
              0.3333333333333333,
              "#9c179e"
             ],
             [
              0.4444444444444444,
              "#bd3786"
             ],
             [
              0.5555555555555556,
              "#d8576b"
             ],
             [
              0.6666666666666666,
              "#ed7953"
             ],
             [
              0.7777777777777778,
              "#fb9f3a"
             ],
             [
              0.8888888888888888,
              "#fdca26"
             ],
             [
              1,
              "#f0f921"
             ]
            ],
            "type": "heatmap"
           }
          ],
          "histogram": [
           {
            "marker": {
             "pattern": {
              "fillmode": "overlay",
              "size": 10,
              "solidity": 0.2
             }
            },
            "type": "histogram"
           }
          ],
          "histogram2d": [
           {
            "colorbar": {
             "outlinewidth": 0,
             "ticks": ""
            },
            "colorscale": [
             [
              0,
              "#0d0887"
             ],
             [
              0.1111111111111111,
              "#46039f"
             ],
             [
              0.2222222222222222,
              "#7201a8"
             ],
             [
              0.3333333333333333,
              "#9c179e"
             ],
             [
              0.4444444444444444,
              "#bd3786"
             ],
             [
              0.5555555555555556,
              "#d8576b"
             ],
             [
              0.6666666666666666,
              "#ed7953"
             ],
             [
              0.7777777777777778,
              "#fb9f3a"
             ],
             [
              0.8888888888888888,
              "#fdca26"
             ],
             [
              1,
              "#f0f921"
             ]
            ],
            "type": "histogram2d"
           }
          ],
          "histogram2dcontour": [
           {
            "colorbar": {
             "outlinewidth": 0,
             "ticks": ""
            },
            "colorscale": [
             [
              0,
              "#0d0887"
             ],
             [
              0.1111111111111111,
              "#46039f"
             ],
             [
              0.2222222222222222,
              "#7201a8"
             ],
             [
              0.3333333333333333,
              "#9c179e"
             ],
             [
              0.4444444444444444,
              "#bd3786"
             ],
             [
              0.5555555555555556,
              "#d8576b"
             ],
             [
              0.6666666666666666,
              "#ed7953"
             ],
             [
              0.7777777777777778,
              "#fb9f3a"
             ],
             [
              0.8888888888888888,
              "#fdca26"
             ],
             [
              1,
              "#f0f921"
             ]
            ],
            "type": "histogram2dcontour"
           }
          ],
          "mesh3d": [
           {
            "colorbar": {
             "outlinewidth": 0,
             "ticks": ""
            },
            "type": "mesh3d"
           }
          ],
          "parcoords": [
           {
            "line": {
             "colorbar": {
              "outlinewidth": 0,
              "ticks": ""
             }
            },
            "type": "parcoords"
           }
          ],
          "pie": [
           {
            "automargin": true,
            "type": "pie"
           }
          ],
          "scatter": [
           {
            "fillpattern": {
             "fillmode": "overlay",
             "size": 10,
             "solidity": 0.2
            },
            "type": "scatter"
           }
          ],
          "scatter3d": [
           {
            "line": {
             "colorbar": {
              "outlinewidth": 0,
              "ticks": ""
             }
            },
            "marker": {
             "colorbar": {
              "outlinewidth": 0,
              "ticks": ""
             }
            },
            "type": "scatter3d"
           }
          ],
          "scattercarpet": [
           {
            "marker": {
             "colorbar": {
              "outlinewidth": 0,
              "ticks": ""
             }
            },
            "type": "scattercarpet"
           }
          ],
          "scattergeo": [
           {
            "marker": {
             "colorbar": {
              "outlinewidth": 0,
              "ticks": ""
             }
            },
            "type": "scattergeo"
           }
          ],
          "scattergl": [
           {
            "marker": {
             "colorbar": {
              "outlinewidth": 0,
              "ticks": ""
             }
            },
            "type": "scattergl"
           }
          ],
          "scattermap": [
           {
            "marker": {
             "colorbar": {
              "outlinewidth": 0,
              "ticks": ""
             }
            },
            "type": "scattermap"
           }
          ],
          "scattermapbox": [
           {
            "marker": {
             "colorbar": {
              "outlinewidth": 0,
              "ticks": ""
             }
            },
            "type": "scattermapbox"
           }
          ],
          "scatterpolar": [
           {
            "marker": {
             "colorbar": {
              "outlinewidth": 0,
              "ticks": ""
             }
            },
            "type": "scatterpolar"
           }
          ],
          "scatterpolargl": [
           {
            "marker": {
             "colorbar": {
              "outlinewidth": 0,
              "ticks": ""
             }
            },
            "type": "scatterpolargl"
           }
          ],
          "scatterternary": [
           {
            "marker": {
             "colorbar": {
              "outlinewidth": 0,
              "ticks": ""
             }
            },
            "type": "scatterternary"
           }
          ],
          "surface": [
           {
            "colorbar": {
             "outlinewidth": 0,
             "ticks": ""
            },
            "colorscale": [
             [
              0,
              "#0d0887"
             ],
             [
              0.1111111111111111,
              "#46039f"
             ],
             [
              0.2222222222222222,
              "#7201a8"
             ],
             [
              0.3333333333333333,
              "#9c179e"
             ],
             [
              0.4444444444444444,
              "#bd3786"
             ],
             [
              0.5555555555555556,
              "#d8576b"
             ],
             [
              0.6666666666666666,
              "#ed7953"
             ],
             [
              0.7777777777777778,
              "#fb9f3a"
             ],
             [
              0.8888888888888888,
              "#fdca26"
             ],
             [
              1,
              "#f0f921"
             ]
            ],
            "type": "surface"
           }
          ],
          "table": [
           {
            "cells": {
             "fill": {
              "color": "#EBF0F8"
             },
             "line": {
              "color": "white"
             }
            },
            "header": {
             "fill": {
              "color": "#C8D4E3"
             },
             "line": {
              "color": "white"
             }
            },
            "type": "table"
           }
          ]
         },
         "layout": {
          "annotationdefaults": {
           "arrowcolor": "#2a3f5f",
           "arrowhead": 0,
           "arrowwidth": 1
          },
          "autotypenumbers": "strict",
          "coloraxis": {
           "colorbar": {
            "outlinewidth": 0,
            "ticks": ""
           }
          },
          "colorscale": {
           "diverging": [
            [
             0,
             "#8e0152"
            ],
            [
             0.1,
             "#c51b7d"
            ],
            [
             0.2,
             "#de77ae"
            ],
            [
             0.3,
             "#f1b6da"
            ],
            [
             0.4,
             "#fde0ef"
            ],
            [
             0.5,
             "#f7f7f7"
            ],
            [
             0.6,
             "#e6f5d0"
            ],
            [
             0.7,
             "#b8e186"
            ],
            [
             0.8,
             "#7fbc41"
            ],
            [
             0.9,
             "#4d9221"
            ],
            [
             1,
             "#276419"
            ]
           ],
           "sequential": [
            [
             0,
             "#0d0887"
            ],
            [
             0.1111111111111111,
             "#46039f"
            ],
            [
             0.2222222222222222,
             "#7201a8"
            ],
            [
             0.3333333333333333,
             "#9c179e"
            ],
            [
             0.4444444444444444,
             "#bd3786"
            ],
            [
             0.5555555555555556,
             "#d8576b"
            ],
            [
             0.6666666666666666,
             "#ed7953"
            ],
            [
             0.7777777777777778,
             "#fb9f3a"
            ],
            [
             0.8888888888888888,
             "#fdca26"
            ],
            [
             1,
             "#f0f921"
            ]
           ],
           "sequentialminus": [
            [
             0,
             "#0d0887"
            ],
            [
             0.1111111111111111,
             "#46039f"
            ],
            [
             0.2222222222222222,
             "#7201a8"
            ],
            [
             0.3333333333333333,
             "#9c179e"
            ],
            [
             0.4444444444444444,
             "#bd3786"
            ],
            [
             0.5555555555555556,
             "#d8576b"
            ],
            [
             0.6666666666666666,
             "#ed7953"
            ],
            [
             0.7777777777777778,
             "#fb9f3a"
            ],
            [
             0.8888888888888888,
             "#fdca26"
            ],
            [
             1,
             "#f0f921"
            ]
           ]
          },
          "colorway": [
           "#636efa",
           "#EF553B",
           "#00cc96",
           "#ab63fa",
           "#FFA15A",
           "#19d3f3",
           "#FF6692",
           "#B6E880",
           "#FF97FF",
           "#FECB52"
          ],
          "font": {
           "color": "#2a3f5f"
          },
          "geo": {
           "bgcolor": "white",
           "lakecolor": "white",
           "landcolor": "#E5ECF6",
           "showlakes": true,
           "showland": true,
           "subunitcolor": "white"
          },
          "hoverlabel": {
           "align": "left"
          },
          "hovermode": "closest",
          "mapbox": {
           "style": "light"
          },
          "paper_bgcolor": "white",
          "plot_bgcolor": "#E5ECF6",
          "polar": {
           "angularaxis": {
            "gridcolor": "white",
            "linecolor": "white",
            "ticks": ""
           },
           "bgcolor": "#E5ECF6",
           "radialaxis": {
            "gridcolor": "white",
            "linecolor": "white",
            "ticks": ""
           }
          },
          "scene": {
           "xaxis": {
            "backgroundcolor": "#E5ECF6",
            "gridcolor": "white",
            "gridwidth": 2,
            "linecolor": "white",
            "showbackground": true,
            "ticks": "",
            "zerolinecolor": "white"
           },
           "yaxis": {
            "backgroundcolor": "#E5ECF6",
            "gridcolor": "white",
            "gridwidth": 2,
            "linecolor": "white",
            "showbackground": true,
            "ticks": "",
            "zerolinecolor": "white"
           },
           "zaxis": {
            "backgroundcolor": "#E5ECF6",
            "gridcolor": "white",
            "gridwidth": 2,
            "linecolor": "white",
            "showbackground": true,
            "ticks": "",
            "zerolinecolor": "white"
           }
          },
          "shapedefaults": {
           "line": {
            "color": "#2a3f5f"
           }
          },
          "ternary": {
           "aaxis": {
            "gridcolor": "white",
            "linecolor": "white",
            "ticks": ""
           },
           "baxis": {
            "gridcolor": "white",
            "linecolor": "white",
            "ticks": ""
           },
           "bgcolor": "#E5ECF6",
           "caxis": {
            "gridcolor": "white",
            "linecolor": "white",
            "ticks": ""
           }
          },
          "title": {
           "x": 0.05
          },
          "xaxis": {
           "automargin": true,
           "gridcolor": "white",
           "linecolor": "white",
           "ticks": "",
           "title": {
            "standoff": 15
           },
           "zerolinecolor": "white",
           "zerolinewidth": 2
          },
          "yaxis": {
           "automargin": true,
           "gridcolor": "white",
           "linecolor": "white",
           "ticks": "",
           "title": {
            "standoff": 15
           },
           "zerolinecolor": "white",
           "zerolinewidth": 2
          }
         }
        },
        "width": 500,
        "xaxis": {
         "anchor": "y",
         "domain": [
          0,
          1
         ],
         "matches": "x2",
         "showticklabels": false
        },
        "xaxis2": {
         "anchor": "y2",
         "domain": [
          0,
          1
         ],
         "title": {
          "text": "Dose [dpa]"
         }
        },
        "yaxis": {
         "anchor": "x",
         "domain": [
          0.54,
          1
         ],
         "title": {
          "text": "Radius [nm]"
         }
        },
        "yaxis2": {
         "anchor": "x2",
         "domain": [
          0,
          0.46
         ],
         "title": {
          "text": "Density [10<sup>16</sup> cm<sup>-3</sup>]"
         }
        }
       }
      },
      "image/png": "[encoded data removed]"
     },
     "metadata": {},
     "output_type": "display_data"
    }
   ],
   "source": [
    "fig = plotting_report(exp_data, results, G_0)\n",
    "\n"
   ]
  }
 ],
 "metadata": {
  "kernelspec": {
   "display_name": "Python 3 (ipykernel)",
   "language": "python",
   "name": "python3"
  },
  "language_info": {
   "codemirror_mode": {
    "name": "ipython",
    "version": 3
   },
   "file_extension": ".py",
   "mimetype": "text/x-python",
   "name": "python",
   "nbconvert_exporter": "python",
   "pygments_lexer": "ipython3",
   "version": "3.9.23"
  }
 },
 "nbformat": 4,
 "nbformat_minor": 5
}

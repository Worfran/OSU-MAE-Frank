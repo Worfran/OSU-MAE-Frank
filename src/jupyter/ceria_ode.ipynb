{
 "cells": [
  {
   "cell_type": "code",
   "execution_count": 1,
   "id": "32e4838b-0fc3-4b31-a9a3-fdb5dee8dc04",
   "metadata": {},
   "outputs": [],
   "source": [
    "import pandas as pd\n",
    "import numpy as np\n",
    "from scipy.integrate import solve_ivp\n",
    "import matplotlib.pyplot as plt\n",
    "\n",
    "import plotly.graph_objs as go\n",
    "from plotly.subplots import make_subplots"
   ]
  },
  {
   "cell_type": "code",
   "execution_count": 2,
   "id": "ce183d6b-0480-4c92-b09d-05c52abf398b",
   "metadata": {},
   "outputs": [],
   "source": [
    "#Contans\n",
    "pi = np.pi\n",
    "kb = 8.617333262145e-5  # Boltzmann constant in eV/K\n",
    "T = 600 + 273.15        # Temperature in Kelvin"
   ]
  },
  {
   "cell_type": "code",
   "execution_count": 3,
   "id": "cc8b79a4-8e4b-4cc6-8433-a6e3eaf11c7e",
   "metadata": {},
   "outputs": [],
   "source": [
    "# Helper functions\n",
    "def D_Coeff(D_0, E_m, T):\n",
    "    return D_0 * np.exp(-E_m / (kb * T))\n",
    "\n",
    "def log_factor(r_0, r_L, eps=1e-10):\n",
    "    logt = np.log(8 * r_L / r_0)\n",
    "    r = r_0 * logt\n",
    "    return 1 / r \n",
    "\n",
    "def compute_j_L_v(C_Ce_v, C_O_v, D_Ce_v, D_O_v, r_0, r_L, eps=1e-10):\n",
    "    log_fact = log_factor(r_0, r_L)\n",
    "    num = D_Ce_v * C_Ce_v * D_O_v * C_O_v\n",
    "    den = 2 * D_Ce_v * C_Ce_v + D_O_v * C_O_v\n",
    "    return log_fact * num / den \n",
    "\n",
    "def compute_j_L_i(C_Ce_i, C_O_i, D_Ce_i, D_O_i, r_0, r_L, eps=1e-10):\n",
    "    log_fact = log_factor(r_0, r_L)\n",
    "    num = D_Ce_i * C_Ce_i * D_O_i * C_O_i\n",
    "    den = 2 * D_Ce_i * C_Ce_i + D_O_i * C_O_i\n",
    "    return log_fact * num / den \n",
    "\n",
    "def compute_j_ii(C_Ce_i, C_O_i, D_Ce_i, D_O_i, eps=1e-10):\n",
    "    num = D_Ce_i * (C_Ce_i**2) * D_O_i * (C_O_i**2)\n",
    "    den = 2 * D_Ce_i * (C_Ce_i**2) + D_O_i * (C_O_i**2)\n",
    "    return num / den \n",
    "\n"
   ]
  },
  {
   "cell_type": "code",
   "execution_count": 4,
   "id": "ac255788-90d2-4ca7-85e9-5249b13b71b8",
   "metadata": {},
   "outputs": [],
   "source": [
    "# ODE system\n",
    "def ODE_system(t, y, params):\n",
    "    C_Ce_v, C_O_v, C_Ce_i, C_O_i, N_L, R_L = y\n",
    "\n",
    "    G_VCe = params['G_Ce_v']\n",
    "    G_VO  = params['G_O_v']\n",
    "    G_CeI = params['G_Ce_i']\n",
    "    G_OI  = params['G_O_i']\n",
    "    a     = params['a']\n",
    "    Omega_0 = (a**3) / 12\n",
    "    D_Ce_i = params['D_Ce_i']\n",
    "    D_O_i  = params['D_O_i']\n",
    "    D_Ce_v = params['D_Ce_v']\n",
    "    D_O_v  = params['D_O_v']\n",
    "    r0     = params['r0']\n",
    "    b = a / np.sqrt(3)\n",
    "\n",
    "    j_L_v = compute_j_L_v(C_Ce_v, C_O_v, D_Ce_v, D_O_v, r0, R_L)\n",
    "    j_L_i = compute_j_L_i(C_Ce_i, C_O_i, D_Ce_i, D_O_i, r0, R_L)\n",
    "    j_ii  = compute_j_ii(C_Ce_i, C_O_i, D_Ce_i, D_O_i)\n",
    "\n",
    "    k_ce = (Omega_0 / a**2) * (48 * D_Ce_i + 48 * D_Ce_i)\n",
    "    k_o  = (Omega_0 / a**2) * (36 * D_O_i + 24 * D_O_i)\n",
    "\n",
    "    beta = 84 * Omega_0 / a**2\n",
    "    st   = 2 * pi * R_L * N_L\n",
    "\n",
    "    if j_L_i - j_L_v <= 0:\n",
    "        j_L_i = j_L_v = 0\n",
    "\n",
    "    dc = np.zeros(6)\n",
    "    \n",
    "    dc[5] = 3 * Omega_0 * 2 * pi * r0 / b * (j_L_i - j_L_v) - R_L / (2 * N_L) * beta * j_ii\n",
    "    \n",
    "    if dc[5] < 0 and R_L < 2*r0:\n",
    "        dc[5] = 0\n",
    "\n",
    "    dc[0] = G_VCe - k_ce * C_Ce_v * C_Ce_i - j_L_v * pi * r0 * st\n",
    "    dc[1] = G_VO  - k_o  * C_O_v  * C_O_i  - 2 * j_L_v * pi * r0 * st\n",
    "    dc[2] = G_CeI - k_ce * C_Ce_i * C_Ce_v - j_L_i * pi * r0 * st - beta * j_ii\n",
    "    dc[3] = G_OI  - k_o  * C_O_i  * C_O_v  - 2 * j_L_i * pi * r0 * st - 2 * beta * j_ii\n",
    "    dc[4] = beta * j_ii\n",
    "\n",
    "    return dc\n"
   ]
  },
  {
   "cell_type": "code",
   "execution_count": 5,
   "id": "7ffd1174-2e8b-4a26-9869-0e82cf12d55c",
   "metadata": {},
   "outputs": [],
   "source": [
    "# Static plotting\n",
    "def plot_results(results, G_0):\n",
    "    plt.figure(figsize=(6,5))\n",
    "    plt.loglog(results['time'], results['C_Ce_v'], label='C_Ce_v')\n",
    "    plt.loglog(results['time'], results['C_Ce_i'], label='C_Ce_i')\n",
    "    plt.xlabel('Time [s]'); plt.ylabel('Concentration [cm^-3]')\n",
    "    plt.legend(); plt.title('Vacancy Concentrations')\n",
    "    plt.show()\n",
    "\n",
    "    plt.figure(figsize=(6,5))\n",
    "    plt.loglog(results['time'], results['C_O_v'], label='C_O_v')\n",
    "    plt.loglog(results['time'], results['C_O_i'], label='C_O_i')\n",
    "    plt.xlabel('Time [s]'); plt.ylabel('Concentration [cm^-3]')\n",
    "    plt.legend(); plt.title('Interstitial Concentrations')\n",
    "    plt.show()\n",
    "\n",
    "    plt.figure(figsize=(6,5))\n",
    "    plt.plot(results['time']*G_0, results['N_L']*1e-16, label='N_L')\n",
    "    plt.xlabel('Dose (dpa)'); plt.ylabel('Loop Density ×10$^{16}$ [cm^-3]')\n",
    "    plt.legend(); plt.title('Dislocation Loop Density')\n",
    "    plt.show()\n",
    "\n",
    "    plt.figure(figsize=(6,5))\n",
    "    plt.plot(results['time']*G_0, results['R_L']*1e7, label='R_L')\n",
    "    plt.xlabel('Dose (dpa)'); plt.ylabel('Loop Radius [nm]')\n",
    "    plt.legend(); plt.title('Dislocation Loop Radius')\n",
    "    plt.show()"
   ]
  },
  {
   "cell_type": "code",
   "execution_count": 6,
   "id": "216c9ad3-3028-45bd-915e-c7dbe32d4746",
   "metadata": {},
   "outputs": [],
   "source": [
    "\n",
    "def interactive_plots(results, G_0):\n",
    "    time = results['time']\n",
    "    dose = time * G_0\n",
    "\n",
    "    # Ce Concentrations\n",
    "    fig1 = go.Figure()\n",
    "    fig1.add_trace(go.Scatter(x=time, y=results['C_Ce_v'],\n",
    "                              mode='lines', name='C_Ce_v'))\n",
    "    fig1.add_trace(go.Scatter(x=time, y=results['C_Ce_i'],\n",
    "                              mode='lines', name='C_Ce_i'))\n",
    "    fig1.update_layout(title=\"Vacancy Concentrations\",\n",
    "                       xaxis=dict(title=\"Time [s]\", type=\"log\",  exponentformat='power'),\n",
    "                       yaxis=dict(title=\"Concentration [cm<sup>-3</sup>]\", type=\"log\", exponentformat='power'),\n",
    "                       width=600, height=500)\n",
    "    fig1.show()\n",
    "\n",
    "    # O Concentrations\n",
    "    fig2 = go.Figure()\n",
    "    fig2.add_trace(go.Scatter(x=time, y=results['C_O_v'],\n",
    "                              mode='lines', name='C_O_v'))\n",
    "    fig2.add_trace(go.Scatter(x=time, y=results['C_O_i'],\n",
    "                              mode='lines', name='C_O_i'))\n",
    "    fig2.update_layout(title=\"Interstitial Concentrations\",\n",
    "                       xaxis=dict(title=\"Time [s]\", type=\"log\", exponentformat='power'),\n",
    "                       yaxis=dict(title=\"Concentration [cm<sup>-3</sup>]\", type=\"log\", exponentformat='power'),\n",
    "                       width=600, height=500)\n",
    "    fig2.show()\n",
    "\n",
    "    # Loop density\n",
    "    fig3 = go.Figure()\n",
    "    fig3.add_trace(go.Scatter(x=dose, y=results['N_L']*1e-16,\n",
    "                              mode='lines', name='N_L'))\n",
    "    fig3.update_layout(title=\"Dislocation Loop Density\",\n",
    "                       xaxis=dict(title=\"Dose [dpa]\"),\n",
    "                       yaxis=dict(title=\"Loop Density [ 10<sup>16</sup> cm<sup>-3</sup>] \"),\n",
    "                       width=600, height=500)\n",
    "    fig3.show()\n",
    "\n",
    "    # Loop radius\n",
    "    fig4 = go.Figure()\n",
    "    fig4.add_trace(go.Scatter(x=dose, y=results['R_L']*1e7,\n",
    "                              mode='lines', name='R_L'))\n",
    "    fig4.update_layout(title=\"Dislocation Loop Radius\",\n",
    "                       xaxis=dict(title=\"Dose [dpa]\"),\n",
    "                       yaxis=dict(title=\"Loop Radius [nm]\"),\n",
    "                       width=600, height=500)\n",
    "    fig4.show()\n"
   ]
  },
  {
   "cell_type": "code",
   "execution_count": 7,
   "id": "ad467dce-da26-4de8-aff8-6cfebe883b1e",
   "metadata": {},
   "outputs": [
    {
     "name": "stdout",
     "output_type": "stream",
     "text": [
      "D_Ce_i = 9.839e-18 cm^2/s\n",
      "D_Ce_v = 1.666e-31 cm^2/s\n",
      "D_O_i  = 1.546e-09 cm^2/s\n",
      "D_O_v  = 2.990e-07 cm^2/s\n",
      "G_Ce   = 1.314e+17 dpa/(s*cm^3)\n"
     ]
    }
   ],
   "source": [
    "#Parameters\n",
    "a = 541e-10   # cm\n",
    "N = 12 \n",
    "Omega_0 = (a**3) / N\n",
    "b = a / np.sqrt(3)\n",
    "\n",
    "D_0_Ce_v, D_0_Ce_i, D_0_O_v, D_0_O_i = 0.65, 0.01, 0.02, 0.01\n",
    "E_m_Ce_v, E_m_Ce_i, E_m_O_v, E_m_O_i = 5.3, 2.6, 0.836, 1.18\n",
    "\n",
    "# Dose rate\n",
    "G_0 = 2.6e-6   # dpa/s\n",
    "\n",
    "ratio = 2\n",
    "G_tot = G_0 / Omega_0\n",
    "G_Ce = G_tot * (ratio / (1 + ratio))\n",
    "G_O  = G_Ce   * (1 - ratio / (1 + ratio))\n",
    "\n",
    "params = {\n",
    "    'G_Ce_v': G_Ce, 'G_O_v': G_O,\n",
    "    'G_Ce_i': G_Ce, 'G_O_i': G_O,\n",
    "    'a': a, \n",
    "    'D_Ce_i': D_Coeff(D_0_Ce_i, E_m_Ce_i, T),\n",
    "    'D_Ce_v': D_Coeff(D_0_Ce_v, E_m_Ce_v, T),\n",
    "    'D_O_i':  D_Coeff(D_0_O_i,  E_m_O_i, T),\n",
    "    'D_O_v':  D_Coeff(D_0_O_v,  E_m_O_v, T),\n",
    "    'r0': 4*a,\n",
    "}\n",
    "\n",
    "print(f\"D_Ce_i = {params['D_Ce_i']:.3e} cm^2/s\")\n",
    "print(f\"D_Ce_v = {params['D_Ce_v']:.3e} cm^2/s\")\n",
    "print(f\"D_O_i  = {params['D_O_i']:.3e} cm^2/s\")\n",
    "print(f\"D_O_v  = {params['D_O_v']:.3e} cm^2/s\")\n",
    "print(f\"G_Ce   = {params['G_Ce_v']:.3e} dpa/(s*cm^3)\")\n"
   ]
  },
  {
   "cell_type": "code",
   "execution_count": 8,
   "id": "b90ee053-8d2e-4625-98d8-ec5939e1b9f3",
   "metadata": {},
   "outputs": [],
   "source": [
    "# Initial conditions\n",
    "t0 = 0.0001149\n",
    "y0 = [G_Ce*t0, G_O*t0, G_Ce*t0, G_O*t0, G_O*t0*1e-6, np.sqrt(N*Omega_0/(pi*b))]\n",
    "\n",
    "# Total time from total dose\n",
    "dmg = 1.2   # dpa\n",
    "t_end = dmg / G_0\n",
    "t_span = (t0, t_end)\n",
    "t_eval = np.linspace(t0, t_end, 1000)\n",
    "\n",
    "solution = solve_ivp(ODE_system, method='BDF', t_span=t_span, y0=y0,\n",
    "                     args=(params,), t_eval=t_eval)\n"
   ]
  },
  {
   "cell_type": "code",
   "execution_count": 9,
   "id": "44381375-1aa8-46a8-a029-d726e592a09c",
   "metadata": {},
   "outputs": [],
   "source": [
    "# Collect results and plot\n",
    "results = pd.DataFrame(solution.y.T,\n",
    "                       columns=['C_Ce_v','C_O_v','C_Ce_i','C_O_i','N_L','R_L'])\n",
    "results['time'] = solution.t\n"
   ]
  },
  {
   "cell_type": "code",
   "execution_count": 10,
   "id": "ca23814d-efcd-40f8-85fa-1d6dbfad69cb",
   "metadata": {},
   "outputs": [],
   "source": [
    "#static plots\n",
    "#plot_results(results, G_0)"
   ]
  },
  {
   "cell_type": "code",
   "execution_count": 11,
   "id": "46292ab5-ea62-492c-87ce-4af7d5671573",
   "metadata": {},
   "outputs": [
    {
     "data": {
      "application/vnd.plotly.v1+json": {
       "config": {
        "plotlyServerURL": "https://plot.ly"
       },
       "data": [
        {
         "mode": "lines",
         "name": "C_Ce_v",
         "type": "scatter",
         "x": {
          "bdata": "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",
          "dtype": "f8"
         },
         "y": {
          "bdata": "cjA2FHx0q0K+vXkZdFIJRO+2EASazhZEOP1uV7OXHUTFT8NRScwgRNYrR5d75SFEQtpwFeV5IkQy+t1q9cYiRIW3xxnb7iJEspmOcnkDI0RbhaLdvw4jRLzFs2OlFSNEQtzENyoaI0SovfrpZR0jRFEFIc3iHyNErpJXigEiI0RyM7vT/iMjRJQZpA34JSNEWN3Q8e0nI0RnNGLR4CkjRDrH5XPXKyNE/BnDsc0tI0QJx6HLxi8jRPPiUZjAMSNEQ2lgLrwzI0QCaH94uTUjRIKIIZ+4NyNEeltf1rk5I0QVt70jvTsjRGT46GfCPSNEHxmsdck/I0T/rnBi0kEjREn0ve/cQyNEULyQ8ehFI0T0fdRc9kcjRE6u3RkFSiNEFtGDDxVMI0QO5IMkJk4jRFhhYFw4UCNEIYWtoEtSI0QQltHjX1QjRJsyehl1ViNEhqBJMItYI0SH0/IholojRP18S+a5XCNEXqVXa9JeI0QZ+iye62AjRNSnengFYyNEOPW77h9lI0Qqx6LzOmcjRPxu1HtWaSNESqXze3JrI0TDtvnpjm0jRCE+VMOrbyNE2T6/+chxI0TPbTeD5nMjREgsVWEEdiNE3ABLkiJ4I0R164ADQXojRLcQR6xffCNEQ5Xtg35+I0TAncSBnYAjRM9OHJ28giNELSt93NuEI0TT6ydB+4YjRJmbq7caiSNEGvYKOTqLI0Tytki+WY0jRL2ZZ0B5jyNEFlpquJiRI0T+Mf4uuJMjRIibkKbXlSNErQOQDfeXI0SYJbReFpojRHG8tJQ1nCNEY4NJqlSeI0SXNSqac6AjRB1PDWySoiNEGIPUIbGkI0TmyNStz6YjRIMlKAzuqCNE7J3oOAyrI0QdNzAwKq0jRBH2GO5HryNEiiGXemWxI0S0tqHWgrMjRB0IZPaftSNEtJrd1ry3I0Rn8w112bkjRCSX9M31uyNE2wqR3hG+I0R50+KjLcAjRHN43x9JwiNEyBctXWTEI0TqWNJNf8YjRCkCnO+ZyCNE1dlWQLTKI0Q+ps89zswjRLQt0+XnziNEhzYuNgHRI0QGh60sGtMjRGBlK9gy1SNEHMdxK0vXI0SjQcskY9kjRImhp8J62yNEYrN2A5LdI0TDQ6jlqN8jRD8frGe/4SNEbRLyh9XjI0TzHOhN6+UjRFruQLYA6CNEtyH9vBXqI0QABwhhKuwjRCruTKE+7iNELCe3fFLwI0T5ATLyZfIjRIjOqAB59CNEjwotrov2I0Qhme39nfgjRJAPa+ev+iNEFrLZacH8I0TuxG2E0v4jRFOMWzbjACREfkzXfvMCJESsSRVdAwUkRBbISdASByRE9wup1yEJJESKWWdyMAskRAn1uJ8+DSREryLSXkwPJERoGmjAWREkRJXH4bhmEyREIKOsRXMVJESkL1RmfxckRL/vYxqLGSREEGZnYZYbJEQ0Feo6oR0kRMh/d6arHyREaiibo7UhJES3keAxvyMkRE0+01DIJSREyrD+/9AnJET9uahD2SkkREqMmiPhKyREB1dKlugtJETJRYub7y8kRCaEMDP2MSREsj0NXfwzJEQCnvQYAjYkRKvQuWYHOCREQgEwRgw6JERcWyq3EDwkRI4KfLkUPiREbTr4TBhAJESOFnJxG0IkRAi1rC4eRCRE0IWLgSBGJESH5o9nIkgkRIv6vOAjSiREPOUV7SRMJET3yZ2MJU4kRBvMV78lUCREBg9HhSVSJEQWtm7eJFQkRKnk0cojViREH75zSiJYJETUZVddIFokRDkbIgUeXCREyMRTSRteJESXHIMiGGAkRDq5yZAUYiREQzFBlBBkJERGGwMtDGYkRNcNKVsHaCREiJ/MHgJqJETsZgd4/GskRJj68mb2bSREHvGo6+9vJEQR4UIG6XEkRAVh2rbhcyREjQeJ/dl1JEQ8a2ja0XckRKYikk3JeSREXcQfV8B7JET25ir3tn0kRAIhzS2tfyREOtgIBaOBJETar9t0mIMkRKl3R32NhSREpnJ7HoKHJETR46ZYdokkRCgO+StqiyREqjShmF2NJERVms6eUI8kRCiCsD5DkSREIy92eDWTJERD5E5MJ5UkRIjkaboYlyRE8XL2wgmZJER70iNm+pokRCZGIaTqnCRE8hAefdqeJETbdUnxyaAkROK30gC5oiREwwgHsaekJET7izj/laYkRN+hbeqDqCRE4o/jcnGqJERzm9eYXqwkRAMKh1xLriREAyEvvjewJETkJQ2+I7IkRBZeXlwPtCRECw9gmfq1JEQzfk915bckRP/wafDPuSRE36zsCrq7JERF9xTFo70kRKEVIB+NvyREZE1LGXbBJET/49OzXsMkROIe9+5GxSREKq2kzC7HJESQX9tMFskkRCtO3m79yiREVOXwMuTMJERjkVaZys4kRK++UqKw0CREkdkoTpbSJERhThyde9QkRHaJcI9g1iREKfdoJUXYJETRA0lfKdokRMcbVD0N3CREY6vNv/DdJET8Hvnm098kROriGbO24SREh2NzJJnjJEQoDUk7e+UkRCdM3vdc5yREFllqWj7pJEQR7CljH+skREL+bxIA7SREON1/aODuJER+1pxlwPAkRKE3Cgqg8iREL04LVn/0JES0Z+NJXvYkRL7R1eU8+CRE2NklKhv6JESRzRYX+fskRHX666zW/SREEK7o67P/JETwNVDUkAElRKLfZWZtAyVEsvhsokkFJUSuzqiIJQclRCKvXBkBCSVEm+fLVNwKJUSmxTk7twwlRNGW6cyRDiVEp6geCmwQJUS3SBzzRRIlRIzEJYgfFCVEtGl+yfgVJUS7hWm30RclRC9mKlKqGSVEOzFbmIIbJURnb5+LWh0lRD2CTywyHyVEV+SsegkhJURQEPl24CIlRMOAdSG3JCVESrBjeo0mJUSAGQWCYyglRAA3mzg5KiVEZYNnng4sJURJeauz4y0lREaTqHi4LyVE+Eug7YwxJUT6HdQSYTMlROWDheg0NSVEVfj1bgg3JUTl9Wam2zglRC73GY+uOiVEzHZQKYE8JURa70t1Uz4lRHHbTXMlQCVErrWXI/dBJUSp+GqGyEMlRP8eCZyZRSVESqOzZGpHJUQkAKzgOkklRAAnUQ4LSyVE3NlN7dpMJUTy0+R/qk4lRJBEU8Z5UCVEBFvWwEhSJUScRqtvF1QlRKY2D9PlVSVEcFo/67NXJURI4Xi4gVklRHv6+DpPWyVEWNX8chxdJUQuocFg6V4lREmNhAS2YCVE98iCXoJiJUSIg/luTmQlREjsJTYaZiVEhTJFtOVnJUSOhZTpsGklRLEUUdZ7ayVEOw+4ekZtJUR7pAbXEG8lRL4DeuvacCVEU1xPuKRyJUSH3cM9bnQlRKi2FHw3diVEBRd/cwB4JUTrLUAkyXklRMvsVYmReyVEu+GZp1l9JUSozE9/IX8lRExfrxDpgCVEY0vwW7CCJUSmQkphd4QlRM/29CA+hiVEmRkomwSIJUS9XBvQyoklRPhxBsCQiyVEAQsha1aNJUSV2aLRG48lRG2Pw/PgkCVEQ9660aWSJUTSd8BrapQlRNMNDMIuliVEAlLV1PKXJUQY9lOktpklRNGrvzB6myVE5SRQej2dJUQPEz2BAJ8lRAoovkXDoCVEkBULyIWiJURbjVsISKQlRCVB5wYKpiVEqeLlw8unJUTtpmg6jaklROvkU2pOqyVEW3WPWA+tJUQHDk4F0K4lRLhkwnCQsCVEOi8fm1CyJURVI5eEELQlRNP2XC3QtSVEfl+jlY+3JUQgE529TrklRIPHfKUNuyVEcTJ1Tcy8JUSyCbm1ir4lRBIDe95IwCVEWdTtxwbCJURTM0RyxMMlRMfVsN2BxSVEgXFmCj/HJURKvJf4+8glRO1rd6i4yiVEMTY4GnXMJUTj0AxOMc4lRMrxJ0TtzyVEsk68/KjRJURknfx3ZNMlRKmTG7Yf1SVETOdLt9rWJUQWTsB7ldglRNJ9qwNQ2iVESCxATwrcJURDD7FexN0lRI3cMDJ+3yVE70nyyTfhJUQzDSgm8eIlRCPcBEeq5CVEiWy7LGPmJUQvdH7XG+glRN6ogEfU6SVEYMD0fIzrJUQEZFNxRO0lREsZhSX87iVEe3/PnrPwJURwV1/davIlRAViYeEh9CVEFWACq9j1JUR9Em86j/clRBg61I9F+SVEwZdeq/v6JURV7DqNsfwlRK34lTVn/iVEp32cpBwAJkQePHva0QEmRO30XteGAyZE8Gh0mzsFJkQCWegm8AYmRP+F53mkCCZEw7CelFgKJkQomjp3DAwmRAwD6CHADSZESKzTlHMPJkS6VirQJhEmRDvDGNTZEiZEqbLLoIwUJkTe5W82PxYmRLUdMpXxFyZEDBs/vaMZJkS9nsOuVRsmRKNp7GkHHSZEmjzm7rgeJkR/2N09aiAmRCv+/1YbIiZEfG55OswjJkRM6nbofCUmRHcyJWEtJyZE2QexpN0oJkRNK0ezjSomRK9dFI09LCZE2l9FMu0tJkRaBQObnC8mRBzMd8lLMSZEDF/NwvoyJkSt9CmHqTQmRIfDsxZYNiZEHgKRcQY4JkT45ueXtDkmRJqo3oliOyZEin2bRxA9JkRMnETRvT4mRGY7ACdrQCZEXpH0SBhCJkS61Ec3xUMmRP07IPJxRSZErv2jeR5HJkRTUPnNykgmRHBqRu92SiZEioKx3SJMJkQoz2CZzk0mRM+GeiJ6TyZEBOAkeSVRJkRMEYad0FImRC1RxI97VCZEK9YFUCZWJkTO1nDe0FcmRJmJKzt7WSZEEyVcZiVbJkTA3yhgz1wmRCfwtyh5XiZEzIwvwCJgJkQ07LUmzGEmROZEcVx1YyZEZ82HYR5lJkQ7vB82x2YmROlHX9pvaCZE9aZsThhqJkTlD26SwGsmRD+5iaZobSZEiNnlihBvJkRUovk3uHAmRE7JxLBfciZEVA1X+QZ0JkQf1dARrnUmRGuHUvpUdyZE8Ir8svt4JkRqRu87onomRJIgS5VIfCZEIoAwv+59JkTWy7+5lH8mRGZqGYU6gSZEjsJdIeCCJkQGO62OhYQmRIs6KM0qhiZE1Cfv3M+HJkSeaSK+dIkmRKJm4nAZiyZEmYVP9b2MJkQ/LYpLYo4mRE7EsnMGkCZEf7HpbaqRJkSNW086TpMmRDIpBNnxlCZEKIEoSpWWJkQqytyNOJgmRPFqQaTbmSZEOMp2jX6bJkS5Tp1JIZ0mRC1f1djDniZEUGI/O2agJkTbvvtwCKImRInbKnqqoyZEFB/tVkylJkQ18GIH7qYmRKi1rIuPqCZEJtbq4zCqJkRpuD0Q0qsmRCzDxRBzrSZEKF2j5ROvJkTl/nCCtLAmRLUFqe1UsiZEdzynLPWzJkTE/oc/lbUmRDKoZyY1tyZEW5Ri4dS4JkTUHpVwdLomRDejG9QTvCZEG30SDLO9JkQYCJYYUr8mRMWfwvnwwCZEup+0r4/CJkSPY4g6LsQmRNxGWprMxSZEOaVGz2rHJkQ82mnZCMkmRH9B4LimyiZEmDbGbUTMJkQgFTj44c0mRK04Ulh/zyZE2fwwjhzRJkQ6vfCZudImRGnVrXtW1CZE/aCEM/PVJkSOe5HBj9cmRLPA8CUs2SZEBcy+YMjaJkQb+RdyZNwmRI2jGFoA3iZE8ibdGJzfJkTj3oGuN+EmRPcmIxvT4iZExlrdXm7kJkTn1cx5CeYmRPPzDWyk5yZEgRC9NT/pJkQph/bW2eomRIKz1k907CZEJfF5oA7uJkSom/zIqO8mRKUOe8lC8SZEsqURotzyJkRovNxSdvQmRF2u+NsP9iZEK9eBPan3JkRokpR3QvkmRKw7TYrb+iZEjy7IdXT8JkSqxiE6Df4mRJJfdtel/yZE4VTiTT4BJ0QuAoKd1gInRBHDccZuBCdEIvPNyAYGJ0T37bKkngcnRCoPPVo2CSdEUbKI6c0KJ0QFM7JSZQwnRMjkTYT8DSdECu0hjZMPJ0RHICRvKhEnRN17bCrBEidEKf0Sv1cUJ0SIoS8t7hUnRFlm2nSEFydE+kgrlhoZJ0THRjqRsBonRB9dH2ZGHCdEXonyFNwdJ0TkyMudcR8nRA0ZwwAHISdEN3fwPZwiJ0TA4GtVMSQnRAVTTUfGJSdEZcusE1snJ0Q8R6K67ygnROnDRTyEKidEyD6vmBgsJ0Q5tfbPrC0nRJckNOJALydEQop/z9QwJ0SX4/CXaDInRPItoDv8MydEs2aluo81J0Q2ixgVIzcnRNqYEUu2OCdE+4yoXEk6J0T5ZPVJ3DsnRC8eEBNvPSdE/LUQuAE/J0S/KQ85lEAnRNN2I5YmQidEl5plz7hDJ0Roku3kSkUnRKVb09bcRidEqvMupW5IJ0TXVxhQAEonRIeFp9eRSydEGXr0OyNNJ0TqMhd9tE4nRFmtJ5tFUCdEw+Y9ltZRJ0SE3HFuZ1MnRPyL2yP4VCdEiPKStohWJ0SFDbAmGVgnRFHaSnSpWSdESlZ7nzlbJ0TNflmoyVwnRDlR/Y5ZXidE6sp+U+lfJ0Q+6fX1eGEnRJOpenYIYydERwkl1ZdkJ0S3BQ0SJ2YnRJExQyu2ZydEvPXOEEVpJ0TXJdjT02onRCRDcnRibCdE6M6w8vBtJ0RmSqdOf28nROM2aYgNcSdEoRUKoJtyJ0TlZ52VKXQnRPOuNmm3dSdEDWzpGkV3J0R4IMmq0ngnRHdN6RhgeidET3RdZe17J0RCFjmQen0nRJW0j5kHfydEjNB0gZSAJ0Rp6/tHIYInRHGGOO2tgydE6CI+cTqFJ0QRQiDUxoYnRC9l8hVTiCdEiA3INt+JJ0RdvLQ2a4snRPTyyxX3jCdEkDIh1IKOJ0R0/MdxDpAnROTR0+6ZkSdEJDRYSyWTJ0R4pGiHsJQnRCOkGKM7lidEabR7nsaXJ0SOVqV5UZknRNYLqTTcmidEhFWaz2acJ0TctIxK8Z0nRCGrk6V7nydEmLnC4AWhJ0SEYS38j6InRCkk5/cZpCdEyoID1KOlJ0Ss/pWQLacnRBEZsi23qCdEP1Nrq0CqJ0R3LtUJyqsnRP8rA0lTrSdEGs0IadyuJ0QMk/lpZbAnRBf/6EvusSdEgZLqDnezJ0SMzhGz/7QnRH00cjiItidEl0UfnxC4J0QegyznmLknRFVurRAhuydEgYi1G6m8J0TlUlgIMb4nRMVOqda4vydEpZzUgUDBJ0SWEyoDyMInRCgukGVPxCdEwcUWqdbFJ0TEs83NXccnRJXRxNPkyCdEmfgLu2vKJ0QyArOD8ssnRMbHyS15zSdEuCJguf/OJ0Rs7IUmhtAnREf+SnUM0idEqzG/pZLTJ0T+X/K3GNUnRKJi9Kue1idE/RLVgSTYJ0RySqQ5qtknRGTicdMv2ydEObRNT7XcJ0RUmUetOt4nRBhrb+2/3ydE6wLVD0XhJ0QvOogUyuInRErqmPtO5CdEnuwWxdPlJ0SQGhJxWOcnRIRNmv/c6CdE3l6/cGHqJ0QCKJHE5esnRFOCH/tp7SdENkd6FO7uJ0QPULEQcvAnREJ21O/18SdEMpPzsXnzJ0REgB5X/fQnRNwWZd+A9idEXjDXSgT4J0QtpoSZh/knRK5RfcsK+ydERAzR4I38J0RUr4/ZEP4nREEUybWT/ydEcBSNdRYBKERFiesYmQIoRCNM9J8bBChEbja3Cp4FKESLIURZIAcoRN7mqouiCChEyl/7oSQKKESzZUWcpgsoRP7RmHooDShEDn4FPaoOKERIQ5vjKxAoRA77aW6tEShExn6B3S4TKETUp/EwsBQoRJtPymgxFihEf08bhbIXKEQg0WB6MxkoRNR/cUi0GihEQ9Zd+jQcKEQIWzOQtR0oRL+U/wk2HyhEAwrQZ7YgKERwQbKpNiIoRKHBs8+2IyhEMhHi2TYlKES/tkrItiYoROI4+5o2KChEOB4BUrYpKERc7WntNSsoROosQ221LChEfWOa0TQuKESwF30atC8oRCDQ+EczMShEaBMbWrIyKEQjaPFQMTQoRO1UiSywNShEYWDw7C43KEQbETSSrTgoRLftYRwsOihE0HyHi6o7KEQCRbLfKD0oROjM7xinPihEHptNNyVAKEQ/Ntk6o0EoROYkoCMhQyhEse2v8Z5EKEQ5FxalHEYoRBoo4D2aRyhE8aYbvBdJKERYGtYflUooROwIHWkSTChER/n9l49NKEQGcoasDE8oRMP5w6aJUChEGhfEhgZSKESoUJRMg1MoRActQvj/VChE0zLbiXxWKESn6GwB+VcoRB/VBF91WShE2H6wovFaKERrbH3MbVwoRHUkedzpXShEkS2x0mVfKERcDjOv4WAoRG9NDHJdYihEaHFKG9ljKETgAPuqVGUoRHaCKyHQZihEwnzpfUtoKERidkLBxmkoRPD1Q+tBayhECYL7+7xsKERHoXbzN24oREfawtGybyhEpLPtli1xKET5swRDqHIoROJhFdYidChE+kMtUJ11KETe4FmxF3coRCi/qPmReChEdGUnKQx6KEReWuM/hnsoRIIk6j0AfShEekpJI3p+KETiUg7w838oRFfERqRtgShEcyUAQOeCKETS/EfDYIQoRA/RKy7ahShExyi5gFOHKESUiv26zIgoRBJ9Bt1FiihE3obh5r6LKESRLpzYN40oRMn6Q7KwjihEH3LmcymQKEQxG5EdopEoRJl8Ua8akyhE8xw1KZOUKETbgkmLC5YoROw0nNWDlyhE0yezBfyYKEQSaXQJdJooRF/mz/TrmyhErM/Qx2OdKETsVIKC254oRA+m7yRToChECPMjr8qhKETJayohQqMoRENADnu5pChEaaDavDCmKEQqvJrmp6coRHvDWfgeqShETOYi8pWqKESOVAHUDKwoRDU+AJ6DrShEMdMqUPquKER1Q4zqcLAoRPK+L23nsShEmnUg2F2zKERel2kr1LQoRDFUFmdKtihEBNwxi8C3KETJXseXNrkoRHIM4oysuihE8RSNaiK8KEQ2qNMwmL0oRDX2wN8NvyhE3i5gd4PAKEQkgrz3+MEoRPkf4WBuwyhETTjZsuPEKEQU+6/tWMYoRD6YcBHOxyhEvT8mHkPJKESEIdwTuMooRINtnfIszChErVN1uqHNKET0A29rFs8oREmulQWL0ChEnoL0iP/RKETksJb1c9MoRA9ph0vo1ChEDtvRilzWKETVNoGz0NcoRFSsoMVE2ShEfms7wbjaKEREpFymLNwoRJiGD3Wg3ShEbUJfLRTfKESzB1fPh+AoRFwGAlv74ShEWm5r0G7jKESgb54v4uQoRB46pnhV5ihEx/2Nq8jnKESM6mDIO+koRF4wKs+u6ihEMf/0vyHsKET1hsyalO0oRJ33u18H7yhEGYHODnrwKERdUw+o7PEoRFmeiStf8yhE/5FImdH0KERCXlfxQ/YoRBIzwTO29yhEYkCRYCj5KEQjttJ3mvooREjEkHkM/ChEwprWZX79KESCaa888P4oRHtgJv5hAClEnq9GqtMBKUTdhhtBRQMpRCoWsMK2BClEd40PLygGKUS0HEWGmQcpRNXzW8gKCSlEy0Jf9XsKKUSHOVoN7QspRPwHWBBeDSlEG95j/s4OKUTW64jXPxApRB5h0puwESlE5m1LSyETKUQfQv/lkRQpRLsN+WsCFilEd0R4zHIXKURdseYQ4xgpREsB6j9TGilENACLWcMbKUQIetJdMx0pRLc6yUyjHilENQ54JhMgKURwwOfqgiEpRFwdIZryIilE6PAsNGIkKUQHBxS50SUpRKgr3yhBJylEviqXg7AoKUQ60ETJHyopRAzo8PmOKylEJz6kFf4sKUR6nmccbS4pRPfUQw7cLylEkK1B60oxKUQ29GmzuTIpRNl0xWYoNClEa/tcBZc1KUTeUzmPBTcpRCFKYwR0OClEJ6rjZOI5KUTgP8OwUDspRD/XCui+PClEMzzDCi0+KUSuOvUYmz8pRKGeqRIJQSlE/jPp93ZCKUS2xrzI5EMpRLkiLYVSRSlE+RNDLcBGKURnZgfBLUgpRPXlgkCbSSlEk16+qwhLKUQynMICdkwpRMVqmEXjTSlEO5ZIdFBPKUSG6tuOvVApRJgzW5UqUilEYT3Ph5dTKUTS00BmBFUpRN7CuDBxVilEdNY/591XKUSH2t6JSlkpRAabnhi3WilE5eOHkyNcKUQSgaP6j10pRIE++k38XilEIeiUjWhgKUTlSXy51GEpRL0vudFAYylEmmVU1qxkKURut1bHGGYpRCrxyKSEZylEvt6zbvBoKUQdTCAlXGopRDcFF8jHaylE/tWgVzNtKURiisbTnm4pRFXukDwKcClEyM0IknVxKUSs9DbU4HIpRPIuJANMdClEjEjZHrd1KURqDV8nIncpRH5JvhyNeClEusj//vd5KUQNVyzOYnspRGrATIrNfClEwdBpMzh+KUQDVIzJon8pRCMWvUwNgSlEEOMEvXeCKUS9hmwa4oMpRBrN/GRMhSlEGIK+nLaGKUSpcbrBIIgpRL5n+dOKiSlESDCE0/SKKUQ4l2PAXowpRIBooJrIjSlED3BDYjKPKUTZeVUXnJApRPhzarkFkilExryfR2+TKURhBrfC2JQpREe5pSpClilE9T1hf6uXKUTr/N7AFJkpRKZeFO99milEpsv2CeebKUQ=",
          "dtype": "f8"
         }
        },
        {
         "mode": "lines",
         "name": "C_Ce_i",
         "type": "scatter",
         "x": {
          "bdata": "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",
          "dtype": "f8"
         },
         "y": {
          "bdata": "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",
          "dtype": "f8"
         }
        }
       ],
       "layout": {
        "height": 500,
        "template": {
         "data": {
          "bar": [
           {
            "error_x": {
             "color": "#2a3f5f"
            },
            "error_y": {
             "color": "#2a3f5f"
            },
            "marker": {
             "line": {
              "color": "#E5ECF6",
              "width": 0.5
             },
             "pattern": {
              "fillmode": "overlay",
              "size": 10,
              "solidity": 0.2
             }
            },
            "type": "bar"
           }
          ],
          "barpolar": [
           {
            "marker": {
             "line": {
              "color": "#E5ECF6",
              "width": 0.5
             },
             "pattern": {
              "fillmode": "overlay",
              "size": 10,
              "solidity": 0.2
             }
            },
            "type": "barpolar"
           }
          ],
          "carpet": [
           {
            "aaxis": {
             "endlinecolor": "#2a3f5f",
             "gridcolor": "white",
             "linecolor": "white",
             "minorgridcolor": "white",
             "startlinecolor": "#2a3f5f"
            },
            "baxis": {
             "endlinecolor": "#2a3f5f",
             "gridcolor": "white",
             "linecolor": "white",
             "minorgridcolor": "white",
             "startlinecolor": "#2a3f5f"
            },
            "type": "carpet"
           }
          ],
          "choropleth": [
           {
            "colorbar": {
             "outlinewidth": 0,
             "ticks": ""
            },
            "type": "choropleth"
           }
          ],
          "contour": [
           {
            "colorbar": {
             "outlinewidth": 0,
             "ticks": ""
            },
            "colorscale": [
             [
              0,
              "#0d0887"
             ],
             [
              0.1111111111111111,
              "#46039f"
             ],
             [
              0.2222222222222222,
              "#7201a8"
             ],
             [
              0.3333333333333333,
              "#9c179e"
             ],
             [
              0.4444444444444444,
              "#bd3786"
             ],
             [
              0.5555555555555556,
              "#d8576b"
             ],
             [
              0.6666666666666666,
              "#ed7953"
             ],
             [
              0.7777777777777778,
              "#fb9f3a"
             ],
             [
              0.8888888888888888,
              "#fdca26"
             ],
             [
              1,
              "#f0f921"
             ]
            ],
            "type": "contour"
           }
          ],
          "contourcarpet": [
           {
            "colorbar": {
             "outlinewidth": 0,
             "ticks": ""
            },
            "type": "contourcarpet"
           }
          ],
          "heatmap": [
           {
            "colorbar": {
             "outlinewidth": 0,
             "ticks": ""
            },
            "colorscale": [
             [
              0,
              "#0d0887"
             ],
             [
              0.1111111111111111,
              "#46039f"
             ],
             [
              0.2222222222222222,
              "#7201a8"
             ],
             [
              0.3333333333333333,
              "#9c179e"
             ],
             [
              0.4444444444444444,
              "#bd3786"
             ],
             [
              0.5555555555555556,
              "#d8576b"
             ],
             [
              0.6666666666666666,
              "#ed7953"
             ],
             [
              0.7777777777777778,
              "#fb9f3a"
             ],
             [
              0.8888888888888888,
              "#fdca26"
             ],
             [
              1,
              "#f0f921"
             ]
            ],
            "type": "heatmap"
           }
          ],
          "histogram": [
           {
            "marker": {
             "pattern": {
              "fillmode": "overlay",
              "size": 10,
              "solidity": 0.2
             }
            },
            "type": "histogram"
           }
          ],
          "histogram2d": [
           {
            "colorbar": {
             "outlinewidth": 0,
             "ticks": ""
            },
            "colorscale": [
             [
              0,
              "#0d0887"
             ],
             [
              0.1111111111111111,
              "#46039f"
             ],
             [
              0.2222222222222222,
              "#7201a8"
             ],
             [
              0.3333333333333333,
              "#9c179e"
             ],
             [
              0.4444444444444444,
              "#bd3786"
             ],
             [
              0.5555555555555556,
              "#d8576b"
             ],
             [
              0.6666666666666666,
              "#ed7953"
             ],
             [
              0.7777777777777778,
              "#fb9f3a"
             ],
             [
              0.8888888888888888,
              "#fdca26"
             ],
             [
              1,
              "#f0f921"
             ]
            ],
            "type": "histogram2d"
           }
          ],
          "histogram2dcontour": [
           {
            "colorbar": {
             "outlinewidth": 0,
             "ticks": ""
            },
            "colorscale": [
             [
              0,
              "#0d0887"
             ],
             [
              0.1111111111111111,
              "#46039f"
             ],
             [
              0.2222222222222222,
              "#7201a8"
             ],
             [
              0.3333333333333333,
              "#9c179e"
             ],
             [
              0.4444444444444444,
              "#bd3786"
             ],
             [
              0.5555555555555556,
              "#d8576b"
             ],
             [
              0.6666666666666666,
              "#ed7953"
             ],
             [
              0.7777777777777778,
              "#fb9f3a"
             ],
             [
              0.8888888888888888,
              "#fdca26"
             ],
             [
              1,
              "#f0f921"
             ]
            ],
            "type": "histogram2dcontour"
           }
          ],
          "mesh3d": [
           {
            "colorbar": {
             "outlinewidth": 0,
             "ticks": ""
            },
            "type": "mesh3d"
           }
          ],
          "parcoords": [
           {
            "line": {
             "colorbar": {
              "outlinewidth": 0,
              "ticks": ""
             }
            },
            "type": "parcoords"
           }
          ],
          "pie": [
           {
            "automargin": true,
            "type": "pie"
           }
          ],
          "scatter": [
           {
            "fillpattern": {
             "fillmode": "overlay",
             "size": 10,
             "solidity": 0.2
            },
            "type": "scatter"
           }
          ],
          "scatter3d": [
           {
            "line": {
             "colorbar": {
              "outlinewidth": 0,
              "ticks": ""
             }
            },
            "marker": {
             "colorbar": {
              "outlinewidth": 0,
              "ticks": ""
             }
            },
            "type": "scatter3d"
           }
          ],
          "scattercarpet": [
           {
            "marker": {
             "colorbar": {
              "outlinewidth": 0,
              "ticks": ""
             }
            },
            "type": "scattercarpet"
           }
          ],
          "scattergeo": [
           {
            "marker": {
             "colorbar": {
              "outlinewidth": 0,
              "ticks": ""
             }
            },
            "type": "scattergeo"
           }
          ],
          "scattergl": [
           {
            "marker": {
             "colorbar": {
              "outlinewidth": 0,
              "ticks": ""
             }
            },
            "type": "scattergl"
           }
          ],
          "scattermap": [
           {
            "marker": {
             "colorbar": {
              "outlinewidth": 0,
              "ticks": ""
             }
            },
            "type": "scattermap"
           }
          ],
          "scattermapbox": [
           {
            "marker": {
             "colorbar": {
              "outlinewidth": 0,
              "ticks": ""
             }
            },
            "type": "scattermapbox"
           }
          ],
          "scatterpolar": [
           {
            "marker": {
             "colorbar": {
              "outlinewidth": 0,
              "ticks": ""
             }
            },
            "type": "scatterpolar"
           }
          ],
          "scatterpolargl": [
           {
            "marker": {
             "colorbar": {
              "outlinewidth": 0,
              "ticks": ""
             }
            },
            "type": "scatterpolargl"
           }
          ],
          "scatterternary": [
           {
            "marker": {
             "colorbar": {
              "outlinewidth": 0,
              "ticks": ""
             }
            },
            "type": "scatterternary"
           }
          ],
          "surface": [
           {
            "colorbar": {
             "outlinewidth": 0,
             "ticks": ""
            },
            "colorscale": [
             [
              0,
              "#0d0887"
             ],
             [
              0.1111111111111111,
              "#46039f"
             ],
             [
              0.2222222222222222,
              "#7201a8"
             ],
             [
              0.3333333333333333,
              "#9c179e"
             ],
             [
              0.4444444444444444,
              "#bd3786"
             ],
             [
              0.5555555555555556,
              "#d8576b"
             ],
             [
              0.6666666666666666,
              "#ed7953"
             ],
             [
              0.7777777777777778,
              "#fb9f3a"
             ],
             [
              0.8888888888888888,
              "#fdca26"
             ],
             [
              1,
              "#f0f921"
             ]
            ],
            "type": "surface"
           }
          ],
          "table": [
           {
            "cells": {
             "fill": {
              "color": "#EBF0F8"
             },
             "line": {
              "color": "white"
             }
            },
            "header": {
             "fill": {
              "color": "#C8D4E3"
             },
             "line": {
              "color": "white"
             }
            },
            "type": "table"
           }
          ]
         },
         "layout": {
          "annotationdefaults": {
           "arrowcolor": "#2a3f5f",
           "arrowhead": 0,
           "arrowwidth": 1
          },
          "autotypenumbers": "strict",
          "coloraxis": {
           "colorbar": {
            "outlinewidth": 0,
            "ticks": ""
           }
          },
          "colorscale": {
           "diverging": [
            [
             0,
             "#8e0152"
            ],
            [
             0.1,
             "#c51b7d"
            ],
            [
             0.2,
             "#de77ae"
            ],
            [
             0.3,
             "#f1b6da"
            ],
            [
             0.4,
             "#fde0ef"
            ],
            [
             0.5,
             "#f7f7f7"
            ],
            [
             0.6,
             "#e6f5d0"
            ],
            [
             0.7,
             "#b8e186"
            ],
            [
             0.8,
             "#7fbc41"
            ],
            [
             0.9,
             "#4d9221"
            ],
            [
             1,
             "#276419"
            ]
           ],
           "sequential": [
            [
             0,
             "#0d0887"
            ],
            [
             0.1111111111111111,
             "#46039f"
            ],
            [
             0.2222222222222222,
             "#7201a8"
            ],
            [
             0.3333333333333333,
             "#9c179e"
            ],
            [
             0.4444444444444444,
             "#bd3786"
            ],
            [
             0.5555555555555556,
             "#d8576b"
            ],
            [
             0.6666666666666666,
             "#ed7953"
            ],
            [
             0.7777777777777778,
             "#fb9f3a"
            ],
            [
             0.8888888888888888,
             "#fdca26"
            ],
            [
             1,
             "#f0f921"
            ]
           ],
           "sequentialminus": [
            [
             0,
             "#0d0887"
            ],
            [
             0.1111111111111111,
             "#46039f"
            ],
            [
             0.2222222222222222,
             "#7201a8"
            ],
            [
             0.3333333333333333,
             "#9c179e"
            ],
            [
             0.4444444444444444,
             "#bd3786"
            ],
            [
             0.5555555555555556,
             "#d8576b"
            ],
            [
             0.6666666666666666,
             "#ed7953"
            ],
            [
             0.7777777777777778,
             "#fb9f3a"
            ],
            [
             0.8888888888888888,
             "#fdca26"
            ],
            [
             1,
             "#f0f921"
            ]
           ]
          },
          "colorway": [
           "#636efa",
           "#EF553B",
           "#00cc96",
           "#ab63fa",
           "#FFA15A",
           "#19d3f3",
           "#FF6692",
           "#B6E880",
           "#FF97FF",
           "#FECB52"
          ],
          "font": {
           "color": "#2a3f5f"
          },
          "geo": {
           "bgcolor": "white",
           "lakecolor": "white",
           "landcolor": "#E5ECF6",
           "showlakes": true,
           "showland": true,
           "subunitcolor": "white"
          },
          "hoverlabel": {
           "align": "left"
          },
          "hovermode": "closest",
          "mapbox": {
           "style": "light"
          },
          "paper_bgcolor": "white",
          "plot_bgcolor": "#E5ECF6",
          "polar": {
           "angularaxis": {
            "gridcolor": "white",
            "linecolor": "white",
            "ticks": ""
           },
           "bgcolor": "#E5ECF6",
           "radialaxis": {
            "gridcolor": "white",
            "linecolor": "white",
            "ticks": ""
           }
          },
          "scene": {
           "xaxis": {
            "backgroundcolor": "#E5ECF6",
            "gridcolor": "white",
            "gridwidth": 2,
            "linecolor": "white",
            "showbackground": true,
            "ticks": "",
            "zerolinecolor": "white"
           },
           "yaxis": {
            "backgroundcolor": "#E5ECF6",
            "gridcolor": "white",
            "gridwidth": 2,
            "linecolor": "white",
            "showbackground": true,
            "ticks": "",
            "zerolinecolor": "white"
           },
           "zaxis": {
            "backgroundcolor": "#E5ECF6",
            "gridcolor": "white",
            "gridwidth": 2,
            "linecolor": "white",
            "showbackground": true,
            "ticks": "",
            "zerolinecolor": "white"
           }
          },
          "shapedefaults": {
           "line": {
            "color": "#2a3f5f"
           }
          },
          "ternary": {
           "aaxis": {
            "gridcolor": "white",
            "linecolor": "white",
            "ticks": ""
           },
           "baxis": {
            "gridcolor": "white",
            "linecolor": "white",
            "ticks": ""
           },
           "bgcolor": "#E5ECF6",
           "caxis": {
            "gridcolor": "white",
            "linecolor": "white",
            "ticks": ""
           }
          },
          "title": {
           "x": 0.05
          },
          "xaxis": {
           "automargin": true,
           "gridcolor": "white",
           "linecolor": "white",
           "ticks": "",
           "title": {
            "standoff": 15
           },
           "zerolinecolor": "white",
           "zerolinewidth": 2
          },
          "yaxis": {
           "automargin": true,
           "gridcolor": "white",
           "linecolor": "white",
           "ticks": "",
           "title": {
            "standoff": 15
           },
           "zerolinecolor": "white",
           "zerolinewidth": 2
          }
         }
        },
        "title": {
         "text": "Vacancy Concentrations"
        },
        "width": 600,
        "xaxis": {
         "exponentformat": "power",
         "title": {
          "text": "Time [s]"
         },
         "type": "log"
        },
        "yaxis": {
         "exponentformat": "power",
         "title": {
          "text": "Concentration [cm<sup>-3</sup>]"
         },
         "type": "log"
        }
       }
      },
      "image/png": "[encoded data removed]"
     },
     "metadata": {},
     "output_type": "display_data"
    },
    {
     "data": {
      "application/vnd.plotly.v1+json": {
       "config": {
        "plotlyServerURL": "https://plot.ly"
       },
       "data": [
        {
         "mode": "lines",
         "name": "C_O_v",
         "type": "scatter",
         "x": {
          "bdata": "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",
          "dtype": "f8"
         },
         "y": {
          "bdata": "onV5DahNkkLMclrJrlSHQyBkgd7fkZVDIazCHCm5oEOJ/dPdsDynQ76KUC8dFa5DTpRCnhGPskMk6vMAWyK2Q5BIYW2ov7lD6UkS9LtkvUOOxpBhQIjAQywqVhVGYcJDDAz/B2A9xEN3H28CgRzGQ73AD+qX/sdDpVKGcY7jyUNMZQHOS8vLQ9Oezu+2tc1DsEATgbaiz0PU1ZYQGMnQQy1QzYgEwtFD1ECAphK80kM1nT73NLfTQ30CbHhds9RDS11f6n6w1UN0fktijK7WQ+hnZCt5rddDthIXvTmt2EMcz32pwK3ZQ2uaBj0Dr9pDygPES/ew20Pt0sIekLPcQyzY/j/Ftt1DKy0JLo263kN4FF6K3L7fQ+c4n/LVYeBDsGAbWnnk4ENDRZIsVGfhQ2BOVE9i6uFDyWT2B6Bt4kMCKO2/CfHiQ8idOP2bdONDsB5nNVP440PPReheLHzkQ8TnaXwkAOVDuVX7gjiE5UN5aEGGZQjmQ76xwfuojOZD+6RYYgAR50PSsMPfaJXnQ9NgNCTgGehDicDo8mOe6EM+jcct8iLpQ2ok5+SIp+lDfFfHlyUs6kMegCYCxrDqQ2UDzApqNetDTqMH9hC660MPT03ltj7sQ5NcwdNZw+xDyCGIvPdH7UOY9MWajsztQ+4qn2kcUe5DuEGvyaLV7kPphrcXIlrvQ/SSSruV3u9DWjnVC34x8EN/mQzIqXPwQ1dw7EPNtfBDT8QVsef38EPURRQt+jnxQ/8KOxEFfPFD73j5Qga+8UNHdYop/f/xQ6vlKCzpQfJDvq8PssmD8kMjuXkinsXyQ/mP+G9nB/NDMS+42yVJ80OVgNbN14rzQ1SXqNd8zPNDoIaDihQO9EOpYbx3nk/0Q6I7qDAakfRDfPnerIjS9EM4sbQQ6hP1Qzeyuf08VfVDkgZcIIGW9UNhuAklttf1Q7bRMLjbGPZDrFw/hvFZ9kNVY6M795r2Q/TLghrt2/ZD77xDa9Qc90Oe/jKPq133Q78L8UpynvdDFl8eYyjf90Nic1uczR/4Q2TDSLthYPhD38mGhOSg+EORAba8VeH4Qw4riim3IflDbHFYRAdi+UOqmIrgRaL5Qzoe6tVy4vlDkn9A/I0i+kMjOlcrl2L6Q2TL9zqOovpDyrDrAnPi+kP7JYltRiL7Q6idhB0IYvtDNN9VoLeh+0NjMIHcVOH7Q/XWirjfIPxDrRj3Glhg/ENMO0rqvZ/8Q5WECA0R3/xDsBO+PFIe/UOtqMzdgV39QxkyyfuenP1DTnKhhanb/UOrK0NqoRr+Q4sgnJiGWf5DTBOa/1iY/kNKxiqOGNf+Q+L7OzPFFf9DcHa73V5U/0NS+JZ85ZL/Q+NDvP5Y0f9DwY2MqdwHAEQWHmgyBCcARGzYlnQiRgBEOFHFTTdlAER+8Fy6QoQAREIex7ZEowBEiEJtPz3CAERTxbhQLOEARKcOE+cRAAFEiYbl/u0eAUT7lJmUwD0BRAKimKSJXAFEoxVMK0l7AUQlmOVo/5kBRLlS9c+suAFE80qq2lDXAUQoTnGJ6/UBRLEpt9x8FAJE5Kro1AQzAkQan3Jyg1ECRKnTwbX4bwJE6RVDn2SOAkQwM2Mvx6wCRNf4jmYgywJENjQzRXDpAkSisrzLtgcDRDWFYWz0JQNEXrx1/ShEA0SuciVeVGIDRMcejZF2gANETzfJmo+eA0TtMvZ8n7wDREWIMDum2gNE/62U2KP4A0S9Gj9YmBYERCZFTL2DNARE36PYCmZSBESPrQBEP3AERAU7aoEPjgRE5A7tKNerBEQZ8MHblckERJReLZ5L5wREQNpzdPgEBUQK49linCIFROH4o203QAVEsZsWmcldBURoS3bpUnsFRPKHB2PTmAVEPdEOCku2BUQ2p9DiudMFRMyJkfEf8QVE6fiVOn0OBkR8dCLC0SsGRHN8e4wdSQZEuZDlnWBmBkQ/MaX6moMGRO7d/qbMoAZEvWsZHPa9BkRj+JL+FtsGRHuQl1Ev+AZEAllrGj8VB0T8dlJeRjIHRGkPkSJFTwdESUdrbDtsB0ScQyVBKYkHRGMpA6YOpgdEnh1JoOvCB0RPRTs1wN8HRHbFHWqM/AdEEsM0RFAZCEQmY8TICzYIRLDKEP2+UghEsx5e5mlvCEQuhPCJDIwIRCEgDO2mqAhExcBASjnFCETTqv6Iw+EIRETKdaJF/ghE3i58nL8aCURr6Od8MTcJRLMGj0mbUwlEf5lHCP1vCUSVsOe+VowJRL5bRXOoqAlExKo2K/LECURtrZHsM+EJRINzLL1t/QlEzQzdop8ZCkQUiXmjyTUKRCD418TrUQpEuWnODAZuCkSo7TKBGIoKRLOT2ycjpgpEiSF/ESbCCkStSmNCId4KRNppGroU+gpEbv6hfgAWC0TFh/eV5DELRD2FGAbBTQtENHYC1ZVpC0QE2rIIY4ULRA0wJ6cooQtEqvdctua8C0Q7sFE8ndgLRBnZAj9M9AtEpPFtxPMPDEQ4eZDSkysMRDHvZ28sRwxE79LxoL1iDETNoyttR34MRCjhEtrJmQxE8Eao3US1DEQiuSB1uNAMRM5i2bok7AxE62qntIkHDURu+F9o5yINRE8y2Ns9Pg1EgT/lFI1ZDUT9RlwZ1XQNRLdvEu8VkA1EpuDcm0+rDUTAwJAlgsYNRPs2A5Kt4Q1ETGoJ59H8DUSqgXgq7xcORAykJWIFMw5EZvjlkxRODkSupY7FHGkORNzS9PwdhA5E5abtPxifDkS/SE6UC7oORGDf6//31A5EvpGbiN3vDkTOhjI0vAoPRInlhQiUJQ9E4tRqC2VAD0TPe7ZCL1sPREgBPrTydQ9E8qBBEa+QD0SvdqmlZKsPRAopfHsTxg9EmvkxmLvgD0TwKUMBXfsPRND9E977ChBEHlgs50UYEEStxKaejCUQREVkPwfQMhBEsFeyIxBAEES4v7v2TE0QRCe9F4OGWhBExXCCy7xnEERd+7fS73QQRLl9dJsfghBEoRh0KEyPEETf7HJ8dZwQRD0bLZqbqRBEhcRehL62EESACcQ93sMQRPkKGcn60BBEt+kZKRTeEESFxoJgKusQRCzCD3I9+BBEdv18YE0FEUQtmYYuWhIRRAjBe8RjHxFEHInXHGosEUTeqXFWbTkRRFwQynNtRhFEn6lgd2pTEUS2YrVjZGARRKwoSDtbbRFEjuiYAE96EURojye2P4cRREYKdF4tlBFENkb++xehEURDMEaR/60RRHq1yyDkuhFE58IOrcXHEUSWRY84pNQRRJQqzcV/4RFE7V5IV1juEUSuz4DvLfsRRONp9pAACBJEmBopPtAUEkTZzpj5nCESRLVzxcVmLhJENfYupS07EkRnQ1Wa8UcSRFdIuKeyVBJEEfLXz3BhEkSjLTQVLG4SROFa1T3kehJEzwRegZmHEkQMwJniS5QSRL0zyWP7oBJEBgctB6itEkQL4QXPUboSRPJolL34xhJE30UZ1ZzTEkT3HtUXPuASRF+bCIjc7BJEO2L0J3j5EkSwGtn5EAYTRORr9/+mEhNE+fyPPDofE0QWdeOxyisTRF57MmJYOBNE97a9T+NEE0QFz8V8a1ETRK1qi+vwXRNEEzFPnnNqE0ReyVGX83YTRLDa09hwgxNELgwWZeuPE0T+BFk+Y5wTREVs3WbYqBNEJunj4Eq1E0T+Jh56usETROgtejEnzhNEiQkQOZHaE0Q+hO2S+OYTRF9oIEFd8xNESIC2Rb//E0RTlr2iHgwURNt0Q1p7GBREPOZVbtUkFETPtALhLDEURPCqV7SBPRRE+ZJi6tNJFERFNzGFI1YURC9i0YZwYhREEN5Q8bpuFERFdb3GAnsURCjyJAlIhxREEh+VuoqTFERgxhvdyp8URGyyxnIIrBREka2jfUO4FEQqgsD/e8QURI/6Kvux0BREHuHwceXcFEQwACBmFukURCEixtlE9RREShHxznABFUQHmK5Hmg0VRLKADEbBGRVEp5UYzOUlFURAoeDbBzIVRNdtcncnPhVEx8XboERKFURqcypaX1YVRB1BbKV3YhVEOfmuhI1uFUQZZgD6oHoVRBhSbgeyhhVEkYcGr8CSFUSrHPGkzJ4VRDVGdfPVqhVEn35i19y2FUQ6lYFS4cIVRFlZm2bjzhVET5p4FePaFURtJ+Jg4OYVRAfQoErb8hVEbmN91NP+FUT1sEAAygoWRO2Hs8+9FhZEqreeRK8iFkR+D8tgni4WRLteASaLOhZEs3QKlnVGFkS5IK+yXVIWRB8yuH1DXhZEOHju+CZqFkRWwhomCHYWRMrfBQfngRZE6J94ncONFkQC0jvrnZkWRGpFGPJ1pRZEcsnWs0uxFkRuLUAyH70WRK5AHW/wyBZEh9I2bL/UFkRJslUrjOAWREevQq5W7BZE1JjG9h74FkRCPqoG5QMXRONutt+oDxdECfqzg2obF0QIr2v0KScXRDFdpjPnMhdE19MsQ6I+F0RL4sckW0oXROFXQNoRVhdE6gNfZcZhF0RdHId0eG0XREkYOR4oeRdEYaIjmNWEF0QTfcvjgJAXRMlqtQIqnBdE8C1m9tCnF0TyiGLAdbMXRDw+L2IYvxdEOhBR3bjKF0RXwUwzV9YXRP8Tp2Xz4RdEnsrkdY3tF0Sgp4plJfkXRHJtHTa7BBhEfN4h6U4QGEQtvRyA4BsYRPDLkvxvJxhEMM0IYP0yGERagwOsiD4YRNmwB+IRShhEGRiaA5lVGESGez8SHmEYRIydfA+hbBhElkDW/CF4GEQPJ9HboIMYRGUT8q0djxhEAsi9dJiaGERTB7kxEaYYRMOTaOaHsRhEvi9RlPy8GESwnfc8b8gYRAag4OHf0xhEKfmQhE7fGESGa40mu+oYRIm5Wskl9hhEnqV9bo4BGUQw8noX9QwZRKth18VZGBlEfLYXe7wjGUTQXDTsHC8ZRI+qFTd7OhlEwBo6hNdFGUS7iezUMVEZRNnTdyqKXBlEctUmhuBnGUTgakTpNHMZRHtwG1WHfhlEmsL2yteJGUSYPSFMJpUZRM295dlyoBlEkB+Pdb2rGUQ6P2ggBrcZRCT5u9tMwhlEpynVqJHNGUQarf6I1NgZRNdfg30V5BlENx6uh1TvGUSRxMmokfoZRD8vIeLMBRpElzr/NAYRGkT0wq6iPRwaRK6keixzJxpEHryt06YyGkSb5ZKZ2D0aRH79dH8ISRpEIeCehjZUGkTbaVuwYl8aRAV39f2MahpE+OO3cLV1GkQMje0J3IAaRJlO4coAjBpE+ATetCOXGkSDjC7JRKIaRJDBHQlkrRpEeYD2dYG4GkSYpQMRncMaREINkNu2zhpE0pPm1s7ZGkTulNKN5OQaRJZKuD347xpEokxkGQr7GkSpNPshGgYbREGcoVgoERtE/hx8vjQcG0R4UK9UPycbREPQXxxIMhtE9DWyFk89G0QhG8tEVEgbRGAZz6dXUxtERsriQFleG0RqxyoRWWkbRF+qyxlXdBtEvQzqW1N/G0QaiKrYTYobRAi2MZFGlRtEIDCkhj2gG0T2jya6MqsbRB9v3SwmthtEMmft3xfBG0TFEXvUB8wbRGsIqwv21htEvOShhuLhG0ROQIRGzewbRLO0dky29xtEhNudmZ0CHERVTh4vgw0cRLymHA5nGBxET369N0kjHESibiWtKS4cRE0ReW8IORxE5P/cf+VDHET903XfwE4cRCwnaI+aWRxECZPYkHJkHEQosevkSG8cRB8bxowdehxEhGqMifCEHETsOGPcwY8cROwfb4aRmhxEHLnUiF+lHEQPnrjkK7AcRFtoP5v2uhxElrGNrb/FHERWE8gch9AcRDAnE+pM2xxEuYaTFhHmHESIy22j0/AcRDGPxpGU+xxETGvC4lMGHURs+YWXEREdRCfTNbHNGx1EFJL2MIgmHUTHz+wXQTEdRNYlPWf4Ox1E1y0MIK5GHURggX5DYlEdRBSCShEUXB1EAdBdLMRmHUQhBkWqcnEdRDKM9IsffB1E9slg0sqGHUQpJ35+dJEdRI0LQZEcnB1E396dC8OmHUTfCInuZ7EdRE3x9joLvB1E5v/b8azGHURsnCwUTdEdRJsu3aLr2x1ENR7inojmHUT40i8JJPEdRKG0uuK9+x1E8ip3LFYGHkSpnVnn7BAeRIZ0VhSCGx5ERhditBUmHkSr7XDIpzAeRHJfd1E4Ox5EW9RpUMdFHkQmtDzGVFAeRI9m5LPgWh5EWVNVGmtlHkRA4oP6828eRAZ7ZFV7eh5EZ4XrKwGFHkQlaQ1/hY8eRP2Nvk8Imh5EsFvznomkHkT9OaBtCa8eRKCQubyHuR5EXMczjQTEHkTtRQPgf84eRBV0HLb52B5EkblzEHLjHkQifv3v6O0eRIUprlVe+B5EeyN6QtICH0TD01W3RA0fRBmiNbW1Fx9EQfYNPSUiH0T2N9NPkywfRPvOee7/Nh9ECyP2GWtBH0TomzzT1EsfRFChQRs9Vh9EA5v58qNgH0TA8FhbCWsfREQKVFVtdR9EUU/f4c9/H0SkJ+8BMYofRP76d7aQlB9EHDFuAO+eH0TAMcbgS6kfRK6KP0Snsx9E9pzRiwC+H0Q471tiWMgfRE4/psiu0h9EFEt4vwPdH0Rh0JlHV+cfRBKN0mGp8R9E+z7qDvr7H0T+UdSnJAMgRPS8apJLCCBETz+cx3ENIET6t8xHlxIgROIFYBO8FyBE9Qe6KuAcIEQenT6OAyIgREukUT4mJyBEZ/xWO0gsIERhhLKFaTEgRCUbyB2KNiBEn5/7A6o7IES98LA4yUAgRGrtS7znRSBElXQwjwVLIEQoZcKxIlAgRBOeZSQ/VSBEP/5951paIEScZG/7dV8gRBWwnWCQZCBEmL9sF6ppIEQQckAgw24gRGumfHvbcyBEljuFKfN4IER8EL4qCn4gRAwEi38ggyBEMfVPKDaIIETZwnAlS40gRO9LUXdfkiBEYm9VHnOXIEQeDOEahpwgRA8BWG2YoSBEIi0eFqqmIEREb5cVu6sgRGGmJ2zLsCBEZ7EyGtu1IERCbxwg6rogRN++SH74vyBEK38bNQbFIEQSj/hEE8ogRIHNQ64fzyBEZRlhcSvUIESqUbSONtkgRD5VoQZB3iBEDQOM2UrjIEQEOtgHVOggRA/Z6ZFc7SBEHL8keGTyIEQXy+y6a/cgROzbpVpy/CBESDLrP3gBIUR7DVJKfQYhRJWZva6BCyFEfvp/bYUQIUQgVOuGiBUhRGTKUfuKGiFEMoEFy4wfIUR0nFj2jSQhRBFAnX2OKSFE9I8lYY4uIUQEsEOhjTMhRCzEST6MOCFEUvCJOIo9IURiWFaQh0IhREMgAUaERyFE3mvcWYBMIUQdXzrMe1EhROcdbZ12ViFEJszGzXBbIUTDjZldamAhRKeGN01jZSFEutrynFtqIUTlrR1NU28hRBIkCl5KdCFEKWEK0EB5IUQTiXCjNn4hRLi/jtgrgyFEAym3byCIIUTa6DtpFI0hRCkjb8UHkiFE1vuihPqWIUTMlimn7JshRPQXVS3eoCFENKN3F8+lIUR4XONlv6ohRKhn6hivryFErOjeMJ60IURtAxOujLkhRNXb2JB6viFEzJWC2WfDIUQ7VWKIVMghRAs+yp1AzSFEJHQMGizSIURxG3v9FtchRNlXaEgB3CFERU0m++rgIUSeHwcW1OUhRM7yXJm86iFEvep5haTvIURUK7Dai/QhRHvYUZly+SFEHBaxwVj+IUQgCCBUPgMiRG7S8FAjCCJE8ph1uAcNIkSRfwCL6xEiRDiq48jOFiJEzTxxcrEbIkQ9ji9SkyAiRKYNZ2d0JSJEVVKK5VQqIkRYtODMNC8iRLiLsR0UNCJEgTBE2PI4IkS++t/80D0iRHxCzIuuQiJEw19QhYtHIkShqrPpZ0wiRCB7PblDUSJESyk19B5WIkQuDeKa+VoiRNN+i63TXyJER9Z4LK1kIkSTa/EXhmkiRMSWPHBebiJE5a+hNTZzIkQBD2hoDXgiRCMM1wjkfCJEVv81F7qBIkSmQMyTj4YiRB0o4X5kiyJEyA282DiQIkSwSaShDJUiROMz4dnfmSJEaSS6gbKeIkRQc3aZhKMiRKJ4XSFWqCJEaYy2GSetIkSzBsmC97EiRIk/3FzHtiJE9443qJa7IkQITSJlZcAiRMjR45MzxSJEQnXDNAHKIkR/jwhIzs4iRI54+s2a0yJEd4jgxmbYIkRHFwIzMt0iRAh9phL94SJExxEVZsfmIkSNLZUtkesiRGcobmla8CJEYFrnGSP1IkSCG0g/6/kiRNnD19my/iJEcKvd6XkDI0RUKqFvQAgjRI2YaWsGDSNEKU5+3csRI0QxoybGkBYjRLLvqSVVGyNEt4tP/BggI0RJz15K3CQjRHcSHxCfKSNESa3XTWEuI0TM988DIzMjRApKTzLkNyNED/yc2aQ8I0TmZQD6ZEEjRJvfwJMkRiNEOMElp+NKI0TIYnY0ok8jRFgc+jtgVCNE8kX4vR1ZI0ShN7i62l0jRHFJgTKXYiNEbdOaJVNnI0SfLUyUDmwjRBSw3H7JcCNE1rKT5YN1I0TxjbjIPXojRHCZkij3fiNEXi1pBbCDI0THoYNfaIgjRLROKTcgjSNEM4yhjNeRI0RNsjNgjpYjRA8ZJ7JEmyNEhBjDgvqfI0S2CE/Sr6QjRLFBEqFkqSNEfxtU7xiuI0Qu7lu9zLIjRMYRcQuAtyNENLuVyzK8I0TNd6eX5MAjRGsdGuCVxSNE29InpUbKI0Tqvgrn9s4jRGgI/aWm0yNEIdY44lXYI0TkTvibBN0jRICZddOy4SNEwtzqiGDmI0R3P5K8DesjRG/opW667yNEd/5fn2b0I0RdqPpOEvkjRPAMsH29/SNE/FK6K2gCJERRoVNZEgckRLsetga8CyREC/IbNGUQJEQMQr/hDRUkRI412g+2GSREXvOmvl0eJERKol/uBCMkRCBpPp+rJyREr2590VEsJETE2VaF9zAkRC3RBLucNSREuXvBckE6JEQ1AMes5T4kRHCFT2mJQyRENzKVqCxIJERZLdJqz0wkRKOdQLBxUSRE46kaeRNWJEToeJrFtFokRH8x+pVVXyREd/pz6vVjJESd+kHDlWgkRMBYniA1bSRErjvDAtRxJEQzyuppcnYkRCArT1YQeyREQYUqyK1/JERl/7a/SoQkRFnALj3niCRE7O7LQIONJETsscjKHpIkRCcwX9u5liREapDJclSbJESD+UGR7p8kREKSAjeIpCREc4FFZCGpJETl7UQZuq0kRGb+OlZSsiRExNlhG+q2JETMpvNogbskRE2MKj8YwCREFbFAnq7EJETyO3CGRMkkRLJT8/fZzSREIh8E827SJEQSxdx3A9ckRE5st4aX2yREpjvOHyvgJETmWVtDvuQkRN3tmPFQ6SREWh7BKuPtJEQoEg7vdPIkRBnwuT4G9yRE+N7+GZf7JESUBReBJwAlRLuKPHS3BCVEPJWp80YJJUTjS5j/1Q0lRIDVQphkEiVE4FjjvfIWJUTQ/LNwgBslRCDo7rANICVEnUHOfpokJUQVMIzaJiklRFfaYsSyLSVEL2eMPD4yJURu/UJDyTYlRN7DwNhTOyVEUeE//d0/JUSSfPqwZ0QlRHG8KvTwSCVEJCKkc3lNJUQCSCdeAVIlRHKSuNSIViVEUkmG1w9bJUSAtL5mll8lRNYbkIIcZCVENMcoK6JoJUR1/rZgJ20lRHcJaSOscSVEFTBtczB2JUQuuvFQtHolRJ3vJLw3fyVEQRg1tbqDJUT1e1A8PYglRJZipVG/jCVEAhRi9UCRJUQW2LQnwpUlRK32y+hCmiVEprfVOMOeJUTcYgAYQ6MlRC1AeobCpyVEd5dxhEGsJUSUsBQSwLAlRGPTkS8+tSVEwUcX3bu5JUSJVdMaOb4lRJlE9Oi1wiVEzlyoRzLHJUQG5h03rsslRBsog7cp0CVE7WoGyaTUJURX9tVrH9klRDUSIKCZ3SVEZwYTZhPiJUTGGt29jOYlRDOXrKcF6yVEh8OvI37vJUSi5xQy9vMlRF5LCtNt+CVEmza+BuX8JUQ08V7NWwEmRAXDGifSBSZE7fMfFEgKJkTHy5yUvQ4mRHGSv6gyEyZEyI+2UKcXJkSoC7CMGxwmRO9N2lyPICZEeZ5jwQIlJkQjRXq6dSkmRMqJTEjoLSZES7QIa1oyJkSCDN0izDYmRE3a9289OyZEiWWHUq4/JkQS9rnKHkQmRMTTvdiOSCZEf0bBfP5MJkQdlvK2bVEmRHwKgIfcVSZEeeuX7kpaJkTwgGjsuF4mRL8SIIEmYyZEwejsrJNnJkTWSv1vAGwmRNiAf8pscCZEpdKhvNh0JkQaiJJGRHkmRBTpf2ivfSZEbz2YIhqCJkQIzQl1hIYmRL3fAmDuiiZEar2x41ePJkTtrUQAwZMmRCH56bUpmCZE4+bPBJKcJkQSvyTt+aAmRInJFm9hpSZEJU7UisipJkTElItAL64mRELlapCVsiZEe4egevu2JkROw1r/YLsmRJfgxx7GvyZEMicW2SrEJkT93nMuj8gmRI2BuxrzzCZE9KhjlVbRJkTuUHOludUmRKL3YEoc2iZENxujg37eJkTUObBQ4OImRKDR/rBB5yZEwGAFpKLrJkQ=",
          "dtype": "f8"
         }
        },
        {
         "mode": "lines",
         "name": "C_O_i",
         "type": "scatter",
         "x": {
          "bdata": "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",
          "dtype": "f8"
         },
         "y": {
          "bdata": "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",
          "dtype": "f8"
         }
        }
       ],
       "layout": {
        "height": 500,
        "template": {
         "data": {
          "bar": [
           {
            "error_x": {
             "color": "#2a3f5f"
            },
            "error_y": {
             "color": "#2a3f5f"
            },
            "marker": {
             "line": {
              "color": "#E5ECF6",
              "width": 0.5
             },
             "pattern": {
              "fillmode": "overlay",
              "size": 10,
              "solidity": 0.2
             }
            },
            "type": "bar"
           }
          ],
          "barpolar": [
           {
            "marker": {
             "line": {
              "color": "#E5ECF6",
              "width": 0.5
             },
             "pattern": {
              "fillmode": "overlay",
              "size": 10,
              "solidity": 0.2
             }
            },
            "type": "barpolar"
           }
          ],
          "carpet": [
           {
            "aaxis": {
             "endlinecolor": "#2a3f5f",
             "gridcolor": "white",
             "linecolor": "white",
             "minorgridcolor": "white",
             "startlinecolor": "#2a3f5f"
            },
            "baxis": {
             "endlinecolor": "#2a3f5f",
             "gridcolor": "white",
             "linecolor": "white",
             "minorgridcolor": "white",
             "startlinecolor": "#2a3f5f"
            },
            "type": "carpet"
           }
          ],
          "choropleth": [
           {
            "colorbar": {
             "outlinewidth": 0,
             "ticks": ""
            },
            "type": "choropleth"
           }
          ],
          "contour": [
           {
            "colorbar": {
             "outlinewidth": 0,
             "ticks": ""
            },
            "colorscale": [
             [
              0,
              "#0d0887"
             ],
             [
              0.1111111111111111,
              "#46039f"
             ],
             [
              0.2222222222222222,
              "#7201a8"
             ],
             [
              0.3333333333333333,
              "#9c179e"
             ],
             [
              0.4444444444444444,
              "#bd3786"
             ],
             [
              0.5555555555555556,
              "#d8576b"
             ],
             [
              0.6666666666666666,
              "#ed7953"
             ],
             [
              0.7777777777777778,
              "#fb9f3a"
             ],
             [
              0.8888888888888888,
              "#fdca26"
             ],
             [
              1,
              "#f0f921"
             ]
            ],
            "type": "contour"
           }
          ],
          "contourcarpet": [
           {
            "colorbar": {
             "outlinewidth": 0,
             "ticks": ""
            },
            "type": "contourcarpet"
           }
          ],
          "heatmap": [
           {
            "colorbar": {
             "outlinewidth": 0,
             "ticks": ""
            },
            "colorscale": [
             [
              0,
              "#0d0887"
             ],
             [
              0.1111111111111111,
              "#46039f"
             ],
             [
              0.2222222222222222,
              "#7201a8"
             ],
             [
              0.3333333333333333,
              "#9c179e"
             ],
             [
              0.4444444444444444,
              "#bd3786"
             ],
             [
              0.5555555555555556,
              "#d8576b"
             ],
             [
              0.6666666666666666,
              "#ed7953"
             ],
             [
              0.7777777777777778,
              "#fb9f3a"
             ],
             [
              0.8888888888888888,
              "#fdca26"
             ],
             [
              1,
              "#f0f921"
             ]
            ],
            "type": "heatmap"
           }
          ],
          "histogram": [
           {
            "marker": {
             "pattern": {
              "fillmode": "overlay",
              "size": 10,
              "solidity": 0.2
             }
            },
            "type": "histogram"
           }
          ],
          "histogram2d": [
           {
            "colorbar": {
             "outlinewidth": 0,
             "ticks": ""
            },
            "colorscale": [
             [
              0,
              "#0d0887"
             ],
             [
              0.1111111111111111,
              "#46039f"
             ],
             [
              0.2222222222222222,
              "#7201a8"
             ],
             [
              0.3333333333333333,
              "#9c179e"
             ],
             [
              0.4444444444444444,
              "#bd3786"
             ],
             [
              0.5555555555555556,
              "#d8576b"
             ],
             [
              0.6666666666666666,
              "#ed7953"
             ],
             [
              0.7777777777777778,
              "#fb9f3a"
             ],
             [
              0.8888888888888888,
              "#fdca26"
             ],
             [
              1,
              "#f0f921"
             ]
            ],
            "type": "histogram2d"
           }
          ],
          "histogram2dcontour": [
           {
            "colorbar": {
             "outlinewidth": 0,
             "ticks": ""
            },
            "colorscale": [
             [
              0,
              "#0d0887"
             ],
             [
              0.1111111111111111,
              "#46039f"
             ],
             [
              0.2222222222222222,
              "#7201a8"
             ],
             [
              0.3333333333333333,
              "#9c179e"
             ],
             [
              0.4444444444444444,
              "#bd3786"
             ],
             [
              0.5555555555555556,
              "#d8576b"
             ],
             [
              0.6666666666666666,
              "#ed7953"
             ],
             [
              0.7777777777777778,
              "#fb9f3a"
             ],
             [
              0.8888888888888888,
              "#fdca26"
             ],
             [
              1,
              "#f0f921"
             ]
            ],
            "type": "histogram2dcontour"
           }
          ],
          "mesh3d": [
           {
            "colorbar": {
             "outlinewidth": 0,
             "ticks": ""
            },
            "type": "mesh3d"
           }
          ],
          "parcoords": [
           {
            "line": {
             "colorbar": {
              "outlinewidth": 0,
              "ticks": ""
             }
            },
            "type": "parcoords"
           }
          ],
          "pie": [
           {
            "automargin": true,
            "type": "pie"
           }
          ],
          "scatter": [
           {
            "fillpattern": {
             "fillmode": "overlay",
             "size": 10,
             "solidity": 0.2
            },
            "type": "scatter"
           }
          ],
          "scatter3d": [
           {
            "line": {
             "colorbar": {
              "outlinewidth": 0,
              "ticks": ""
             }
            },
            "marker": {
             "colorbar": {
              "outlinewidth": 0,
              "ticks": ""
             }
            },
            "type": "scatter3d"
           }
          ],
          "scattercarpet": [
           {
            "marker": {
             "colorbar": {
              "outlinewidth": 0,
              "ticks": ""
             }
            },
            "type": "scattercarpet"
           }
          ],
          "scattergeo": [
           {
            "marker": {
             "colorbar": {
              "outlinewidth": 0,
              "ticks": ""
             }
            },
            "type": "scattergeo"
           }
          ],
          "scattergl": [
           {
            "marker": {
             "colorbar": {
              "outlinewidth": 0,
              "ticks": ""
             }
            },
            "type": "scattergl"
           }
          ],
          "scattermap": [
           {
            "marker": {
             "colorbar": {
              "outlinewidth": 0,
              "ticks": ""
             }
            },
            "type": "scattermap"
           }
          ],
          "scattermapbox": [
           {
            "marker": {
             "colorbar": {
              "outlinewidth": 0,
              "ticks": ""
             }
            },
            "type": "scattermapbox"
           }
          ],
          "scatterpolar": [
           {
            "marker": {
             "colorbar": {
              "outlinewidth": 0,
              "ticks": ""
             }
            },
            "type": "scatterpolar"
           }
          ],
          "scatterpolargl": [
           {
            "marker": {
             "colorbar": {
              "outlinewidth": 0,
              "ticks": ""
             }
            },
            "type": "scatterpolargl"
           }
          ],
          "scatterternary": [
           {
            "marker": {
             "colorbar": {
              "outlinewidth": 0,
              "ticks": ""
             }
            },
            "type": "scatterternary"
           }
          ],
          "surface": [
           {
            "colorbar": {
             "outlinewidth": 0,
             "ticks": ""
            },
            "colorscale": [
             [
              0,
              "#0d0887"
             ],
             [
              0.1111111111111111,
              "#46039f"
             ],
             [
              0.2222222222222222,
              "#7201a8"
             ],
             [
              0.3333333333333333,
              "#9c179e"
             ],
             [
              0.4444444444444444,
              "#bd3786"
             ],
             [
              0.5555555555555556,
              "#d8576b"
             ],
             [
              0.6666666666666666,
              "#ed7953"
             ],
             [
              0.7777777777777778,
              "#fb9f3a"
             ],
             [
              0.8888888888888888,
              "#fdca26"
             ],
             [
              1,
              "#f0f921"
             ]
            ],
            "type": "surface"
           }
          ],
          "table": [
           {
            "cells": {
             "fill": {
              "color": "#EBF0F8"
             },
             "line": {
              "color": "white"
             }
            },
            "header": {
             "fill": {
              "color": "#C8D4E3"
             },
             "line": {
              "color": "white"
             }
            },
            "type": "table"
           }
          ]
         },
         "layout": {
          "annotationdefaults": {
           "arrowcolor": "#2a3f5f",
           "arrowhead": 0,
           "arrowwidth": 1
          },
          "autotypenumbers": "strict",
          "coloraxis": {
           "colorbar": {
            "outlinewidth": 0,
            "ticks": ""
           }
          },
          "colorscale": {
           "diverging": [
            [
             0,
             "#8e0152"
            ],
            [
             0.1,
             "#c51b7d"
            ],
            [
             0.2,
             "#de77ae"
            ],
            [
             0.3,
             "#f1b6da"
            ],
            [
             0.4,
             "#fde0ef"
            ],
            [
             0.5,
             "#f7f7f7"
            ],
            [
             0.6,
             "#e6f5d0"
            ],
            [
             0.7,
             "#b8e186"
            ],
            [
             0.8,
             "#7fbc41"
            ],
            [
             0.9,
             "#4d9221"
            ],
            [
             1,
             "#276419"
            ]
           ],
           "sequential": [
            [
             0,
             "#0d0887"
            ],
            [
             0.1111111111111111,
             "#46039f"
            ],
            [
             0.2222222222222222,
             "#7201a8"
            ],
            [
             0.3333333333333333,
             "#9c179e"
            ],
            [
             0.4444444444444444,
             "#bd3786"
            ],
            [
             0.5555555555555556,
             "#d8576b"
            ],
            [
             0.6666666666666666,
             "#ed7953"
            ],
            [
             0.7777777777777778,
             "#fb9f3a"
            ],
            [
             0.8888888888888888,
             "#fdca26"
            ],
            [
             1,
             "#f0f921"
            ]
           ],
           "sequentialminus": [
            [
             0,
             "#0d0887"
            ],
            [
             0.1111111111111111,
             "#46039f"
            ],
            [
             0.2222222222222222,
             "#7201a8"
            ],
            [
             0.3333333333333333,
             "#9c179e"
            ],
            [
             0.4444444444444444,
             "#bd3786"
            ],
            [
             0.5555555555555556,
             "#d8576b"
            ],
            [
             0.6666666666666666,
             "#ed7953"
            ],
            [
             0.7777777777777778,
             "#fb9f3a"
            ],
            [
             0.8888888888888888,
             "#fdca26"
            ],
            [
             1,
             "#f0f921"
            ]
           ]
          },
          "colorway": [
           "#636efa",
           "#EF553B",
           "#00cc96",
           "#ab63fa",
           "#FFA15A",
           "#19d3f3",
           "#FF6692",
           "#B6E880",
           "#FF97FF",
           "#FECB52"
          ],
          "font": {
           "color": "#2a3f5f"
          },
          "geo": {
           "bgcolor": "white",
           "lakecolor": "white",
           "landcolor": "#E5ECF6",
           "showlakes": true,
           "showland": true,
           "subunitcolor": "white"
          },
          "hoverlabel": {
           "align": "left"
          },
          "hovermode": "closest",
          "mapbox": {
           "style": "light"
          },
          "paper_bgcolor": "white",
          "plot_bgcolor": "#E5ECF6",
          "polar": {
           "angularaxis": {
            "gridcolor": "white",
            "linecolor": "white",
            "ticks": ""
           },
           "bgcolor": "#E5ECF6",
           "radialaxis": {
            "gridcolor": "white",
            "linecolor": "white",
            "ticks": ""
           }
          },
          "scene": {
           "xaxis": {
            "backgroundcolor": "#E5ECF6",
            "gridcolor": "white",
            "gridwidth": 2,
            "linecolor": "white",
            "showbackground": true,
            "ticks": "",
            "zerolinecolor": "white"
           },
           "yaxis": {
            "backgroundcolor": "#E5ECF6",
            "gridcolor": "white",
            "gridwidth": 2,
            "linecolor": "white",
            "showbackground": true,
            "ticks": "",
            "zerolinecolor": "white"
           },
           "zaxis": {
            "backgroundcolor": "#E5ECF6",
            "gridcolor": "white",
            "gridwidth": 2,
            "linecolor": "white",
            "showbackground": true,
            "ticks": "",
            "zerolinecolor": "white"
           }
          },
          "shapedefaults": {
           "line": {
            "color": "#2a3f5f"
           }
          },
          "ternary": {
           "aaxis": {
            "gridcolor": "white",
            "linecolor": "white",
            "ticks": ""
           },
           "baxis": {
            "gridcolor": "white",
            "linecolor": "white",
            "ticks": ""
           },
           "bgcolor": "#E5ECF6",
           "caxis": {
            "gridcolor": "white",
            "linecolor": "white",
            "ticks": ""
           }
          },
          "title": {
           "x": 0.05
          },
          "xaxis": {
           "automargin": true,
           "gridcolor": "white",
           "linecolor": "white",
           "ticks": "",
           "title": {
            "standoff": 15
           },
           "zerolinecolor": "white",
           "zerolinewidth": 2
          },
          "yaxis": {
           "automargin": true,
           "gridcolor": "white",
           "linecolor": "white",
           "ticks": "",
           "title": {
            "standoff": 15
           },
           "zerolinecolor": "white",
           "zerolinewidth": 2
          }
         }
        },
        "title": {
         "text": "Interstitial Concentrations"
        },
        "width": 600,
        "xaxis": {
         "exponentformat": "power",
         "title": {
          "text": "Time [s]"
         },
         "type": "log"
        },
        "yaxis": {
         "exponentformat": "power",
         "title": {
          "text": "Concentration [cm<sup>-3</sup>]"
         },
         "type": "log"
        }
       }
      },
      "image/png": "[encoded data removed]"
     },
     "metadata": {},
     "output_type": "display_data"
    },
    {
     "data": {
      "application/vnd.plotly.v1+json": {
       "config": {
        "plotlyServerURL": "https://plot.ly"
       },
       "data": [
        {
         "mode": "lines",
         "name": "N_L",
         "type": "scatter",
         "x": {
          "bdata": "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",
          "dtype": "f8"
         },
         "y": {
          "bdata": "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",
          "dtype": "f8"
         }
        }
       ],
       "layout": {
        "height": 500,
        "template": {
         "data": {
          "bar": [
           {
            "error_x": {
             "color": "#2a3f5f"
            },
            "error_y": {
             "color": "#2a3f5f"
            },
            "marker": {
             "line": {
              "color": "#E5ECF6",
              "width": 0.5
             },
             "pattern": {
              "fillmode": "overlay",
              "size": 10,
              "solidity": 0.2
             }
            },
            "type": "bar"
           }
          ],
          "barpolar": [
           {
            "marker": {
             "line": {
              "color": "#E5ECF6",
              "width": 0.5
             },
             "pattern": {
              "fillmode": "overlay",
              "size": 10,
              "solidity": 0.2
             }
            },
            "type": "barpolar"
           }
          ],
          "carpet": [
           {
            "aaxis": {
             "endlinecolor": "#2a3f5f",
             "gridcolor": "white",
             "linecolor": "white",
             "minorgridcolor": "white",
             "startlinecolor": "#2a3f5f"
            },
            "baxis": {
             "endlinecolor": "#2a3f5f",
             "gridcolor": "white",
             "linecolor": "white",
             "minorgridcolor": "white",
             "startlinecolor": "#2a3f5f"
            },
            "type": "carpet"
           }
          ],
          "choropleth": [
           {
            "colorbar": {
             "outlinewidth": 0,
             "ticks": ""
            },
            "type": "choropleth"
           }
          ],
          "contour": [
           {
            "colorbar": {
             "outlinewidth": 0,
             "ticks": ""
            },
            "colorscale": [
             [
              0,
              "#0d0887"
             ],
             [
              0.1111111111111111,
              "#46039f"
             ],
             [
              0.2222222222222222,
              "#7201a8"
             ],
             [
              0.3333333333333333,
              "#9c179e"
             ],
             [
              0.4444444444444444,
              "#bd3786"
             ],
             [
              0.5555555555555556,
              "#d8576b"
             ],
             [
              0.6666666666666666,
              "#ed7953"
             ],
             [
              0.7777777777777778,
              "#fb9f3a"
             ],
             [
              0.8888888888888888,
              "#fdca26"
             ],
             [
              1,
              "#f0f921"
             ]
            ],
            "type": "contour"
           }
          ],
          "contourcarpet": [
           {
            "colorbar": {
             "outlinewidth": 0,
             "ticks": ""
            },
            "type": "contourcarpet"
           }
          ],
          "heatmap": [
           {
            "colorbar": {
             "outlinewidth": 0,
             "ticks": ""
            },
            "colorscale": [
             [
              0,
              "#0d0887"
             ],
             [
              0.1111111111111111,
              "#46039f"
             ],
             [
              0.2222222222222222,
              "#7201a8"
             ],
             [
              0.3333333333333333,
              "#9c179e"
             ],
             [
              0.4444444444444444,
              "#bd3786"
             ],
             [
              0.5555555555555556,
              "#d8576b"
             ],
             [
              0.6666666666666666,
              "#ed7953"
             ],
             [
              0.7777777777777778,
              "#fb9f3a"
             ],
             [
              0.8888888888888888,
              "#fdca26"
             ],
             [
              1,
              "#f0f921"
             ]
            ],
            "type": "heatmap"
           }
          ],
          "histogram": [
           {
            "marker": {
             "pattern": {
              "fillmode": "overlay",
              "size": 10,
              "solidity": 0.2
             }
            },
            "type": "histogram"
           }
          ],
          "histogram2d": [
           {
            "colorbar": {
             "outlinewidth": 0,
             "ticks": ""
            },
            "colorscale": [
             [
              0,
              "#0d0887"
             ],
             [
              0.1111111111111111,
              "#46039f"
             ],
             [
              0.2222222222222222,
              "#7201a8"
             ],
             [
              0.3333333333333333,
              "#9c179e"
             ],
             [
              0.4444444444444444,
              "#bd3786"
             ],
             [
              0.5555555555555556,
              "#d8576b"
             ],
             [
              0.6666666666666666,
              "#ed7953"
             ],
             [
              0.7777777777777778,
              "#fb9f3a"
             ],
             [
              0.8888888888888888,
              "#fdca26"
             ],
             [
              1,
              "#f0f921"
             ]
            ],
            "type": "histogram2d"
           }
          ],
          "histogram2dcontour": [
           {
            "colorbar": {
             "outlinewidth": 0,
             "ticks": ""
            },
            "colorscale": [
             [
              0,
              "#0d0887"
             ],
             [
              0.1111111111111111,
              "#46039f"
             ],
             [
              0.2222222222222222,
              "#7201a8"
             ],
             [
              0.3333333333333333,
              "#9c179e"
             ],
             [
              0.4444444444444444,
              "#bd3786"
             ],
             [
              0.5555555555555556,
              "#d8576b"
             ],
             [
              0.6666666666666666,
              "#ed7953"
             ],
             [
              0.7777777777777778,
              "#fb9f3a"
             ],
             [
              0.8888888888888888,
              "#fdca26"
             ],
             [
              1,
              "#f0f921"
             ]
            ],
            "type": "histogram2dcontour"
           }
          ],
          "mesh3d": [
           {
            "colorbar": {
             "outlinewidth": 0,
             "ticks": ""
            },
            "type": "mesh3d"
           }
          ],
          "parcoords": [
           {
            "line": {
             "colorbar": {
              "outlinewidth": 0,
              "ticks": ""
             }
            },
            "type": "parcoords"
           }
          ],
          "pie": [
           {
            "automargin": true,
            "type": "pie"
           }
          ],
          "scatter": [
           {
            "fillpattern": {
             "fillmode": "overlay",
             "size": 10,
             "solidity": 0.2
            },
            "type": "scatter"
           }
          ],
          "scatter3d": [
           {
            "line": {
             "colorbar": {
              "outlinewidth": 0,
              "ticks": ""
             }
            },
            "marker": {
             "colorbar": {
              "outlinewidth": 0,
              "ticks": ""
             }
            },
            "type": "scatter3d"
           }
          ],
          "scattercarpet": [
           {
            "marker": {
             "colorbar": {
              "outlinewidth": 0,
              "ticks": ""
             }
            },
            "type": "scattercarpet"
           }
          ],
          "scattergeo": [
           {
            "marker": {
             "colorbar": {
              "outlinewidth": 0,
              "ticks": ""
             }
            },
            "type": "scattergeo"
           }
          ],
          "scattergl": [
           {
            "marker": {
             "colorbar": {
              "outlinewidth": 0,
              "ticks": ""
             }
            },
            "type": "scattergl"
           }
          ],
          "scattermap": [
           {
            "marker": {
             "colorbar": {
              "outlinewidth": 0,
              "ticks": ""
             }
            },
            "type": "scattermap"
           }
          ],
          "scattermapbox": [
           {
            "marker": {
             "colorbar": {
              "outlinewidth": 0,
              "ticks": ""
             }
            },
            "type": "scattermapbox"
           }
          ],
          "scatterpolar": [
           {
            "marker": {
             "colorbar": {
              "outlinewidth": 0,
              "ticks": ""
             }
            },
            "type": "scatterpolar"
           }
          ],
          "scatterpolargl": [
           {
            "marker": {
             "colorbar": {
              "outlinewidth": 0,
              "ticks": ""
             }
            },
            "type": "scatterpolargl"
           }
          ],
          "scatterternary": [
           {
            "marker": {
             "colorbar": {
              "outlinewidth": 0,
              "ticks": ""
             }
            },
            "type": "scatterternary"
           }
          ],
          "surface": [
           {
            "colorbar": {
             "outlinewidth": 0,
             "ticks": ""
            },
            "colorscale": [
             [
              0,
              "#0d0887"
             ],
             [
              0.1111111111111111,
              "#46039f"
             ],
             [
              0.2222222222222222,
              "#7201a8"
             ],
             [
              0.3333333333333333,
              "#9c179e"
             ],
             [
              0.4444444444444444,
              "#bd3786"
             ],
             [
              0.5555555555555556,
              "#d8576b"
             ],
             [
              0.6666666666666666,
              "#ed7953"
             ],
             [
              0.7777777777777778,
              "#fb9f3a"
             ],
             [
              0.8888888888888888,
              "#fdca26"
             ],
             [
              1,
              "#f0f921"
             ]
            ],
            "type": "surface"
           }
          ],
          "table": [
           {
            "cells": {
             "fill": {
              "color": "#EBF0F8"
             },
             "line": {
              "color": "white"
             }
            },
            "header": {
             "fill": {
              "color": "#C8D4E3"
             },
             "line": {
              "color": "white"
             }
            },
            "type": "table"
           }
          ]
         },
         "layout": {
          "annotationdefaults": {
           "arrowcolor": "#2a3f5f",
           "arrowhead": 0,
           "arrowwidth": 1
          },
          "autotypenumbers": "strict",
          "coloraxis": {
           "colorbar": {
            "outlinewidth": 0,
            "ticks": ""
           }
          },
          "colorscale": {
           "diverging": [
            [
             0,
             "#8e0152"
            ],
            [
             0.1,
             "#c51b7d"
            ],
            [
             0.2,
             "#de77ae"
            ],
            [
             0.3,
             "#f1b6da"
            ],
            [
             0.4,
             "#fde0ef"
            ],
            [
             0.5,
             "#f7f7f7"
            ],
            [
             0.6,
             "#e6f5d0"
            ],
            [
             0.7,
             "#b8e186"
            ],
            [
             0.8,
             "#7fbc41"
            ],
            [
             0.9,
             "#4d9221"
            ],
            [
             1,
             "#276419"
            ]
           ],
           "sequential": [
            [
             0,
             "#0d0887"
            ],
            [
             0.1111111111111111,
             "#46039f"
            ],
            [
             0.2222222222222222,
             "#7201a8"
            ],
            [
             0.3333333333333333,
             "#9c179e"
            ],
            [
             0.4444444444444444,
             "#bd3786"
            ],
            [
             0.5555555555555556,
             "#d8576b"
            ],
            [
             0.6666666666666666,
             "#ed7953"
            ],
            [
             0.7777777777777778,
             "#fb9f3a"
            ],
            [
             0.8888888888888888,
             "#fdca26"
            ],
            [
             1,
             "#f0f921"
            ]
           ],
           "sequentialminus": [
            [
             0,
             "#0d0887"
            ],
            [
             0.1111111111111111,
             "#46039f"
            ],
            [
             0.2222222222222222,
             "#7201a8"
            ],
            [
             0.3333333333333333,
             "#9c179e"
            ],
            [
             0.4444444444444444,
             "#bd3786"
            ],
            [
             0.5555555555555556,
             "#d8576b"
            ],
            [
             0.6666666666666666,
             "#ed7953"
            ],
            [
             0.7777777777777778,
             "#fb9f3a"
            ],
            [
             0.8888888888888888,
             "#fdca26"
            ],
            [
             1,
             "#f0f921"
            ]
           ]
          },
          "colorway": [
           "#636efa",
           "#EF553B",
           "#00cc96",
           "#ab63fa",
           "#FFA15A",
           "#19d3f3",
           "#FF6692",
           "#B6E880",
           "#FF97FF",
           "#FECB52"
          ],
          "font": {
           "color": "#2a3f5f"
          },
          "geo": {
           "bgcolor": "white",
           "lakecolor": "white",
           "landcolor": "#E5ECF6",
           "showlakes": true,
           "showland": true,
           "subunitcolor": "white"
          },
          "hoverlabel": {
           "align": "left"
          },
          "hovermode": "closest",
          "mapbox": {
           "style": "light"
          },
          "paper_bgcolor": "white",
          "plot_bgcolor": "#E5ECF6",
          "polar": {
           "angularaxis": {
            "gridcolor": "white",
            "linecolor": "white",
            "ticks": ""
           },
           "bgcolor": "#E5ECF6",
           "radialaxis": {
            "gridcolor": "white",
            "linecolor": "white",
            "ticks": ""
           }
          },
          "scene": {
           "xaxis": {
            "backgroundcolor": "#E5ECF6",
            "gridcolor": "white",
            "gridwidth": 2,
            "linecolor": "white",
            "showbackground": true,
            "ticks": "",
            "zerolinecolor": "white"
           },
           "yaxis": {
            "backgroundcolor": "#E5ECF6",
            "gridcolor": "white",
            "gridwidth": 2,
            "linecolor": "white",
            "showbackground": true,
            "ticks": "",
            "zerolinecolor": "white"
           },
           "zaxis": {
            "backgroundcolor": "#E5ECF6",
            "gridcolor": "white",
            "gridwidth": 2,
            "linecolor": "white",
            "showbackground": true,
            "ticks": "",
            "zerolinecolor": "white"
           }
          },
          "shapedefaults": {
           "line": {
            "color": "#2a3f5f"
           }
          },
          "ternary": {
           "aaxis": {
            "gridcolor": "white",
            "linecolor": "white",
            "ticks": ""
           },
           "baxis": {
            "gridcolor": "white",
            "linecolor": "white",
            "ticks": ""
           },
           "bgcolor": "#E5ECF6",
           "caxis": {
            "gridcolor": "white",
            "linecolor": "white",
            "ticks": ""
           }
          },
          "title": {
           "x": 0.05
          },
          "xaxis": {
           "automargin": true,
           "gridcolor": "white",
           "linecolor": "white",
           "ticks": "",
           "title": {
            "standoff": 15
           },
           "zerolinecolor": "white",
           "zerolinewidth": 2
          },
          "yaxis": {
           "automargin": true,
           "gridcolor": "white",
           "linecolor": "white",
           "ticks": "",
           "title": {
            "standoff": 15
           },
           "zerolinecolor": "white",
           "zerolinewidth": 2
          }
         }
        },
        "title": {
         "text": "Dislocation Loop Density"
        },
        "width": 600,
        "xaxis": {
         "title": {
          "text": "Dose [dpa]"
         }
        },
        "yaxis": {
         "title": {
          "text": "Loop Density [ 10<sup>16</sup> cm<sup>-3</sup>] "
         }
        }
       }
      },
      "image/png": "[encoded data removed]"
     },
     "metadata": {},
     "output_type": "display_data"
    },
    {
     "data": {
      "application/vnd.plotly.v1+json": {
       "config": {
        "plotlyServerURL": "https://plot.ly"
       },
       "data": [
        {
         "mode": "lines",
         "name": "R_L",
         "type": "scatter",
         "x": {
          "bdata": "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",
          "dtype": "f8"
         },
         "y": {
          "bdata": "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",
          "dtype": "f8"
         }
        }
       ],
       "layout": {
        "height": 500,
        "template": {
         "data": {
          "bar": [
           {
            "error_x": {
             "color": "#2a3f5f"
            },
            "error_y": {
             "color": "#2a3f5f"
            },
            "marker": {
             "line": {
              "color": "#E5ECF6",
              "width": 0.5
             },
             "pattern": {
              "fillmode": "overlay",
              "size": 10,
              "solidity": 0.2
             }
            },
            "type": "bar"
           }
          ],
          "barpolar": [
           {
            "marker": {
             "line": {
              "color": "#E5ECF6",
              "width": 0.5
             },
             "pattern": {
              "fillmode": "overlay",
              "size": 10,
              "solidity": 0.2
             }
            },
            "type": "barpolar"
           }
          ],
          "carpet": [
           {
            "aaxis": {
             "endlinecolor": "#2a3f5f",
             "gridcolor": "white",
             "linecolor": "white",
             "minorgridcolor": "white",
             "startlinecolor": "#2a3f5f"
            },
            "baxis": {
             "endlinecolor": "#2a3f5f",
             "gridcolor": "white",
             "linecolor": "white",
             "minorgridcolor": "white",
             "startlinecolor": "#2a3f5f"
            },
            "type": "carpet"
           }
          ],
          "choropleth": [
           {
            "colorbar": {
             "outlinewidth": 0,
             "ticks": ""
            },
            "type": "choropleth"
           }
          ],
          "contour": [
           {
            "colorbar": {
             "outlinewidth": 0,
             "ticks": ""
            },
            "colorscale": [
             [
              0,
              "#0d0887"
             ],
             [
              0.1111111111111111,
              "#46039f"
             ],
             [
              0.2222222222222222,
              "#7201a8"
             ],
             [
              0.3333333333333333,
              "#9c179e"
             ],
             [
              0.4444444444444444,
              "#bd3786"
             ],
             [
              0.5555555555555556,
              "#d8576b"
             ],
             [
              0.6666666666666666,
              "#ed7953"
             ],
             [
              0.7777777777777778,
              "#fb9f3a"
             ],
             [
              0.8888888888888888,
              "#fdca26"
             ],
             [
              1,
              "#f0f921"
             ]
            ],
            "type": "contour"
           }
          ],
          "contourcarpet": [
           {
            "colorbar": {
             "outlinewidth": 0,
             "ticks": ""
            },
            "type": "contourcarpet"
           }
          ],
          "heatmap": [
           {
            "colorbar": {
             "outlinewidth": 0,
             "ticks": ""
            },
            "colorscale": [
             [
              0,
              "#0d0887"
             ],
             [
              0.1111111111111111,
              "#46039f"
             ],
             [
              0.2222222222222222,
              "#7201a8"
             ],
             [
              0.3333333333333333,
              "#9c179e"
             ],
             [
              0.4444444444444444,
              "#bd3786"
             ],
             [
              0.5555555555555556,
              "#d8576b"
             ],
             [
              0.6666666666666666,
              "#ed7953"
             ],
             [
              0.7777777777777778,
              "#fb9f3a"
             ],
             [
              0.8888888888888888,
              "#fdca26"
             ],
             [
              1,
              "#f0f921"
             ]
            ],
            "type": "heatmap"
           }
          ],
          "histogram": [
           {
            "marker": {
             "pattern": {
              "fillmode": "overlay",
              "size": 10,
              "solidity": 0.2
             }
            },
            "type": "histogram"
           }
          ],
          "histogram2d": [
           {
            "colorbar": {
             "outlinewidth": 0,
             "ticks": ""
            },
            "colorscale": [
             [
              0,
              "#0d0887"
             ],
             [
              0.1111111111111111,
              "#46039f"
             ],
             [
              0.2222222222222222,
              "#7201a8"
             ],
             [
              0.3333333333333333,
              "#9c179e"
             ],
             [
              0.4444444444444444,
              "#bd3786"
             ],
             [
              0.5555555555555556,
              "#d8576b"
             ],
             [
              0.6666666666666666,
              "#ed7953"
             ],
             [
              0.7777777777777778,
              "#fb9f3a"
             ],
             [
              0.8888888888888888,
              "#fdca26"
             ],
             [
              1,
              "#f0f921"
             ]
            ],
            "type": "histogram2d"
           }
          ],
          "histogram2dcontour": [
           {
            "colorbar": {
             "outlinewidth": 0,
             "ticks": ""
            },
            "colorscale": [
             [
              0,
              "#0d0887"
             ],
             [
              0.1111111111111111,
              "#46039f"
             ],
             [
              0.2222222222222222,
              "#7201a8"
             ],
             [
              0.3333333333333333,
              "#9c179e"
             ],
             [
              0.4444444444444444,
              "#bd3786"
             ],
             [
              0.5555555555555556,
              "#d8576b"
             ],
             [
              0.6666666666666666,
              "#ed7953"
             ],
             [
              0.7777777777777778,
              "#fb9f3a"
             ],
             [
              0.8888888888888888,
              "#fdca26"
             ],
             [
              1,
              "#f0f921"
             ]
            ],
            "type": "histogram2dcontour"
           }
          ],
          "mesh3d": [
           {
            "colorbar": {
             "outlinewidth": 0,
             "ticks": ""
            },
            "type": "mesh3d"
           }
          ],
          "parcoords": [
           {
            "line": {
             "colorbar": {
              "outlinewidth": 0,
              "ticks": ""
             }
            },
            "type": "parcoords"
           }
          ],
          "pie": [
           {
            "automargin": true,
            "type": "pie"
           }
          ],
          "scatter": [
           {
            "fillpattern": {
             "fillmode": "overlay",
             "size": 10,
             "solidity": 0.2
            },
            "type": "scatter"
           }
          ],
          "scatter3d": [
           {
            "line": {
             "colorbar": {
              "outlinewidth": 0,
              "ticks": ""
             }
            },
            "marker": {
             "colorbar": {
              "outlinewidth": 0,
              "ticks": ""
             }
            },
            "type": "scatter3d"
           }
          ],
          "scattercarpet": [
           {
            "marker": {
             "colorbar": {
              "outlinewidth": 0,
              "ticks": ""
             }
            },
            "type": "scattercarpet"
           }
          ],
          "scattergeo": [
           {
            "marker": {
             "colorbar": {
              "outlinewidth": 0,
              "ticks": ""
             }
            },
            "type": "scattergeo"
           }
          ],
          "scattergl": [
           {
            "marker": {
             "colorbar": {
              "outlinewidth": 0,
              "ticks": ""
             }
            },
            "type": "scattergl"
           }
          ],
          "scattermap": [
           {
            "marker": {
             "colorbar": {
              "outlinewidth": 0,
              "ticks": ""
             }
            },
            "type": "scattermap"
           }
          ],
          "scattermapbox": [
           {
            "marker": {
             "colorbar": {
              "outlinewidth": 0,
              "ticks": ""
             }
            },
            "type": "scattermapbox"
           }
          ],
          "scatterpolar": [
           {
            "marker": {
             "colorbar": {
              "outlinewidth": 0,
              "ticks": ""
             }
            },
            "type": "scatterpolar"
           }
          ],
          "scatterpolargl": [
           {
            "marker": {
             "colorbar": {
              "outlinewidth": 0,
              "ticks": ""
             }
            },
            "type": "scatterpolargl"
           }
          ],
          "scatterternary": [
           {
            "marker": {
             "colorbar": {
              "outlinewidth": 0,
              "ticks": ""
             }
            },
            "type": "scatterternary"
           }
          ],
          "surface": [
           {
            "colorbar": {
             "outlinewidth": 0,
             "ticks": ""
            },
            "colorscale": [
             [
              0,
              "#0d0887"
             ],
             [
              0.1111111111111111,
              "#46039f"
             ],
             [
              0.2222222222222222,
              "#7201a8"
             ],
             [
              0.3333333333333333,
              "#9c179e"
             ],
             [
              0.4444444444444444,
              "#bd3786"
             ],
             [
              0.5555555555555556,
              "#d8576b"
             ],
             [
              0.6666666666666666,
              "#ed7953"
             ],
             [
              0.7777777777777778,
              "#fb9f3a"
             ],
             [
              0.8888888888888888,
              "#fdca26"
             ],
             [
              1,
              "#f0f921"
             ]
            ],
            "type": "surface"
           }
          ],
          "table": [
           {
            "cells": {
             "fill": {
              "color": "#EBF0F8"
             },
             "line": {
              "color": "white"
             }
            },
            "header": {
             "fill": {
              "color": "#C8D4E3"
             },
             "line": {
              "color": "white"
             }
            },
            "type": "table"
           }
          ]
         },
         "layout": {
          "annotationdefaults": {
           "arrowcolor": "#2a3f5f",
           "arrowhead": 0,
           "arrowwidth": 1
          },
          "autotypenumbers": "strict",
          "coloraxis": {
           "colorbar": {
            "outlinewidth": 0,
            "ticks": ""
           }
          },
          "colorscale": {
           "diverging": [
            [
             0,
             "#8e0152"
            ],
            [
             0.1,
             "#c51b7d"
            ],
            [
             0.2,
             "#de77ae"
            ],
            [
             0.3,
             "#f1b6da"
            ],
            [
             0.4,
             "#fde0ef"
            ],
            [
             0.5,
             "#f7f7f7"
            ],
            [
             0.6,
             "#e6f5d0"
            ],
            [
             0.7,
             "#b8e186"
            ],
            [
             0.8,
             "#7fbc41"
            ],
            [
             0.9,
             "#4d9221"
            ],
            [
             1,
             "#276419"
            ]
           ],
           "sequential": [
            [
             0,
             "#0d0887"
            ],
            [
             0.1111111111111111,
             "#46039f"
            ],
            [
             0.2222222222222222,
             "#7201a8"
            ],
            [
             0.3333333333333333,
             "#9c179e"
            ],
            [
             0.4444444444444444,
             "#bd3786"
            ],
            [
             0.5555555555555556,
             "#d8576b"
            ],
            [
             0.6666666666666666,
             "#ed7953"
            ],
            [
             0.7777777777777778,
             "#fb9f3a"
            ],
            [
             0.8888888888888888,
             "#fdca26"
            ],
            [
             1,
             "#f0f921"
            ]
           ],
           "sequentialminus": [
            [
             0,
             "#0d0887"
            ],
            [
             0.1111111111111111,
             "#46039f"
            ],
            [
             0.2222222222222222,
             "#7201a8"
            ],
            [
             0.3333333333333333,
             "#9c179e"
            ],
            [
             0.4444444444444444,
             "#bd3786"
            ],
            [
             0.5555555555555556,
             "#d8576b"
            ],
            [
             0.6666666666666666,
             "#ed7953"
            ],
            [
             0.7777777777777778,
             "#fb9f3a"
            ],
            [
             0.8888888888888888,
             "#fdca26"
            ],
            [
             1,
             "#f0f921"
            ]
           ]
          },
          "colorway": [
           "#636efa",
           "#EF553B",
           "#00cc96",
           "#ab63fa",
           "#FFA15A",
           "#19d3f3",
           "#FF6692",
           "#B6E880",
           "#FF97FF",
           "#FECB52"
          ],
          "font": {
           "color": "#2a3f5f"
          },
          "geo": {
           "bgcolor": "white",
           "lakecolor": "white",
           "landcolor": "#E5ECF6",
           "showlakes": true,
           "showland": true,
           "subunitcolor": "white"
          },
          "hoverlabel": {
           "align": "left"
          },
          "hovermode": "closest",
          "mapbox": {
           "style": "light"
          },
          "paper_bgcolor": "white",
          "plot_bgcolor": "#E5ECF6",
          "polar": {
           "angularaxis": {
            "gridcolor": "white",
            "linecolor": "white",
            "ticks": ""
           },
           "bgcolor": "#E5ECF6",
           "radialaxis": {
            "gridcolor": "white",
            "linecolor": "white",
            "ticks": ""
           }
          },
          "scene": {
           "xaxis": {
            "backgroundcolor": "#E5ECF6",
            "gridcolor": "white",
            "gridwidth": 2,
            "linecolor": "white",
            "showbackground": true,
            "ticks": "",
            "zerolinecolor": "white"
           },
           "yaxis": {
            "backgroundcolor": "#E5ECF6",
            "gridcolor": "white",
            "gridwidth": 2,
            "linecolor": "white",
            "showbackground": true,
            "ticks": "",
            "zerolinecolor": "white"
           },
           "zaxis": {
            "backgroundcolor": "#E5ECF6",
            "gridcolor": "white",
            "gridwidth": 2,
            "linecolor": "white",
            "showbackground": true,
            "ticks": "",
            "zerolinecolor": "white"
           }
          },
          "shapedefaults": {
           "line": {
            "color": "#2a3f5f"
           }
          },
          "ternary": {
           "aaxis": {
            "gridcolor": "white",
            "linecolor": "white",
            "ticks": ""
           },
           "baxis": {
            "gridcolor": "white",
            "linecolor": "white",
            "ticks": ""
           },
           "bgcolor": "#E5ECF6",
           "caxis": {
            "gridcolor": "white",
            "linecolor": "white",
            "ticks": ""
           }
          },
          "title": {
           "x": 0.05
          },
          "xaxis": {
           "automargin": true,
           "gridcolor": "white",
           "linecolor": "white",
           "ticks": "",
           "title": {
            "standoff": 15
           },
           "zerolinecolor": "white",
           "zerolinewidth": 2
          },
          "yaxis": {
           "automargin": true,
           "gridcolor": "white",
           "linecolor": "white",
           "ticks": "",
           "title": {
            "standoff": 15
           },
           "zerolinecolor": "white",
           "zerolinewidth": 2
          }
         }
        },
        "title": {
         "text": "Dislocation Loop Radius"
        },
        "width": 600,
        "xaxis": {
         "title": {
          "text": "Dose [dpa]"
         }
        },
        "yaxis": {
         "title": {
          "text": "Loop Radius [nm]"
         }
        }
       }
      },
      "image/png": "[encoded data removed]"
     },
     "metadata": {},
     "output_type": "display_data"
    }
   ],
   "source": [
    "interactive_plots(results, G_0)"
   ]
  }
 ],
 "metadata": {
  "kernelspec": {
   "display_name": "osu",
   "language": "python",
   "name": "python3"
  },
  "language_info": {
   "codemirror_mode": {
    "name": "ipython",
    "version": 3
   },
   "file_extension": ".py",
   "mimetype": "text/x-python",
   "name": "python",
   "nbconvert_exporter": "python",
   "pygments_lexer": "ipython3",
   "version": "3.9.23"
  }
 },
 "nbformat": 4,
 "nbformat_minor": 5
}

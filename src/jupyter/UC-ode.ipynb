{
 "cells": [
  {
   "cell_type": "markdown",
   "id": "6b7a3481-682d-4178-a4e8-0d86c6cafc3b",
   "metadata": {},
   "source": [
    "<h1><center>Model UC defect points equations</center></h1>\n",
    "\n",
    "<h2>Imports and helper functions</h2>"
   ]
  },
  {
   "cell_type": "code",
   "execution_count": 42,
   "id": "f2118b5b-6129-41d3-aa9f-9b84cf7f7860",
   "metadata": {},
   "outputs": [],
   "source": [
    "import pandas as pd\n",
    "import numpy as np\n",
    "from scipy.integrate import solve_ivp\n",
    "from scipy.optimize import curve_fit\n",
    "import matplotlib.pyplot as plt\n",
    "\n",
    "import plotly.graph_objs as go\n",
    "from plotly.subplots import make_subplots"
   ]
  },
  {
   "cell_type": "code",
   "execution_count": 43,
   "id": "9dd4e413-5773-4dba-baea-a11d90507e15",
   "metadata": {},
   "outputs": [],
   "source": [
    "#Contans\n",
    "pi = np.pi\n",
    "kb = 8.617333262145e-5  # Boltzmann constant in eV/K\n",
    "T = 600 + 273.15        # Temperature in Kelvin\n",
    "filename = \"../../data/UC-UN/UC-diameter-density.csv\""
   ]
  },
  {
   "cell_type": "code",
   "execution_count": 44,
   "id": "16cc60a3-c520-4629-b0ee-26aadb8ac6da",
   "metadata": {},
   "outputs": [],
   "source": [
    "# Helper functions\n",
    "def D_Coeff(D_0, E_m, T):\n",
    "    \"\"\"Calculate diffusion coefficient.\"\"\"\n",
    "    return D_0 * np.exp(-E_m / (kb * T))\n",
    "\n",
    "def log_factor(r_0, r_L):\n",
    "    \"\"\"Calculate the logarithmic factor for flux.\"\"\"\n",
    "    logt = np.log(8 * r_L / r_0)\n",
    "    r = r_0 * logt\n",
    "    return 1 / r \n",
    "\n",
    "def compute_j_L_i(C_U_i, C_C_i, D_U_i, D_C_i, r_0, r_L):\n",
    "    \"\"\"Calculate interstitial flux.\"\"\"\n",
    "    log_fact = log_factor(r_0, r_L)\n",
    "    num = D_U_i * C_U_i * D_C_i * C_C_i\n",
    "    den = D_U_i * C_U_i + D_C_i * C_C_i\n",
    "    return log_fact * num / den \n",
    "\n",
    "def compute_j_L_v(C_U_v, C_C_v, D_U_v, D_C_v, r_0, r_L):\n",
    "    \"\"\"Calculate vacancy flux.\"\"\"\n",
    "    log_fact = log_factor(r_0, r_L)\n",
    "    num = D_U_v * C_U_v * D_C_v * C_C_v\n",
    "    den = D_U_v * C_U_v + D_C_v * C_C_v\n",
    "    return log_fact * num / den \n",
    "\n",
    "def compute_j_ii(C_U_i, C_C_i, D_U_i, D_C_i):\n",
    "    \"\"\"Calculate interstitial-interstitial annihilation flux.\"\"\"\n",
    "    num = D_U_i * (C_U_i**2) * D_C_i * (C_C_i**2)\n",
    "    den = D_U_i * (C_U_i**2) + D_C_i * (C_C_i**2)\n",
    "    return num / den \n",
    "\n",
    "def loop_life_time_term(N_L, R_L, alpha, beta, k_lf):\n",
    "    \"\"\"Calculate the loop lifetime term.\"\"\"\n",
    "    return k_lf * (N_L**alpha) * (R_L**beta)"
   ]
  },
  {
   "cell_type": "code",
   "execution_count": 45,
   "id": "17e0a254-76b4-42a3-b441-b88a6e3cdfa1",
   "metadata": {},
   "outputs": [],
   "source": [
    "def load_uc_datasets(filename: str):\n",
    "    # Read CSV file, skipping first row (dataset names row)\n",
    "    df = pd.read_csv(filename, skiprows=1)\n",
    "\n",
    "    # Temperature mapping\n",
    "    temp_map_uc = {\n",
    "        '300': '300°C',\n",
    "        '600': '600°C'\n",
    "    }\n",
    "\n",
    "    datasets_uc = {}\n",
    "\n",
    "    # Column mapping\n",
    "    temperatures = ['300', '600']\n",
    "    density_cols = [0, 2]   # X columns for density data\n",
    "    diameter_cols = [4, 6]  # X columns for diameter data\n",
    "\n",
    "    # Helper function to extract one dataset into DataFrame\n",
    "    def extract_dataframe(x_col, y_col, label):\n",
    "        x_data = pd.to_numeric(df.iloc[:, x_col], errors='coerce').dropna()\n",
    "        y_data = pd.to_numeric(df.iloc[:, y_col], errors='coerce').dropna()\n",
    "        min_len = min(len(x_data), len(y_data))\n",
    "        if min_len == 0:\n",
    "            return None\n",
    "        \n",
    "        x_vals = x_data.iloc[:min_len].values\n",
    "        y_vals = y_data.iloc[:min_len].values\n",
    "        \n",
    "        sorted_idx = np.argsort(x_vals)\n",
    "        x_sorted = x_vals[sorted_idx]\n",
    "        y_sorted = y_vals[sorted_idx]\n",
    "        \n",
    "        return pd.DataFrame({\n",
    "            \"X\": x_sorted,\n",
    "            \"Y\": y_sorted,\n",
    "            \"temp\": temp_map_uc[label]\n",
    "        })\n",
    "\n",
    "    # Extract density datasets\n",
    "    for i, temp in enumerate(temperatures):\n",
    "        result = extract_dataframe(density_cols[i], density_cols[i] + 1, temp)\n",
    "        if result is not None:\n",
    "            datasets_uc[f\"density_uc_{temp}\"] = result\n",
    "\n",
    "    # Extract diameter datasets\n",
    "    for i, temp in enumerate(temperatures):\n",
    "        result = extract_dataframe(diameter_cols[i], diameter_cols[i] + 1, temp)\n",
    "        if result is not None:\n",
    "            datasets_uc[f\"diameter_uc_{temp}\"] = result\n",
    "\n",
    "    return datasets_uc\n"
   ]
  },
  {
   "cell_type": "markdown",
   "id": "a619173a-607b-478e-84b8-4b49e20ef594",
   "metadata": {},
   "source": [
    "<h3>Plotting function</h3>"
   ]
  },
  {
   "cell_type": "code",
   "execution_count": 73,
   "id": "5e58105f-44ae-47a3-a989-55c8b5e3e622",
   "metadata": {},
   "outputs": [],
   "source": [
    "def interactive_plots(results, G_0):\n",
    "    time = results['time']\n",
    "    dose = time * G_0\n",
    "\n",
    "    # Ce Concentrations\n",
    "    fig1 = go.Figure()\n",
    "    fig1.add_trace(go.Scatter(x=time, y=results['C_U_v'],\n",
    "                              mode='lines', name='C<sub>U<sub>v<sub><sub>'))\n",
    "    fig1.add_trace(go.Scatter(x=time, y=results['C_U_i'],\n",
    "                              mode='lines', name='C<sub>U<sub>i<sub><sub>'))\n",
    "    fig1.update_layout(title=\"Vacancy Concentrations\",\n",
    "                       xaxis=dict(title=\"Time [s]\", type=\"log\",  exponentformat='power'),\n",
    "                       yaxis=dict(title=\"Concentration [cm<sup>-3</sup>]\", type=\"log\", exponentformat='power'),\n",
    "                       width=600, height=500)\n",
    "    fig1.show()\n",
    "\n",
    "    # O Concentrations\n",
    "    fig2 = go.Figure()\n",
    "    fig2.add_trace(go.Scatter(x=time, y=results['C_C_v'],\n",
    "                              mode='lines', name='C<sub>C<sub>v<sub><sub>'))\n",
    "    fig2.add_trace(go.Scatter(x=time, y=results['C_C_i'],\n",
    "                              mode='lines', name='C<sub>C<sub>i<sub>sub>'))\n",
    "    fig2.update_layout(title=\"Interstitial Concentrations\",\n",
    "                       xaxis=dict(title=\"Time [s]\", type=\"log\", exponentformat='power'),\n",
    "                       yaxis=dict(title=\"Concentration [cm<sup>-3</sup>]\", type=\"log\", exponentformat='power'),\n",
    "                       width=600, height=500)\n",
    "    fig2.show()\n",
    "\n",
    "    # Loop density\n",
    "    fig3 = go.Figure()\n",
    "    fig3.add_trace(go.Scatter(x=dose, y=results['N_L']*1e-15,\n",
    "                              mode='lines', name='N_L'))\n",
    "    fig3.update_layout(title=\"Dislocation Loop Density\",\n",
    "                       xaxis=dict(title=\"Dose [dpa]\"),\n",
    "                       yaxis=dict(title=\"Loop Density [ 10<sup>15</sup> cm<sup>-3</sup>] \"),\n",
    "                       width=600, height=500)\n",
    "    fig3.show()\n",
    "\n",
    "    # Loop radius\n",
    "    fig4 = go.Figure()\n",
    "    fig4.add_trace(go.Scatter(x=dose, y=results['R_L']*1e7,\n",
    "                              mode='lines', name='R_L'))\n",
    "    fig4.update_layout(title=\"Dislocation Loop Radius\",\n",
    "                       xaxis=dict(title=\"Dose [dpa]\"),\n",
    "                       yaxis=dict(title=\"Loop Radius [nm]\"),\n",
    "                       width=600, height=500)\n",
    "    fig4.show()"
   ]
  },
  {
   "cell_type": "markdown",
   "id": "fed6c88d-4d8e-4444-9697-e20b0f48b7a6",
   "metadata": {},
   "source": [
    "<h2>ODE System</h2>"
   ]
  },
  {
   "cell_type": "code",
   "execution_count": 74,
   "id": "28834d08-4009-43a1-9500-1b048d6d4472",
   "metadata": {},
   "outputs": [],
   "source": [
    "# ODE system for U and C\n",
    "def ODE_system(t, y, params):\n",
    "    C_U_v, C_C_v, C_U_i, C_C_i, N_L, R_L = y\n",
    "\n",
    "    # Parameters\n",
    "    G_U_v = params['G_U_v']\n",
    "    G_C_v = params['G_C_v']\n",
    "    G_U_i = params['G_U_i']\n",
    "    G_C_i = params['G_C_i']\n",
    "    a     = params['a']\n",
    "    Omega_0 = (a**3) /4\n",
    "    D_U_i = params['D_U_i']\n",
    "    D_C_i = params['D_C_i']\n",
    "    D_U_v = params['D_U_v']\n",
    "    D_C_v = params['D_C_v']\n",
    "    r0    = params['r0']\n",
    "    b     = a / np.sqrt(3)\n",
    "    alpha = params['alpha']\n",
    "    beta  = params['beta']\n",
    "    k_lf  = params['k_lf']\n",
    "\n",
    "    \n",
    "    eta   = Omega_0 / a**2\n",
    "    st    = 2 * pi * R_L * N_L\n",
    "\n",
    "    # Currents\n",
    "    j_L_i = 0\n",
    "    j_L_v = 0\n",
    "    j_ii = 0\n",
    "    \n",
    "    if C_U_i != 0 and C_C_i != 0:\n",
    "        j_L_i = compute_j_L_i(C_U_i, C_C_i, D_U_i, D_C_i, r0, R_L)\n",
    "        j_L_v = compute_j_L_v(C_U_v, C_C_v, D_U_v, D_C_v, r0, R_L)\n",
    "        j_ii  = compute_j_ii(C_U_i, C_C_i, D_U_i, D_C_i)\n",
    "        if j_L_i - j_L_v <= 0:\n",
    "            j_L_i = j_L_v = 0\n",
    "    \n",
    "    # Loop lifetime term\n",
    "    tau = loop_life_time_term(N_L, R_L, alpha, beta, k_lf)\n",
    "    \n",
    "    # Reaction rates\n",
    "    k_U = eta * (24 * D_U_i + 36 * D_U_v)\n",
    "    k_C = eta * (24 * D_C_i + 36 * D_C_v)\n",
    "\n",
    "    # Differential equations\n",
    "    dc = np.zeros(6)\n",
    "\n",
    "    # N_L evolution\n",
    "    dc[4] = 30 * eta * j_ii \n",
    "    \n",
    "    if tau != 0:\n",
    "        dc[4] -= N_L / tau\n",
    "\n",
    "    # R_L evolution\n",
    "    dc[5] = (2 * Omega_0) * (2 * pi * r0 / b) * (j_L_i - j_L_v) - (R_L/(2 * N_L)) * dc[4]\n",
    "\n",
    "    if dc[5] < 0 and R_L <= 2 * r0:\n",
    "        dc[5] = 0\n",
    "        \n",
    "    if dc[4] < 0 and N_L <= 0:\n",
    "        dc[4] = 0\n",
    "\n",
    "    # Vacancy and interstitial concentrations\n",
    "    dc[0] = G_U_v - k_U * C_U_v * C_U_i - pi * r0 * j_L_v * st #C_U_v\n",
    "    dc[1] = G_C_v - k_C * C_C_v * C_C_i - pi * r0 * j_L_v * st #C_C_v\n",
    "    dc[2] = G_U_i - k_U * C_U_i * C_U_v - pi * r0 * j_L_i * st - 30 * eta * j_ii #C_U_i\n",
    "    dc[3] = G_C_i - k_C * C_C_i * C_C_v - j_L_i * pi * r0 * st - 30 * eta * j_ii #C_U_i\n",
    "\n",
    "    return dc"
   ]
  },
  {
   "cell_type": "markdown",
   "id": "3fcc0f0c-794c-4c10-88e0-c0fd02a21840",
   "metadata": {},
   "source": [
    "<h2>Fit function</h2>"
   ]
  },
  {
   "cell_type": "code",
   "execution_count": 75,
   "id": "6d2c79f7-f458-486f-9742-82e7b3f7f910",
   "metadata": {},
   "outputs": [],
   "source": [
    "def fit_function(E_U_i, E_C_v, E_C_i, k_lf,\n",
    "                 dose_exp_R, dose_exp_N, y0, t_span, ode_params, G_0, t_eval):\n",
    "    \"\"\"\n",
    "    Returns concatenated model predictions for R_L and N_L \n",
    "    at doses corresponding to experimental data.\n",
    "    \"\"\"\n",
    "    # Diffusion prefactors\n",
    "    D_0_U_i, D_0_U_v, D_0_C_i, D_0_C_v = 0.1, 0.1, 0.1, 0.1\n",
    "    E_U_v = 5.0 #eV fixed\n",
    "\n",
    "    ode_params['D_U_i'] = D_Coeff(D_0_U_i, E_U_i, T)\n",
    "    ode_params['D_U_v'] = D_Coeff(D_0_U_v, E_U_v, T)\n",
    "    ode_params['D_C_i'] = D_Coeff(D_0_C_i, E_C_i, T)\n",
    "    ode_params['D_C_v'] = D_Coeff(D_0_C_v, E_C_v, T)\n",
    "    ode_params['k_lf']  = k_lf\n",
    "\n",
    "    sol = solve_ivp(\n",
    "        ODE_system, t_span, y0, args=(ode_params,),\n",
    "        method=\"BDF\", t_eval=t_eval, rtol=1e-6, atol=1e-9\n",
    "    )\n",
    "    \n",
    "    if not sol.success:\n",
    "        return np.full(len(dose_exp_R) + len(dose_exp_N), np.nan)\n",
    "\n",
    "    dose_model = sol.t * G_0\n",
    "\n",
    "    # Interpolate model onto experimental dose points\n",
    "    R_model = np.interp(dose_exp_R, dose_model, sol.y[5, :])  # R_L\n",
    "    N_model = np.interp(dose_exp_N, dose_model, sol.y[4, :])  # N_L\n",
    "\n",
    "    return np.concatenate([R_model, N_model])"
   ]
  },
  {
   "cell_type": "markdown",
   "id": "58a3894e-5652-412e-aa41-042971ff03de",
   "metadata": {},
   "source": [
    "<h2>Doing the fit</h2>\n",
    "<h3>Defining parameters</h3>"
   ]
  },
  {
   "cell_type": "code",
   "execution_count": 76,
   "id": "7f7788a8-7427-4c9f-b647-8607babee3d4",
   "metadata": {},
   "outputs": [],
   "source": [
    "# Parameters\n",
    "a = 488e-10   # cm\n",
    "N = 4\n",
    "Omega_0 = (a**3) / N\n",
    "b = a / np.sqrt(3)\n",
    "\n",
    "# Diffusion coefficients and migration energies for U and C\n",
    "D_0_U_v, D_0_U_i, D_0_C_v, D_0_C_i = 0.1, 0.1, 0.1, 0.1\n",
    "\n",
    "\n",
    "# Dose rate dpa/s\n",
    "G_0 = 8.75e-6\n",
    "# Ratio of U to C\n",
    "\n",
    "G_tot = G_0 / Omega_0\n",
    "G_U = G_tot \n",
    "G_C = G_U \n",
    "\n",
    "# Initial conditions\n",
    "t0 = 0.0001149\n",
    "y0 = [G_U * t0, G_C * t0, G_U * t0, G_C * t0, G_C * t0 * 1e-6, np.sqrt(N * Omega_0 / (pi * b))]\n",
    "\n",
    "# Total time from total dose\n",
    "G_0 = 8.75e-6\n",
    "dmg = 3.0   # dpa\n",
    "t_end = dmg / G_0\n",
    "t_span = (t0, t_end)\n",
    "t_eval = np.linspace(t0, t_end, 3000)\n",
    "\n",
    "ode_params = {\n",
    "    'G_U_v': G_U, 'G_C_v': G_C,\n",
    "    'G_U_i': G_U, 'G_C_i': G_C,\n",
    "    'a': a,\n",
    "    'D_0_U_i': D_0_U_i,\n",
    "    'D_0_U_v': D_0_U_v,\n",
    "    'D_0_C_i': D_0_C_i,\n",
    "    'D_0_C_v': D_0_C_v,\n",
    "    'r0': 4 * a,  \n",
    "    'alpha': 1,    \n",
    "    'beta': 1,     \n",
    "    'k_lf': 1.0    \n",
    "}\n"
   ]
  },
  {
   "cell_type": "code",
   "execution_count": 77,
   "id": "ea32857f-ec85-4628-9545-50ba23100724",
   "metadata": {},
   "outputs": [],
   "source": [
    "# Load datasets\n",
    "datasets_uc = load_uc_datasets(\"../../data/UC-UN/UC-diameter-density.csv\")\n",
    "\n",
    "# Pick 600°C datasets\n",
    "data_R = datasets_uc[\"diameter_uc_600\"]  # radius\n",
    "data_N = datasets_uc[\"density_uc_600\"]   # density\n",
    "\n",
    "dose_exp_R = data_R[\"X\"].values\n",
    "R_exp      = data_R[\"Y\"].values*1e-7\n",
    "\n",
    "dose_exp_N = data_N[\"X\"].values\n",
    "N_exp      = data_N[\"Y\"].values*1e21*1e-6\n",
    "\n",
    "\n"
   ]
  },
  {
   "cell_type": "code",
   "execution_count": 78,
   "id": "748d80a3-dbe4-42e6-a4da-b83e63d9fe90",
   "metadata": {},
   "outputs": [],
   "source": [
    "# Initial conditions\n",
    "t0 = 0.01149\n",
    "y0 = [G_U * t0, G_C * t0, G_U * t0, G_C * t0, G_C * t0 * 1e-6, np.sqrt(N * Omega_0 / (pi * b))]\n",
    "\n",
    "# Combine experimental data into one array\n",
    "data_all = np.concatenate([R_exp, N_exp])\n",
    "\n",
    "data_all = data_all "
   ]
  },
  {
   "cell_type": "code",
   "execution_count": 79,
   "id": "941b8e9a-9e93-443e-8c41-2b31faa68e14",
   "metadata": {},
   "outputs": [
    {
     "name": "stdout",
     "output_type": "stream",
     "text": [
      "Best fit parameters:\n",
      "E_U_v = 5 eV - fixed\n",
      "E_U_i = 0.970 eV\n",
      "E_C_v = 0.970 eV\n",
      "E_C_i = 0.974 eV\n",
      "k_lf  = 1.360e+01\n"
     ]
    }
   ],
   "source": [
    "# Initial guess and bounds\n",
    "p0 = [1.0, 1.0, 1.0, 1.0]  # [E_U_i, E_C_v, E_C_i, k_lf]\n",
    "bounds = ([0.1, 0.1, 0.1, 0.0], [5.0, 5.0, 5.0, 10e12])\n",
    "\n",
    "# Perform fit\n",
    "popt, pcov = curve_fit(\n",
    "    lambda _, E_U_i, E_C_v, E_C_i, k_lf: fit_function(\n",
    "        E_U_i, E_C_v, E_C_i, k_lf,\n",
    "        dose_exp_R, dose_exp_N, y0, t_span, ode_params.copy(), G_0, t_eval\n",
    "    ),\n",
    "    xdata=np.zeros_like(data_all),\n",
    "    ydata=data_all,\n",
    "    p0=p0,\n",
    "    bounds=bounds\n",
    ")\n",
    "\n",
    "\n",
    "print(\"Best fit parameters:\")\n",
    "print(f\"E_U_v = 5 eV - fixed\")\n",
    "print(f\"E_U_i = {popt[0]:.3f} eV\")\n",
    "print(f\"E_C_v = {popt[1]:.3f} eV\")\n",
    "print(f\"E_C_i = {popt[2]:.3f} eV\")\n",
    "print(f\"k_lf  = {popt[3]:.3e}\")\n"
   ]
  },
  {
   "cell_type": "code",
   "execution_count": 80,
   "id": "e038bd2e-2953-4b0f-83d9-024d77e6fb2c",
   "metadata": {},
   "outputs": [],
   "source": [
    "# Update params with best fit\n",
    "ode_params_fit = ode_params.copy()\n",
    "ode_params_fit['D_U_v'] = D_Coeff(0.1, 5, T)\n",
    "ode_params_fit['D_U_i'] = D_Coeff(0.1, popt[0], T)\n",
    "ode_params_fit['D_C_i'] = D_Coeff(0.1, popt[1], T)\n",
    "ode_params_fit['D_C_v'] = D_Coeff(0.1, popt[2], T)\n",
    "ode_params_fit['k_lf']  = popt[3]\n",
    "\n",
    "# Solve ODE again\n",
    "sol_fit = solve_ivp(\n",
    "    ODE_system, t_span, y0, args=(ode_params_fit,),\n",
    "    method=\"BDF\", t_eval=t_eval, rtol=1e-6, atol=1e-9\n",
    ")\n",
    "\n",
    "results = {\n",
    "    'time': sol_fit.t,\n",
    "    'C_U_v': sol_fit.y[0],\n",
    "    'C_U_i': sol_fit.y[2],\n",
    "    'C_C_v': sol_fit.y[1],\n",
    "    'C_C_i': sol_fit.y[3],\n",
    "    'N_L': sol_fit.y[4],\n",
    "    'R_L': sol_fit.y[5]\n",
    "}"
   ]
  },
  {
   "cell_type": "code",
   "execution_count": 81,
   "id": "cf1dfe78-fc25-4146-aad4-302510006e52",
   "metadata": {},
   "outputs": [
    {
     "data": {
      "application/vnd.plotly.v1+json": {
       "config": {
        "plotlyServerURL": "https://plot.ly"
       },
       "data": [
        {
         "mode": "lines",
         "name": "C<sub>U<sub>v<sub><sub>",
         "type": "scatter",
         "x": {
          "bdata": "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",
          "dtype": "f8"
         },
         "y": {
          "bdata": "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",
          "dtype": "f8"
         }
        },
        {
         "mode": "lines",
         "name": "C<sub>U<sub>i<sub><sub>",
         "type": "scatter",
         "x": {
          "bdata": "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",
          "dtype": "f8"
         },
         "y": {
          "bdata": "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",
          "dtype": "f8"
         }
        }
       ],
       "layout": {
        "height": 500,
        "template": {
         "data": {
          "bar": [
           {
            "error_x": {
             "color": "#2a3f5f"
            },
            "error_y": {
             "color": "#2a3f5f"
            },
            "marker": {
             "line": {
              "color": "#E5ECF6",
              "width": 0.5
             },
             "pattern": {
              "fillmode": "overlay",
              "size": 10,
              "solidity": 0.2
             }
            },
            "type": "bar"
           }
          ],
          "barpolar": [
           {
            "marker": {
             "line": {
              "color": "#E5ECF6",
              "width": 0.5
             },
             "pattern": {
              "fillmode": "overlay",
              "size": 10,
              "solidity": 0.2
             }
            },
            "type": "barpolar"
           }
          ],
          "carpet": [
           {
            "aaxis": {
             "endlinecolor": "#2a3f5f",
             "gridcolor": "white",
             "linecolor": "white",
             "minorgridcolor": "white",
             "startlinecolor": "#2a3f5f"
            },
            "baxis": {
             "endlinecolor": "#2a3f5f",
             "gridcolor": "white",
             "linecolor": "white",
             "minorgridcolor": "white",
             "startlinecolor": "#2a3f5f"
            },
            "type": "carpet"
           }
          ],
          "choropleth": [
           {
            "colorbar": {
             "outlinewidth": 0,
             "ticks": ""
            },
            "type": "choropleth"
           }
          ],
          "contour": [
           {
            "colorbar": {
             "outlinewidth": 0,
             "ticks": ""
            },
            "colorscale": [
             [
              0,
              "#0d0887"
             ],
             [
              0.1111111111111111,
              "#46039f"
             ],
             [
              0.2222222222222222,
              "#7201a8"
             ],
             [
              0.3333333333333333,
              "#9c179e"
             ],
             [
              0.4444444444444444,
              "#bd3786"
             ],
             [
              0.5555555555555556,
              "#d8576b"
             ],
             [
              0.6666666666666666,
              "#ed7953"
             ],
             [
              0.7777777777777778,
              "#fb9f3a"
             ],
             [
              0.8888888888888888,
              "#fdca26"
             ],
             [
              1,
              "#f0f921"
             ]
            ],
            "type": "contour"
           }
          ],
          "contourcarpet": [
           {
            "colorbar": {
             "outlinewidth": 0,
             "ticks": ""
            },
            "type": "contourcarpet"
           }
          ],
          "heatmap": [
           {
            "colorbar": {
             "outlinewidth": 0,
             "ticks": ""
            },
            "colorscale": [
             [
              0,
              "#0d0887"
             ],
             [
              0.1111111111111111,
              "#46039f"
             ],
             [
              0.2222222222222222,
              "#7201a8"
             ],
             [
              0.3333333333333333,
              "#9c179e"
             ],
             [
              0.4444444444444444,
              "#bd3786"
             ],
             [
              0.5555555555555556,
              "#d8576b"
             ],
             [
              0.6666666666666666,
              "#ed7953"
             ],
             [
              0.7777777777777778,
              "#fb9f3a"
             ],
             [
              0.8888888888888888,
              "#fdca26"
             ],
             [
              1,
              "#f0f921"
             ]
            ],
            "type": "heatmap"
           }
          ],
          "histogram": [
           {
            "marker": {
             "pattern": {
              "fillmode": "overlay",
              "size": 10,
              "solidity": 0.2
             }
            },
            "type": "histogram"
           }
          ],
          "histogram2d": [
           {
            "colorbar": {
             "outlinewidth": 0,
             "ticks": ""
            },
            "colorscale": [
             [
              0,
              "#0d0887"
             ],
             [
              0.1111111111111111,
              "#46039f"
             ],
             [
              0.2222222222222222,
              "#7201a8"
             ],
             [
              0.3333333333333333,
              "#9c179e"
             ],
             [
              0.4444444444444444,
              "#bd3786"
             ],
             [
              0.5555555555555556,
              "#d8576b"
             ],
             [
              0.6666666666666666,
              "#ed7953"
             ],
             [
              0.7777777777777778,
              "#fb9f3a"
             ],
             [
              0.8888888888888888,
              "#fdca26"
             ],
             [
              1,
              "#f0f921"
             ]
            ],
            "type": "histogram2d"
           }
          ],
          "histogram2dcontour": [
           {
            "colorbar": {
             "outlinewidth": 0,
             "ticks": ""
            },
            "colorscale": [
             [
              0,
              "#0d0887"
             ],
             [
              0.1111111111111111,
              "#46039f"
             ],
             [
              0.2222222222222222,
              "#7201a8"
             ],
             [
              0.3333333333333333,
              "#9c179e"
             ],
             [
              0.4444444444444444,
              "#bd3786"
             ],
             [
              0.5555555555555556,
              "#d8576b"
             ],
             [
              0.6666666666666666,
              "#ed7953"
             ],
             [
              0.7777777777777778,
              "#fb9f3a"
             ],
             [
              0.8888888888888888,
              "#fdca26"
             ],
             [
              1,
              "#f0f921"
             ]
            ],
            "type": "histogram2dcontour"
           }
          ],
          "mesh3d": [
           {
            "colorbar": {
             "outlinewidth": 0,
             "ticks": ""
            },
            "type": "mesh3d"
           }
          ],
          "parcoords": [
           {
            "line": {
             "colorbar": {
              "outlinewidth": 0,
              "ticks": ""
             }
            },
            "type": "parcoords"
           }
          ],
          "pie": [
           {
            "automargin": true,
            "type": "pie"
           }
          ],
          "scatter": [
           {
            "fillpattern": {
             "fillmode": "overlay",
             "size": 10,
             "solidity": 0.2
            },
            "type": "scatter"
           }
          ],
          "scatter3d": [
           {
            "line": {
             "colorbar": {
              "outlinewidth": 0,
              "ticks": ""
             }
            },
            "marker": {
             "colorbar": {
              "outlinewidth": 0,
              "ticks": ""
             }
            },
            "type": "scatter3d"
           }
          ],
          "scattercarpet": [
           {
            "marker": {
             "colorbar": {
              "outlinewidth": 0,
              "ticks": ""
             }
            },
            "type": "scattercarpet"
           }
          ],
          "scattergeo": [
           {
            "marker": {
             "colorbar": {
              "outlinewidth": 0,
              "ticks": ""
             }
            },
            "type": "scattergeo"
           }
          ],
          "scattergl": [
           {
            "marker": {
             "colorbar": {
              "outlinewidth": 0,
              "ticks": ""
             }
            },
            "type": "scattergl"
           }
          ],
          "scattermap": [
           {
            "marker": {
             "colorbar": {
              "outlinewidth": 0,
              "ticks": ""
             }
            },
            "type": "scattermap"
           }
          ],
          "scattermapbox": [
           {
            "marker": {
             "colorbar": {
              "outlinewidth": 0,
              "ticks": ""
             }
            },
            "type": "scattermapbox"
           }
          ],
          "scatterpolar": [
           {
            "marker": {
             "colorbar": {
              "outlinewidth": 0,
              "ticks": ""
             }
            },
            "type": "scatterpolar"
           }
          ],
          "scatterpolargl": [
           {
            "marker": {
             "colorbar": {
              "outlinewidth": 0,
              "ticks": ""
             }
            },
            "type": "scatterpolargl"
           }
          ],
          "scatterternary": [
           {
            "marker": {
             "colorbar": {
              "outlinewidth": 0,
              "ticks": ""
             }
            },
            "type": "scatterternary"
           }
          ],
          "surface": [
           {
            "colorbar": {
             "outlinewidth": 0,
             "ticks": ""
            },
            "colorscale": [
             [
              0,
              "#0d0887"
             ],
             [
              0.1111111111111111,
              "#46039f"
             ],
             [
              0.2222222222222222,
              "#7201a8"
             ],
             [
              0.3333333333333333,
              "#9c179e"
             ],
             [
              0.4444444444444444,
              "#bd3786"
             ],
             [
              0.5555555555555556,
              "#d8576b"
             ],
             [
              0.6666666666666666,
              "#ed7953"
             ],
             [
              0.7777777777777778,
              "#fb9f3a"
             ],
             [
              0.8888888888888888,
              "#fdca26"
             ],
             [
              1,
              "#f0f921"
             ]
            ],
            "type": "surface"
           }
          ],
          "table": [
           {
            "cells": {
             "fill": {
              "color": "#EBF0F8"
             },
             "line": {
              "color": "white"
             }
            },
            "header": {
             "fill": {
              "color": "#C8D4E3"
             },
             "line": {
              "color": "white"
             }
            },
            "type": "table"
           }
          ]
         },
         "layout": {
          "annotationdefaults": {
           "arrowcolor": "#2a3f5f",
           "arrowhead": 0,
           "arrowwidth": 1
          },
          "autotypenumbers": "strict",
          "coloraxis": {
           "colorbar": {
            "outlinewidth": 0,
            "ticks": ""
           }
          },
          "colorscale": {
           "diverging": [
            [
             0,
             "#8e0152"
            ],
            [
             0.1,
             "#c51b7d"
            ],
            [
             0.2,
             "#de77ae"
            ],
            [
             0.3,
             "#f1b6da"
            ],
            [
             0.4,
             "#fde0ef"
            ],
            [
             0.5,
             "#f7f7f7"
            ],
            [
             0.6,
             "#e6f5d0"
            ],
            [
             0.7,
             "#b8e186"
            ],
            [
             0.8,
             "#7fbc41"
            ],
            [
             0.9,
             "#4d9221"
            ],
            [
             1,
             "#276419"
            ]
           ],
           "sequential": [
            [
             0,
             "#0d0887"
            ],
            [
             0.1111111111111111,
             "#46039f"
            ],
            [
             0.2222222222222222,
             "#7201a8"
            ],
            [
             0.3333333333333333,
             "#9c179e"
            ],
            [
             0.4444444444444444,
             "#bd3786"
            ],
            [
             0.5555555555555556,
             "#d8576b"
            ],
            [
             0.6666666666666666,
             "#ed7953"
            ],
            [
             0.7777777777777778,
             "#fb9f3a"
            ],
            [
             0.8888888888888888,
             "#fdca26"
            ],
            [
             1,
             "#f0f921"
            ]
           ],
           "sequentialminus": [
            [
             0,
             "#0d0887"
            ],
            [
             0.1111111111111111,
             "#46039f"
            ],
            [
             0.2222222222222222,
             "#7201a8"
            ],
            [
             0.3333333333333333,
             "#9c179e"
            ],
            [
             0.4444444444444444,
             "#bd3786"
            ],
            [
             0.5555555555555556,
             "#d8576b"
            ],
            [
             0.6666666666666666,
             "#ed7953"
            ],
            [
             0.7777777777777778,
             "#fb9f3a"
            ],
            [
             0.8888888888888888,
             "#fdca26"
            ],
            [
             1,
             "#f0f921"
            ]
           ]
          },
          "colorway": [
           "#636efa",
           "#EF553B",
           "#00cc96",
           "#ab63fa",
           "#FFA15A",
           "#19d3f3",
           "#FF6692",
           "#B6E880",
           "#FF97FF",
           "#FECB52"
          ],
          "font": {
           "color": "#2a3f5f"
          },
          "geo": {
           "bgcolor": "white",
           "lakecolor": "white",
           "landcolor": "#E5ECF6",
           "showlakes": true,
           "showland": true,
           "subunitcolor": "white"
          },
          "hoverlabel": {
           "align": "left"
          },
          "hovermode": "closest",
          "mapbox": {
           "style": "light"
          },
          "paper_bgcolor": "white",
          "plot_bgcolor": "#E5ECF6",
          "polar": {
           "angularaxis": {
            "gridcolor": "white",
            "linecolor": "white",
            "ticks": ""
           },
           "bgcolor": "#E5ECF6",
           "radialaxis": {
            "gridcolor": "white",
            "linecolor": "white",
            "ticks": ""
           }
          },
          "scene": {
           "xaxis": {
            "backgroundcolor": "#E5ECF6",
            "gridcolor": "white",
            "gridwidth": 2,
            "linecolor": "white",
            "showbackground": true,
            "ticks": "",
            "zerolinecolor": "white"
           },
           "yaxis": {
            "backgroundcolor": "#E5ECF6",
            "gridcolor": "white",
            "gridwidth": 2,
            "linecolor": "white",
            "showbackground": true,
            "ticks": "",
            "zerolinecolor": "white"
           },
           "zaxis": {
            "backgroundcolor": "#E5ECF6",
            "gridcolor": "white",
            "gridwidth": 2,
            "linecolor": "white",
            "showbackground": true,
            "ticks": "",
            "zerolinecolor": "white"
           }
          },
          "shapedefaults": {
           "line": {
            "color": "#2a3f5f"
           }
          },
          "ternary": {
           "aaxis": {
            "gridcolor": "white",
            "linecolor": "white",
            "ticks": ""
           },
           "baxis": {
            "gridcolor": "white",
            "linecolor": "white",
            "ticks": ""
           },
           "bgcolor": "#E5ECF6",
           "caxis": {
            "gridcolor": "white",
            "linecolor": "white",
            "ticks": ""
           }
          },
          "title": {
           "x": 0.05
          },
          "xaxis": {
           "automargin": true,
           "gridcolor": "white",
           "linecolor": "white",
           "ticks": "",
           "title": {
            "standoff": 15
           },
           "zerolinecolor": "white",
           "zerolinewidth": 2
          },
          "yaxis": {
           "automargin": true,
           "gridcolor": "white",
           "linecolor": "white",
           "ticks": "",
           "title": {
            "standoff": 15
           },
           "zerolinecolor": "white",
           "zerolinewidth": 2
          }
         }
        },
        "title": {
         "text": "Vacancy Concentrations"
        },
        "width": 600,
        "xaxis": {
         "exponentformat": "power",
         "title": {
          "text": "Time [s]"
         },
         "type": "log"
        },
        "yaxis": {
         "exponentformat": "power",
         "title": {
          "text": "Concentration [cm<sup>-3</sup>]"
         },
         "type": "log"
        }
       }
      },
      "image/png": "[encoded data removed]"
     },
     "metadata": {},
     "output_type": "display_data"
    },
    {
     "data": {
      "application/vnd.plotly.v1+json": {
       "config": {
        "plotlyServerURL": "https://plot.ly"
       },
       "data": [
        {
         "mode": "lines",
         "name": "C<sub>C<sub>v<sub><sub>",
         "type": "scatter",
         "x": {
          "bdata": "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",
          "dtype": "f8"
         },
         "y": {
          "bdata": "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",
          "dtype": "f8"
         }
        },
        {
         "mode": "lines",
         "name": "C<sub>C<sub>i<sub>sub>",
         "type": "scatter",
         "x": {
          "bdata": "rjcg+M4eHj944p9iu5RcQLdqqXG6lGxAGXIBmYtvdUDXLi75uZR8QMp1rSz03IFAKNTDXItvhUCHMtqMIgKJQOaQ8Ly5lIxAoneDdqgTkEDSpo4O9NyRQAHWmaY/ppNAMAWlPotvlUBgNLDW1jiXQI9ju24iAplAv5LGBm7LmkDuwdGeuZScQB3x3DYFXp5AJhB0Z6gToEC+p3kzTvigQFY/f//z3KFA7daEy5nBokCFboqXP6ajQB0GkGPliqRAtJ2VL4tvpUBMNZv7MFSmQOTMoMfWOKdAfGSmk3wdqEAT/KtfIgKpQKuTsSvI5qlAQyu3923LqkDawrzDE7CrQHJawo+5lKxACvLHW195rUChic0nBV6uQDkh0/OqQq9AaFzsX6gTsEA0KO9F+4WwQAD08StO+LBAzL/0EaFqsUCYi/f389yxQGRX+t1GT7JALyP9w5nBskD77v+p7DOzQMe6ApA/prNAk4YFdpIYtEBfUghc5Yq0QCseC0I4/bRA9ukNKItvtUDCtRAO3uG1QI6BE/QwVLZAWk0W2oPGtkAmGRnA1ji3QPLkG6Ypq7dAvrAejHwduECJfCFyz4+4QFVIJFgiArlAIRQnPnV0uUDt3ykkyOa5QLmrLAobWbpAhXcv8G3LukBQQzLWwD27QBwPNbwTsLtA6No3omYivEC0pjqIuZS8QIByPW4MB71ATD5AVF95vUAYCkM6suu9QOPVRSAFXr5Ar6FIBljQvkB7bUvsqkK/QEc5TtL9tL9AiYIoXKgTwEBv6CnP0UzAQFVOK0L7hcBAO7QstSS/wEAhGi4oTvjAQAeAL5t3McFA7eUwDqFqwUDTSzKByqPBQLmxM/Tz3MFAnxc1Zx0WwkCFfTbaRk/CQGvjN01wiMJAUEk5wJnBwkA2rzozw/rCQBwVPKbsM8NAAns9GRZtw0Do4D6MP6bDQM5GQP9o38NAtKxBcpIYxECaEkPlu1HEQIB4RFjlisRAZt5Fyw7ExEBMREc+OP3EQDKqSLFhNsVAFxBKJItvxUD9dUuXtKjFQOPbTAre4cVAyUFOfQcbxkCvp0/wMFTGQJUNUWNajcZAe3NS1oPGxkBh2VNJrf/GQEc/VbzWOMdALaVWLwByx0ATC1iiKavHQPlwWRVT5MdA39ZaiHwdyEDEPFz7pVbIQKqiXW7Pj8hAkAhf4fjIyEB2bmBUIgLJQFzUYcdLO8lAQjpjOnV0yUAooGStnq3JQA4GZiDI5slA9Gtnk/EfykDa0WgGG1nKQMA3anlEkspApp1r7G3LykCMA21flwTLQHFpbtLAPctAV89vRep2y0A9NXG4E7DLQCObcis96ctACQF0nmYizEDvZnURkFvMQNXMdoS5lMxAuzJ49+LNzEChmHlqDAfNQIf+et01QM1AbWR8UF95zUBTyn3DiLLNQDkwfzay681AHpaAqdskzkAE/IEcBV7OQOphg48ul85A0MeEAljQzkC2LYZ1gQnPQJyTh+iqQs9AgvmIW9R7z0BoX4rO/bTPQE7Fi0En7s9AmpVGWqgT0ECNSMcTPTDQQID7R83RTNBAc67IhmZp0EBmYUlA+4XQQFkUyvmPotBATMdKsyS/0EA/estsudvQQDItTCZO+NBAJeDM3+IU0UAYk02ZdzHRQAtGzlIMTtFA/vhODKFq0UDxq8/FNYfRQOReUH/Ko9FA1xHROF/A0UDKxFHy89zRQL130quI+dFAsCpTZR0W0kCj3dMesjLSQJaQVNhGT9JAiUPVkdtr0kB89lVLcIjSQG6p1gQFpdJAYVxXvpnB0kBUD9h3Lt7SQEfCWDHD+tJAOnXZ6lcX00AtKFqk7DPTQCDb2l2BUNNAE45bFxZt00AGQdzQqonTQPnzXIo/ptNA7KbdQ9TC00DfWV79aN/TQNIM37b9+9NAxb9fcJIY1EC4cuApJzXUQKslYeO7UdRAntjhnFBu1ECRi2JW5YrUQIQ+4w96p9RAd/FjyQ7E1EBqpOSCo+DUQF1XZTw4/dRAUArm9cwZ1UBDvWavYTbVQDZw52j2UtVAKCNoIotv1UAb1ujbH4zVQA6JaZW0qNVAATzqTknF1UD07moI3uHVQOeh68Fy/tVA2lRsewcb1kDNB+00nDfWQMC6be4wVNZAs23up8Vw1kCmIG9hWo3WQJnT7xrvqdZAjIZw1IPG1kB/OfGNGOPWQHLscUet/9ZAZZ/yAEIc10BYUnO61jjXQEsF9HNrVddAPrh0LQBy10Axa/XmlI7XQCQedqApq9dAF9H2Wb7H10AKhHcTU+TXQP02+MznANhA8Ol4hnwd2EDjnPk/ETrYQNVPevmlVthAyAL7sjpz2EC7tXtsz4/YQK5o/CVkrNhAoRt93/jI2ECUzv2YjeXYQIeBflIiAtlAejT/C7ce2UBt53/FSzvZQGCaAH/gV9lAU02BOHV02UBGAALyCZHZQDmzgquerdlALGYDZTPK2UAfGYQeyObZQBLMBNhcA9pABX+FkfEf2kD4MQZLhjzaQOvkhgQbWdpA3pcHvq912kDRSoh3RJLaQMT9CDHZrtpAt7CJ6m3L2kCqYwqkAujaQJ0Wi12XBNtAkMkLFywh20CCfIzQwD3bQHUvDYpVWttAaOKNQ+p220BblQ79fpPbQE5Ij7YTsNtAQfsPcKjM20A0rpApPenbQCdhEePRBdxAGhSSnGYi3EANxxJW+z7cQAB6kw+QW9xA8ywUySR43EDm35SCuZTcQNmSFTxOsdxAzEWW9eLN3EC/+Bavd+rcQLKrl2gMB91ApV4YIqEj3UCYEZnbNUDdQIvEGZXKXN1AfneaTl953UBxKhsI9JXdQGTdm8GIst1AV5Acex3P3UBKQ500suvdQDz2He5GCN5AL6mep9sk3kAiXB9hcEHeQBUPoBoFXt5ACMIg1Jl63kD7dKGNLpfeQO4nIkfDs95A4dqiAFjQ3kDUjSO67OzeQMdApHOBCd9AuvMkLRYm30CtpqXmqkLfQKBZJqA/X99AkwynWdR730CGvycTaZjfQHlyqMz9tN9AbCUphpLR30Bf2Kk/J+7fQKlFlfxdBeBAIp9VWagT4ECc+BW28iHgQBVS1hI9MOBAj6uWb4c+4EAIBVfM0UzgQIJeFykcW+BA+7fXhWZp4EB1EZjisHfgQO5qWD/7heBAaMQYnEWU4EDhHdn4j6LgQFt3mVXasOBA1NBZsiS/4EBOKhoPb83gQMeD2mu52+BAQd2ayAPq4EC6NlslTvjgQDSQG4KYBuFArenb3uIU4UAnQ5w7LSPhQKCcXJh3MeFAGfYc9cE/4UCTT91RDE7hQAypna5WXOFAhgJeC6Fq4UD/Wx5o63jhQHm13sQ1h+FA8g6fIYCV4UBsaF9+yqPhQOXBH9sUsuFAXxvgN1/A4UDYdKCUqc7hQFLOYPHz3OFAyychTj7r4UBFgeGqiPnhQL7aoQfTB+JAODRiZB0W4kCxjSLBZyTiQCvn4h2yMuJApECjevxA4kAemmPXRk/iQJfzIzSRXeJAEU3kkNtr4kCKpqTtJXriQAQAZUpwiOJAfVklp7qW4kD2suUDBaXiQHAMpmBPs+JA6WVmvZnB4kBjvyYa5M/iQNwY53Yu3uJAVnKn03js4kDPy2cww/riQEklKI0NCeNAwn7o6VcX40A82KhGoiXjQLUxaaPsM+NAL4spADdC40Co5OlcgVDjQCI+qrnLXuNAm5dqFhZt40AV8SpzYHvjQI5K68+qieNACKSrLPWX40CB/WuJP6bjQPtWLOaJtONAdLDsQtTC40DuCa2fHtHjQGdjbfxo3+NA4bwtWbPt40BaFu61/fvjQNNvrhJICuRATclub5IY5EDGIi/M3CbkQEB87ygnNeRAudWvhXFD5EAzL3Diu1HkQKyIMD8GYORAJuLwm1Bu5ECfO7H4mnzkQBmVcVXliuRAku4xsi+Z5EAMSPIOeqfkQIWhsmvEteRA//pyyA7E5EB4VDMlWdLkQPKt84Gj4ORAawe03u3u5EDlYHQ7OP3kQF66NJiCC+VA2BP19MwZ5UBRbbVRFyjlQMvGda5hNuVARCA2C6xE5UC+efZn9lLlQDfTtsRAYeVAsCx3IYtv5UAqhjd+1X3lQKPf99ofjOVAHTm4N2qa5UCWkniUtKjlQBDsOPH+tuVAiUX5TUnF5UADn7mqk9PlQHz4eQfe4eVA9lE6ZCjw5UBvq/rAcv7lQOkEux29DOZAYl57egcb5kDctzvXUSnmQFUR/DOcN+ZAz2q8kOZF5kBIxHztMFTmQMIdPUp7YuZAO3f9psVw5kC10L0DEH/mQC4qfmBajeZAqIM+vaSb5kAh3f4Z76nmQJs2v3Y5uOZAFJB/04PG5kCO6T8wztTmQAdDAI0Y4+ZAgJzA6WLx5kD69YBGrf/mQHNPQaP3DedA7agBAEIc50BmAsJcjCrnQOBbgrnWOOdAWbVCFiFH50DTDgNza1XnQExow8+1Y+dAxsGDLABy50A/G0SJSoDnQLl0BOaUjudAMs7EQt+c50CsJ4WfKavnQCWBRfxzuedAn9oFWb7H50AYNMa1CNbnQJKNhhJT5OdAC+dGb53y50CFQAfM5wDoQP6ZxygyD+hAePOHhXwd6EDxTEjixivoQGumCD8ROuhA5P/Im1tI6EBdWYn4pVboQNeySVXwZOhAUAwKsjpz6EDKZcoOhYHoQEO/imvPj+hAvRhLyBme6EA2cgslZKzoQLDLy4GuuuhAKSWM3vjI6ECjfkw7Q9foQBzYDJiN5ehAljHN9Nfz6EAPi41RIgLpQInkTa5sEOlAAj4OC7ce6UB8l85nAS3pQPXwjsRLO+lAb0pPIZZJ6UDoow9+4FfpQGL9z9oqZulA21aQN3V06UBVsFCUv4LpQM4JEfEJkelASGPRTVSf6UDBvJGqnq3pQDoWUgfpu+lAtG8SZDPK6UAtydLAfdjpQKcikx3I5ulAIHxTehL16UCa1RPXXAPqQBMv1DOnEepAjYiUkPEf6kAG4lTtOy7qQIA7FUqGPOpA+ZTVptBK6kBz7pUDG1nqQOxHVmBlZ+pAZqEWva916kDf+tYZ+oPqQFlUl3ZEkupA0q1X046g6kBMBxgw2a7qQMVg2IwjvepAP7qY6W3L6kC4E1lGuNnqQDJtGaMC6OpAq8bZ/0z26kAlIJpclwTrQJ55WrnhEutAGNMaFiwh60CRLNtydi/rQAqGm8/APetAhN9bLAtM60D9OByJVVrrQHeS3OWfaOtA8OucQup260BqRV2fNIXrQOOeHfx+k+tAXfjdWMmh60DWUZ61E7DrQFCrXhJevutAyQQfb6jM60BDXt/L8trrQLy3nyg96etANhFghYf360CvaiDi0QXsQCnE4D4cFOxAoh2hm2Yi7EAcd2H4sDDsQJXQIVX7PuxADyrisUVN7ECIg6IOkFvsQALdYmvaaexAezYjyCR47ED1j+Mkb4bsQG7po4G5lOxA50Jk3gOj7EBhnCQ7TrHsQNr15JeYv+xAVE+l9OLN7EDNqGVRLdzsQEcCJq536uxAwFvmCsL47EA6taZnDAftQLMOZ8RWFe1ALWgnIaEj7UCmwed96zHtQCAbqNo1QO1AmXRoN4BO7UATziiUylztQIwn6fAUa+1ABoGpTV957UB/2mmqqYftQPkzKgf0le1Aco3qYz6k7UDs5qrAiLLtQGVAax3TwO1A35kreh3P7UBY8+vWZ93tQNJMrDOy6+1AS6ZskPz57UDE/yztRgjuQD5Z7UmRFu5At7Ktptsk7kAxDG4DJjPuQKplLmBwQe5AJL/uvLpP7kCdGK8ZBV7uQBdyb3ZPbO5AkMsv05l67kAKJfAv5IjuQIN+sIwul+5A/ddw6Xil7kB2MTFGw7PuQPCK8aINwu5AaeSx/1fQ7kDjPXJcot7uQFyXMrns7O5A1vDyFTf77kBPSrNygQnvQMmjc8/LF+9AQv0zLBYm70C8VvSIYDTvQDWwtOWqQu9Arwl1QvVQ70AoYzWfP1/vQKK89fuJbe9AGxa2WNR770CUb3a1HorvQA7JNhJpmO9AhyL3brOm70ABfLfL/bTvQHrVdyhIw+9A9C44hZLR70BtiPjh3N/vQOfhuD4n7u9AYDt5m3H870Btyhz8XQXwQCr3fCqDDPBA5iPdWKgT8ECjUD2HzRrwQGB9nbXyIfBAHar94xcp8EDZ1l0SPTDwQJYDvkBiN/BAUzAeb4c+8EAQXX6drEXwQMyJ3svRTPBAibY++vZT8EBG454oHFvwQAMQ/1ZBYvBAvzxfhWZp8EB8ab+zi3DwQDmWH+Kwd/BA9cJ/ENZ+8ECy798++4XwQG8cQG0gjfBALEmgm0WU8EDodQDKapvwQKWiYPiPovBAYs/AJrWp8EAf/CBV2rDwQNsogYP/t/BAmFXhsSS/8EBVgkHgScbwQBKvoQ5vzfBAztsBPZTU8ECLCGJrudvwQEg1wpne4vBABWIiyAPq8EDBjoL2KPHwQH674iRO+PBAO+hCU3P/8ED4FKOBmAbxQLRBA7C9DfFAcW5j3uIU8UAum8MMCBzxQOvHIzstI/FAp/SDaVIq8UBkIeSXdzHxQCFORMacOPFA3Xqk9ME/8UCapwQj50bxQFfUZFEMTvFAFAHFfzFV8UDQLSWuVlzxQI1ahdx7Y/FASoflCqFq8UAHtEU5xnHxQMPgpWfrePFAgA0GlhCA8UA9OmbENYfxQPpmxvJajvFAtpMmIYCV8UBzwIZPpZzxQDDt5n3Ko/FA7RlHrO+q8UCpRqfaFLLxQGZzBwk6ufFAI6BnN1/A8UDgzMdlhMfxQJz5J5SpzvFAWSaIws7V8UAWU+jw89zxQNJ/SB8Z5PFAj6yoTT7r8UBM2Qh8Y/LxQAkGaaqI+fFAxTLJ2K0A8kCCXykH0wfyQD+MiTX4DvJA/LjpYx0W8kC45UmSQh3yQHUSqsBnJPJAMj8K74wr8kDva2odsjLyQKuYykvXOfJAaMUqevxA8kAl8oqoIUjyQOIe69ZGT/JAnktLBWxW8kBbeKszkV3yQBilC2K2ZPJA1dFrkNtr8kCR/su+AHPyQE4rLO0levJAC1iMG0uB8kDIhOxJcIjyQISxTHiVj/JAQd6sprqW8kD+Cg3V353yQLo3bQMFpfJAd2TNMSqs8kA0kS1gT7PyQPG9jY50uvJArertvJnB8kBqF07rvsjyQCdErhnkz/JA5HAOSAnX8kCgnW52Lt7yQF3KzqRT5fJAGvcu03js8kDXI48BnvPyQJNQ7y/D+vJAUH1PXugB80ANqq+MDQnzQMrWD7syEPNAhgNw6VcX80BDMNAXfR7zQABdMEaiJfNAvYmQdMcs80B5tvCi7DPzQDbjUNERO/NA8w+x/zZC80CwPBEuXEnzQGxpcVyBUPNAKZbRiqZX80DmwjG5y17zQKLvkefwZfNAXxzyFRZt80AcSVJEO3TzQNl1snJge/NAlaISoYWC80BSz3LPqonzQA/80v3PkPNAzCgzLPWX80CIVZNaGp/zQEWC84g/pvNAAq9Tt2St80C/27PlibTzQHsIFBSvu/NAODV0QtTC80D1YdRw+cnzQLKONJ8e0fNAbruUzUPY80Ar6PT7aN/zQOgUVSqO5vNApUG1WLPt80BhbhWH2PTzQB6bdbX9+/NA28fV4yID9ECX9DUSSAr0QFQhlkBtEfRAEU72bpIY9EDOeladtx/0QIqntsvcJvRAR9QW+gEu9EAEAXcoJzX0QMEt11ZMPPRAfVo3hXFD9EA6h5ezlkr0QPez9+G7UfRAtOBXEOFY9EBwDbg+BmD0QC06GG0rZ/RA6mZ4m1Bu9ECnk9jJdXX0QGPAOPiafPRAIO2YJsCD9EDdGflU5Yr0QJpGWYMKkvRAVnO5sS+Z9EAToBngVKD0QNDMeQ56p/RAjfnZPJ+u9EBJJjprxLX0QAZTmpnpvPRAw3/6xw7E9EB/rFr2M8v0QDzZuiRZ0vRA+QUbU37Z9EC2MnuBo+D0QHJf26/I5/RAL4w73u3u9EDsuJsME/b0QKnl+zo4/fRAZRJcaV0E9UAiP7yXggv1QN9rHManEvVAnJh89MwZ9UBYxdwi8iD1QBXyPFEXKPVA0h6dfzwv9UCPS/2tYTb1QEt4XdyGPfVACKW9CqxE9UDF0R050Uv1QIL+fWf2UvVAPivelRta9UD7Vz7EQGH1QLiEnvJlaPVAdLH+IItv9UAx3l5PsHb1QO4Kv33VffVAqzcfrPqE9UBnZH/aH4z1QCSR3whFk/VA4b0/N2qa9UCe6p9lj6H1QFoXAJS0qPVAF0Rgwtmv9UDUcMDw/rb1QJGdIB8kvvVATcqATUnF9UAK9+B7bsz1QMcjQaqT0/VAhFCh2Lja9UBAfQEH3uH1QP2pYTUD6fVAutbBYyjw9UB3AyKSTff1QDMwgsBy/vVA8Fzi7pcF9kCtiUIdvQz2QGq2okviE/ZAJuMCegcb9kDjD2OoLCL2QKA8w9ZRKfZAXGkjBXcw9kAZloMznDf2QNbC42HBPvZAk+9DkOZF9kBPHKS+C032QAxJBO0wVPZAyXVkG1Zb9kCGosRJe2L2QELPJHigafZA//uEpsVw9kC8KOXU6nf2QHlVRQMQf/ZANYKlMTWG9kDyrgVgWo32QK/bZY5/lPZAbAjGvKSb9kAoNSbryaL2QOVhhhnvqfZAoo7mRxSx9kBfu0Z2Obj2QBvopqRev/ZA2BQH04PG9kCVQWcBqc32QFJuxy/O1PZADpsnXvPb9kDLx4eMGOP2QIj057o96vZARCFI6WLx9kABTqgXiPj2QL56CEat//ZAe6dodNIG90A31Mii9w33QPQAKdEcFfdAsS2J/0Ec90BuWuktZyP3QCqHSVyMKvdA57OpirEx90Ck4Am51jj3QGENauf7P/dAHTrKFSFH90DaZipERk73QJeTinJrVfdAVMDqoJBc90AQ7UrPtWP3QM0Zq/3aavdAikYLLABy90BHc2taJXn3QAOgy4hKgPdAwMwrt2+H90B9+YvllI73QDkm7BO6lfdA9lJMQt+c90Czf6xwBKT3QHCsDJ8pq/dALNlszU6y90DpBc37c7n3QKYyLSqZwPdAY1+NWL7H90AfjO2G4873QNy4TbUI1vdAmeWt4y3d90BWEg4SU+T3QBI/bkB46/dAz2vObp3y90CMmC6dwvn3QEnFjsvnAPhABfLu+QwI+EDCHk8oMg/4QH9Lr1ZXFvhAPHgPhXwd+ED4pG+zoST4QLXRz+HGK/hAcv4vEOwy+EAvK5A+ETr4QOtX8Gw2QfhAqIRQm1tI+EBlsbDJgE/4QCHeEPilVvhA3gpxJstd+ECbN9FU8GT4QFhkMYMVbPhAFJGRsTpz+EDRvfHfX3r4QI7qUQ6FgfhASxeyPKqI+EAHRBJrz4/4QMRwcpn0lvhAgZ3Sxxme+EA+yjL2PqX4QPr2kiRkrPhAtyPzUomz+EB0UFOBrrr4QDF9s6/TwfhA7akT3vjI+ECq1nMMHtD4QGcD1DpD1/hAJDA0aWje+EDgXJSXjeX4QJ2J9MWy7PhAWrZU9Nfz+EAX47Qi/fr4QNMPFVEiAvlAkDx1f0cJ+UBNadWtbBD5QAmWNdyRF/lAxsKVCrce+UCD7/U43CX5QEAcVmcBLflA/Ei2lSY0+UC5dRbESzv5QHaidvJwQvlAM8/WIJZJ+UDv+zZPu1D5QKwol33gV/lAaVX3qwVf+UAmglfaKmb5QOKutwhQbflAn9sXN3V0+UBcCHhlmnv5QBk12JO/gvlA1WE4wuSJ+UCSjpjwCZH5QE+7+B4vmPlADOhYTVSf+UDIFLl7eab5QIVBGaqerflAQm552MO0+UD+mtkG6bv5QLvHOTUOw/lAePSZYzPK+UA1IfqRWNH5QPFNWsB92PlArnq67qLf+UBrpxodyOb5QCjUekvt7flA5ADbeRL1+UChLTuoN/z5QF5am9ZcA/pAG4f7BIIK+kDXs1szpxH6QJTgu2HMGPpAUQ0ckPEf+kAOOny+Fif6QMpm3Ow7LvpAh5M8G2E1+kBEwJxJhjz6QAHt/HerQ/pAvRldptBK+kB6Rr3U9VH6QDdzHQMbWfpA9J99MUBg+kCwzN1fZWf6QG35PY6KbvpAKiaevK91+kDmUv7q1Hz6QKN/Xhn6g/pAYKy+Rx+L+kAd2R52RJL6QNkFf6RpmfpAljLf0o6g+kBTXz8BtKf6QBCMny/ZrvpAzLj/Xf61+kCJ5V+MI736QEYSwLpIxPpAAz8g6W3L+kC/a4AXk9L6QHyY4EW42fpAOcVAdN3g+kD28aCiAuj6QLIeAdEn7/pAb0th/0z2+kAseMEtcv36QOmkIVyXBPtApdGBirwL+0Bi/uG44RL7QB8rQucGGvtA3FeiFSwh+0CYhAJEUSj7QFWxYnJ2L/tAEt7CoJs2+0DOCiPPwD37QIs3g/3lRPtASGTjKwtM+0AFkUNaMFP7QMG9o4hVWvtAfuoDt3ph+0A7F2Tln2j7QPhDxBPFb/tAtHAkQup2+0BxnYRwD377QC7K5J40hftA6/ZEzVmM+0CnI6X7fpP7QGRQBSqkmvtAIX1lWMmh+0DeqcWG7qj7QJrWJbUTsPtAVwOG4zi3+0AUMOYRXr77QNFcRkCDxftAjYmmbqjM+0BKtgadzdP7QAfjZsvy2vtAww/H+Rfi+0CAPCcoPen7QD1ph1Zi8PtA+pXnhIf3+0C2wkezrP77QHPvp+HRBfxAMBwIEPcM/EDtSGg+HBT8QKl1yGxBG/xAZqIom2Yi/EAjz4jJiyn8QOD76PewMPxAnChJJtY3/EBZValU+z78QBaCCYMgRvxA065psUVN/ECP28nfalT8QEwIKg6QW/xACTWKPLVi/EDGYepq2mn8QIKOSpn/cPxAP7uqxyR4/ED85wr2SX/8QLkUayRvhvxAdUHLUpSN/EAybiuBuZT8QO+ai6/em/xAq8fr3QOj/EBo9EsMKar8QCUhrDpOsfxA4k0MaXO4/ECeemyXmL/8QFunzMW9xvxAGNQs9OLN/EDVAI0iCNX8QJEt7VAt3PxATlpNf1Lj/EALh62td+r8QMizDdyc8fxAhOBtCsL4/EBBDc445//8QP45LmcMB/1Au2aOlTEO/UB3k+7DVhX9QDTATvJ7HP1A8eyuIKEj/UCuGQ9Pxir9QGpGb33rMf1AJ3PPqxA5/UDkny/aNUD9QKHMjwhbR/1AXfnvNoBO/UAaJlBlpVX9QNdSsJPKXP1Ak38Qwu9j/UBQrHDwFGv9QA3Z0B46cv1AygUxTV95/UCGMpF7hID9QENf8amph/1AAIxR2M6O/UC9uLEG9JX9QHnlETUZnf1ANhJyYz6k/UDzPtKRY6v9QLBrMsCIsv1AbJiS7q25/UApxfIc08D9QObxUkv4x/1Aox6zeR3P/UBfSxOoQtb9QBx4c9Zn3f1A2aTTBI3k/UCW0TMzsuv9QFL+k2HX8v1ADyv0j/z5/UDMV1S+IQH+QIiEtOxGCP5ARbEUG2wP/kAC3nRJkRb+QL8K1Xe2Hf5Aezc1ptsk/kA4ZJXUACz+QPWQ9QImM/5Asr1VMUs6/kBu6rVfcEH+QCsXFo6VSP5A6EN2vLpP/kClcNbq31b+QGGdNhkFXv5AHsqWRypl/kDb9vZ1T2z+QJgjV6R0c/5AVFC30pl6/kARfRcBv4H+QM6pdy/kiP5Ai9bXXQmQ/kBHAziMLpf+QAQwmLpTnv5AwVz46Hil/kB+iVgXnqz+QDq2uEXDs/5A9+IYdOi6/kC0D3miDcL+QHA82dAyyf5ALWk5/1fQ/kDqlZktfdf+QKfC+Vui3v5AY+9Zisfl/kAgHLq47Oz+QN1IGucR9P5AmnV6FTf7/kBWotpDXAL/QBPPOnKBCf9A0PuaoKYQ/0CNKPvOyxf/QElVW/3wHv9ABoK7KxYm/0DDrhtaOy3/QIDbe4hgNP9APAjctoU7/0D5NDzlqkL/QLZhnBPQSf9Ac478QfVQ/0Avu1xwGlj/QOznvJ4/X/9AqRQdzWRm/0BmQX37iW3/QCJu3SmvdP9A35o9WNR7/0Ccx52G+YL/QFj0/bQeiv9AFSFe40OR/0DSTb4RaZj/QI96HkCOn/9AS6d+brOm/0AI1N6c2K3/QMUAP8v9tP9Agi2f+SK8/0A+Wv8nSMP/QPuGX1Ztyv9AuLO/hJLR/0B14B+zt9j/QDENgOHc3/9A7jngDwLn/0CrZkA+J+7/QGiToGxM9f9AJMAAm3H8/0BxdrBkywEAQc+M4PtdBQBBLaMQk/AIAEGMuUAqgwwAQerPcMEVEABBSOagWKgTAEGn/NDvOhcAQQUTAYfNGgBBYykxHmAeAEHCP2G18iEAQSBWkUyFJQBBf2zB4xcpAEHdgvF6qiwAQTuZIRI9MABBmq9Rqc8zAEH4xYFAYjcAQVbcsdf0OgBBtfLhboc+AEETCRIGGkIAQXIfQp2sRQBB0DVyND9JAEEuTKLL0UwAQY1i0mJkUABB63gC+vZTAEFJjzKRiVcAQailYigcWwBBBrySv65eAEFl0sJWQWIAQcPo8u3TZQBBIf8ihWZpAEGAFVMc+WwAQd4rg7OLcABBPEKzSh50AEGbWOPhsHcAQfluE3lDewBBV4VDENZ+AEG2m3OnaIIAQRSyoz77hQBBc8jT1Y2JAEHR3gNtII0AQS/1MwSzkABBjgtkm0WUAEHsIZQy2JcAQUo4xMlqmwBBqU70YP2eAEEHZST4j6IAQWZ7VI8ipgBBxJGEJrWpAEEiqLS9R60AQYG+5FTasABB39QU7Gy0AEE960SD/7cAQZwBdRqSuwBB+helsSS/AEFZLtVIt8IAQbdEBeBJxgBBFVs1d9zJAEF0cWUOb80AQdKHlaUB0QBBMJ7FPJTUAEGPtPXTJtgAQe3KJWu52wBBS+FVAkzfAEGq94WZ3uIAQQgOtjBx5gBBZyTmxwPqAEHFOhZflu0AQSNRRvYo8QBBgmd2jbv0AEHgfaYkTvgAQT6U1rvg+wBBnaoGU3P/AEH7wDbqBQMBQVrXZoGYBgFBuO2WGCsKAUEWBMevvQ0BQXUa90ZQEQFB0zAn3uIUAUExR1d1dRgBQZBdhwwIHAFB7nO3o5ofAUFNiuc6LSMBQaugF9K/JgFBCbdHaVIqAUFozXcA5S0BQcbjp5d3MQFBJPrXLgo1AUGDEAjGnDgBQeEmOF0vPAFBPz1o9ME/AUGeU5iLVEMBQfxpyCLnRgFBW4D4uXlKAUG5lihRDE4BQRetWOieUQFBdsOIfzFVAUHU2bgWxFgBQTLw6K1WXAFBkQYZRelfAUHvHEnce2MBQU4zeXMOZwFBrEmpCqFqAUEKYNmhM24BQWl2CTnGcQFBx4w50Fh1AUElo2ln63gBQYS5mf59fAFB4s/JlRCAAUFA5vkso4MBQZ/8KcQ1hwFB/RJaW8iKAUFcKYryWo4BQbo/uontkQFBGFbqIICVAUF3bBq4EpkBQdWCSk+lnAFBM5l65jegAUGSr6p9yqMBQfDF2hRdpwFBT9wKrO+qAUGt8jpDgq4BQQsJa9oUsgFBah+bcae1AUHINcsIOrkBQSZM+5/MvAFBhWIrN1/AAUHjeFvO8cMBQUKPi2WExwFBoKW7/BbLAUH+u+uTqc4BQV3SGys80gFBu+hLws7VAUEZ/3tZYdkBQXgVrPDz3AFB1ivch4bgAUE0QgwfGeQBQZNYPLar5wFB8W5sTT7rAUFQhZzk0O4BQa6bzHtj8gFBDLL8Evb1AUFryCyqiPkBQcneXEEb/QFBJ/WM2K0AAkGGC71vQAQCQeQh7QbTBwJBQzgdnmULAkGhTk01+A4CQf9kfcyKEgJBXnutYx0WAkG8kd36rxkCQRqoDZJCHQJBeb49KdUgAkHX1G3AZyQCQTbrnVf6JwJBlAHO7owrAkHyF/6FHy8CQVEuLh2yMgJBr0RetEQ2AkENW45L1zkCQWxxvuJpPQJByofuefxAAkEonh4Rj0QCQYe0TqghSAJB5cp+P7RLAkFE4a7WRk8CQaL33m3ZUgJBAA4PBWxWAkFfJD+c/lkCQb06bzORXQJBG1GfyiNhAkF6Z89htmQCQdh9//hIaAJBN5QvkNtrAkGVql8nbm8CQfPAj74AcwJBUte/VZN2AkGw7e/sJXoCQQ4EIIS4fQJBbRpQG0uBAkHLMICy3YQCQSpHsElwiAJBiF3g4AKMAkHmcxB4lY8CQUWKQA8okwJBo6BwprqWAkEBt6A9TZoCQWDN0NTfnQJBvuMAbHKhAkEc+jADBaUCQXsQYZqXqAJB2SaRMSqsAkE4PcHIvK8CQZZT8V9PswJB9Gkh9+G2AkFTgFGOdLoCQbGWgSUHvgJBD62xvJnBAkFuw+FTLMUCQczZEeu+yAJBK/BBglHMAkGJBnIZ5M8CQeccorB20wJBRjPSRwnXAkGkSQLfm9oCQQJgMnYu3gJBYXZiDcHhAkG/jJKkU+UCQR6jwjvm6AJBfLny0njsAkHazyJqC/ACQTnmUgGe8wJBl/yCmDD3AkH1ErMvw/oCQVQp48ZV/gJBsj8TXugBA0EQVkP1egUDQW9sc4wNCQNBzYKjI6AMA0EsmdO6MhADQYqvA1LFEwNB6MUz6VcXA0FH3GOA6hoDQaXykxd9HgNBAwnErg8iA0FiH/RFoiUDQcA1JN00KQNBH0xUdMcsA0F9YoQLWjADQdt4tKLsMwNBOo/kOX83A0GYpRTRETsDQfa7RGikPgNBVdJ0/zZCA0Gz6KSWyUUDQRL/1C1cSQNBcBUFxe5MA0HOKzVcgVADQS1CZfMTVANBi1iViqZXA0HpbsUhOVsDQUiF9bjLXgNBppslUF5iA0EEslXn8GUDQWPIhX6DaQNBwd61FRZtA0Eg9eWsqHADQX4LFkQ7dANB3CFG2813A0E7OHZyYHsDQZlOpgnzfgNB92TWoIWCA0FWewY4GIYDQbSRNs+qiQNBE6hmZj2NA0Fxvpb9z5ADQc/UxpRilANBLuv2K/WXA0GMASfDh5sDQeoXV1oanwNBSS6H8ayiA0GnRLeIP6YDQQVb5x/SqQNBZHEXt2StA0HCh0dO97ADQSGed+WJtANBf7SnfBy4A0HdytcTr7sDQTzhB6tBvwNBmvc3QtTCA0H4DWjZZsYDQVckmHD5yQNBtTrIB4zNA0EUUfieHtEDQXJnKDax1ANB0H1YzUPYA0EvlIhk1tsDQY2quPto3wNB68DokvviA0FK1xgqjuYDQajtSMEg6gNBBwR5WLPtA0FlGqnvRfEDQcMw2YbY9ANBIkcJHmv4A0GAXTm1/fsDQd5zaUyQ/wNBPYqZ4yIDBEGboMl6tQYEQfm2+RFICgRBWM0pqdoNBEG241lAbREEQRX6idf/FARBcxC6bpIYBEHRJuoFJRwEQTA9Gp23HwRBjlNKNEojBEHsaXrL3CYEQUuAqmJvKgRBqZba+QEuBEEIrQqRlDEEQWbDOignNQRBxNlqv7k4BEEj8JpWTDwEQYEGy+3ePwRB3xz7hHFDBEE+MyscBEcEQZxJW7OWSgRB+1+LSilOBEFZdrvhu1EEQbeM63hOVQRBFqMbEOFYBEF0uUunc1wEQdLPez4GYARBMear1ZhjBEGP/NtsK2cEQe0SDAS+agRBTCk8m1BuBEGqP2wy43EEQQlWnMl1dQRBZ2zMYAh5BEHFgvz3mnwEQSSZLI8tgARBgq9cJsCDBEHgxYy9UocEQT/cvFTligRBnfLs63eOBEH8CB2DCpIEQVofTRqdlQRBuDV9sS+ZBEEXTK1IwpwEQXVi3d9UoARB03gNd+ejBEEyjz0OeqcEQZClbaUMqwRB77udPJ+uBEFN0s3TMbIEQavo/WrEtQRBCv8tAle5BEFoFV6Z6bwEQcYrjjB8wARBJUK+xw7EBEGDWO5eoccEQeFuHvYzywRBQIVOjcbOBEGem34kWdIEQf2xrrvr1QRBW8jeUn7ZBEG53g7qEN0EQRj1PoGj4ARBdgtvGDbkBEHUIZ+vyOcEQTM4z0Zb6wRBkU7/3e3uBEHwZC91gPIEQU57XwwT9gRBrJGPo6X5BEELqL86OP0EQWm+79HKAAVBx9QfaV0EBUEm608A8AcFQYQBgJeCCwVB4xewLhUPBUFBLuDFpxIFQZ9EEF06FgVB/lpA9MwZBUFccXCLXx0FQbqHoCLyIAVBGZ7QuYQkBUF3tABRFygFQdXKMOipKwVBNOFgfzwvBUGS95AWzzIFQfENwa1hNgVBTyTxRPQ5BUGtOiHchj0FQQxRUXMZQQVBameBCqxEBUHIfbGhPkgFQSeU4TjRSwVBhaoR0GNPBUHkwEFn9lIFQULXcf6IVgVBoO2hlRtaBUH/A9Isrl0FQV0aAsRAYQVBuzAyW9NkBUEaR2LyZWgFQXhdkon4awVB1nPCIItvBUE1ivK3HXMFQZOgIk+wdgVB8rZS5kJ6BUFQzYJ91X0FQa7jshRogQVBDfriq/qEBUFrEBNDjYgFQckmQ9ofjAVBKD1zcbKPBUGGU6MIRZMFQeVp05/XlgVBQ4ADN2qaBUGhljPO/J0FQQCtY2WPoQVBXsOT/CGlBUG82cOTtKgFQRvw8ypHrAVBeQYkwtmvBUHYHFRZbLMFQTYzhPD+tgVBlEm0h5G6BUHzX+QeJL4FQVF2FLa2wQVBr4xETUnFBUEOo3Tk28gFQWy5pHtuzAVBys/UEgHQBUEp5gSqk9MFQYf8NEEm1wVB5hJl2LjaBUFEKZVvS94FQaI/xQbe4QVBAVb1nXDlBUFfbCU1A+kFQb2CVcyV7AVBHJmFYyjwBUF6r7X6uvMFQdnF5ZFN9wVBN9wVKeD6BUGV8kXAcv4FQfQIdlcFAgZBUh+m7pcFBkGwNdaFKgkGQQ9MBh29DAZBbWI2tE8QBkHMeGZL4hMGQSqPluJ0FwZBiKXGeQcbBkHnu/YQmh4GQUXSJqgsIgZBo+hWP78lBkEC/4bWUSkGQWAVt23kLAZBvivnBHcwBkEdQhecCTQGQXtYRzOcNwZB2m53yi47BkE4hadhwT4GQZab1/hTQgZB9bEHkOZFBkFTyDcneUkGQbHeZ74LTQZBEPWXVZ5QBkFuC8jsMFQGQc0h+IPDVwZBKzgoG1ZbBkGJTliy6F4GQehkiEl7YgZBRnu44A1mBkGkkeh3oGkGQQOoGA8zbQZBYb5IpsVwBkHA1Hg9WHQGQR7rqNTqdwZBfAHZa317BkHbFwkDEH8GQTkuOZqiggZBl0RpMTWGBkH2WpnIx4kGQVRxyV9ajQZBsof59uyQBkERnimOf5QGQW+0WSUSmAZBzsqJvKSbBkEs4blTN58GQYr36erJogZB6Q0aglymBkFHJEoZ76kGQaU6erCBrQZBBFGqRxSxBkFiZ9reprQGQcF9CnY5uAZBH5Q6Dcy7BkF9qmqkXr8GQdzAmjvxwgZBOtfK0oPGBkGY7fppFsoGQfcDKwGpzQZBVRpbmDvRBkG0MIsvztQGQRJHu8Zg2AZBcF3rXfPbBkHPcxv1hd8GQS2KS4wY4wZBi6B7I6vmBkHqtqu6PeoGQUjN21HQ7QZBpuML6WLxBkEF+juA9fQGQWMQbBeI+AZBwiacrhr8BkEgPcxFrf8GQX5T/Nw/AwdB3WksdNIGB0E7gFwLZQoHQZmWjKL3DQdB+Ky8OYoRB0FWw+zQHBUHQbXZHGivGAdBE/BM/0EcB0FxBn2W1B8HQdAcrS1nIwdBLjPdxPkmB0GMSQ1cjCoHQetfPfMeLgdBSXZtirExB0GojJ0hRDUHQQajzbjWOAdBZLn9T2k8B0HDzy3n+z8HQSHmXX6OQwdBf/yNFSFHB0HeEr6ss0oHQTwp7kNGTgdBmj8e29hRB0H5VU5ya1UHQVdsfgn+WAdBtoKuoJBcB0EUmd43I2AHQXKvDs+1YwdB0cU+ZkhnB0Ev3G792moHQY3ynpRtbgdB7AjPKwByB0FKH//CknUHQak1L1oleQdBB0xf8bd8B0FlYo+ISoAHQcR4vx/dgwdBIo/vtm+HB0GApR9OAosHQd+7T+WUjgdBPdJ/fCeSB0Gb6K8TupUHQfr+36pMmQdBWBUQQt+cB0G3K0DZcaAHQRVCcHAEpAdBc1igB5enB0HSbtCeKasHQTCFADa8rgdBjpswzU6yB0HtsWBk4bUHQUvIkPtzuQdBqt7Akga9B0EI9fApmcAHQWYLIcErxAdBxSFRWL7HB0EjOIHvUMsHQYFOsYbjzgdB4GThHXbSB0E+exG1CNYHQZ2RQUyb2QdB+6dx4y3dB0FZvqF6wOAHQbjU0RFT5AdBFusBqeXnB0F0ATJAeOsHQdMXYtcK7wdBMS6Sbp3yB0GPRMIFMPYHQe5a8pzC+QdBTHEiNFX9B0Grh1LL5wAIQQmegmJ6BAhBZ7Sy+QwICEHGyuKQnwsIQSThEigyDwhBgvdCv8QSCEHhDXNWVxYIQT8ko+3pGQhBnjrThHwdCEH8UAMcDyEIQVpnM7OhJAhBuX1jSjQoCEEXlJPhxisIQXWqw3hZLwhB1MDzD+wyCEEy1yOnfjYIQZHtUz4ROghB7wOE1aM9CEFNGrRsNkEIQaww5APJRAhBCkcUm1tICEFoXUQy7ksIQcdzdMmATwhBJYqkYBNTCEGDoNT3pVYIQeK2BI84WghBQM00JstdCEGf42S9XWEIQf35lFTwZAhBWxDF64JoCEG6JvWCFWwIQRg9JRqobwhBdlNVsTpzCEHVaYVIzXYIQTOAtd9feghBkpbldvJ9CEHwrBUOhYEIQU7DRaUXhQhBrdl1PKqICEEL8KXTPIwIQWkG1mrPjwhByBwGAmKTCEEmMzaZ9JYIQYVJZjCHmghB41+WxxmeCEFBdsZerKEIQaCM9vU+pQhB/qImjdGoCEFcuVYkZKwIQbvPhrv2rwhBGea2UomzCEF3/ObpG7cIQdYSF4GuughBNClHGEG+CEGTP3ev08EIQfFVp0ZmxQhBT2zX3fjICEGuggd1i8wIQQyZNwwe0AhBaq9no7DTCEHJxZc6Q9cIQSfcx9HV2ghBhvL3aGjeCEHkCCgA++EIQUIfWJeN5QhBoTWILiDpCEH/S7jFsuwIQV1i6FxF8AhBvHgY9NfzCEEaj0iLavcIQXmleCL9+ghB17uouY/+CEE10thQIgIJQZToCOi0BQlB8v44f0cJCUFQFWkW2gwJQa8rma1sEAlBDULJRP8TCUFrWPnbkRcJQcpuKXMkGwlBKIVZCrceCUGHm4mhSSIJQeWxuTjcJQlBQ8jpz24pCUGi3hlnAS0JQQD1Sf6TMAlBXgt6lSY0CUG9IaosuTcJQRs42sNLOwlBek4KW94+CUHYZDrycEIJQTZ7aokDRglBlZGaIJZJCUHzp8q3KE0JQVG++k67UAlBsNQq5k1UCUEO61p94FcJQW0BixRzWwlByxe7qwVfCUEpLutCmGIJQYhEG9oqZglB5lpLcb1pCUFEcXsIUG0JQaOHq5/icAlBAZ7bNnV0CUFftAvOB3gJQb7KO2WaewlBHOFr/Cx/CUF795uTv4IJQdkNzCpShglBNyT8weSJCUGWOixZd40JQfRQXPAJkQlBUmeMh5yUCUGxfbweL5gJQQ+U7LXBmwlBbqocTVSfCUHMwEzk5qIJQSrXfHt5pglBie2sEgyqCUHnA92pnq0JQUUaDUExsQlBpDA92MO0CUECR21vVrgJQWBdnQbpuwlBv3PNnXu/CUEdiv00DsMJQXygLcygxglB2rZdYzPKCUE4zY36xc0JQZfjvZFY0QlB9fntKOvUCUFTEB7AfdgJQbImTlcQ3AlBED1+7qLfCUFvU66FNeMJQc1p3hzI5glBK4AOtFrqCUGKlj5L7e0JQeisbuJ/8QlBRsOeeRL1CUGl2c4QpfgJQQPw/qc3/AlBYgYvP8r/CUHAHF/WXAMKQR4zj23vBgpBfUm/BIIKCkHbX++bFA4KQTl2HzOnEQpBmIxPyjkVCkH2on9hzBgKQVS5r/heHApBs8/fj/EfCkER5g8nhCMKQXD8P74WJwpBzhJwVakqCkEsKaDsOy4KQYs/0IPOMQpB6VUAG2E1CkFHbDCy8zgKQaaCYEmGPApBBJmQ4BhACkFjr8B3q0MKQcHF8A4+RwpBH9wgptBKCkF+8lA9Y04KQdwIgdT1UQpBOh+xa4hVCkGZNeECG1kKQfdLEZqtXApBVmJBMUBgCkG0eHHI0mMKQRKPoV9lZwpBcaXR9vdqCkHPuwGOim4KQS3SMSUdcgpBjOhhvK91CkHq/pFTQnkKQUgVwurUfApBpyvygWeACkEFQiIZ+oMKQWRYUrCMhwpBwm6CRx+LCkEghbLesY4KQX+b4nVEkgpB3bESDdeVCkE7yEKkaZkKQZrecjv8nApB+PSi0o6gCkFXC9NpIaQKQbUhAwG0pwpBEzgzmEarCkFyTmMv2a4KQdBkk8ZrsgpBLnvDXf61CkGNkfP0kLkKQeunI4wjvQpBSr5TI7bACkGo1IO6SMQKQQbrs1HbxwpBZQHk6G3LCkHDFxSAAM8KQSEuRBeT0gpBgER0riXWCkHeWqRFuNkKQTxx1NxK3QpBm4cEdN3gCkH5nTQLcOQKQVi0ZKIC6ApBtsqUOZXrCkEU4cTQJ+8KQXP39Ge68gpB0Q0l/0z2CkEvJFWW3/kKQY46hS1y/QpB7FC1xAQBC0FLZ+VblwQLQal9FfMpCAtBB5RFirwLC0FmqnUhTw8LQcTApbjhEgtBItfVT3QWC0GB7QXnBhoLQd8DNn6ZHQtBPhpmFSwhC0GcMJasviQLQfpGxkNRKAtBWV322uMrC0G3cyZydi8LQRWKVgkJMwtBdKCGoJs2C0HStrY3LjoLQTDN5s7APQtBj+MWZlNBC0Ht+Ub95UQLQUwQd5R4SAtBqianKwtMC0EIPdfCnU8LQWdTB1owUwtBxWk38cJWC0EjgGeIVVoLQYKWlx/oXQtB4KzHtnphC0E/w/dNDWULQZ3ZJ+WfaAtB++9XfDJsC0FaBogTxW8LQbgcuKpXcwtBFjPoQep2C0F1SRjZfHoLQdNfSHAPfgtBMnZ4B6KBC0GQjKieNIULQe6i2DXHiAtBTbkIzVmMC0Grzzhk7I8LQQnmaPt+kwtBaPyYkhGXC0HGEskppJoLQSQp+cA2ngtBgz8pWMmhC0HhVVnvW6ULQUBsiYbuqAtBnoK5HYGsC0H8mOm0E7ALQVuvGUymswtBucVJ4zi3C0EX3Hl6y7oLQXbyqRFevgtB1AjaqPDBC0EzHwpAg8ULQZE1OtcVyQtB70tqbqjMC0FOYpoFO9ALQax4ypzN0wtBCo/6M2DXC0FppSrL8toLQce7WmKF3gtBJdKK+RfiC0GE6LqQquULQeL+6ic96QtBQRUbv8/sC0GfK0tWYvALQf1Be+308wtBXFirhIf3C0G6btsbGvsLQRiFC7Os/gtBd5s7Sj8CDEHVsWvh0QUMQTTIm3hkCQxBkt7LD/cMDEHw9PumiRAMQU8LLD4cFAxBrSFc1a4XDEELOIxsQRsMQWpOvAPUHgxByGTsmmYiDEEnexwy+SUMQYWRTMmLKQxB46d8YB4tDEFCvqz3sDAMQaDU3I5DNAxB/uoMJtY3DEFdAT29aDsMQbsXbVT7PgxBGS6d641CDEF4RM2CIEYMQdZa/RmzSQxBNXEtsUVNDEGTh11I2FAMQfGdjd9qVAxBULS9dv1XDEGuyu0NkFsMQQzhHaUiXwxBa/dNPLViDEHJDX7TR2YMQSgkrmraaQxBhjreAW1tDEHkUA6Z/3AMQUNnPjCSdAxBoX1uxyR4DEH/k55et3sMQV6qzvVJfwxBvMD+jNyCDEEb1y4kb4YMQXntXrsBigxB1wOPUpSNDEE2Gr/pJpEMQZQw74C5lAxB8kYfGEyYDEFRXU+v3psMQa9zf0ZxnwxBDYqv3QOjDEFsoN90lqYMQcq2DwwpqgxBKc0/o7utDEGH4286TrEMQeX5n9HgtAxBRBDQaHO4DEGiJgAABrwMQQA9MJeYvwxBX1NgLivDDEG9aZDFvcYMQRyAwFxQygxBepbw8+LNDEHYrCCLddEMQTfDUCII1QxBldmAuZrYDEHz77BQLdwMQVIG4ee/3wxBsBwRf1LjDEEPM0EW5eYMQW1Jca136gxBy1+hRAruDEEqdtHbnPEMQYiMAXMv9QxB5qIxCsL4DEFFuWGhVPwMQaPPkTjn/wxBAebBz3kDDUFg/PFmDAcNQb4SIv6eCg1BHSlSlTEODUF7P4IsxBENQdlVssNWFQ1BOGziWukYDUGWghLyexwNQfSYQokOIA1BU69yIKEjDUGxxaK3MycNQRDc0k7GKg1BbvIC5lguDUHMCDN96zENQSsfYxR+NQ1BiTWTqxA5DUHnS8NCozwNQUZi89k1QA1BpHgjcchDDUEDj1MIW0cNQWGlg5/tSg1Bv7uzNoBODUEe0uPNElINQXzoE2WlVQ1B2v5D/DdZDUE5FXSTylwNQZcrpCpdYA1B9UHUwe9jDUFUWARZgmcNQbJuNPAUaw1BEYVkh6duDUFvm5QeOnINQc2xxLXMdQ1BLMj0TF95DUGK3iTk8XwNQej0VHuEgA1BRwuFEheEDUGlIbWpqYcNQQQ45UA8iw1BYk4V2M6ODUHAZEVvYZINQR97dQb0lQ1BfZGlnYaZDUHbp9U0GZ0NQTq+BcyroA1BmNQ1Yz6kDUH26mX60KcNQVUBlpFjqw1BsxfGKPauDUESLva/iLINQXBEJlcbtg1BzlpW7q25DUEtcYaFQL0NQYuHthzTwA1B6Z3ms2XEDUFItBZL+McNQabKRuKKyw1BBeF2eR3PDUFj96YQsNINQcEN16dC1g1BICQHP9XZDUF+OjfWZ90NQdxQZ2364A1BO2eXBI3kDUGZfcebH+gNQfiT9zKy6w1BVqonykTvDUG0wFdh1/INQRPXh/hp9g1Bce23j/z5DUHPA+gmj/0NQS4aGL4hAQ5BjDBIVbQEDkHqRnjsRggOQUldqIPZCw5Bp3PYGmwPDkEGigiy/hIOQWSgOEmRFg5BwrZo4CMaDkEhzZh3th0OQX/jyA5JIQ5B3fn4pdskDkE8ECk9bigOQZomWdQALA5B+TyJa5MvDkFXU7kCJjMOQbVp6Zm4Ng5BFIAZMUs6DkFylknI3T0OQdCseV9wQQ5BL8Op9gJFDkGN2dmNlUgOQezvCSUoTA5BSgY6vLpPDkGoHGpTTVMOQQczmurfVg5BZUnKgXJaDkHDX/oYBV4OQSJ2KrCXYQ5BgIxaRyplDkHeoorevGgOQT25unVPbA5Bm8/qDOJvDkH65RqkdHMOQVj8SjsHdw5BthJ70pl6DkEVKatpLH4OQXM/2wC/gQ5B0VULmFGFDkEwbDsv5IgOQY6Ca8Z2jA5B7ZibXQmQDkFLr8v0m5MOQanF+4sulw5BCNwrI8GaDkFm8lu6U54OQcQIjFHmoQ5BIx+86HilDkGBNex/C6kOQeBLHBeerA5BPmJMrjCwDkGceHxFw7MOQfuOrNxVtw5BWaXcc+i6DkG3uwwLe74OQRbSPKINwg5BdOhsOaDFDkHS/pzQMskOQTEVzWfFzA5Bjyv9/lfQDkHuQS2W6tMOQUxYXS191w5Bqm6NxA/bDkEJhb1bot4OQWeb7fI04g5BxbEdisflDkEkyE0hWukOQYLefbjs7A5B4fStT3/wDkE/C97mEfQOQZ0hDn6k9w5B/Dc+FTf7DkFaTm6syf4OQbhknkNcAg9BF3vO2u4FD0F1kf5xgQkPQdSnLgkUDQ9BMr5eoKYQD0GQ1I43ORQPQe/qvs7LFw9BTQHvZV4bD0GrFx/98B4PQQouT5SDIg9BaER/KxYmD0HGWq/CqCkPQSVx31k7LQ9Bg4cP8c0wD0HinT+IYDQPQUC0bx/zNw9BnsqftoU7D0H94M9NGD8PQVv3/+SqQg9BuQ0wfD1GD0EYJGAT0EkPQXY6kKpiTQ9B1VDAQfVQD0EzZ/DYh1QPQZF9IHAaWA9B8JNQB61bD0FOqoCeP18PQazAsDXSYg9BC9fgzGRmD0Fp7RBk92kPQcgDQfuJbQ9BJhpxkhxxD0GEMKEpr3QPQeNG0cBBeA9BQV0BWNR7D0GfczHvZn8PQf6JYYb5gg9BXKCRHYyGD0G6tsG0HooPQRnN8UuxjQ9Bd+Mh40ORD0HW+VF61pQPQTQQghFpmA9BkiayqPubD0HxPOI/jp8PQU9TEtcgow9BrWlCbrOmD0EMgHIFRqoPQWqWopzYrQ9ByazSM2uxD0EnwwLL/bQPQYXZMmKQuA9B5O9i+SK8D0FCBpOQtb8PQaAcwydIww9B/zLzvtrGD0FdSSNWbcoPQbtfU+3/zQ9BGnaDhJLRD0F4jLMbJdUPQdei47K32A9BNbkTSkrcD0GTz0Ph3N8PQfLlc3hv4w9BUPyjDwLnD0GuEtSmlOoPQQ0pBD4n7g9Baz801bnxD0HKVWRsTPUPQShslAPf+A9BhoLEmnH8D0FyTPoYAgAQQaJXkmTLARBB0WIqsJQDEEEAbsL7XQUQQS95WkcnBxBBXoTykvAIEEGNj4reuQoQQb2aIiqDDBBB7KW6dUwOEEEbsVLBFRAQQUq86gzfERBBeceCWKgTEEGp0hqkcRUQQdjdsu86FxBBB+lKOwQZEEE29OKGzRoQQWX/etKWHBBBlAoTHmAeEEHEFatpKSAQQfMgQ7XyIRBBIizbALwjEEFRN3NMhSUQQYBCC5hOJxBBsE2j4xcpEEHfWDsv4SoQQQ5k03qqLBBBPW9rxnMuEEFsegMSPTAQQZyFm10GMhBBy5Azqc8zEEH6m8v0mDUQQSmnY0BiNxBBWLL7iys5EEGHvZPX9DoQQbfIKyO+PBBB5tPDboc+EEEV31u6UEAQQUTq8wUaQhBBc/WLUeNDEEGjACSdrEUQQdILvOh1RxBBARdUND9JEEEwIux/CEsQQV8thMvRTBBBjjgcF5tOEEG+Q7RiZFAQQe1OTK4tUhBBHFrk+fZTEEFLZXxFwFUQQXpwFJGJVxBBqnus3FJZEEHZhkQoHFsQQQiS3HPlXBBBN510v65eEEFmqAwLeGAQQZazpFZBYhBBxb48ogpkEEH0ydTt02UQQSPVbDmdZxBBUuAEhWZpEEGB65zQL2sQQbH2NBz5bBBB4AHNZ8JuEEEPDWWzi3AQQT4Y/f5UchBBbSOVSh50EEGdLi2W53UQQcw5xeGwdxBB+0RdLXp5EEEqUPV4Q3sQQVlbjcQMfRBBiGYlENZ+EEG4cb1bn4AQQed8VadoghBBFojt8jGEEEFFk4U++4UQQXSeHYrEhxBBpKm11Y2JEEHTtE0hV4sQQQLA5WwgjRBBMct9uOmOEEFg1hUEs5AQQZDhrU98khBBv+xFm0WUEEHu993mDpYQQR0DdjLYlxBBTA4OfqGZEEF7GabJapsQQaskPhU0nRBB2i/WYP2eEEEJO26sxqAQQThGBviPohBBZ1GeQ1mkEEGXXDaPIqYQQcZnztrrpxBB9XJmJrWpEEEkfv5xfqsQQVOJlr1HrRBBgpQuCRGvEEGyn8ZU2rAQQeGqXqCjshBBELb262y0EEE/wY43NrYQQW7MJoP/txBBnte+zsi5EEHN4lYakrsQQfzt7mVbvRBBK/mGsSS/EEFaBB/97cAQQYoPt0i3whBBuRpPlIDEEEHoJeffScYQQRcxfysTyBBBRjwXd9zJEEF1R6/CpcsQQaVSRw5vzRBB1F3fWTjPEEEDaXelAdEQQTJ0D/HK0hBBYX+nPJTUEEGRij+IXdYQQcCV19Mm2BBB76BvH/DZEEEerAdrudsQQU23n7aC3RBBfMI3AkzfEEGszc9NFeEQQdvYZ5ne4hBBCuT/5KfkEEE575cwceYQQWj6L3w66BBBmAXIxwPqEEHHEGATzesQQfYb+F6W7RBBJSeQql/vEEFUMij2KPEQQYQ9wEHy8hBBs0hYjbv0EEHiU/DYhPYQQRFfiCRO+BBBQGogcBf6EEFvdbi74PsQQZ+AUAeq/RBBzovoUnP/EEH9loCePAERQSyiGOoFAxFBW62wNc8EEUGLuEiBmAYRQbrD4MxhCBFB6c54GCsKEUEY2hBk9AsRQUflqK+9DRFBdvBA+4YPEUGm+9hGUBERQdUGcZIZExFBBBIJ3uIUEUEzHaEprBYRQWIoOXV1GBFBkjPRwD4aEUHBPmkMCBwRQfBJAVjRHRFBH1WZo5ofEUFOYDHvYyERQX5ryTotIxFBrXZhhvYkEUHcgfnRvyYRQQuNkR2JKBFBOpgpaVIqEUFpo8G0GywRQZmuWQDlLRFByLnxS64vEUH3xImXdzERQSbQIeNAMxFBVdu5Lgo1EUGF5lF60zYRQbTx6cWcOBFB4/yBEWY6EUESCBpdLzwRQUETsqj4PRFBcB5K9ME/EUGgKeI/i0ERQc80eotUQxFB/j8S1x1FEUEtS6oi50YRQVxWQm6wSBFBjGHauXlKEUG7bHIFQ0wRQep3ClEMThFBGYOinNVPEUFIjjronlERQXiZ0jNoUxFBp6RqfzFVEUHWrwLL+lYRQQW7mhbEWBFBNMYyYo1aEUFj0cqtVlwRQZPcYvkfXhFBwuf6ROlfEUHx8pKQsmERQSD+Ktx7YxFBTwnDJ0VlEUF/FFtzDmcRQa4f877XaBFB3SqLCqFqEUEMNiNWamwRQTtBu6EzbhFBakxT7fxvEUGaV+s4xnERQclig4SPcxFB+G0b0Fh1EUEnebMbIncRQVaES2freBFBho/jsrR6EUG1mnv+fXwRQeSlE0pHfhFBE7GrlRCAEUFCvEPh2YERQXHH2yyjgxFBodJzeGyFEUHQ3QvENYcRQf/oow//iBFBLvQ7W8iKEUFd/9OmkYwRQY0KbPJajhFBvBUEPiSQEUHrIJyJ7ZERQRosNNW2kxFBSTfMIICVEUF5QmRsSZcRQahN/LcSmRFB11iUA9yaEUEGZCxPpZwRQTVvxJpunhFBZHpc5jegEUGUhfQxAaIRQcOQjH3KoxFB8pskyZOlEUEhp7wUXacRQVCyVGAmqRFBgL3sq++qEUGvyIT3uKwRQd7THEOCrhFBDd+0jkuwEUE86kzaFLIRQWv15CXesxFBmwB9cae1EUHKCxW9cLcRQfkWrQg6uRFBKCJFVAO7EUFXLd2fzLwRQYc4deuVvhFBtkMNN1/AEUHlTqWCKMIRQRRaPc7xwxFBQ2XVGbvFEUFzcG1lhMcRQaJ7BbFNyRFB0Yad/BbLEUEAkjVI4MwRQS+dzZOpzhFBXqhl33LQEUGOs/0qPNIRQb2+lXYF1BFB7Mktws7VEUEb1cUNmNcRQUrgXVlh2RFBeuv1pCrbEUGp9o3w89wRQdgBJjy93hFBBw2+h4bgEUE2GFbTT+IRQWUj7h4Z5BFBlS6GauLlEUHEOR62q+cRQfNEtgF16RFBIlBOTT7rEUFRW+aYB+0RQYFmfuTQ7hFBsHEWMJrwEUHffK57Y/IRQQ6IRscs9BFBPZPeEvb1EUFtnnZev/cRQZypDqqI+RFBy7Sm9VH7EUH6vz5BG/0RQSnL1ozk/hFBWNZu2K0AEkGI4QYkdwISQbfsnm9ABBJB5vc2uwkGEkEVA88G0wcSQUQOZ1KcCRJBdBn/nWULEkGjJJfpLg0SQdIvLzX4DhJBATvHgMEQEkEwRl/MihISQV9R9xdUFBJBj1yPYx0WEkG+Zyev5hcSQe1yv/qvGRJBHH5XRnkbEkFLie+RQh0SQXuUh90LHxJBqp8fKdUgEkHZqrd0niISQQi2T8BnJBJBN8HnCzEmEkFnzH9X+icSQZbXF6PDKRJBxeKv7owrEkH07Uc6Vi0SQSP534UfLxJBUgR40egwEkGCDxAdsjISQbEaqGh7NBJB4CVAtEQ2EkEPMdj/DTgSQT48cEvXORJBbkcIl6A7EkGdUqDiaT0SQcxdOC4zPxJB+2jQefxAEkEqdGjFxUISQVl/ABGPRBJBiYqYXFhGEkG4lTCoIUgSQeegyPPqSRJBFqxgP7RLEkFFt/iKfU0SQXXCkNZGTxJBpM0oIhBREkHT2MBt2VISQQLkWLmiVBJBMe/wBGxWEkFh+ohQNVgSQZAFIZz+WRJBvxC558dbEkHuG1EzkV0SQR0n6X5aXxJBTDKByiNhEkF8PRkW7WISQatIsWG2ZBJB2lNJrX9mEkEJX+H4SGgSQThqeUQSahJBaHURkNtrEkGXgKnbpG0SQcaLQSdubxJB9ZbZcjdxEkEkonG+AHMSQVOtCQrKdBJBg7ihVZN2EkGywzmhXHgSQeHO0ewlehJBENppOO97EkE/5QGEuH0SQW/wmc+BfxJBnvsxG0uBEkHNBspmFIMSQfwRYrLdhBJBKx36/aaGEkFbKJJJcIgSQYozKpU5ihJBuT7C4AKMEkHoSVoszI0SQRdV8neVjxJBRmCKw16REkF2ayIPKJMSQaV2ulrxlBJB1IFSprqWEkEDjerxg5gSQTKYgj1NmhJBYqMaiRacEkGRrrLU350SQcC5SiCpnxJB78Tia3KhEkEe0Hq3O6MSQU3bEgMFpRJBfeaqTs6mEkGs8UKal6gSQdv82uVgqhJBCghzMSqsEkE5Ewt9860SQWkeo8i8rxJBmCk7FIaxEkHHNNNfT7MSQfY/a6sYtRJBJUsD9+G2EkFVVptCq7gSQYRhM450uhJBs2zL2T28EkHid2MlB74SQRGD+3DQvxJBQI6TvJnBEkFwmSsIY8MSQZ+kw1MsxRJBzq9bn/XGEkH9uvPqvsgSQSzGizaIyhJBXNEjglHMEkGL3LvNGs4SQbrnUxnkzxJB6fLrZK3REkEY/oOwdtMSQUcJHPw/1RJBdxS0RwnXEkGmH0yT0tgSQdUq5N6b2hJBBDZ8KmXcEkEzQRR2Lt4SQWNMrMH33xJBkldEDcHhEkHBYtxYiuMSQfBtdKRT5RJBH3kM8BznEkFPhKQ75ugSQX6PPIev6hJBrZrU0njsEkHcpWweQu4SQQuxBGoL8BJBOryctdTxEkFqxzQBnvMSQZnSzExn9RJByN1kmDD3EkH36Pzj+fgSQSb0lC/D+hJBVv8se4z8EkGFCsXGVf4SQbQVXRIfABNB4yD1XegBE0ESLI2psQMTQUE3JfV6BRNBcUK9QEQHE0GgTVWMDQkTQc9Y7dfWChNB/mOFI6AME0Etbx1vaQ4TQV16tboyEBNBjIVNBvwRE0G7kOVRxRMTQeqbfZ2OFRNBGacV6VcXE0FJsq00IRkTQXi9RYDqGhNBp8jdy7McE0HW03UXfR4TQQXfDWNGIBNBNOqlrg8iE0Fk9T362CMTQZMA1kWiJRNBwgtukWsnE0HxFgbdNCkTQSAinij+KhNBUC02dMcsE0F/OM6/kC4TQa5DZgtaMBNB3U7+ViMyE0EMWpai7DMTQTtlLu61NRNBa3DGOX83E0Gae16FSDkTQcmG9tAROxNB+JGOHNs8E0EnnSZopD4TQVeovrNtQBNBhrNW/zZCE0G1vu5KAEQTQeTJhpbJRRNBE9Ue4pJHE0FD4LYtXEkTQXLrTnklSxNBofbmxO5ME0HQAX8QuE4TQf8MF1yBUBNBLhivp0pSE0FeI0fzE1QTQY0u3z7dVRNBvDl3iqZXE0HrRA/Wb1kTQRpQpyE5WxNBSls/bQJdE0F5Zte4y14TQahxbwSVYBNB13wHUF5iE0EGiJ+bJ2QTQTWTN+fwZRNBZZ7PMrpnE0GUqWd+g2kTQcO0/8lMaxNB8r+XFRZtE0Ehyy9h324TQVHWx6yocBNBgOFf+HFyE0Gv7PdDO3QTQd73j48EdhNBDQMo2813E0E8DsAml3kTQWwZWHJgexNBmyTwvSl9E0HKL4gJ834TQfk6IFW8gBNBKEa4oIWCE0FYUVDsToQTQYdc6DcYhhNBtmeAg+GHE0HlchjPqokTQRR+sBp0ixNBRIlIZj2NE0FzlOCxBo8TQaKfeP3PkBNB0aoQSZmSE0EAtqiUYpQTQS/BQOArlhNBX8zYK/WXE0GO13B3vpkTQb3iCMOHmxNB7O2gDlGdE0Eb+ThaGp8TQUsE0aXjoBNBeg9p8ayiE0GpGgE9dqQTQdglmYg/phNBBzEx1AioE0E2PMkf0qkTQWZHYWubqxNBlVL5tmStE0HEXZECLq8TQfNoKU73sBNBInTBmcCyE0FSf1nlibQTQYGK8TBTthNBsJWJfBy4E0HfoCHI5bkTQQ6suROvuxNBPrdRX3i9E0FtwumqQb8TQZzNgfYKwRNBy9gZQtTCE0H647GNncQTQSnvSdlmxhNBWfrhJDDIE0GIBXpw+ckTQbcQErzCyxNB5huqB4zNE0EVJ0JTVc8TQUUy2p4e0RNBdD1y6ufSE0GjSAo2sdQTQdJTooF61hNBAV86zUPYE0EwatIYDdoTQWB1amTW2xNBj4ACsJ/dE0G+i5r7aN8TQe2WMkcy4RNBHKLKkvviE0FMrWLexOQTQXu4+imO5hNBqsOSdVfoE0HZzirBIOoTQQjawgzq6xNBOOVaWLPtE0Fn8PKjfO8TQZb7iu9F8RNBxQYjOw/zE0H0EbuG2PQTQSMdU9Kh9hNBUyjrHWv4E0GCM4NpNPoTQbE+G7X9+xNB4EmzAMf9E0EPVUtMkP8TQT9g45dZARRBbmt74yIDFEGddhMv7AQUQcyBq3q1BhRB+4xDxn4IFEEqmNsRSAoUQVqjc10RDBRBia4LqdoNFEG4uaP0ow8UQefEO0BtERRBFtDTizYTFEFG22vX/xQUQXXmAyPJFhRBpPGbbpIYFEHT/DO6WxoUQQIIzAUlHBRBMhNkUe4dFEFhHvyctx8UQZAplOiAIRRBvzQsNEojFEHuP8R/EyUUQR1LXMvcJhRBTVb0FqYoFEF8YYxibyoUQatsJK44LBRB2ne8+QEuFEEJg1RFyy8UQTmO7JCUMRRBaJmE3F0zFEGXpBwoJzUUQcavtHPwNhRB9bpMv7k4FEEkxuQKgzoUQVTRfFZMPBRBg9wUohU+FEGy56zt3j8UQeHyRDmoQRRBEP7chHFDFEFACXXQOkUUQW8UDRwERxRBnh+lZ81IFEHNKj2zlkoUQfw11f5fTBRBLEFtSilOFEFbTAWW8k8UQYpXneG7URRBuWI1LYVTFEHobc14TlUUQRd5ZcQXVxRBR4T9D+FYFEF2j5VbqloUQaWaLadzXBRB1KXF8jxeFEEDsV0+BmAUQTO89YnPYRRBYseN1ZhjFEGR0iUhYmUUQcDdvWwrZxRB7+hVuPRoFEEe9O0DvmoUQU7/hU+HbBRBfQoem1BuFEGsFbbmGXAUQdsgTjLjcRRBCizmfaxzFEE6N37JdXUUQWlCFhU/dxRBmE2uYAh5FEHHWEas0XoUQfZj3veafBRBJm92Q2R+FEFVeg6PLYAUQYSFptr2gRRBs5A+JsCDFEHim9ZxiYUUQRGnbr1ShxRBQbIGCRyJFEFwvZ5U5YoUQZ/INqCujBRBztPO63eOFEH93mY3QZAUQS3q/oIKkhRBXPWWztOTFEGLAC8anZUUQboLx2VmlxRB6RZfsS+ZFEEYIvf8+JoUQUgtj0jCnBRBdzgnlIueFEGmQ7/fVKAUQdVOVyseohRBBFrvduejFEE0ZYfCsKUUQWNwHw56pxRBknu3WUOpFEHBhk+lDKsUQfCR5/DVrBRBIJ1/PJ+uFEFPqBeIaLAUQX6zr9MxshRBrb5HH/uzFEHcyd9qxLUUQQvVd7aNtxRBO+APAle5FEFq66dNILsUQZn2P5npvBRByAHY5LK+FEH3DHAwfMAUQScYCHxFwhRBViOgxw7EFEGFLjgT2MUUQbQ50F6hxxRB40RoqmrJFEESUAD2M8sUQUJbmEH9zBRBcWYwjcbOFEGgccjYj9AUQc98YCRZ0hRB/of4byLUFEEuk5C769UUQV2eKAe11xRBjKnAUn7ZFEG7tFieR9sUQeq/8OkQ3RRBGsuINdreFEFJ1iCBo+AUQXjhuMxs4hRBp+xQGDbkFEHW9+hj/+UUQQUDga/I5xRBNQ4Z+5HpFEFkGbFGW+sUQZMkSZIk7RRB",
          "dtype": "f8"
         },
         "y": {
          "bdata": "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",
          "dtype": "f8"
         }
        }
       ],
       "layout": {
        "height": 500,
        "template": {
         "data": {
          "bar": [
           {
            "error_x": {
             "color": "#2a3f5f"
            },
            "error_y": {
             "color": "#2a3f5f"
            },
            "marker": {
             "line": {
              "color": "#E5ECF6",
              "width": 0.5
             },
             "pattern": {
              "fillmode": "overlay",
              "size": 10,
              "solidity": 0.2
             }
            },
            "type": "bar"
           }
          ],
          "barpolar": [
           {
            "marker": {
             "line": {
              "color": "#E5ECF6",
              "width": 0.5
             },
             "pattern": {
              "fillmode": "overlay",
              "size": 10,
              "solidity": 0.2
             }
            },
            "type": "barpolar"
           }
          ],
          "carpet": [
           {
            "aaxis": {
             "endlinecolor": "#2a3f5f",
             "gridcolor": "white",
             "linecolor": "white",
             "minorgridcolor": "white",
             "startlinecolor": "#2a3f5f"
            },
            "baxis": {
             "endlinecolor": "#2a3f5f",
             "gridcolor": "white",
             "linecolor": "white",
             "minorgridcolor": "white",
             "startlinecolor": "#2a3f5f"
            },
            "type": "carpet"
           }
          ],
          "choropleth": [
           {
            "colorbar": {
             "outlinewidth": 0,
             "ticks": ""
            },
            "type": "choropleth"
           }
          ],
          "contour": [
           {
            "colorbar": {
             "outlinewidth": 0,
             "ticks": ""
            },
            "colorscale": [
             [
              0,
              "#0d0887"
             ],
             [
              0.1111111111111111,
              "#46039f"
             ],
             [
              0.2222222222222222,
              "#7201a8"
             ],
             [
              0.3333333333333333,
              "#9c179e"
             ],
             [
              0.4444444444444444,
              "#bd3786"
             ],
             [
              0.5555555555555556,
              "#d8576b"
             ],
             [
              0.6666666666666666,
              "#ed7953"
             ],
             [
              0.7777777777777778,
              "#fb9f3a"
             ],
             [
              0.8888888888888888,
              "#fdca26"
             ],
             [
              1,
              "#f0f921"
             ]
            ],
            "type": "contour"
           }
          ],
          "contourcarpet": [
           {
            "colorbar": {
             "outlinewidth": 0,
             "ticks": ""
            },
            "type": "contourcarpet"
           }
          ],
          "heatmap": [
           {
            "colorbar": {
             "outlinewidth": 0,
             "ticks": ""
            },
            "colorscale": [
             [
              0,
              "#0d0887"
             ],
             [
              0.1111111111111111,
              "#46039f"
             ],
             [
              0.2222222222222222,
              "#7201a8"
             ],
             [
              0.3333333333333333,
              "#9c179e"
             ],
             [
              0.4444444444444444,
              "#bd3786"
             ],
             [
              0.5555555555555556,
              "#d8576b"
             ],
             [
              0.6666666666666666,
              "#ed7953"
             ],
             [
              0.7777777777777778,
              "#fb9f3a"
             ],
             [
              0.8888888888888888,
              "#fdca26"
             ],
             [
              1,
              "#f0f921"
             ]
            ],
            "type": "heatmap"
           }
          ],
          "histogram": [
           {
            "marker": {
             "pattern": {
              "fillmode": "overlay",
              "size": 10,
              "solidity": 0.2
             }
            },
            "type": "histogram"
           }
          ],
          "histogram2d": [
           {
            "colorbar": {
             "outlinewidth": 0,
             "ticks": ""
            },
            "colorscale": [
             [
              0,
              "#0d0887"
             ],
             [
              0.1111111111111111,
              "#46039f"
             ],
             [
              0.2222222222222222,
              "#7201a8"
             ],
             [
              0.3333333333333333,
              "#9c179e"
             ],
             [
              0.4444444444444444,
              "#bd3786"
             ],
             [
              0.5555555555555556,
              "#d8576b"
             ],
             [
              0.6666666666666666,
              "#ed7953"
             ],
             [
              0.7777777777777778,
              "#fb9f3a"
             ],
             [
              0.8888888888888888,
              "#fdca26"
             ],
             [
              1,
              "#f0f921"
             ]
            ],
            "type": "histogram2d"
           }
          ],
          "histogram2dcontour": [
           {
            "colorbar": {
             "outlinewidth": 0,
             "ticks": ""
            },
            "colorscale": [
             [
              0,
              "#0d0887"
             ],
             [
              0.1111111111111111,
              "#46039f"
             ],
             [
              0.2222222222222222,
              "#7201a8"
             ],
             [
              0.3333333333333333,
              "#9c179e"
             ],
             [
              0.4444444444444444,
              "#bd3786"
             ],
             [
              0.5555555555555556,
              "#d8576b"
             ],
             [
              0.6666666666666666,
              "#ed7953"
             ],
             [
              0.7777777777777778,
              "#fb9f3a"
             ],
             [
              0.8888888888888888,
              "#fdca26"
             ],
             [
              1,
              "#f0f921"
             ]
            ],
            "type": "histogram2dcontour"
           }
          ],
          "mesh3d": [
           {
            "colorbar": {
             "outlinewidth": 0,
             "ticks": ""
            },
            "type": "mesh3d"
           }
          ],
          "parcoords": [
           {
            "line": {
             "colorbar": {
              "outlinewidth": 0,
              "ticks": ""
             }
            },
            "type": "parcoords"
           }
          ],
          "pie": [
           {
            "automargin": true,
            "type": "pie"
           }
          ],
          "scatter": [
           {
            "fillpattern": {
             "fillmode": "overlay",
             "size": 10,
             "solidity": 0.2
            },
            "type": "scatter"
           }
          ],
          "scatter3d": [
           {
            "line": {
             "colorbar": {
              "outlinewidth": 0,
              "ticks": ""
             }
            },
            "marker": {
             "colorbar": {
              "outlinewidth": 0,
              "ticks": ""
             }
            },
            "type": "scatter3d"
           }
          ],
          "scattercarpet": [
           {
            "marker": {
             "colorbar": {
              "outlinewidth": 0,
              "ticks": ""
             }
            },
            "type": "scattercarpet"
           }
          ],
          "scattergeo": [
           {
            "marker": {
             "colorbar": {
              "outlinewidth": 0,
              "ticks": ""
             }
            },
            "type": "scattergeo"
           }
          ],
          "scattergl": [
           {
            "marker": {
             "colorbar": {
              "outlinewidth": 0,
              "ticks": ""
             }
            },
            "type": "scattergl"
           }
          ],
          "scattermap": [
           {
            "marker": {
             "colorbar": {
              "outlinewidth": 0,
              "ticks": ""
             }
            },
            "type": "scattermap"
           }
          ],
          "scattermapbox": [
           {
            "marker": {
             "colorbar": {
              "outlinewidth": 0,
              "ticks": ""
             }
            },
            "type": "scattermapbox"
           }
          ],
          "scatterpolar": [
           {
            "marker": {
             "colorbar": {
              "outlinewidth": 0,
              "ticks": ""
             }
            },
            "type": "scatterpolar"
           }
          ],
          "scatterpolargl": [
           {
            "marker": {
             "colorbar": {
              "outlinewidth": 0,
              "ticks": ""
             }
            },
            "type": "scatterpolargl"
           }
          ],
          "scatterternary": [
           {
            "marker": {
             "colorbar": {
              "outlinewidth": 0,
              "ticks": ""
             }
            },
            "type": "scatterternary"
           }
          ],
          "surface": [
           {
            "colorbar": {
             "outlinewidth": 0,
             "ticks": ""
            },
            "colorscale": [
             [
              0,
              "#0d0887"
             ],
             [
              0.1111111111111111,
              "#46039f"
             ],
             [
              0.2222222222222222,
              "#7201a8"
             ],
             [
              0.3333333333333333,
              "#9c179e"
             ],
             [
              0.4444444444444444,
              "#bd3786"
             ],
             [
              0.5555555555555556,
              "#d8576b"
             ],
             [
              0.6666666666666666,
              "#ed7953"
             ],
             [
              0.7777777777777778,
              "#fb9f3a"
             ],
             [
              0.8888888888888888,
              "#fdca26"
             ],
             [
              1,
              "#f0f921"
             ]
            ],
            "type": "surface"
           }
          ],
          "table": [
           {
            "cells": {
             "fill": {
              "color": "#EBF0F8"
             },
             "line": {
              "color": "white"
             }
            },
            "header": {
             "fill": {
              "color": "#C8D4E3"
             },
             "line": {
              "color": "white"
             }
            },
            "type": "table"
           }
          ]
         },
         "layout": {
          "annotationdefaults": {
           "arrowcolor": "#2a3f5f",
           "arrowhead": 0,
           "arrowwidth": 1
          },
          "autotypenumbers": "strict",
          "coloraxis": {
           "colorbar": {
            "outlinewidth": 0,
            "ticks": ""
           }
          },
          "colorscale": {
           "diverging": [
            [
             0,
             "#8e0152"
            ],
            [
             0.1,
             "#c51b7d"
            ],
            [
             0.2,
             "#de77ae"
            ],
            [
             0.3,
             "#f1b6da"
            ],
            [
             0.4,
             "#fde0ef"
            ],
            [
             0.5,
             "#f7f7f7"
            ],
            [
             0.6,
             "#e6f5d0"
            ],
            [
             0.7,
             "#b8e186"
            ],
            [
             0.8,
             "#7fbc41"
            ],
            [
             0.9,
             "#4d9221"
            ],
            [
             1,
             "#276419"
            ]
           ],
           "sequential": [
            [
             0,
             "#0d0887"
            ],
            [
             0.1111111111111111,
             "#46039f"
            ],
            [
             0.2222222222222222,
             "#7201a8"
            ],
            [
             0.3333333333333333,
             "#9c179e"
            ],
            [
             0.4444444444444444,
             "#bd3786"
            ],
            [
             0.5555555555555556,
             "#d8576b"
            ],
            [
             0.6666666666666666,
             "#ed7953"
            ],
            [
             0.7777777777777778,
             "#fb9f3a"
            ],
            [
             0.8888888888888888,
             "#fdca26"
            ],
            [
             1,
             "#f0f921"
            ]
           ],
           "sequentialminus": [
            [
             0,
             "#0d0887"
            ],
            [
             0.1111111111111111,
             "#46039f"
            ],
            [
             0.2222222222222222,
             "#7201a8"
            ],
            [
             0.3333333333333333,
             "#9c179e"
            ],
            [
             0.4444444444444444,
             "#bd3786"
            ],
            [
             0.5555555555555556,
             "#d8576b"
            ],
            [
             0.6666666666666666,
             "#ed7953"
            ],
            [
             0.7777777777777778,
             "#fb9f3a"
            ],
            [
             0.8888888888888888,
             "#fdca26"
            ],
            [
             1,
             "#f0f921"
            ]
           ]
          },
          "colorway": [
           "#636efa",
           "#EF553B",
           "#00cc96",
           "#ab63fa",
           "#FFA15A",
           "#19d3f3",
           "#FF6692",
           "#B6E880",
           "#FF97FF",
           "#FECB52"
          ],
          "font": {
           "color": "#2a3f5f"
          },
          "geo": {
           "bgcolor": "white",
           "lakecolor": "white",
           "landcolor": "#E5ECF6",
           "showlakes": true,
           "showland": true,
           "subunitcolor": "white"
          },
          "hoverlabel": {
           "align": "left"
          },
          "hovermode": "closest",
          "mapbox": {
           "style": "light"
          },
          "paper_bgcolor": "white",
          "plot_bgcolor": "#E5ECF6",
          "polar": {
           "angularaxis": {
            "gridcolor": "white",
            "linecolor": "white",
            "ticks": ""
           },
           "bgcolor": "#E5ECF6",
           "radialaxis": {
            "gridcolor": "white",
            "linecolor": "white",
            "ticks": ""
           }
          },
          "scene": {
           "xaxis": {
            "backgroundcolor": "#E5ECF6",
            "gridcolor": "white",
            "gridwidth": 2,
            "linecolor": "white",
            "showbackground": true,
            "ticks": "",
            "zerolinecolor": "white"
           },
           "yaxis": {
            "backgroundcolor": "#E5ECF6",
            "gridcolor": "white",
            "gridwidth": 2,
            "linecolor": "white",
            "showbackground": true,
            "ticks": "",
            "zerolinecolor": "white"
           },
           "zaxis": {
            "backgroundcolor": "#E5ECF6",
            "gridcolor": "white",
            "gridwidth": 2,
            "linecolor": "white",
            "showbackground": true,
            "ticks": "",
            "zerolinecolor": "white"
           }
          },
          "shapedefaults": {
           "line": {
            "color": "#2a3f5f"
           }
          },
          "ternary": {
           "aaxis": {
            "gridcolor": "white",
            "linecolor": "white",
            "ticks": ""
           },
           "baxis": {
            "gridcolor": "white",
            "linecolor": "white",
            "ticks": ""
           },
           "bgcolor": "#E5ECF6",
           "caxis": {
            "gridcolor": "white",
            "linecolor": "white",
            "ticks": ""
           }
          },
          "title": {
           "x": 0.05
          },
          "xaxis": {
           "automargin": true,
           "gridcolor": "white",
           "linecolor": "white",
           "ticks": "",
           "title": {
            "standoff": 15
           },
           "zerolinecolor": "white",
           "zerolinewidth": 2
          },
          "yaxis": {
           "automargin": true,
           "gridcolor": "white",
           "linecolor": "white",
           "ticks": "",
           "title": {
            "standoff": 15
           },
           "zerolinecolor": "white",
           "zerolinewidth": 2
          }
         }
        },
        "title": {
         "text": "Interstitial Concentrations"
        },
        "width": 600,
        "xaxis": {
         "exponentformat": "power",
         "title": {
          "text": "Time [s]"
         },
         "type": "log"
        },
        "yaxis": {
         "exponentformat": "power",
         "title": {
          "text": "Concentration [cm<sup>-3</sup>]"
         },
         "type": "log"
        }
       }
      },
      "image/png": "[encoded data removed]"
     },
     "metadata": {},
     "output_type": "display_data"
    },
    {
     "data": {
      "application/vnd.plotly.v1+json": {
       "config": {
        "plotlyServerURL": "https://plot.ly"
       },
       "data": [
        {
         "mode": "lines",
         "name": "N_L",
         "type": "scatter",
         "x": {
          "bdata": "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",
          "dtype": "f8"
         },
         "y": {
          "bdata": "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",
          "dtype": "f8"
         }
        }
       ],
       "layout": {
        "height": 500,
        "template": {
         "data": {
          "bar": [
           {
            "error_x": {
             "color": "#2a3f5f"
            },
            "error_y": {
             "color": "#2a3f5f"
            },
            "marker": {
             "line": {
              "color": "#E5ECF6",
              "width": 0.5
             },
             "pattern": {
              "fillmode": "overlay",
              "size": 10,
              "solidity": 0.2
             }
            },
            "type": "bar"
           }
          ],
          "barpolar": [
           {
            "marker": {
             "line": {
              "color": "#E5ECF6",
              "width": 0.5
             },
             "pattern": {
              "fillmode": "overlay",
              "size": 10,
              "solidity": 0.2
             }
            },
            "type": "barpolar"
           }
          ],
          "carpet": [
           {
            "aaxis": {
             "endlinecolor": "#2a3f5f",
             "gridcolor": "white",
             "linecolor": "white",
             "minorgridcolor": "white",
             "startlinecolor": "#2a3f5f"
            },
            "baxis": {
             "endlinecolor": "#2a3f5f",
             "gridcolor": "white",
             "linecolor": "white",
             "minorgridcolor": "white",
             "startlinecolor": "#2a3f5f"
            },
            "type": "carpet"
           }
          ],
          "choropleth": [
           {
            "colorbar": {
             "outlinewidth": 0,
             "ticks": ""
            },
            "type": "choropleth"
           }
          ],
          "contour": [
           {
            "colorbar": {
             "outlinewidth": 0,
             "ticks": ""
            },
            "colorscale": [
             [
              0,
              "#0d0887"
             ],
             [
              0.1111111111111111,
              "#46039f"
             ],
             [
              0.2222222222222222,
              "#7201a8"
             ],
             [
              0.3333333333333333,
              "#9c179e"
             ],
             [
              0.4444444444444444,
              "#bd3786"
             ],
             [
              0.5555555555555556,
              "#d8576b"
             ],
             [
              0.6666666666666666,
              "#ed7953"
             ],
             [
              0.7777777777777778,
              "#fb9f3a"
             ],
             [
              0.8888888888888888,
              "#fdca26"
             ],
             [
              1,
              "#f0f921"
             ]
            ],
            "type": "contour"
           }
          ],
          "contourcarpet": [
           {
            "colorbar": {
             "outlinewidth": 0,
             "ticks": ""
            },
            "type": "contourcarpet"
           }
          ],
          "heatmap": [
           {
            "colorbar": {
             "outlinewidth": 0,
             "ticks": ""
            },
            "colorscale": [
             [
              0,
              "#0d0887"
             ],
             [
              0.1111111111111111,
              "#46039f"
             ],
             [
              0.2222222222222222,
              "#7201a8"
             ],
             [
              0.3333333333333333,
              "#9c179e"
             ],
             [
              0.4444444444444444,
              "#bd3786"
             ],
             [
              0.5555555555555556,
              "#d8576b"
             ],
             [
              0.6666666666666666,
              "#ed7953"
             ],
             [
              0.7777777777777778,
              "#fb9f3a"
             ],
             [
              0.8888888888888888,
              "#fdca26"
             ],
             [
              1,
              "#f0f921"
             ]
            ],
            "type": "heatmap"
           }
          ],
          "histogram": [
           {
            "marker": {
             "pattern": {
              "fillmode": "overlay",
              "size": 10,
              "solidity": 0.2
             }
            },
            "type": "histogram"
           }
          ],
          "histogram2d": [
           {
            "colorbar": {
             "outlinewidth": 0,
             "ticks": ""
            },
            "colorscale": [
             [
              0,
              "#0d0887"
             ],
             [
              0.1111111111111111,
              "#46039f"
             ],
             [
              0.2222222222222222,
              "#7201a8"
             ],
             [
              0.3333333333333333,
              "#9c179e"
             ],
             [
              0.4444444444444444,
              "#bd3786"
             ],
             [
              0.5555555555555556,
              "#d8576b"
             ],
             [
              0.6666666666666666,
              "#ed7953"
             ],
             [
              0.7777777777777778,
              "#fb9f3a"
             ],
             [
              0.8888888888888888,
              "#fdca26"
             ],
             [
              1,
              "#f0f921"
             ]
            ],
            "type": "histogram2d"
           }
          ],
          "histogram2dcontour": [
           {
            "colorbar": {
             "outlinewidth": 0,
             "ticks": ""
            },
            "colorscale": [
             [
              0,
              "#0d0887"
             ],
             [
              0.1111111111111111,
              "#46039f"
             ],
             [
              0.2222222222222222,
              "#7201a8"
             ],
             [
              0.3333333333333333,
              "#9c179e"
             ],
             [
              0.4444444444444444,
              "#bd3786"
             ],
             [
              0.5555555555555556,
              "#d8576b"
             ],
             [
              0.6666666666666666,
              "#ed7953"
             ],
             [
              0.7777777777777778,
              "#fb9f3a"
             ],
             [
              0.8888888888888888,
              "#fdca26"
             ],
             [
              1,
              "#f0f921"
             ]
            ],
            "type": "histogram2dcontour"
           }
          ],
          "mesh3d": [
           {
            "colorbar": {
             "outlinewidth": 0,
             "ticks": ""
            },
            "type": "mesh3d"
           }
          ],
          "parcoords": [
           {
            "line": {
             "colorbar": {
              "outlinewidth": 0,
              "ticks": ""
             }
            },
            "type": "parcoords"
           }
          ],
          "pie": [
           {
            "automargin": true,
            "type": "pie"
           }
          ],
          "scatter": [
           {
            "fillpattern": {
             "fillmode": "overlay",
             "size": 10,
             "solidity": 0.2
            },
            "type": "scatter"
           }
          ],
          "scatter3d": [
           {
            "line": {
             "colorbar": {
              "outlinewidth": 0,
              "ticks": ""
             }
            },
            "marker": {
             "colorbar": {
              "outlinewidth": 0,
              "ticks": ""
             }
            },
            "type": "scatter3d"
           }
          ],
          "scattercarpet": [
           {
            "marker": {
             "colorbar": {
              "outlinewidth": 0,
              "ticks": ""
             }
            },
            "type": "scattercarpet"
           }
          ],
          "scattergeo": [
           {
            "marker": {
             "colorbar": {
              "outlinewidth": 0,
              "ticks": ""
             }
            },
            "type": "scattergeo"
           }
          ],
          "scattergl": [
           {
            "marker": {
             "colorbar": {
              "outlinewidth": 0,
              "ticks": ""
             }
            },
            "type": "scattergl"
           }
          ],
          "scattermap": [
           {
            "marker": {
             "colorbar": {
              "outlinewidth": 0,
              "ticks": ""
             }
            },
            "type": "scattermap"
           }
          ],
          "scattermapbox": [
           {
            "marker": {
             "colorbar": {
              "outlinewidth": 0,
              "ticks": ""
             }
            },
            "type": "scattermapbox"
           }
          ],
          "scatterpolar": [
           {
            "marker": {
             "colorbar": {
              "outlinewidth": 0,
              "ticks": ""
             }
            },
            "type": "scatterpolar"
           }
          ],
          "scatterpolargl": [
           {
            "marker": {
             "colorbar": {
              "outlinewidth": 0,
              "ticks": ""
             }
            },
            "type": "scatterpolargl"
           }
          ],
          "scatterternary": [
           {
            "marker": {
             "colorbar": {
              "outlinewidth": 0,
              "ticks": ""
             }
            },
            "type": "scatterternary"
           }
          ],
          "surface": [
           {
            "colorbar": {
             "outlinewidth": 0,
             "ticks": ""
            },
            "colorscale": [
             [
              0,
              "#0d0887"
             ],
             [
              0.1111111111111111,
              "#46039f"
             ],
             [
              0.2222222222222222,
              "#7201a8"
             ],
             [
              0.3333333333333333,
              "#9c179e"
             ],
             [
              0.4444444444444444,
              "#bd3786"
             ],
             [
              0.5555555555555556,
              "#d8576b"
             ],
             [
              0.6666666666666666,
              "#ed7953"
             ],
             [
              0.7777777777777778,
              "#fb9f3a"
             ],
             [
              0.8888888888888888,
              "#fdca26"
             ],
             [
              1,
              "#f0f921"
             ]
            ],
            "type": "surface"
           }
          ],
          "table": [
           {
            "cells": {
             "fill": {
              "color": "#EBF0F8"
             },
             "line": {
              "color": "white"
             }
            },
            "header": {
             "fill": {
              "color": "#C8D4E3"
             },
             "line": {
              "color": "white"
             }
            },
            "type": "table"
           }
          ]
         },
         "layout": {
          "annotationdefaults": {
           "arrowcolor": "#2a3f5f",
           "arrowhead": 0,
           "arrowwidth": 1
          },
          "autotypenumbers": "strict",
          "coloraxis": {
           "colorbar": {
            "outlinewidth": 0,
            "ticks": ""
           }
          },
          "colorscale": {
           "diverging": [
            [
             0,
             "#8e0152"
            ],
            [
             0.1,
             "#c51b7d"
            ],
            [
             0.2,
             "#de77ae"
            ],
            [
             0.3,
             "#f1b6da"
            ],
            [
             0.4,
             "#fde0ef"
            ],
            [
             0.5,
             "#f7f7f7"
            ],
            [
             0.6,
             "#e6f5d0"
            ],
            [
             0.7,
             "#b8e186"
            ],
            [
             0.8,
             "#7fbc41"
            ],
            [
             0.9,
             "#4d9221"
            ],
            [
             1,
             "#276419"
            ]
           ],
           "sequential": [
            [
             0,
             "#0d0887"
            ],
            [
             0.1111111111111111,
             "#46039f"
            ],
            [
             0.2222222222222222,
             "#7201a8"
            ],
            [
             0.3333333333333333,
             "#9c179e"
            ],
            [
             0.4444444444444444,
             "#bd3786"
            ],
            [
             0.5555555555555556,
             "#d8576b"
            ],
            [
             0.6666666666666666,
             "#ed7953"
            ],
            [
             0.7777777777777778,
             "#fb9f3a"
            ],
            [
             0.8888888888888888,
             "#fdca26"
            ],
            [
             1,
             "#f0f921"
            ]
           ],
           "sequentialminus": [
            [
             0,
             "#0d0887"
            ],
            [
             0.1111111111111111,
             "#46039f"
            ],
            [
             0.2222222222222222,
             "#7201a8"
            ],
            [
             0.3333333333333333,
             "#9c179e"
            ],
            [
             0.4444444444444444,
             "#bd3786"
            ],
            [
             0.5555555555555556,
             "#d8576b"
            ],
            [
             0.6666666666666666,
             "#ed7953"
            ],
            [
             0.7777777777777778,
             "#fb9f3a"
            ],
            [
             0.8888888888888888,
             "#fdca26"
            ],
            [
             1,
             "#f0f921"
            ]
           ]
          },
          "colorway": [
           "#636efa",
           "#EF553B",
           "#00cc96",
           "#ab63fa",
           "#FFA15A",
           "#19d3f3",
           "#FF6692",
           "#B6E880",
           "#FF97FF",
           "#FECB52"
          ],
          "font": {
           "color": "#2a3f5f"
          },
          "geo": {
           "bgcolor": "white",
           "lakecolor": "white",
           "landcolor": "#E5ECF6",
           "showlakes": true,
           "showland": true,
           "subunitcolor": "white"
          },
          "hoverlabel": {
           "align": "left"
          },
          "hovermode": "closest",
          "mapbox": {
           "style": "light"
          },
          "paper_bgcolor": "white",
          "plot_bgcolor": "#E5ECF6",
          "polar": {
           "angularaxis": {
            "gridcolor": "white",
            "linecolor": "white",
            "ticks": ""
           },
           "bgcolor": "#E5ECF6",
           "radialaxis": {
            "gridcolor": "white",
            "linecolor": "white",
            "ticks": ""
           }
          },
          "scene": {
           "xaxis": {
            "backgroundcolor": "#E5ECF6",
            "gridcolor": "white",
            "gridwidth": 2,
            "linecolor": "white",
            "showbackground": true,
            "ticks": "",
            "zerolinecolor": "white"
           },
           "yaxis": {
            "backgroundcolor": "#E5ECF6",
            "gridcolor": "white",
            "gridwidth": 2,
            "linecolor": "white",
            "showbackground": true,
            "ticks": "",
            "zerolinecolor": "white"
           },
           "zaxis": {
            "backgroundcolor": "#E5ECF6",
            "gridcolor": "white",
            "gridwidth": 2,
            "linecolor": "white",
            "showbackground": true,
            "ticks": "",
            "zerolinecolor": "white"
           }
          },
          "shapedefaults": {
           "line": {
            "color": "#2a3f5f"
           }
          },
          "ternary": {
           "aaxis": {
            "gridcolor": "white",
            "linecolor": "white",
            "ticks": ""
           },
           "baxis": {
            "gridcolor": "white",
            "linecolor": "white",
            "ticks": ""
           },
           "bgcolor": "#E5ECF6",
           "caxis": {
            "gridcolor": "white",
            "linecolor": "white",
            "ticks": ""
           }
          },
          "title": {
           "x": 0.05
          },
          "xaxis": {
           "automargin": true,
           "gridcolor": "white",
           "linecolor": "white",
           "ticks": "",
           "title": {
            "standoff": 15
           },
           "zerolinecolor": "white",
           "zerolinewidth": 2
          },
          "yaxis": {
           "automargin": true,
           "gridcolor": "white",
           "linecolor": "white",
           "ticks": "",
           "title": {
            "standoff": 15
           },
           "zerolinecolor": "white",
           "zerolinewidth": 2
          }
         }
        },
        "title": {
         "text": "Dislocation Loop Density"
        },
        "width": 600,
        "xaxis": {
         "title": {
          "text": "Dose [dpa]"
         }
        },
        "yaxis": {
         "title": {
          "text": "Loop Density [ 10<sup>15</sup> cm<sup>-3</sup>] "
         }
        }
       }
      },
      "image/png": "[encoded data removed]"
     },
     "metadata": {},
     "output_type": "display_data"
    },
    {
     "data": {
      "application/vnd.plotly.v1+json": {
       "config": {
        "plotlyServerURL": "https://plot.ly"
       },
       "data": [
        {
         "mode": "lines",
         "name": "R_L",
         "type": "scatter",
         "x": {
          "bdata": "R2xsnq9FET43d7rvtGNQP0T6jGW0Y2A/7Lg8U46VaD/KO3YgtGNwPx4bThehfHQ/cfolDo6VeD/G2f0Ee658P43c6v2zY4A/N8xWeSpwgj/hu8L0oHyEP4urLnAXiYY/NZua642ViD/figZnBKKKP4l6cuJ6row/NGreXfG6jj/vLKXss2OQP8MkWyrvaZE/mBwRaCpwkj9uFMelZXaTP0MMfeOgfJQ/FwQzIdyClT/t++heF4mWP8LznpxSj5c/lutU2o2VmD9s4woYyZuZP0HbwFUEopo/FtN2kz+omz/ryizReq6cP8DC4g62tJ0/lbqYTPG6nj9qsk6KLMGfPx9VAuSzY6A/ClHdgtHmoD/0TLgh72mhP99Ik8AM7aE/yURuXypwoj+0QEn+R/OiP548JJ1ldqM/iTj/O4P5oz90NNraoHykP18wtXm+/6Q/SCyQGNyCpT8zKGu3+QWmPx0kRlYXiaY/CCAh9TQMpz/zG/yTUo+nP90X1zJwEqg/xxOy0Y2VqD+yD41wqxipP5wLaA/Jm6k/hwdDruYeqj9yAx5NBKKqP1z/+OshJas/R/vTij+oqz8x964pXSusPxvzich6rqw/Bu9kZ5gxrT/x6j8GtrStP9vmGqXTN64/xuL1Q/G6rj+w3tDiDj6vP5raq4Eswa8/Q2tDECUisD846bDfs2OwPy1nHq9CpbA/I+WLftHmsD8YY/lNYCixPw3hZh3vabE/Al/U7H2rsT/33EG8DO2xP+1ar4ubLrI/4dgcWypwsj/XVooqubGyP8zU9/lH87I/wlJlydY0sz+30NKYZXazP6xOQGj0t7M/osytN4P5sz+XShsHEju0P4zIiNagfLQ/gkb2pS++tD93xGN1vv+0P2xC0URNQbU/YMA+FNyCtT9WPqzjasS1P0u8GbP5BbY/QDqHgohHtj82uPRRF4m2Pys2YiGmyrY/IbTP8DQMtz8WMj3Aw023Pwuwqo9Sj7c/AS4YX+HQtz/2q4UucBK4P+sp8/3+U7g/36dgzY2VuD/VJc6cHNe4P8qjO2yrGLk/vyGpOzpauT+1nxYLyZu5P6odhNpX3bk/oJvxqeYeuj+VGV95dWC6P4qXzEgEoro/gBU6GJPjuj91k6fnISW7P2oRFbewZrs/YI+Chj+ouz9UDfBVzum7P0mLXSVdK7w/PgnL9OtsvD80hzjEeq68PykFppMJ8Lw/HoMTY5gxvT8UAYEyJ3O9Pwl/7gG2tL0///xb0UT2vT/0esmg0ze+P+n4NnBieb4/33akP/G6vj/U9BEPgPy+P8hyf94OPr8/vfDsrZ1/vz+zblp9LMG/P1T2Y6ZdAcA/T7UaDiUiwD9JdNF17ELAP0QziN2zY8A/P/I+RXuEwD85sfWsQqXAPzRwrBQKxsA/Ly9jfNHmwD8p7hnkmAfBPySt0EtgKME/HmyHsydJwT8ZKz4b72nBPxTq9IK2isE/Dqmr6n2rwT8JaGJSRczBPwQnGboM7cE//uXPIdQNwj/5pIaJmy7CP/RjPfFiT8I/7iL0WCpwwj/p4arA8ZDCP+SgYSi5scI/3l8YkIDSwj/ZHs/3R/PCP9TdhV8PFMM/zpw8x9Y0wz/JW/MunlXDP8QaqpZldsM/vtlg/iyXwz+5mBdm9LfDP7RXzs272MM/rhaFNYP5wz+p1TudShrEP6SU8gQSO8Q/nlOpbNlbxD+ZEmDUoHzEP5TRFjxoncQ/jpDNoy++xD+JT4QL997EP4QOO3O+/8Q/fs3x2oUgxT95jKhCTUHFP3NLX6oUYsU/bQoWEtyCxT9oycx5o6PFP2OIg+FqxMU/XUc6STLlxT9YBvGw+QXGP1PFpxjBJsY/TYRegIhHxj9IQxXoT2jGP0MCzE8XicY/PcGCt96pxj84gDkfpsrGPzM/8IZt68Y/Lf6m7jQMxz8ovV1W/CzHPyN8FL7DTcc/HTvLJYtuxz8Y+oGNUo/HPxO5OPUZsMc/DXjvXOHQxz8IN6bEqPHHPwP2XCxwEsg//bQTlDczyD/4c8r7/lPIP/MygWPGdMg/7PE3y42VyD/nsO4yVbbIP+JvpZoc18g/3C5cAuT3yD/X7RJqqxjJP9KsydFyOck/zGuAOTpayT/HKjehAXvJP8Lp7QjJm8k/vKikcJC8yT+3Z1vYV93JP7ImEkAf/sk/rOXIp+Yeyj+npH8Prj/KP6JjNnd1YMo/nCLt3jyByj+X4aNGBKLKP5KgWq7Lwso/jF8RFpPjyj+HHsh9WgTLP4LdfuUhJcs/fJw1TelFyz93W+y0sGbLP3Iaoxx4h8s/bNlZhD+oyz9nmBDsBsnLP2FXx1PO6cs/WxZ+u5UKzD9W1TQjXSvMP1GU64okTMw/S1Oi8utszD9GEllas43MP0HRD8J6rsw/O5DGKULPzD82T32RCfDMPzEONPnQEM0/K83qYJgxzT8mjKHIX1LNPyFLWDAnc80/GwoPmO6TzT8WycX/tbTNPxGIfGd91c0/C0czz0T2zT8GBuo2DBfOPwHFoJ7TN84/+4NXBptYzj/2Qg5uYnnOP/EBxdUpms4/68B7PfG6zj/mfzKluNvOP+E+6QyA/M4/2/2fdEcdzz/VvFbcDj7PP9B7DUTWXs8/yjrEq51/zz/F+XoTZaDPP8C4MXsswc8/unfo4vPhzz9am0+lXQHQP9j6KlnBEdA/VVoGDSUi0D/SueHAiDLQP1AZvXTsQtA/zXiYKFBT0D9K2HPcs2PQP8g3T5AXdNA/RZcqRHuE0D/C9gX43pTQP0BW4atCpdA/vbW8X6a10D86FZgTCsbQP7h0c8dt1tA/NdROe9Hm0D+yMyovNffQPzCTBeOYB9E/rfLglvwX0T8rUrxKYCjRP6exl/7DONE/JRFzsidJ0T+icE5mi1nRPx/QKRrvadE/nS8FzlJ60T8aj+CBtorRP5fuuzUam9E/FU6X6X2r0T+SrXKd4bvRPw8NTlFFzNE/jWwpBanc0T8KzAS5DO3RP4cr4Gxw/dE/BYu7INQN0j+C6pbUNx7SP/9JcoibLtI/falNPP8+0j/6CCnwYk/SP3doBKTGX9I/9MffVypw0j9yJ7sLjoDSP++Glr/xkNI/beZxc1Wh0j/pRU0nubHSP2elKNscwtI/5AQEj4DS0j9iZN9C5OLSP9/DuvZH89I/XSOWqqsD0z/ZgnFeDxTTP1fiTBJzJNM/1EEoxtY00z9SoQN6OkXTP88A3y2eVdM/TWC64QFm0z/Jv5WVZXbTP0cfcUnJhtM/xH5M/SyX0z9C3iexkKfTP789A2X0t9M/PJ3eGFjI0z+5/LnMu9jTPzZclYAf6dM/tLtwNIP50z8xG0zo5gnUP696J5xKGtQ/LNoCUK4q1D+pOd4DEjvUPyaZubd1S9Q/pPiUa9lb1D8hWHAfPWzUP5+3S9OgfNQ/HBcnhwSN1D+adgI7aJ3UPxbW3e7LrdQ/lDW5oi++1D8RlZRWk87UP4/0bwr33tQ/DFRLvlrv1D+KsyZyvv/UPwYTAiYiENU/hHLd2YUg1T8B0riN6TDVP38xlEFNQdU//JBv9bBR1T948EqpFGLVP/ZPJl14ctU/c68BEdyC1T/xDt3EP5PVP25uuHijo9U/7M2TLAe01T9oLW/gasTVP+aMSpTO1NU/Y+wlSDLl1T/hSwH8lfXVP16r3K/5BdY/3Aq4Y10W1j9YapMXwSbWP9bJbsskN9Y/UylKf4hH1j/RiCUz7FfWP07oAOdPaNY/zEfcmrN41j9Ip7dOF4nWP8YGkwJ7mdY/Q2Zutt6p1j/BxUlqQrrWPz4lJR6mytY/vIQA0gnb1j845NuFbevWP7VDtznR+9Y/M6OS7TQM1z+wAm6hmBzXPy5iSVX8LNc/q8EkCWA91z8oIQC9w03XP6WA23AnXtc/I+C2JItu1z+gP5LY7n7XPx6fbYxSj9c/m/5IQLaf1z8YXiT0GbDXP5W9/6d9wNc/Ex3bW+HQ1z+QfLYPReHXPw7ckcOo8dc/izttdwwC2D8Im0grcBLYP4X6I9/TItg/A1r/kjcz2D+AudpGm0PYP/4Ytvr+U9g/e3iRrmJk2D/512xixnTYP3U3SBYqhdg/8pYjyo2V2D9w9v598aXYP+1V2jFVttg/a7W15bjG2D/nFJGZHNfYP2V0bE2A59g/4tNHAeT32D9gMyO1RwjZP92S/mirGNk/W/LZHA8p2T/XUbXQcjnZP1WxkITWSdk/0hBsODpa2T9QcEfsnWrZP83PIqABe9k/Sy/+U2WL2T/HjtkHyZvZP0XutLssrNk/wk2Qb5C82T9ArWsj9MzZP70MR9dX3dk/O2wii7vt2T+3y/0+H/7ZPzUr2fKCDto/soq0puYe2j8w6o9aSi/aP61Jaw6uP9o/KqlGwhFQ2j+nCCJ2dWDaPyRo/SnZcNo/osfY3TyB2j8fJ7SRoJHaP52Gj0UEoto/GuZq+Wey2j+XRUaty8LaPxSlIWEv09o/kgT9FJPj2j8PZNjI9vPaP43Ds3xaBNs/CiOPML4U2z+HgmrkISXbPwTiRZiFNds/gkEhTOlF2z//oPz/TFbbP30A2LOwZts/+l+zZxR32z93v44beIfbP/Qeas/bl9s/cn5Fgz+o2z/v3SA3o7jbP209/OoGyds/6pzXnmrZ2z9m/LJSzunbP+RbjgYy+ts/YbtpupUK3D/fGkVu+RrcP1x6ICJdK9w/2tn71cA73D9WOdeJJEzcP9SYsj2IXNw/UfiN8ets3D/PV2mlT33cP0y3RFmzjdw/yhYgDRee3D9GdvvAeq7cP8TV1nTevtw/QTWyKELP3D+/lI3cpd/cPzz0aJAJ8Nw/ulNERG0A3T82sx/40BDdP7QS+6s0Id0/MXLWX5gx3T+v0bET/EHdPywxjcdfUt0/qpBoe8Ni3T8m8EMvJ3PdP6NPH+OKg90/Ia/6lu6T3T+eDtZKUqTdPxxusf61tN0/mc2MshnF3T8WLWhmfdXdP5OMQxrh5d0/EewezkT23T+OS/qBqAbePwyr1TUMF94/iQqx6W8n3j8Gaoyd0zfeP4PJZ1E3SN4/ASlDBZtY3j9+iB65/mjeP/zn+Wxied4/eUfVIMaJ3j/2prDUKZreP3MGjIiNqt4/8WVnPPG63j9uxULwVMveP+wkHqS4294/aYT5Vxzs3j/m49QLgPzeP2NDsL/jDN8/4aKLc0cd3z9eAmcnqy3fP9thQtsOPt8/WcEdj3JO3z/VIPlC1l7fP1OA1PY5b98/0N+vqp1/3z9OP4teAZDfP8ueZhJloN8/Sf5Bxsiw3z/FXR16LMHfP0O9+C2Q0d8/wBzU4fPh3z8+fK+VV/LfP91txaRdAeA/nB2zfo8J4D9bzaBYwRHgPxp9jjLzGeA/2Cx8DCUi4D+X3GnmVirgP1WMV8CIMuA/FDxFmro64D/T6zJ07ELgP5KbIE4eS+A/UEsOKFBT4D8P+/sBglvgP82q6duzY+A/jFrXteVr4D9LCsWPF3TgPwm6smlJfOA/yGmgQ3uE4D+GGY4drYzgP0XJe/felOA/BHlp0RCd4D/DKFerQqXgP4HYRIV0reA/QIgyX6a14D/+NyA52L3gP73nDRMKxuA/fJf77DvO4D87R+nGbdbgP/n21qCf3uA/uKbEetHm4D92VrJUA+/gPzUGoC419+A/9LWNCGf/4D+zZXvimAfhP3EVabzKD+E/MMVWlvwX4T/udERwLiDhP60kMkpgKOE/bNQfJJIw4T8qhA3+wzjhP+kz+9f1QOE/qOPosSdJ4T9mk9aLWVHhPyVDxGWLWeE/5PKxP71h4T+iop8Z72nhP2FSjfMgcuE/IAJ7zVJ64T/esWinhILhP51hVoG2iuE/XBFEW+iS4T8awTE1GpvhP9lwHw9Mo+E/mCAN6X2r4T9W0PrCr7PhPxWA6Jzhu+E/1C/WdhPE4T+S38NQRczhP1GPsSp31OE/ED+fBKnc4T/O7oze2uThP42eergM7eE/TE5okj714T8K/lVscP3hP8mtQ0aiBeI/iF0xINQN4j9GDR/6BRbiPwW9DNQ3HuI/w2z6rWkm4j+CHOiHmy7iP0HM1WHNNuI/AHzDO/8+4j++K7EVMUfiP33bnu9iT+I/O4uMyZRX4j/6Onqjxl/iP7nqZ334Z+I/d5pVVypw4j82SkMxXHjiP/X5MAuOgOI/tKke5b+I4j9yWQy/8ZDiPzEJ+pgjmeI/8LjnclWh4j+vaNVMh6niP2wYwya5seI/K8iwAOu54j/qd57aHMLiP6knjLROyuI/Z9d5joDS4j8mh2dostriP+U2VULk4uI/o+ZCHBbr4j9iljD2R/PiPyFGHtB5++I/4PULqqsD4z+dpfmD3QvjP1xV510PFOM/GwXVN0Ec4z/atMIRcyTjP5hksOukLOM/VxSexdY04z8WxIufCD3jP9VzeXk6ReM/kyNnU2xN4z9S01QtnlXjPxGDQgfQXeM/0DIw4QFm4z+N4h27M27jP0ySC5VlduM/C0L5bpd+4z/K8eZIyYbjP4ih1CL7juM/R1HC/CyX4z8GAbDWXp/jP8WwnbCQp+M/g2CLisKv4z9CEHlk9LfjPwHAZj4mwOM/vm9UGFjI4z99H0LyidDjPzzPL8y72OM/+34dpu3g4z+5LguAH+njP3je+FlR8eM/N47mM4P54z/2PdQNtQHkP7TtwefmCeQ/c52vwRgS5D8yTZ2bShrkP/H8inV8IuQ/rqx4T64q5D9tXGYp4DLkPywMVAMSO+Q/67tB3UND5D+pay+3dUvkP2gbHZGnU+Q/J8sKa9lb5D/mevhEC2TkP6Qq5h49bOQ/Y9rT+G505D8iisHSoHzkP+A5r6zShOQ/numchgSN5D9dmYpgNpXkPxxJeDponeQ/2vhlFJql5D+ZqFPuy63kP1hYQcj9teQ/Fwgvoi++5D/Vtxx8YcbkP5RnClaTzuQ/Uxf4L8XW5D8Sx+UJ997kP9B20+Mo5+Q/jybBvVrv5D9N1q6XjPfkPwyGnHG+/+Q/yjWKS/AH5T+J5XclIhDlP0iVZf9TGOU/B0VT2YUg5T/F9ECztyjlP4SkLo3pMOU/Q1QcZxs55T8CBApBTUHlP8Cz9xp/SeU/f2Pl9LBR5T89E9PO4lnlP/vCwKgUYuU/unKugkZq5T95IpxceHLlPzjSiTaqeuU/9oF3ENyC5T+1MWXqDYvlP3ThUsQ/k+U/M5FAnnGb5T/xQC54o6PlP7DwG1LVq+U/b6AJLAe05T8uUPcFObzlP+v/5N9qxOU/qq/SuZzM5T9pX8CTztTlPygPrm0A3eU/5r6bRzLl5T+lbokhZO3lP2Qed/uV9eU/I85k1cf95T/hfVKv+QXmP6AtQIkrDuY/X90tY10W5j8ejRs9jx7mP9s8CRfBJuY/muz28PIu5j9ZnOTKJDfmPxdM0qRWP+Y/1vu/fohH5j+Vq61Yuk/mP1RbmzLsV+Y/EguJDB5g5j/RunbmT2jmP5BqZMCBcOY/TxpSmrN45j8Myj905YDmP8t5LU4XieY/iikbKEmR5j9J2QgCe5nmPweJ9tusoeY/xjjktd6p5j+F6NGPELLmP0SYv2lCuuY/AkitQ3TC5j/B95odpsrmP4CniPfX0uY/P1d20Qnb5j/8BmSrO+PmP7u2UYVt6+Y/emY/X5/z5j84Fi050fvmP/fFGhMDBOc/tnUI7TQM5z91JfbGZhTnPzPV46CYHOc/8oTResok5z+xNL9U/CznP3DkrC4uNec/LZSaCGA95z/sQ4jikUXnP6vzdbzDTec/aqNjlvVV5z8oU1FwJ17nP+cCP0pZZuc/prIsJItu5z9lYhr+vHbnPyMSCNjufuc/4sH1sSCH5z+hceOLUo/nP2Ah0WWEl+c/HdG+P7af5z/cgKwZ6KfnP5swmvMZsOc/WuCHzUu45z8YkHWnfcDnP9c/Y4GvyOc/lu9QW+HQ5z9Unz41E9nnPxNPLA9F4ec/0v4Z6Xbp5z+RrgfDqPHnP09e9Zza+ec/DQ7jdgwC6D/MvdBQPgroP4ttvipwEug/SR2sBKIa6D8IzZne0yLoP8d8h7gFK+g/hix1kjcz6D9E3GJsaTvoPwOMUEabQ+g/wjs+IM1L6D+B6yv6/lPoPz+bGdQwXOg//koHrmJk6D+8+vSHlGzoP3uq4mHGdOg/OVrQO/h86D/4Cb4VKoXoP7e5q+9bjeg/dWmZyY2V6D80GYejv53oP/PIdH3xpeg/snhiVyOu6D9wKFAxVbboPy/YPQuHvug/7ocr5bjG6D+sNxm/6s7oP2rnBpkc1+g/KZf0ck7f6D/oRuJMgOfoP6f2zyay7+g/Zaa9AOT36D8kVqvaFQDpP+MFmbRHCOk/orWGjnkQ6T9gZXRoqxjpPx8VYkLdIOk/3sRPHA8p6T+ddD32QDHpP1okK9ByOek/GdQYqqRB6T/YgwaE1knpP5cz9F0IUuk/VePhNzpa6T8Uk88RbGLpP9NCveudauk/kfKqxc9y6T9QopifAXvpPw9Shnkzg+k/zgF0U2WL6T+LsWEtl5PpP0phTwfJm+k/CRE94fqj6T/IwCq7LKzpP4ZwGJVetOk/RSAGb5C86T8E0PNIwsTpP8N/4SL0zOk/gS/P/CXV6T9A37zWV93pP/+OqrCJ5ek/vj6Yirvt6T977oVk7fXpPzqecz4f/uk/+U1hGFEG6j+4/U7ygg7qP3atPMy0Fuo/NV0qpuYe6j/0DBiAGCfqP7O8BVpKL+o/cWzzM3w36j8wHOENrj/qP+/LzuffR+o/rHu8wRFQ6j9rK6qbQ1jqPyrbl3V1YOo/6YqFT6do6j+nOnMp2XDqP2bqYAMLeeo/JZpO3TyB6j/kSTy3bonqP6L5KZGgkeo/YakXa9KZ6j8gWQVFBKLqP98I8x42quo/nLjg+Gey6j9baM7SmbrqPxoYvKzLwuo/2cephv3K6j+Xd5dgL9PqP1YnhTph2+o/FddyFJPj6j/UhmDuxOvqP5I2Tsj28+o/UeY7oij86j8Qlil8WgTrP85FF1aMDOs/jPUEML4U6z9LpfIJ8BzrPwpV4OMhJes/yATOvVMt6z+HtLuXhTXrP0ZkqXG3Pes/BRSXS+lF6z/Dw4QlG07rP4Jzcv9MVus/QSNg2X5e6z8A002zsGbrP76CO43ibus/fDIpZxR36z874hZBRn/rP/qRBBt4h+s/uEHy9KmP6z938d/O25frPzahzagNoOs/9VC7gj+o6z+zAKlccbDrP3KwljajuOs/MWCEENXA6z/wD3LqBsnrP66/X8Q40es/bW9NnmrZ6z8rHzt4nOHrP+nOKFLO6es/qH4WLADy6z9nLgQGMvrrPybe8d9jAuw/5I3fuZUK7D+jPc2TxxLsP2Ltum35Guw/IZ2oRysj7D/fTJYhXSvsP578g/uOM+w/Xaxx1cA77D8bXF+v8kPsP9kLTYkkTOw/mLs6Y1ZU7D9Xayg9iFzsPxYbFhe6ZOw/1MoD8ets7D+TevHKHXXsP1Iq36RPfew/EdrMfoGF7D/PibpYs43sP445qDLllew/TemVDBee7D8LmYPmSKbsP8lIccB6ruw/iPhemqy27D9HqEx03r7sPwVYOk4Qx+w/xAcoKELP7D+DtxUCdNfsP0JnA9yl3+w/ABfxtdfn7D+/xt6PCfDsP352zGk7+Ow/PSa6Q20A7T/61acdnwjtP7mFlffQEO0/eDWD0QIZ7T835XCrNCHtP/WUXoVmKe0/tERMX5gx7T9z9Dk5yjntPzKkJxP8Qe0/8FMV7S1K7T+vAwPHX1LtP26z8KCRWu0/LWPeesNi7T/qEsxU9WrtP6nCuS4nc+0/aHKnCFl77T8mIpXiioPtP+XRgry8i+0/pIFwlu6T7T9jMV5wIJztPyHhS0pSpO0/4JA5JISs7T+fQCf+tbTtP17wFNjnvO0/G6ACshnF7T/aT/CLS83tP5n/3WV91e0/WK/LP6/d7T8WX7kZ4eXtP9UOp/MS7u0/lL6UzUT27T9TboKndv7tPxEecIGoBu4/0M1dW9oO7j+PfUs1DBfuP04tOQ8+H+4/C90m6W8n7j/KjBTDoS/uP4k8Ap3TN+4/SOzvdgVA7j8GnN1QN0juP8VLyyppUO4/hPu4BJtY7j9Cq6bezGDuPwFblLj+aO4/wAqCkjBx7j9/um9sYnnuPz1qXUaUge4/+xlLIMaJ7j+6yTj695HuP3l5JtQpmu4/NykUrlui7j/22AGIjaruP7WI72G/su4/dDjdO/G67j8y6MoVI8PuP/GXuO9Uy+4/sEemyYbT7j9v95OjuNvuPy2ngX3q4+4/61ZvVxzs7j+qBl0xTvTuP2m2SguA/O4/J2Y45bEE7z/mFSa/4wzvP6XFE5kVFe8/ZHUBc0cd7z8iJe9MeSXvP+HU3CarLe8/oITKAN017z9eNLjaDj7vPx3kpbRARu8/3JOTjnJO7z+aQ4FopFbvP1jzbkLWXu8/F6NcHAhn7z/WUkr2OW/vP5UCONBrd+8/U7Ilqp1/7z8SYhOEz4fvP9ERAV4BkO8/kMHuNzOY7z9OcdwRZaDvPw0hyuuWqO8/zNC3xciw7z+KgKWf+rjvP0gwk3kswe8/B+CAU17J7z/Gj24tkNHvP4U/XAfC2e8/Q+9J4fPh7z8Cnze7JervP8FOJZVX8u8/f/4Sb4n67z8fV4CkXQHwP/4ud5F2BfA/3gZufo8J8D+93mRrqA3wP5y2W1jBEfA/fI5SRdoV8D9bZkky8xnwPzo+QB8MHvA/GRY3DCUi8D/57S35PSbwP9jFJOZWKvA/t50b028u8D+XdRLAiDLwP3ZNCa2hNvA/ViUAmro68D81/faG0z7wPxTV7XPsQvA/9KzkYAVH8D/ThNtNHkvwP7Jc0jo3T/A/kTTJJ1BT8D9xDMAUaVfwP1DktgGCW/A/L7yt7ppf8D8PlKTbs2PwP+5rm8jMZ/A/zUOSteVr8D+tG4mi/m/wP4zzf48XdPA/bMt2fDB48D9Lo21pSXzwPyp7ZFZigPA/ClNbQ3uE8D/pKlIwlIjwP8gCSR2tjPA/p9o/CsaQ8D+Hsjb33pTwP2aKLeT3mPA/RWIk0RCd8D8lOhu+KaHwPwQSEqtCpfA/5OkImFup8D/Dwf+EdK3wP6KZ9nGNsfA/gnHtXqa18D9hSeRLv7nwP0Ah2zjYvfA/H/nRJfHB8D//0MgSCsbwP96ov/8iyvA/vYC27DvO8D+dWK3ZVNLwP3wwpMZt1vA/Wwibs4ba8D874JGgn97wPxq4iI244vA/+o9/etHm8D/YZ3Zn6urwP7g/bVQD7/A/lxdkQRzz8D9371ouNffwP1bHURtO+/A/NZ9ICGf/8D8Vdz/1fwPxP/RONuKYB/E/0yYtz7EL8T+z/iO8yg/xP5LWGqnjE/E/cq4RlvwX8T9QhgiDFRzxPzBe/28uIPE/Dzb2XEck8T/vDe1JYCjxP87l4zZ5LPE/rb3aI5Iw8T+NldEQqzTxP2xtyP3DOPE/S0W/6tw88T8rHbbX9UDxPwr1rMQORfE/6cyjsSdJ8T/IpJqeQE3xP6h8kYtZUfE/h1SIeHJV8T9mLH9li1nxP0YEdlKkXfE/JdxsP71h8T8FtGMs1mXxP+SLWhnvafE/w2NRBghu8T+jO0jzIHLxP4ITP+A5dvE/Yes1zVJ68T9Awyy6a37xPyCbI6eEgvE//3IalJ2G8T/eShGBtorxP74iCG7PjvE/nfr+WuiS8T990vVHAZfxP1yq7DQam/E/O4LjITOf8T8bWtoOTKPxP/ox0ftkp/E/2QnI6H2r8T+44b7Vlq/xP5i5tcKvs/E/d5Gsr8i38T9WaaOc4bvxPzZBmon6v/E/FRmRdhPE8T/08IdjLMjxP9TIflBFzPE/s6B1PV7Q8T+TeGwqd9TxP3JQYxeQ2PE/UShaBKnc8T8wAFHxweDxPxDYR97a5PE/768+y/Po8T/OhzW4DO3xP65fLKUl8fE/jTcjkj718T9sDxp/V/nxP0znEGxw/fE/K78HWYkB8j8Ll/5FogXyP+pu9TK7CfI/yUbsH9QN8j+oHuMM7RHyP4f22fkFFvI/Z87Q5h4a8j9GpsfTNx7yPyZ+vsBQIvI/BVa1rWkm8j/kLayagiryP8QFo4ebLvI/o92ZdLQy8j+CtZBhzTbyP2KNh07mOvI/QWV+O/8+8j8gPXUoGEPyP/8UbBUxR/I/3+xiAkpL8j++xFnvYk/yP56cUNx7U/I/fXRHyZRX8j9dTD62rVvyPzwkNaPGX/I/G/wrkN9j8j/70yJ9+GfyP9qrGWoRbPI/uIMQVypw8j+YWwdEQ3TyP3cz/jBcePI/Vgv1HXV88j824+sKjoDyPxW74vemhPI/9ZLZ5L+I8j/UatDR2IzyP7NCx77xkPI/kxq+qwqV8j9y8rSYI5nyP1HKq4U8nfI/MaKiclWh8j8QeplfbqXyP/BRkEyHqfI/zymHOaCt8j+uAX4mubHyP47ZdBPStfI/bbFrAOu58j9MiWLtA77yPyxhWdocwvI/CzlQxzXG8j/rEEe0TsryP8roPaFnzvI/qMA0joDS8j+JmCt7mdbyP2dwImiy2vI/RkgZVcve8j8mIBBC5OLyPwX4Bi/95vI/5M/9Gxbr8j/Ep/QIL+/yP6N/6/VH8/I/g1fi4mD38j9iL9nPefvyP0EH0LyS//I/Id/GqasD8z8At72WxAfzP9+OtIPdC/M/v2arcPYP8z+ePqJdDxTzP34WmUooGPM/Xe6PN0Ec8z88xoYkWiDzPxyefRFzJPM/+3V0/oso8z/aTWvrpCzzP7olYti9MPM/mP1YxdY08z951U+y7zjzP1etRp8IPfM/NoU9jCFB8z8WXTR5OkXzP/U0K2ZTSfM/1AwiU2xN8z+05BhAhVHzP5O8Dy2eVfM/cpQGGrdZ8z9SbP0G0F3zPzFE9PPoYfM/ERzr4AFm8z/w8+HNGmrzP8/L2LozbvM/r6PPp0xy8z+Oe8aUZXbzP21TvYF+evM/TSu0bpd+8z8sA6tbsILzPwzboUjJhvM/67KYNeKK8z/Kio8i+47zP6pihg8Uk/M/iDp9/CyX8z9nEnTpRZvzP0fqatZen/M/JsJhw3ej8z8GmliwkKfzP+VxT52pq/M/xElGisKv8z+kIT1327PzP4P5M2T0t/M/YtEqUQ288z9CqSE+JsDzPyGBGCs/xPM/AFkPGFjI8z/gMAYFcczzP78I/fGJ0PM/n+Dz3qLU8z9+uOrLu9jzP12Q4bjU3PM/PWjYpe3g8z8cQM+SBuXzP/sXxn8f6fM/2++8bDjt8z+6x7NZUfHzP5qfqkZq9fM/eXehM4P58z9XT5ggnP3zPzcnjw21AfQ/Fv+F+s0F9D/11nzn5gn0P9Wuc9T/DfQ/tIZqwRgS9D+TXmGuMRb0P3M2WJtKGvQ/Ug5PiGMe9D8y5kV1fCL0PxG+PGKVJvQ/8JUzT64q9D/QbSo8xy70P69FISngMvQ/jh0YFvk29D9u9Q4DEjv0P03NBfAqP/Q/LaX83END9D8MffPJXEf0P+tU6rZ1S/Q/yyzho45P9D+qBNiQp1P0P4jczn3AV/Q/abTFatlb9D9HjLxX8l/0Pydks0QLZPQ/BjyqMSRo9D/lE6EePWz0P8XrlwtWcPQ/pMOO+G509D+Dm4Xlh3j0P2NzfNKgfPQ/Qktzv7mA9D8hI2qs0oT0PwH7YJnriPQ/4NJXhgSN9D/Aqk5zHZH0P5+CRWA2lfQ/flo8TU+Z9D9eMjM6aJ30Pz0KKieBofQ/HOIgFJql9D/8uRcBs6n0P9uRDu7LrfQ/u2kF2+Sx9D+aQfzH/bX0P3gZ87QWuvQ/WfHpoS++9D83yeCOSML0Pxah13thxvQ/9njOaHrK9D/VUMVVk870P7UovEKs0vQ/lACzL8XW9D9z2Kkc3tr0P1OwoAn33vQ/MoiX9g/j9D8RYI7jKOf0P/E3hdBB6/Q/0A98vVrv9D+v53Kqc/P0P4+/aZeM9/Q/bpdghKX79D9Ob1dxvv/0Py1HTl7XA/U/DB9FS/AH9T/s9js4CQz1P8vOMiUiEPU/qqYpEjsU9T+KfiD/Uxj1P2lWF+xsHPU/SS4O2YUg9T8nBgXGniT1Pwbe+7K3KPU/5rXyn9As9T/FjemM6TD1P6Rl4HkCNfU/hD3XZhs59T9jFc5TND31P0PtxEBNQfU/IsW7LWZF9T8BnbIaf0n1P+F0qQeYTfU/wEyg9LBR9T+fJJfhyVX1P3/8jc7iWfU/XtSEu/td9T89rHuoFGL1Px2EcpUtZvU//FtpgkZq9T/cM2BvX271P7sLV1x4cvU/muNNSZF29T96u0Q2qnr1P1mTOyPDfvU/N2syENyC9T8XQyn99Ib1P/YaIOoNi/U/1vIW1yaP9T+1yg3EP5P1P5SiBLFYl/U/dHr7nXGb9T9TUvKKip/1PzIq6Xejo/U/EgLgZLyn9T/x2dZR1av1P9GxzT7ur/U/sInEKwe09T+PYbsYILj1P285sgU5vPU/ThGp8lHA9T8t6Z/fasT1Pw3BlsyDyPU/7JiNuZzM9T/LcISmtdD1P6tIe5PO1PU/iiBygOfY9T9q+GhtAN31P0nQX1oZ4fU/J6hWRzLl9T8HgE00S+n1P+ZXRCFk7fU/xS87Dn3x9T+lBzL7lfX1P4TfKOiu+fU/ZLcf1cf99T9DjxbC4AH2PyJnDa/5BfY/Aj8EnBIK9j/hFvuIKw72P8Du8XVEEvY/oMboYl0W9j9/nt9Pdhr2P1921jyPHvY/Pk7NKagi9j8dJsQWwSb2P/39ugPaKvY/3NWx8PIu9j+7rajdCzP2P5uFn8okN/Y/el2Wtz079j9YNY2kVj/2PzkNhJFvQ/Y/F+V6fohH9j/4vHFroUv2P9aUaFi6T/Y/tWxfRdNT9j+VRFYy7Ff2P3QcTR8FXPY/U/RDDB5g9j8zzDr5NmT2PxKkMeZPaPY/8nso02hs9j/RUx/AgXD2P7ArFq2adPY/kAMNmrN49j9v2wOHzHz2P06z+nPlgPY/LovxYP6E9j8NY+hNF4n2P+w63zowjfY/zBLWJ0mR9j+r6swUYpX2P4vCwwF7mfY/apq67pOd9j9JcrHbrKH2PylKqMjFpfY/ByKftd6p9j/m+ZWi9632P8bRjI8QsvY/pamDfCm29j+FgXppQrr2P2RZcVZbvvY/QzFoQ3TC9j8jCV8wjcb2PwLhVR2myvY/4bhMCr/O9j/BkEP319L2P6BoOuTw1vY/gEAx0Qnb9j9fGCi+It/2Pz7wHqs74/Y/HsgVmFTn9j/9nwyFbev2P9x3A3KG7/Y/vE/6Xp/z9j+bJ/FLuPf2P3r/5zjR+/Y/WtfeJer/9j85r9USAwT3PxmHzP8bCPc/917D7DQM9z/WNrrZTRD3P7YOscZmFPc/leans38Y9z90vp6gmBz3P1SWlY2xIPc/M26Mesok9z8TRoNn4yj3P/IdelT8LPc/0fVwQRUx9z+xzWcuLjX3P5ClXhtHOfc/b31VCGA99z9PVUz1eEH3Py4tQ+KRRfc/DgU6z6pJ9z/t3DC8w033P8y0J6ncUfc/rIwelvVV9z+LZBWDDlr3P2o8DHAnXvc/ShQDXUBi9z8p7PlJWWb3PwfE8DZyavc/6JvnI4tu9z/Gc94QpHL3P6ZL1f28dvc/hSPM6tV69z9k+8LX7n73P0TTucQHg/c/I6uwsSCH9z8Cg6eeOYv3P+JanotSj/c/wTKVeGuT9z+hCoxlhJf3P4DiglKdm/c/X7p5P7af9z8/knAsz6P3Px5qZxnop/c//UFeBgGs9z/dGVXzGbD3P7zxS+AytPc/nMlCzUu49z97oTm6ZLz3P1p5MKd9wPc/OlEnlJbE9z8ZKR6Br8j3P/cAFW7IzPc/2NgLW+HQ9z+2sAJI+tT3P5WI+TQT2fc/dWDwISzd9z9UOOcOReH3PzQQ3vtd5fc/E+jU6Hbp9z/yv8vVj+33P9KXwsKo8fc/sW+5r8H19z+QR7Cc2vn3P3Afp4nz/fc/T/eddgwC+D8vz5RjJQb4Pw6ni1A+Cvg/7X6CPVcO+D/NVnkqcBL4P6wucBeJFvg/iwZnBKIa+D9r3l3xuh74P0q2VN7TIvg/Ko5Ly+wm+D8JZkK4BSv4P+c9OaUeL/g/yBUwkjcz+D+m7SZ/UDf4P4XFHWxpO/g/ZZ0UWYI/+D9EdQtGm0P4PyNNAjO0R/g/AyX5H81L+D/i/O8M5k/4P8LU5vn+U/g/oazd5hdY+D+AhNTTMFz4P2Bcy8BJYPg/PzTCrWJk+D8eDLmae2j4P/7jr4eUbPg/3bumdK1w+D+9k51hxnT4P5xrlE7fePg/e0OLO/h8+D9bG4IoEYH4PzrzeBUqhfg/GctvAkOJ+D/5ombvW434P9d6Xdx0kfg/tlJUyY2V+D+WKku2ppn4P3UCQqO/nfg/Vdo4kNih+D80si998aX4PxOKJmoKqvg/82EdVyOu+D/SORREPLL4P7ERCzFVtvg/kekBHm66+D9wwfgKh774P1CZ7/efwvg/L3Hm5LjG+D8OSd3R0cr4P+4g1L7qzvg/zfjKqwPT+D+s0MGYHNf4P4youIU12/g/a4Cvck7f+D9LWKZfZ+P4PyownUyA5/g/CQiUOZnr+D/p34omsu/4P8i3gRPL8/g/po94AOT3+D+GZ2/t/Pv4P2U/ZtoVAPk/RBddxy4E+T8k71O0Rwj5PwPHSqFgDPk/455BjnkQ+T/Cdjh7khT5P6FOL2irGPk/gSYmVcQc+T9g/hxC3SD5Pz/WEy/2JPk/H64KHA8p+T/+hQEJKC35P95d+PVAMfk/vTXv4lk1+T+cDebPcjn5P3zl3LyLPfk/W73TqaRB+T86lcqWvUX5PxptwYPWSfk/+US4cO9N+T/ZHK9dCFL5P7j0pUohVvk/lsycNzpa+T92pJMkU175P1V8ihFsYvk/NFSB/oRm+T8ULHjrnWr5P/MDb9i2bvk/0ttlxc9y+T+ys1yy6Hb5P5GLU58Be/k/cWNKjBp/+T9QO0F5M4P5Py8TOGZMh/k/D+suU2WL+T/uwiVAfo/5P82aHC2Xk/k/rXITGrCX+T+MSgoHyZv5P2wiAfThn/k/S/r34Pqj+T8q0u7NE6j5Pwqq5bosrPk/6YHcp0Ww+T/HWdOUXrT5P6gxyoF3uPk/hgnBbpC8+T9n4bdbqcD5P0W5rkjCxPk/JJGlNdvI+T8EaZwi9Mz5P+NAkw8N0fk/whiK/CXV+T+i8IDpPtn5P4HId9ZX3fk/YKBuw3Dh+T9AeGWwieX5Px9QXJ2i6fk//ydTirvt+T/e/0l31PH5P73XQGTt9fk/na83UQb6+T98hy4+H/75P1tfJSs4Avo/OzccGFEG+j8aDxMFagr6P/rmCfKCDvo/2b4A35sS+j+4lvfLtBb6P5hu7rjNGvo/dkblpeYe+j9VHtyS/yL6PzX20n8YJ/o/FM7JbDEr+j/0pcBZSi/6P9N9t0ZjM/o/slWuM3w3+j+SLaUglTv6P3EFnA2uP/o/UN2S+sZD+j8wtYnn30f6Pw+NgNT4S/o/7mR3wRFQ+j/OPG6uKlT6P60UZZtDWPo/jexbiFxc+j9sxFJ1dWD6P0ucSWKOZPo/K3RAT6do+j8KTDc8wGz6P+kjLinZcPo/yfskFvJ0+j+o0xsDC3n6P4irEvAjffo/ZoMJ3TyB+j9FWwDKVYX6PyUz97Zuifo/BAvuo4eN+j/j4uSQoJH6P8O62325lfo/opLSatKZ+j+CaslX6536P2FCwEQEovo/QBq3MR2m+j8g8q0eNqr6P//JpAtPrvo/3qGb+Gey+j++eZLlgLb6P51RidKZuvo/fCmAv7K++j9cAXesy8L6PzvZbZnkxvo/G7Fkhv3K+j/6iFtzFs/6P9lgUmAv0/o/uThJTUjX+j+YEEA6Ydv6P3boNid63/o/VsAtFJPj+j81mCQBrOf6PxVwG+7E6/o/9EcS293v+j/THwnI9vP6P7P3/7QP+Po/ks/2oSj8+j9xp+2OQQD7P1F/5HtaBPs/MFfbaHMI+z8PL9JVjAz7P+8GyUKlEPs/zt6/L74U+z+utrYc1xj7P42OrQnwHPs/bGak9ggh+z9MPpvjISX7PysWktA6Kfs/Cu6IvVMt+z/qxX+qbDH7P8mddpeFNfs/qXVthJ45+z+ITWRxtz37P2YlW17QQfs/R/1RS+lF+z8l1Ug4Akr7PwStPyUbTvs/5IQ2EjRS+z/DXC3/TFb7P6M0JOxlWvs/ggwb2X5e+z9h5BHGl2L7P0G8CLOwZvs/IJT/n8lq+z//a/aM4m77P99D7Xn7cvs/vhvkZhR3+z+d89pTLXv7P33L0UBGf/s/XKPILV+D+z88e78aeIf7PxtTtgeRi/s/+iqt9KmP+z/aAqThwpP7P7nams7bl/s/mLKRu/Sb+z94ioioDaD7P1Zif5UmpPs/Nzp2gj+o+z8VEm1vWKz7P/TpY1xxsPs/1MFaSYq0+z+zmVE2o7j7P5JxSCO8vPs/ckk/ENXA+z9RITb97cT7PzH5LOoGyfs/ENEj1x/N+z/vqBrEONH7P8+AEbFR1fs/rlgInmrZ+z+NMP+Kg937P20I9nec4fs/TODsZLXl+z8ruONRzun7PwuQ2j7n7fs/6mfRKwDy+z/KP8gYGfb7P6kXvwUy+vs/iO+18kr++z9ox6zfYwL8P0afo8x8Bvw/JXeauZUK/D8FT5Gmrg78P+QmiJPHEvw/xP5+gOAW/D+j1nVt+Rr8P4KubFoSH/w/YoZjRysj/D9BXlo0RCf8PyA2USFdK/w/AA5IDnYv/D/f5T77jjP8P7+9NeinN/w/npUs1cA7/D99bSPC2T/8P11FGq/yQ/w/PB0RnAtI/D8b9QeJJEz8P/vM/nU9UPw/2qT1YlZU/D+5fOxPb1j8P5lU4zyIXPw/eCzaKaFg/D9YBNEWumT8PzfcxwPTaPw/FbS+8Ots/D/1i7XdBHH8P9RjrModdfw/szujtzZ5/D+TE5qkT338P3LrkJFogfw/UsOHfoGF/D8xm35rmon8PxBzdVizjfw/8EpsRcyR/D/PImMy5ZX8P676WR/+mfw/jtJQDBee/D9tqkf5L6L8P02CPuZIpvw/LFo102Gq/D8LMizAeq78P+sJI62Tsvw/yuEZmqy2/D+puRCHxbr8P4mRB3Tevvw/aGn+YPfC/D9GQfVNEMf8PycZ7Dopy/w/BfHiJ0LP/D/lyNkUW9P8P8Sg0AF01/w/o3jH7ozb/D+DUL7bpd/8P2Iotci+4/w/QQCstdfn/D8h2KKi8Ov8PwCwmY8J8Pw/4IeQfCL0/D+/X4dpO/j8P543flZU/Pw/fg91Q20A/T9d52swhgT9Pzy/Yh2fCP0/HJdZCrgM/T/7blD30BD9P9tGR+TpFP0/uh4+0QIZ/T+Z9jS+Gx39P3nOK6s0If0/WKYimE0l/T82fhmFZin9PxdWEHJ/Lf0/9S0HX5gx/T/UBf5LsTX9P7Td9DjKOf0/k7XrJeM9/T9zjeIS/EH9P1Jl2f8URv0/MT3Q7C1K/T8RFcfZRk79P/DsvcZfUv0/z8S0s3hW/T+vnKugkVr9P450oo2qXv0/bkyZesNi/T9NJJBn3Gb9Pyz8hlT1av0/DNR9QQ5v/T/rq3QuJ3P9P8qDaxtAd/0/qltiCFl7/T+JM1n1cX/9P2gLUOKKg/0/SONGz6OH/T8nuz28vIv9PweTNKnVj/0/5Worlu6T/T/EQiKDB5j9P6QaGXAgnP0/g/IPXTmg/T9iygZKUqT9P0Ki/TZrqP0/IXr0I4Ss/T8BUusQnbD9P+Ap4v21tP0/vwHZ6s64/T+f2c/X57z9P36xxsQAwf0/XYm9sRnF/T89YbSeMsn9Pxw5q4tLzf0//BCieGTR/T/b6JhlfdX9P7rAj1KW2f0/mpiGP6/d/T95cH0syOH9P1hIdBnh5f0/OCBrBvrp/T8X+GHzEu79P/XPWOAr8v0/1adPzUT2/T+0f0a6Xfr9P5RXPad2/v0/cy80lI8C/j9SByuBqAb+PzLfIW7BCv4/EbcYW9oO/j/wjg9I8xL+P9BmBjUMF/4/rz79ISUb/j+PFvQOPh/+P27u6vtWI/4/Tcbh6G8n/j8tntjViCv+Pwx2z8KhL/4/603Gr7oz/j/LJb2c0zf+P6r9s4nsO/4/itWqdgVA/j9praFjHkT+P0iFmFA3SP4/KF2PPVBM/j8HNYYqaVD+P+UMfReCVP4/xeRzBJtY/j+kvGrxs1z+P4OUYd7MYP4/Y2xYy+Vk/j9CRE+4/mj+PyIcRqUXbf4/AfQ8kjBx/j/gyzN/SXX+P8CjKmxief4/n3shWXt9/j9+UxhGlIH+P14rDzOthf4/PQMGIMaJ/j8d2/wM343+P/yy8/n3kf4/24rq5hCW/j+7YuHTKZr+P5o62MBCnv4/eRLPrVui/j9Z6sWadKb+PzjCvIeNqv4/GJqzdKau/j/3caphv7L+P9VJoU7Ytv4/tiGYO/G6/j+U+Y4oCr/+P3PRhRUjw/4/U6l8AjzH/j8ygXPvVMv+PxFZatxtz/4/8TBhyYbT/j/QCFi2n9f+P7DgTqO42/4/j7hFkNHf/j9ukDx96uP+P05oM2oD6P4/LUAqVxzs/j8MGCFENfD+P+zvFzFO9P4/y8cOHmf4/j+rnwULgPz+P4p3/PeYAP8/aU/z5LEE/z9JJ+rRygj/Pyj/4L7jDP8/B9fXq/wQ/z/nrs6YFRX/P8WGxYUuGf8/pl68ckcd/z+ENrNfYCH/P2MOqkx5Jf8/Q+agOZIp/z8ivpcmqy3/PwGWjhPEMf8/4W2FAN01/z/ARXzt9Tn/P58dc9oOPv8/f/VpxydC/z9ezWC0QEb/Pz6lV6FZSv8/HX1OjnJO/z/8VEV7i1L/P9wsPGikVv8/uwQzVb1a/z+a3ClC1l7/P3q0IC/vYv8/WYwXHAhn/z85ZA4JIWv/Pxg8BfY5b/8/9xP84lJz/z/X6/LPa3f/P7XD6byEe/8/lJvgqZ1//z90c9eWtoP/P1NLzoPPh/8/MyPFcOiL/z8S+7tdAZD/P/HSskoalP8/0aqpNzOY/z+wgqAkTJz/P49alxFloP8/bzKO/n2k/z9OCoXrlqj/Py3ie9ivrP8/Dbpyxciw/z/skWmy4bT/P8xpYJ/6uP8/q0FXjBO9/z+KGU55LMH/P2rxRGZFxf8/Sck7U17J/z8ooTJAd83/Pwh5KS2Q0f8/51AgGqnV/z/HKBcHwtn/P6YADvTa3f8/hNgE4fPh/z9ksPvNDOb/P0OI8rol6v8/ImDppz7u/z8COOCUV/L/P+EP14Fw9v8/wOfNbon6/z+gv8Rbov7/P8DLXaRdAQBAsDfZGmoDAECfo1SRdgUAQI4P0AeDBwBAfntLfo8JAEBu58b0mwsAQF1TQmuoDQBATb+94bQPAEA9KzlYwREAQC2XtM7NEwBAHAMwRdoVAEAMb6u75hcAQPzaJjLzGQBA60aiqP8bAEDbsh0fDB4AQMsemZUYIABAuooUDCUiAECq9o+CMSQAQJpiC/k9JgBAic6Gb0ooAEB5OgLmVioAQGmmfVxjLABAWBL50m8uAEBIfnRJfDAAQDjq77+IMgBAJ1ZrNpU0AEAXwuasoTYAQAYuYiOuOABA95ndmbo6AEDmBVkQxzwAQNVx1IbTPgBAxd1P/d9AAEC1Sctz7EIAQKS1Rur4RABAlCHCYAVHAECEjT3XEUkAQHT5uE0eSwBAY2U0xCpNAEBT0a86N08AQEM9K7FDUQBAMqmmJ1BTAEAiFSKeXFUAQBKBnRRpVwBAAe0Yi3VZAEDxWJQBglsAQOHED3iOXQBA0DCL7ppfAEDAnAZlp2EAQLAIgtuzYwBAn3T9UcBlAECP4HjIzGcAQH5M9D7ZaQBAbrhvteVrAEBeJOsr8m0AQE2QZqL+bwBAPfzhGAtyAEAtaF2PF3QAQBzU2AUkdgBADEBUfDB4AED8q8/yPHoAQOsXS2lJfABA24PG31V+AEDL70FWYoAAQLtbvcxuggBAqsc4Q3uEAECaM7S5h4YAQIqfLzCUiABAeQurpqCKAEBpdyYdrYwAQFnjoZO5jgBASE8dCsaQAEA4u5iA0pIAQCgnFPfelABAF5OPbeuWAEAH/wrk95gAQPZqhloEmwBA5tYB0RCdAEDWQn1HHZ8AQMWu+L0poQBAtRp0NDajAEClhu+qQqUAQJTyaiFPpwBAhF7ml1upAEB0ymEOaKsAQGM23YR0rQBAU6JY+4CvAEBDDtRxjbEAQDJ6T+iZswBAIubKXqa1AEASUkbVsrcAQAK+wUu/uQBA8Sk9wsu7AEDhlbg42L0AQNEBNK/kvwBAwG2vJfHBAECw2Sqc/cMAQKBFphIKxgBAj7EhiRbIAEB/HZ3/IsoAQG+JGHYvzABAXvWT7DvOAEBOYQ9jSNAAQD3NitlU0gBALTkGUGHUAEAdpYHGbdYAQAwR/Tx62ABA/Hx4s4baAEDs6PMpk9wAQNtUb6Cf3gBAy8DqFqzgAEC7LGaNuOIAQKqY4QPF5ABAmgRdetHmAECKcNjw3egAQHncU2fq6gBAaUjP3fbsAEBZtEpUA+8AQEkgxsoP8QBAOIxBQRzzAEAo+Ly3KPUAQBhkOC419wBAB9CzpEH5AED2Oy8bTvsAQOenqpFa/QBA1hMmCGf/AEDFf6F+cwEBQLXrHPV/AwFApVeYa4wFAUCVwxPimAcBQIQvj1ilCQFAdJsKz7ELAUBkB4ZFvg0BQFNzAbzKDwFAQ998MtcRAUAzS/io4xMBQCK3cx/wFQFAEiPvlfwXAUACj2oMCRoBQPH65YIVHAFA4WZh+SEeAUDR0txvLiABQMA+WOY6IgFAsKrTXEckAUCgFk/TUyYBQJCCyklgKAFAf+5FwGwqAUBuWsE2eSwBQF/GPK2FLgFATjK4I5IwAUA9njOanjIBQC0KrxCrNAFAHXYqh7c2AUAM4qX9wzgBQPxNIXTQOgFA7Lmc6tw8AUDcJRhh6T4BQMuRk9f1QAFAu/0OTgJDAUCraYrEDkUBQJrVBTsbRwFAikGBsSdJAUB6rfwnNEsBQGkZeJ5ATQFAWYXzFE1PAUBJ8W6LWVEBQDhd6gFmUwFAKMlleHJVAUAYNeHuflcBQAehXGWLWQFA9wzY25dbAUDneFNSpF0BQNfkzsiwXwFAxlBKP71hAUC1vMW1yWMBQKUoQSzWZQFAlZS8ouJnAUCEADgZ72kBQHRss4/7awFAZNguBghuAUBTRKp8FHABQEOwJfMgcgFAMxyhaS10AUAjiBzgOXYBQBL0l1ZGeAFAAmATzVJ6AUDyy45DX3wBQOE3CrprfgFA0aOFMHiAAUDBDwGnhIIBQLB7fB2RhAFAoOf3k52GAUCQU3MKqogBQH+/7oC2igFAbytq98KMAUBfl+Vtz44BQE4DYeTbkAFAPm/cWuiSAUAt21fR9JQBQB1H00cBlwFADbNOvg2ZAUD8Hso0GpsBQOyKRasmnQFA3PbAITOfAUDLYjyYP6EBQLvOtw5MowFAqzozhVilAUCapq77ZKcBQIoSKnJxqQFAen6l6H2rAUBq6iBfiq0BQFlWnNWWrwFAScIXTKOxAUA5LpPCr7MBQCiaDjm8tQFAGAaKr8i3AUAIcgUm1bkBQPfdgJzhuwFA50n8Eu69AUDXtXeJ+r8BQMYh8/8GwgFAto1udhPEAUCl+ensH8YBQJVlZWMsyAFAhdHg2TjKAUB0PVxQRcwBQGSp18ZRzgFAVBVTPV7QAUBDgc6zatIBQDPtSSp31AFAI1nFoIPWAUASxUAXkNgBQAIxvI2c2gFA8pw3BKncAUDhCLN6td4BQNF0LvHB4AFAweCpZ87iAUCxTCXe2uQBQKC4oFTn5gFAkCQcy/PoAUCAkJdBAOsBQG/8ErgM7QFAX2iOLhnvAUBP1AmlJfEBQD5AhRsy8wFALqwAkj71AUAdGHwIS/cBQA2E935X+QFA/e9y9WP7AUDsW+5rcP0BQNzHaeJ8/wFAzDPlWIkBAkC7n2DPlQMCQKsL3EWiBQJAm3dXvK4HAkCK49IyuwkCQHpPTqnHCwJAarvJH9QNAkBZJ0WW4A8CQEmTwAztEQJAOf87g/kTAkAoa7f5BRYCQBjXMnASGAJACEOu5h4aAkD4rildKxwCQOcapdM3HgJA14YgSkQgAkDH8pvAUCICQLZeFzddJAJApcqSrWkmAkCVNg4kdigCQIWiiZqCKgJAdQ4FEY8sAkBkeoCHmy4CQFTm+/2nMAJARFJ3dLQyAkAzvvLqwDQCQCMqbmHNNgJAE5bp19k4AkACAmVO5joCQPJt4MTyPAJA4tlbO/8+AkDRRdexC0ECQMGxUigYQwJAsR3OniRFAkCgiUkVMUcCQJD1xIs9SQJAgGFAAkpLAkBvzbt4Vk0CQF85N+9iTwJAT6WyZW9RAkA/ES7ce1MCQC59qVKIVQJAHekkyZRXAkANVaA/oVkCQP3AG7atWwJA7SyXLLpdAkDcmBKjxl8CQMwEjhnTYQJAu3AJkN9jAkCr3IQG7GUCQJtIAH34ZwJAi7R78wRqAkB6IPdpEWwCQGqMcuAdbgJAWfjtVipwAkBKZGnNNnICQDnQ5ENDdAJAKTxguk92AkAYqNswXHgCQAgUV6doegJA93/SHXV8AkDo602UgX4CQNdXyQqOgAJAx8NEgZqCAkC2L8D3poQCQKWbO26zhgJAlge35L+IAkCFczJbzIoCQHXfrdHYjAJAZEspSOWOAkBUt6S+8ZACQEQjIDX+kgJANI+bqwqVAkAj+xYiF5cCQBNnkpgjmQJAAtMNDzCbAkDyPomFPJ0CQOKqBPxInwJA0haAclWhAkDBgvvoYaMCQLHudl9upQJAoFry1XqnAkCRxm1Mh6kCQIAy6cKTqwJAcJ5kOaCtAkBfCuCvrK8CQE92Wya5sQJAPuLWnMWzAkAvTlIT0rUCQB66zYnetwJADSZJAOu5AkD9kcR297sCQOz9P+0DvgJA3Wm7YxDAAkDM1TbaHMICQLxBslApxAJAq60txzXGAkCbGak9QsgCQIuFJLROygJAe/GfKlvMAkBqXRuhZ84CQFrJlhd00AJASTUSjoDSAkA5oY0EjdQCQCkNCXuZ1gJAGXmE8aXYAkAI5f9nstoCQPhQe96+3AJA57z2VMveAkDYKHLL1+ACQMeU7UHk4gJAtwBpuPDkAkCmbOQu/eYCQJXYX6UJ6QJAhUTbGxbrAkB1sFaSIu0CQGUc0ggv7wJAVIhNfzvxAkBE9Mj1R/MCQDNgRGxU9QJAJMy/4mD3AkATODtZbfkCQAOkts95+wJA8g8yRob9AkDie628kv8CQNLnKDOfAQNAwlOkqasDA0Cxvx8guAUDQKErm5bEBwNAkJcWDdEJA0CAA5KD3QsDQHBvDfrpDQNAYNuIcPYPA0BPRwTnAhIDQD+zf10PFANALh/70xsWA0Afi3ZKKBgDQA738cA0GgNA/WJtN0EcA0DtzuitTR4DQNw6ZCRaIANAzKbfmmYiA0C8ElsRcyQDQKx+1od/JgNAm+pR/osoA0CLVs10mCoDQHrCSOukLANAay7EYbEuA0Bamj/YvTADQEoGu07KMgNAOXI2xdY0A0Ap3rE74zYDQBlKLbLvOANACbaoKPw6A0D4ISSfCD0DQOiNnxUVPwNA1/kajCFBA0DHZZYCLkMDQLfREXk6RQNApz2N70ZHA0CWqQhmU0kDQIUVhNxfSwNAdYH/UmxNA0Bm7XrJeE8DQFVZ9j+FUQNARMVxtpFTA0A0Me0snlUDQCOdaKOqVwNAEwnkGbdZA0ADdV+Qw1sDQPPg2gbQXQNA4kxWfdxfA0DSuNHz6GEDQMEkTWr1YwNAspDI4AFmA0Ch/ENXDmgDQJFov80aagNAgNQ6RCdsA0BwQLa6M24DQGCsMTFAcANAUBitp0xyA0A/hCgeWXQDQC/wo5RldgNAHlwfC3J4A0ANyJqBfnoDQP4zFviKfANA7Z+Rbpd+A0DdCw3lo4ADQMx3iFuwggNAvOMD0ryEA0CsT39IyYYDQJy7+r7ViANAiyd2NeKKA0B7k/Gr7owDQGr/bCL7jgNAWmvomAeRA0BK12MPFJMDQDpD34UglQNAKa9a/CyXA0AZG9ZyOZkDQAiHUelFmwNA+fLMX1KdA0DoXkjWXp8DQNjKw0xroQNAxzY/w3ejA0C3oro5hKUDQKcONrCQpwNAl3qxJp2pA0CG5iydqasDQHVSqBO2rQNAZb4jisKvA0BUKp8Az7EDQEWWGnfbswNANAKW7ee1A0AkbhFk9LcDQBPajNoAugNAA0YIUQ28A0DzsYPHGb4DQOMd/z0mwANA0ol6tDLCA0DC9fUqP8QDQLFhcaFLxgNAoc3sF1jIA0CROWiOZMoDQIGl4wRxzANAcBFfe33OA0BgfdrxidADQE/pVWiW0gNAQFXR3qLUA0AvwUxVr9YDQB8tyMu72ANADplDQsjaA0D9BL+41NwDQO5wOi/h3gNA3ty1pe3gA0DNSDEc+uIDQLy0rJIG5QNArCAoCRPnA0CbjKN/H+kDQIz4HvYr6wNAe2SabDjtA0Br0BXjRO8DQFo8kVlR8QNASqgM0F3zA0A6FIhGavUDQCqAA7129wNAGex+M4P5A0AJWPqpj/sDQPjDdSCc/QNA6C/xlqj/A0DYm2wNtQEEQMgH6IPBAwRAt3Nj+s0FBECn395w2gcEQJZLWufmCQRAh7fVXfMLBEB2I1HU/w0EQGWPzEoMEARAVftHwRgSBEBEZ8M3JRQEQDTTPq4xFgRAJD+6JD4YBEAUqzWbShoEQAMXsRFXHARA84IsiGMeBEDi7qf+byAEQNNaI3V8IgRAwsae64gkBECyMhpilSYEQKGeldihKARAkQoRT64qBECBdozFuiwEQHHiBzzHLgRAYE6DstMwBEBQuv4o4DIEQD8mep/sNARAL5L1Ffk2BEAf/nCMBTkEQA9q7AISOwRA/tVneR49BEDtQePvKj8EQN2tXmY3QQRAzhna3ENDBEC9hVVTUEUEQKzx0MlcRwRAnF1MQGlJBECLyce2dUsEQHs1Qy2CTQRAa6G+o45PBEBbDToam1EEQEp5tZCnUwRAOuUwB7RVBEApUax9wFcEQBq9J/TMWQRACSmjatlbBED5lB7h5V0EQOgAmlfyXwRA2GwVzv5hBEDI2JBEC2QEQLhEDLsXZgRAp7CHMSRoBECXHAOoMGoEQIaIfh49bARAdfT5lEluBEBmYHULVnAEQFbM8IFicgRARThs+G50BEA0pOdue3YEQCQQY+WHeARAFHzeW5R6BEAE6FnSoHwEQPNT1UitfgRA479Qv7mABEDSK8w1xoIEQMKXR6zShARAsgPDIt+GBECibz6Z64gEQJHbuQ/4igRAgUc1hgSNBEBws7D8EI8EQGEfLHMdkQRAUIun6SmTBEBA9yJgNpUEQC9jntZClwRAH88ZTU+ZBEAPO5XDW5sEQP+mEDponQRA7hKMsHSfBEDdfgcngaEEQM3qgp2NowRAvFb+E5qlBECtwnmKpqcEQJwu9QCzqQRAjJpwd7+rBEB7Buzty60EQGtyZ2TYrwRAW97i2uSxBEBLSl5R8bMEQDq22cf9tQRAKiJVPgq4BEAZjtC0FroEQAn6SysjvARA+WXHoS++BEDp0UIYPMAEQNg9vo5IwgRAyKk5BVXEBEC3FbV7YcYEQKiBMPJtyARAl+2raHrKBECHWSffhswEQHbFolWTzgRAZTEezJ/QBEBWnZlCrNIEQEYJFbm41ARANXWQL8XWBEAk4Qum0dgEQBRNhxze2gRAA7kCk+rcBED0JH4J994EQOOQ+X8D4QRA0/x09g/jBEDCaPBsHOUEQLLUa+Mo5wRAokDnWTXpBECSrGLQQesEQIEY3kZO7QRAcYRZvVrvBEBg8NQzZ/EEQFBcUKpz8wRAQMjLIID1BEAwNEeXjPcEQB+gwg2Z+QRADww+hKX7BED+d7n6sf0EQO/jNHG+/wRA3k+w58oBBUDOuyte1wMFQL0np9TjBQVArJMiS/AHBUCd/53B/AkFQIxrGTgJDAVAfNeUrhUOBUBrQxAlIhAFQFuvi5suEgVAShsHEjsUBUA7h4KIRxYFQCrz/f5TGAVAGl95dWAaBUAJy/TrbBwFQPk2cGJ5HgVA6aLr2IUgBUDZDmdPkiIFQMh64sWeJAVAuOZdPKsmBUCnUtmytygFQJe+VCnEKgVAhyrQn9AsBUB3lksW3S4FQGYCx4zpMAVAVW5CA/YyBUBF2r15AjUFQDZGOfAONwVAJbK0Zhs5BUAUHjDdJzsFQASKq1M0PQVA8/UmykA/BUDkYaJATUEFQNPNHbdZQwVAwzmZLWZFBUCypRSkckcFQKIRkBp/SQVAkX0LkYtLBUCC6YYHmE0FQHFVAn6kTwVAYcF99LBRBUBQLflqvVMFQECZdOHJVQVAMAXwV9ZXBUAgcWvO4lkFQA/d5kTvWwVA/0hiu/tdBUDutN0xCGAFQN0gWagUYgVAzozUHiFkBUC++E+VLWYFQK1kyws6aAVAnNBGgkZqBUCMPML4UmwFQHyoPW9fbgVAbBS55WtwBUBbgDRceHIFQEvsr9KEdAVAOlgrSZF2BUArxKa/nXgFQBowIjaqegVACpydrLZ8BUD5Bxkjw34FQOlzlJnPgAVA2N8PENyCBUDJS4uG6IQFQLi3Bv30hgVAqCOCcwGJBUCXj/3pDYsFQIf7eGAajQVAd2f01iaPBUBn029NM5EFQFY/68M/kwVARqtmOkyVBUA1F+KwWJcFQCSDXSdlmQVAFe/YnXGbBUAEW1QUfp0FQPTGz4qKnwVA4zJLAZehBUDTnsZ3o6MFQMMKQu6vpQVAs3a9ZLynBUCi4jjbyKkFQJJOtFHVqwVAgbovyOGtBUByJqs+7q8FQGGSJrX6sQVAUf6hKwe0BUBAah2iE7YFQDDWmBgguAVAH0IUjyy6BUAQro8FObwFQP8ZC3xFvgVA74WG8lHABUDe8QFpXsIFQM1dfd9qxAVAvsn4VXfGBUCuNXTMg8gFQJ2h70KQygVAjA1ruZzMBUB8eeYvqc4FQGvlYaa10AVAXFHdHMLSBUBLvViTztQFQDsp1Anb1gVAKpVPgOfYBUAaAcv289oFQAptRm0A3QVA+tjB4wzfBUDpRD1aGeEFQNmwuNAl4wVAyBw0RzLlBUC5iK+9PucFQKj0KjRL6QVAmGCmqlfrBUCHzCEhZO0FQHc4nZdw7wVAZqQYDn3xBUBXEJSEifMFQEZ8D/uV9QVANuiKcaL3BUAlVAborvkFQBTAgV67+wVABSz91Mf9BUD0l3hL1P8FQOQD9MHgAQZA029vOO0DBkDD2+qu+QUGQLJHZiUGCAZAo7PhmxIKBkCSH10SHwwGQIKL2IgrDgZAcfdT/zcQBkBhY891RBIGQFHPSuxQFAZAQTvGYl0WBkAwp0HZaRgGQCATvU92GgZAD384xoIcBkAA67M8jx4GQO9WL7ObIAZA38KqKagiBkDOLiagtCQGQL6aoRbBJgZArQYdjc0oBkCecpgD2ioGQI3eE3rmLAZAfEqP8PIuBkBstgpn/zAGQFsiht0LMwZATI4BVBg1BkA7+nzKJDcGQCtm+EAxOQZAGtJztz07BkAKPu8tSj0GQPmpaqRWPwZA6hXmGmNBBkDZgWGRb0MGQMnt3Ad8RQZAuFlYfohHBkCoxdP0lEkGQJgxT2uhSwZAiJ3K4a1NBkB3CUZYuk8GQGd1wc7GUQZAVuE8RdNTBkBFTbi731UGQDa5MzLsVwZAJiWvqPhZBkAVkSofBVwGQAT9pZURXgZA9GghDB5gBkDk1JyCKmIGQNRAGPk2ZAZAw6yTb0NmBkCzGA/mT2gGQKKEilxcagZAk/AF02hsBkCCXIFJdW4GQHLI/L+BcAZAYTR4No5yBkBRoPOsmnQGQEAMbyOndgZAMXjqmbN4BkAg5GUQwHoGQBBQ4YbMfAZA/7tc/dh+BkDvJ9hz5YAGQN+TU+rxggZAz//OYP6EBkC+a0rXCocGQK7XxU0XiQZAnUNBxCOLBkCMr7w6MI0GQH0bOLE8jwZAbIezJ0mRBkBc8y6eVZMGQEtfqhRilQZAO8sli26XBkArN6EBe5kGQBujHHiHmwZACg+Y7pOdBkD6ehNloJ8GQOnmjtusoQZA2lIKUrmjBkDJvoXIxaUGQLkqAT/SpwZAqJZ8td6pBkCYAvgr66sGQIduc6L3rQZAeNruGASwBkBnRmqPELIGQFey5QUdtAZARh5hfCm2BkA2itzyNbgGQCb2V2lCugZAFmLT3068BkAFzk5WW74GQPQ5ysxnwAZA5KVFQ3TCBkDTEcG5gMQGQMR9PDCNxgZAs+m3ppnIBkCjVTMdpsoGQJLBrpOyzAZAgi0qCr/OBkBymaWAy9AGQGIFIffX0gZAUXGcbeTUBkBB3Rfk8NYGQDBJk1r92AZAIbUO0QnbBkAQIYpHFt0GQACNBb4i3wZA7/iANC/hBkDfZPyqO+MGQM7QdyFI5QZAvzzzl1TnBkCuqG4OYekGQJ4U6oRt6wZAjYBl+3ntBkB87OBxhu8GQG1YXOiS8QZAXMTXXp/zBkBMMFPVq/UGQDuczku49wZAKwhKwsT5BkAadMU40fsGQAvgQK/d/QZA+ku8Jer/BkDqtzec9gEHQNkjsxIDBAdAyY8uiQ8GB0C5+6n/GwgHQKlnJXYoCgdAmNOg7DQMB0CIPxxjQQ4HQHerl9lNEAdAaBcTUFoSB0BXg47GZhQHQEfvCT1zFgdANluFs38YB0AmxwAqjBoHQBUzfKCYHAdABp/3FqUeB0D1CnONsSAHQOR27gO+IgdA1OJpesokB0DDTuXw1iYHQLS6YGfjKAdAoybc3e8qB0CTkldU/CwHQIL+0soILwdAcmpOQRUxB0Bh1sm3ITMHQFJCRS4uNQdAQa7ApDo3B0AxGjwbRzkHQCCGt5FTOwdAEPIyCGA9B0AAXq5+bD8HQPDJKfV4QQdA3zWla4VDB0DPoSDikUUHQL4NnFieRwdAr3kXz6pJB0Ce5ZJFt0sHQI5RDrzDTQdAfb2JMtBPB0BsKQWp3FEHQFyVgB/pUwdATQH8lfVVB0A8bXcMAlgHQCvZ8oIOWgdAG0Vu+RpcB0AKselvJ14HQPscZeYzYAdA6ojgXEBiB0Da9FvTTGQHQMlg10lZZgdAucxSwGVoB0CoOM42cmoHQJmkSa1+bAdAiBDFI4tuB0B4fECal3AHQGfouxCkcgdAV1Q3h7B0B0BHwLL9vHYHQDcsLnTJeAdAJpip6tV6B0AWBCVh4nwHQAVwoNfufgdA9tsbTvuAB0DlR5fEB4MHQNSzEjsUhQdAxB+OsSCHB0CziwkoLYkHQKP3hJ45iwdAk2MAFUaNB0CDz3uLUo8HQHI79wFfkQdAYqdyeGuTB0BRE+7ud5UHQEJ/aWWElwdAMevk25CZB0AhV2BSnZsHQBDD28ipnQdAAC9XP7afB0DvmtK1wqEHQOAGTizPowdAz3LJotulB0C/3kQZ6KcHQK5KwI/0qQdAnrY7BgGsB0COIrd8Da4HQH6OMvMZsAdAbfqtaSayB0BcZingMrQHQEzSpFY/tgdAPT4gzUu4B0AsqptDWLoHQBsWF7pkvAdAC4KSMHG+B0D67Q2nfcAHQOpZiR2KwgdA2sUElJbEB0DKMYAKo8YHQLmd+4CvyAdAqQl397vKB0CYdfJtyMwHQInhbeTUzgdAeE3pWuHQB0BouWTR7dIHQFcl4Ef61AdAR5FbvgbXB0A2/dY0E9kHQCdpUqsf2wdAFtXNISzdB0AGQUmYON8HQPWsxA5F4QdA5BhAhVHjB0DVhLv7XeUHQMXwNnJq5wdAtFyy6HbpB0CjyC1fg+sHQJM0qdWP7QdAg6AkTJzvB0BzDKDCqPEHQGJ4Gzm18wdAUuSWr8H1B0BBUBImzvcHQDG8jZza+QdAISgJE+f7B0ARlISJ8/0HQAAAAAAAAAhA",
          "dtype": "f8"
         },
         "y": {
          "bdata": "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",
          "dtype": "f8"
         }
        }
       ],
       "layout": {
        "height": 500,
        "template": {
         "data": {
          "bar": [
           {
            "error_x": {
             "color": "#2a3f5f"
            },
            "error_y": {
             "color": "#2a3f5f"
            },
            "marker": {
             "line": {
              "color": "#E5ECF6",
              "width": 0.5
             },
             "pattern": {
              "fillmode": "overlay",
              "size": 10,
              "solidity": 0.2
             }
            },
            "type": "bar"
           }
          ],
          "barpolar": [
           {
            "marker": {
             "line": {
              "color": "#E5ECF6",
              "width": 0.5
             },
             "pattern": {
              "fillmode": "overlay",
              "size": 10,
              "solidity": 0.2
             }
            },
            "type": "barpolar"
           }
          ],
          "carpet": [
           {
            "aaxis": {
             "endlinecolor": "#2a3f5f",
             "gridcolor": "white",
             "linecolor": "white",
             "minorgridcolor": "white",
             "startlinecolor": "#2a3f5f"
            },
            "baxis": {
             "endlinecolor": "#2a3f5f",
             "gridcolor": "white",
             "linecolor": "white",
             "minorgridcolor": "white",
             "startlinecolor": "#2a3f5f"
            },
            "type": "carpet"
           }
          ],
          "choropleth": [
           {
            "colorbar": {
             "outlinewidth": 0,
             "ticks": ""
            },
            "type": "choropleth"
           }
          ],
          "contour": [
           {
            "colorbar": {
             "outlinewidth": 0,
             "ticks": ""
            },
            "colorscale": [
             [
              0,
              "#0d0887"
             ],
             [
              0.1111111111111111,
              "#46039f"
             ],
             [
              0.2222222222222222,
              "#7201a8"
             ],
             [
              0.3333333333333333,
              "#9c179e"
             ],
             [
              0.4444444444444444,
              "#bd3786"
             ],
             [
              0.5555555555555556,
              "#d8576b"
             ],
             [
              0.6666666666666666,
              "#ed7953"
             ],
             [
              0.7777777777777778,
              "#fb9f3a"
             ],
             [
              0.8888888888888888,
              "#fdca26"
             ],
             [
              1,
              "#f0f921"
             ]
            ],
            "type": "contour"
           }
          ],
          "contourcarpet": [
           {
            "colorbar": {
             "outlinewidth": 0,
             "ticks": ""
            },
            "type": "contourcarpet"
           }
          ],
          "heatmap": [
           {
            "colorbar": {
             "outlinewidth": 0,
             "ticks": ""
            },
            "colorscale": [
             [
              0,
              "#0d0887"
             ],
             [
              0.1111111111111111,
              "#46039f"
             ],
             [
              0.2222222222222222,
              "#7201a8"
             ],
             [
              0.3333333333333333,
              "#9c179e"
             ],
             [
              0.4444444444444444,
              "#bd3786"
             ],
             [
              0.5555555555555556,
              "#d8576b"
             ],
             [
              0.6666666666666666,
              "#ed7953"
             ],
             [
              0.7777777777777778,
              "#fb9f3a"
             ],
             [
              0.8888888888888888,
              "#fdca26"
             ],
             [
              1,
              "#f0f921"
             ]
            ],
            "type": "heatmap"
           }
          ],
          "histogram": [
           {
            "marker": {
             "pattern": {
              "fillmode": "overlay",
              "size": 10,
              "solidity": 0.2
             }
            },
            "type": "histogram"
           }
          ],
          "histogram2d": [
           {
            "colorbar": {
             "outlinewidth": 0,
             "ticks": ""
            },
            "colorscale": [
             [
              0,
              "#0d0887"
             ],
             [
              0.1111111111111111,
              "#46039f"
             ],
             [
              0.2222222222222222,
              "#7201a8"
             ],
             [
              0.3333333333333333,
              "#9c179e"
             ],
             [
              0.4444444444444444,
              "#bd3786"
             ],
             [
              0.5555555555555556,
              "#d8576b"
             ],
             [
              0.6666666666666666,
              "#ed7953"
             ],
             [
              0.7777777777777778,
              "#fb9f3a"
             ],
             [
              0.8888888888888888,
              "#fdca26"
             ],
             [
              1,
              "#f0f921"
             ]
            ],
            "type": "histogram2d"
           }
          ],
          "histogram2dcontour": [
           {
            "colorbar": {
             "outlinewidth": 0,
             "ticks": ""
            },
            "colorscale": [
             [
              0,
              "#0d0887"
             ],
             [
              0.1111111111111111,
              "#46039f"
             ],
             [
              0.2222222222222222,
              "#7201a8"
             ],
             [
              0.3333333333333333,
              "#9c179e"
             ],
             [
              0.4444444444444444,
              "#bd3786"
             ],
             [
              0.5555555555555556,
              "#d8576b"
             ],
             [
              0.6666666666666666,
              "#ed7953"
             ],
             [
              0.7777777777777778,
              "#fb9f3a"
             ],
             [
              0.8888888888888888,
              "#fdca26"
             ],
             [
              1,
              "#f0f921"
             ]
            ],
            "type": "histogram2dcontour"
           }
          ],
          "mesh3d": [
           {
            "colorbar": {
             "outlinewidth": 0,
             "ticks": ""
            },
            "type": "mesh3d"
           }
          ],
          "parcoords": [
           {
            "line": {
             "colorbar": {
              "outlinewidth": 0,
              "ticks": ""
             }
            },
            "type": "parcoords"
           }
          ],
          "pie": [
           {
            "automargin": true,
            "type": "pie"
           }
          ],
          "scatter": [
           {
            "fillpattern": {
             "fillmode": "overlay",
             "size": 10,
             "solidity": 0.2
            },
            "type": "scatter"
           }
          ],
          "scatter3d": [
           {
            "line": {
             "colorbar": {
              "outlinewidth": 0,
              "ticks": ""
             }
            },
            "marker": {
             "colorbar": {
              "outlinewidth": 0,
              "ticks": ""
             }
            },
            "type": "scatter3d"
           }
          ],
          "scattercarpet": [
           {
            "marker": {
             "colorbar": {
              "outlinewidth": 0,
              "ticks": ""
             }
            },
            "type": "scattercarpet"
           }
          ],
          "scattergeo": [
           {
            "marker": {
             "colorbar": {
              "outlinewidth": 0,
              "ticks": ""
             }
            },
            "type": "scattergeo"
           }
          ],
          "scattergl": [
           {
            "marker": {
             "colorbar": {
              "outlinewidth": 0,
              "ticks": ""
             }
            },
            "type": "scattergl"
           }
          ],
          "scattermap": [
           {
            "marker": {
             "colorbar": {
              "outlinewidth": 0,
              "ticks": ""
             }
            },
            "type": "scattermap"
           }
          ],
          "scattermapbox": [
           {
            "marker": {
             "colorbar": {
              "outlinewidth": 0,
              "ticks": ""
             }
            },
            "type": "scattermapbox"
           }
          ],
          "scatterpolar": [
           {
            "marker": {
             "colorbar": {
              "outlinewidth": 0,
              "ticks": ""
             }
            },
            "type": "scatterpolar"
           }
          ],
          "scatterpolargl": [
           {
            "marker": {
             "colorbar": {
              "outlinewidth": 0,
              "ticks": ""
             }
            },
            "type": "scatterpolargl"
           }
          ],
          "scatterternary": [
           {
            "marker": {
             "colorbar": {
              "outlinewidth": 0,
              "ticks": ""
             }
            },
            "type": "scatterternary"
           }
          ],
          "surface": [
           {
            "colorbar": {
             "outlinewidth": 0,
             "ticks": ""
            },
            "colorscale": [
             [
              0,
              "#0d0887"
             ],
             [
              0.1111111111111111,
              "#46039f"
             ],
             [
              0.2222222222222222,
              "#7201a8"
             ],
             [
              0.3333333333333333,
              "#9c179e"
             ],
             [
              0.4444444444444444,
              "#bd3786"
             ],
             [
              0.5555555555555556,
              "#d8576b"
             ],
             [
              0.6666666666666666,
              "#ed7953"
             ],
             [
              0.7777777777777778,
              "#fb9f3a"
             ],
             [
              0.8888888888888888,
              "#fdca26"
             ],
             [
              1,
              "#f0f921"
             ]
            ],
            "type": "surface"
           }
          ],
          "table": [
           {
            "cells": {
             "fill": {
              "color": "#EBF0F8"
             },
             "line": {
              "color": "white"
             }
            },
            "header": {
             "fill": {
              "color": "#C8D4E3"
             },
             "line": {
              "color": "white"
             }
            },
            "type": "table"
           }
          ]
         },
         "layout": {
          "annotationdefaults": {
           "arrowcolor": "#2a3f5f",
           "arrowhead": 0,
           "arrowwidth": 1
          },
          "autotypenumbers": "strict",
          "coloraxis": {
           "colorbar": {
            "outlinewidth": 0,
            "ticks": ""
           }
          },
          "colorscale": {
           "diverging": [
            [
             0,
             "#8e0152"
            ],
            [
             0.1,
             "#c51b7d"
            ],
            [
             0.2,
             "#de77ae"
            ],
            [
             0.3,
             "#f1b6da"
            ],
            [
             0.4,
             "#fde0ef"
            ],
            [
             0.5,
             "#f7f7f7"
            ],
            [
             0.6,
             "#e6f5d0"
            ],
            [
             0.7,
             "#b8e186"
            ],
            [
             0.8,
             "#7fbc41"
            ],
            [
             0.9,
             "#4d9221"
            ],
            [
             1,
             "#276419"
            ]
           ],
           "sequential": [
            [
             0,
             "#0d0887"
            ],
            [
             0.1111111111111111,
             "#46039f"
            ],
            [
             0.2222222222222222,
             "#7201a8"
            ],
            [
             0.3333333333333333,
             "#9c179e"
            ],
            [
             0.4444444444444444,
             "#bd3786"
            ],
            [
             0.5555555555555556,
             "#d8576b"
            ],
            [
             0.6666666666666666,
             "#ed7953"
            ],
            [
             0.7777777777777778,
             "#fb9f3a"
            ],
            [
             0.8888888888888888,
             "#fdca26"
            ],
            [
             1,
             "#f0f921"
            ]
           ],
           "sequentialminus": [
            [
             0,
             "#0d0887"
            ],
            [
             0.1111111111111111,
             "#46039f"
            ],
            [
             0.2222222222222222,
             "#7201a8"
            ],
            [
             0.3333333333333333,
             "#9c179e"
            ],
            [
             0.4444444444444444,
             "#bd3786"
            ],
            [
             0.5555555555555556,
             "#d8576b"
            ],
            [
             0.6666666666666666,
             "#ed7953"
            ],
            [
             0.7777777777777778,
             "#fb9f3a"
            ],
            [
             0.8888888888888888,
             "#fdca26"
            ],
            [
             1,
             "#f0f921"
            ]
           ]
          },
          "colorway": [
           "#636efa",
           "#EF553B",
           "#00cc96",
           "#ab63fa",
           "#FFA15A",
           "#19d3f3",
           "#FF6692",
           "#B6E880",
           "#FF97FF",
           "#FECB52"
          ],
          "font": {
           "color": "#2a3f5f"
          },
          "geo": {
           "bgcolor": "white",
           "lakecolor": "white",
           "landcolor": "#E5ECF6",
           "showlakes": true,
           "showland": true,
           "subunitcolor": "white"
          },
          "hoverlabel": {
           "align": "left"
          },
          "hovermode": "closest",
          "mapbox": {
           "style": "light"
          },
          "paper_bgcolor": "white",
          "plot_bgcolor": "#E5ECF6",
          "polar": {
           "angularaxis": {
            "gridcolor": "white",
            "linecolor": "white",
            "ticks": ""
           },
           "bgcolor": "#E5ECF6",
           "radialaxis": {
            "gridcolor": "white",
            "linecolor": "white",
            "ticks": ""
           }
          },
          "scene": {
           "xaxis": {
            "backgroundcolor": "#E5ECF6",
            "gridcolor": "white",
            "gridwidth": 2,
            "linecolor": "white",
            "showbackground": true,
            "ticks": "",
            "zerolinecolor": "white"
           },
           "yaxis": {
            "backgroundcolor": "#E5ECF6",
            "gridcolor": "white",
            "gridwidth": 2,
            "linecolor": "white",
            "showbackground": true,
            "ticks": "",
            "zerolinecolor": "white"
           },
           "zaxis": {
            "backgroundcolor": "#E5ECF6",
            "gridcolor": "white",
            "gridwidth": 2,
            "linecolor": "white",
            "showbackground": true,
            "ticks": "",
            "zerolinecolor": "white"
           }
          },
          "shapedefaults": {
           "line": {
            "color": "#2a3f5f"
           }
          },
          "ternary": {
           "aaxis": {
            "gridcolor": "white",
            "linecolor": "white",
            "ticks": ""
           },
           "baxis": {
            "gridcolor": "white",
            "linecolor": "white",
            "ticks": ""
           },
           "bgcolor": "#E5ECF6",
           "caxis": {
            "gridcolor": "white",
            "linecolor": "white",
            "ticks": ""
           }
          },
          "title": {
           "x": 0.05
          },
          "xaxis": {
           "automargin": true,
           "gridcolor": "white",
           "linecolor": "white",
           "ticks": "",
           "title": {
            "standoff": 15
           },
           "zerolinecolor": "white",
           "zerolinewidth": 2
          },
          "yaxis": {
           "automargin": true,
           "gridcolor": "white",
           "linecolor": "white",
           "ticks": "",
           "title": {
            "standoff": 15
           },
           "zerolinecolor": "white",
           "zerolinewidth": 2
          }
         }
        },
        "title": {
         "text": "Dislocation Loop Radius"
        },
        "width": 600,
        "xaxis": {
         "title": {
          "text": "Dose [dpa]"
         }
        },
        "yaxis": {
         "title": {
          "text": "Loop Radius [nm]"
         }
        }
       }
      },
      "image/png": "[encoded data removed]"
     },
     "metadata": {},
     "output_type": "display_data"
    }
   ],
   "source": [
    "# Interactive plots of full ODE solution\n",
    "interactive_plots(results, G_0)"
   ]
  },
  {
   "cell_type": "code",
   "execution_count": 82,
   "id": "55ae98b1-be9c-4161-b122-6ceb2e1dcff9",
   "metadata": {},
   "outputs": [
    {
     "data": {
      "image/png": "[encoded data removed]",
      "text/plain": [
       "<Figure size 800x600 with 2 Axes>"
      ]
     },
     "metadata": {},
     "output_type": "display_data"
    }
   ],
   "source": [
    "# Overlay experimental points\n",
    "dose_model = sol_fit.t * G_0\n",
    "plt.figure(figsize=(8,6))\n",
    "\n",
    "# Radius\n",
    "plt.subplot(1,2,1)\n",
    "plt.plot(dose_model, results['R_L']*1e7, label=\"Model\")  # radius nm\n",
    "plt.scatter(dose_exp_R, R_exp*1e7, color=\"red\", label=\"Exp radius\")\n",
    "plt.xlabel(\"Dose [dpa]\"); plt.ylabel(\"Loop radius [nm]\")\n",
    "plt.legend()\n",
    "\n",
    "# Density\n",
    "plt.subplot(1,2,2)\n",
    "plt.plot(dose_model, results['N_L']*1e-15, label=\"Model\")  # density\n",
    "plt.scatter(dose_exp_N, N_exp*1e-15, color=\"green\", label=\"Exp density\")\n",
    "plt.xlabel(\"Dose [dpa]\"); plt.ylabel(\"Loop density [$10^{15} cm^{-3}$]\")\n",
    "plt.legend()\n",
    "\n",
    "plt.tight_layout()\n",
    "plt.show()"
   ]
  }
 ],
 "metadata": {
  "kernelspec": {
   "display_name": "Python 3 (ipykernel)",
   "language": "python",
   "name": "python3"
  },
  "language_info": {
   "codemirror_mode": {
    "name": "ipython",
    "version": 3
   },
   "file_extension": ".py",
   "mimetype": "text/x-python",
   "name": "python",
   "nbconvert_exporter": "python",
   "pygments_lexer": "ipython3",
   "version": "3.9.23"
  }
 },
 "nbformat": 4,
 "nbformat_minor": 5
}

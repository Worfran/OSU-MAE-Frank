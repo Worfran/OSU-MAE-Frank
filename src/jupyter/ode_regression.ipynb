{
 "cells": [
  {
   "cell_type": "markdown",
   "id": "2e379a2d-a2cf-4a10-9374-d940334fb57c",
   "metadata": {},
   "source": [
    "<h1><center> Regresion over Energie barries and Loop lifetime</center><h1></h1>\n",
    "<h2>Imports and helper functions</h2>"
   ]
  },
  {
   "cell_type": "code",
   "execution_count": 1,
   "id": "f3f2ea95-06dd-4b74-9041-8710a5c2e604",
   "metadata": {},
   "outputs": [],
   "source": [
    "import pandas as pd\n",
    "import numpy as np\n",
    "\n",
    "from scipy.integrate import solve_ivp\n",
    "from scipy.optimize import curve_fit\n",
    "\n",
    "import matplotlib.pyplot as plt\n",
    "import plotly.graph_objs as go\n",
    "from plotly.subplots import make_subplots"
   ]
  },
  {
   "cell_type": "markdown",
   "id": "2c56bd98-28f5-447f-b686-2566b1d31391",
   "metadata": {},
   "source": [
    "<h3>Constants</h3>"
   ]
  },
  {
   "cell_type": "code",
   "execution_count": 2,
   "id": "afd9063e-0791-4f30-becd-e1282d4b34d3",
   "metadata": {},
   "outputs": [],
   "source": [
    "#Contans\n",
    "pi = np.pi\n",
    "kb = 8.617333262145e-5  # Boltzmann constant in eV/K\n",
    "T = 800 + 273.15        # Temperature in Kelvin"
   ]
  },
  {
   "cell_type": "markdown",
   "id": "013b33d7-2332-4fd8-9b7c-2b74cb2a126c",
   "metadata": {},
   "source": [
    "<h3>Helper functions</h3>"
   ]
  },
  {
   "cell_type": "code",
   "execution_count": 3,
   "id": "5e6bec3f-169c-4214-91a5-fbb7a304bf89",
   "metadata": {},
   "outputs": [],
   "source": [
    "# Helper functions\n",
    "def D_Coeff(D_0, E_m, T):\n",
    "    return D_0 * np.exp(-E_m / (kb * T))\n",
    "\n",
    "def log_factor(r_0, r_L):\n",
    "    logt = np.log(8 * r_L / r_0)\n",
    "    r = r_0 * logt\n",
    "    return 1 / r \n",
    "\n",
    "def compute_j_L_i(C_Th_i, D_Th_i, r_0, r_L):\n",
    "    log_fact = log_factor(r_0, r_L)\n",
    "    num = D_Th_i * C_Th_i\n",
    "    return log_fact * num \n",
    "\n",
    "def compute_j_ii(C_Th_i, C_O_i, D_Th_i, D_O_i, eta, Z_2_Th = 6, Z_2_O = 6):\n",
    "    \n",
    "    numerator = Z_2_Th * D_Th_i * (C_Th_i**2) * Z_2_O * D_O_i * (C_O_i**2)\n",
    "    denominator = 2 * Z_2_Th * D_Th_i * (C_Th_i**2) + Z_2_O * D_O_i * (C_O_i**2)\n",
    "    \n",
    "    return eta * numerator / denominator \n",
    "\n",
    "def loop_life_time_term(N_L, R_L, alpha, beta, k_lf):\n",
    "    pro = np.power(N_L, alpha) * np.power(R_L, beta)\n",
    "    return k_lf * np.power(N_L, alpha) * np.power(R_L, beta)\n"
   ]
  },
  {
   "cell_type": "markdown",
   "id": "7b7b34f6-1400-49aa-bed4-c1f795e6b4d0",
   "metadata": {},
   "source": [
    "<h3>Data reader</h3>"
   ]
  },
  {
   "cell_type": "code",
   "execution_count": 4,
   "id": "13d7badd-a4a2-49ec-b8bc-e7ec57ed727a",
   "metadata": {},
   "outputs": [],
   "source": [
    "#Data reader\n",
    "def load_data(file, colnames, path = '../../data/'):\n",
    "    filename = path + file\n",
    "    df = pd.read_csv(filename, names = colnames, dtype=float, skiprows=1)\n",
    "    return df"
   ]
  },
  {
   "cell_type": "markdown",
   "id": "416fa9f6-50e8-4f6d-b8f1-fbabdbb64cae",
   "metadata": {},
   "source": [
    "<h2>ODE System</h2>"
   ]
  },
  {
   "cell_type": "code",
   "execution_count": 5,
   "id": "a6fd886e-9cd9-4f27-becf-e4facb69fab4",
   "metadata": {},
   "outputs": [],
   "source": [
    "# ODE system\n",
    "def ODE_system(t, y, params):\n",
    "    C_Th_v, C_O_v, C_Th_i, C_O_i, N_L, R_L = y\n",
    "\n",
    "    G_Th_v = params['G_Th_v']\n",
    "    G_O_v  = params['G_O_v']\n",
    "    G_Th_i = params['G_Th_i']\n",
    "    G_O_i  = params['G_O_i']\n",
    "    a     = params['a']\n",
    "    Omega_0 = (a**3) / 12\n",
    "    D_Th_i = params['D_Th_i']\n",
    "    D_O_i  = params['D_O_i']\n",
    "    D_Th_v = params['D_Th_v']\n",
    "    D_O_v  = params['D_O_v']\n",
    "    r0     = params['r0']\n",
    "    L = params['L']\n",
    "    b = a / np.sqrt(3)\n",
    "    alpha = params['alpha']\n",
    "    beta = params['beta']\n",
    "    k_lf = params['k_lf']\n",
    "    eta =  Omega_0 / a**2\n",
    "    st   = 2 * pi * R_L * N_L\n",
    "\n",
    "     \n",
    "    j_L_i = 0\n",
    "    j_ii = 0\n",
    "    \n",
    "    if C_Th_i != 0 or C_O_i != 0:\n",
    "        j_L_i = compute_j_L_i(C_Th_i, D_Th_i, r0, R_L)\n",
    "        j_ii  = compute_j_ii(C_Th_i, C_O_i, D_Th_i, D_O_i, eta)\n",
    "    \n",
    "    tau = loop_life_time_term(N_L, R_L, alpha, beta, k_lf)\n",
    "    \n",
    "    k_Th = eta * (48 * D_Th_i + 48 * D_Th_i)\n",
    "    k_O  = eta * (36 * D_O_i + 24 * D_O_i)\n",
    "\n",
    "    c_lamalle = 12/(L**2)\n",
    "\n",
    "    \n",
    "    dc = np.zeros(6)\n",
    "    \n",
    "    #R_L evolution\n",
    "    \n",
    "    dc[5] = 3 * Omega_0 * 2 * pi * r0 * j_L_i / b\n",
    "\n",
    "    dc[4] =  j_ii \n",
    "\n",
    "    if tau != 0 :\n",
    "        dc[4] -=  N_L / tau\n",
    "    \n",
    "\n",
    "    \n",
    "    if dc[5] < 0 and R_L <= 2*r0:\n",
    "        dc[5] = 0\n",
    "\n",
    "    if dc[4] < 0 and N_L <= 0:\n",
    "        dc[4] = 0\n",
    "\n",
    "    dc[0] = G_Th_v - k_Th * C_Th_v * C_Th_i # - c_lamalle * D_Th_v * C_Th_v (neglected)\n",
    "    dc[1] = G_O_v  - k_O  * C_O_v  * C_O_i  - c_lamalle * D_O_v * C_O_v\n",
    "    dc[2] = G_Th_i - k_Th * C_Th_i * C_Th_v - c_lamalle * D_Th_i * C_Th_i  - j_L_i * pi * r0 * st - j_ii\n",
    "    dc[3] = G_O_i  - k_O  * C_O_i  * C_O_v  - c_lamalle * D_O_i * C_O_i - 2 * j_L_i * pi * r0 * st - 2 * j_ii\n",
    "\n",
    "    return dc\n"
   ]
  },
  {
   "cell_type": "markdown",
   "id": "5996dbd2-b645-4548-81cd-31fe3420024a",
   "metadata": {},
   "source": [
    "<h2>Fit function</h2>"
   ]
  },
  {
   "cell_type": "code",
   "execution_count": 6,
   "id": "5dde7b2a-5b88-4eb0-aca0-ff5c096f0040",
   "metadata": {},
   "outputs": [],
   "source": [
    "def fit_function(E_Th_i, E_O_v, E_O_i, k_lf,\n",
    "                 dose_exp_R, dose_exp_N, y0, t_span, ode_params, G_0, t_eval):\n",
    "\n",
    "    E_Th_v = 5.0  # fixed\n",
    "\n",
    "    ode_params['D_Th_i'] = D_Coeff(D_0_Th_i, E_Th_i, T)\n",
    "    ode_params['D_Th_v'] = D_Coeff(D_0_Th_v, E_Th_v, T)\n",
    "    ode_params['D_O_i']  = D_Coeff(D_0_O_i,  E_O_i, T)\n",
    "    ode_params['D_O_v']  = D_Coeff(D_0_O_v,  E_O_v, T)\n",
    "    ode_params['k_lf']   = k_lf\n",
    "\n",
    "    # Solve ODE\n",
    "    sol = solve_ivp(\n",
    "        ODE_system, t_span, y0, args=(ode_params,),\n",
    "        method=\"BDF\", t_eval=t_eval, rtol=1e-6, atol=1e-9\n",
    "    )\n",
    "\n",
    "    # Check solver success\n",
    "    if not sol.success:\n",
    "        print(\"Solver failed:\", sol.message)\n",
    "        # Return NaNs so curve_fit knows this set of parameters is bad\n",
    "        return np.full(len(dose_exp_R) + len(dose_exp_N), np.nan)\n",
    "\n",
    "    dose_model = sol.t * G_0\n",
    "\n",
    "    R_model = np.interp(dose_exp_R, dose_model, sol.y[5, :])  # radius\n",
    "    N_model = np.interp(dose_exp_N, dose_model, sol.y[4, :])  # density\n",
    "\n",
    "    return np.concatenate([R_model, N_model])"
   ]
  },
  {
   "cell_type": "markdown",
   "id": "6975777f-439a-4dee-af98-8f653c0ccf7d",
   "metadata": {},
   "source": [
    "<h2>Ploting function</h2>"
   ]
  },
  {
   "cell_type": "code",
   "execution_count": 7,
   "id": "7d588345-acc4-40a8-bcdc-012558ed4860",
   "metadata": {},
   "outputs": [],
   "source": [
    "def interactive_plots(results, G_0):\n",
    "    time = results['time']\n",
    "    dose = time * G_0\n",
    "\n",
    "    # Ce Concentrations\n",
    "    fig1 = go.Figure()\n",
    "    fig1.add_trace(go.Scatter(x=time, y=results['C_Th_v'],\n",
    "                              mode='lines', name='C_Th_v'))\n",
    "    fig1.add_trace(go.Scatter(x=time, y=results['C_Th_i'],\n",
    "                              mode='lines', name='C_Th_i'))\n",
    "    fig1.update_layout(title=\"Vacancy Concentrations\",\n",
    "                       xaxis=dict(title=\"Time [s]\", type=\"log\",  exponentformat='power'),\n",
    "                       yaxis=dict(title=\"Concentration [cm<sup>-3</sup>]\", type=\"log\", exponentformat='power'),\n",
    "                       width=600, height=500)\n",
    "    fig1.show()\n",
    "\n",
    "    # O Concentrations\n",
    "    fig2 = go.Figure()\n",
    "    fig2.add_trace(go.Scatter(x=time, y=results['C_O_v'],\n",
    "                              mode='lines', name='C_O_v'))\n",
    "    fig2.add_trace(go.Scatter(x=time, y=results['C_O_i'],\n",
    "                              mode='lines', name='C_O_i'))\n",
    "    fig2.update_layout(title=\"Interstitial Concentrations\",\n",
    "                       xaxis=dict(title=\"Time [s]\", type=\"log\", exponentformat='power'),\n",
    "                       yaxis=dict(title=\"Concentration [cm<sup>-3</sup>]\", type=\"log\", exponentformat='power'),\n",
    "                       width=600, height=500)\n",
    "    fig2.show()\n",
    "\n",
    "    # Loop density\n",
    "    fig3 = go.Figure()\n",
    "    fig3.add_trace(go.Scatter(x=dose, y=results['N_L']*1e-16,\n",
    "                              mode='lines', name='N_L'))\n",
    "    fig3.update_layout(title=\"Dislocation Loop Density\",\n",
    "                       xaxis=dict(title=\"Dose [dpa]\"),\n",
    "                       yaxis=dict(title=\"Loop Density [ 10<sup>16</sup> cm<sup>-3</sup>] \"),\n",
    "                       width=600, height=500)\n",
    "    fig3.show()\n",
    "\n",
    "    # Loop radius\n",
    "    fig4 = go.Figure()\n",
    "    fig4.add_trace(go.Scatter(x=dose, y=results['R_L']*1e7,\n",
    "                              mode='lines', name='R_L'))\n",
    "    fig4.update_layout(title=\"Dislocation Loop Radius\",\n",
    "                       xaxis=dict(title=\"Dose [dpa]\"),\n",
    "                       yaxis=dict(title=\"Loop Radius [nm]\"),\n",
    "                       width=600, height=500)\n",
    "    fig4.show()\n"
   ]
  },
  {
   "cell_type": "markdown",
   "id": "2ede74cf-9376-4d85-8177-1e162c8d2192",
   "metadata": {},
   "source": [
    "<h2>Doing the fit</h2>\n",
    "<h3>Defining parameters</h3>"
   ]
  },
  {
   "cell_type": "code",
   "execution_count": 8,
   "id": "1dfc727a-b6b1-49d7-b3db-3aa318a93e17",
   "metadata": {},
   "outputs": [
    {
     "name": "stdout",
     "output_type": "stream",
     "text": [
      "D_Ce_i = 6.162e-15 cm^2/s\n",
      "D_Ce_v = 2.146e-24 cm^2/s\n",
      "D_O_i  = 1.186e-06 cm^2/s\n",
      "D_O_v  = 5.747e-08 cm^2/s\n",
      "G_Ce   = 2.651e+19 dpa/(s*cm^3)\n",
      "G_O   = 1.047e+20 dpa/(s*cm^3)\n"
     ]
    }
   ],
   "source": [
    "#Parameters\n",
    "a = 561e-10   # cm\n",
    "N = 12 \n",
    "Omega_0 = (a**3) / N\n",
    "b = a / np.sqrt(3)\n",
    "\n",
    "L = 100e-7 # Lamallae thickness cm\n",
    "\n",
    "#Scenario B\n",
    "alpha = 1\n",
    "beta = 1\n",
    "\n",
    "D_0_Th_v, D_0_Th_i, D_0_O_v, D_0_O_i = 0.65, 0.01, 0.02, 0.01\n",
    "\n",
    "E_m_Th_v, E_m_Th_i, E_m_O_v, E_m_O_i = 5.0, 2.6, 1.18, 0.836\n",
    "\n",
    "# Dose rate dpa/s\n",
    "G_Th_0 = 0.39e-3  \n",
    "G_O_0 = 1.54e-3\n",
    "\n",
    "# Dose rato to dpa/(s*cm^-3)\n",
    "\n",
    "G_Th = G_Th_0 / Omega_0 \n",
    "G_O  = G_O_0 / Omega_0\n",
    "r0 = 180.4e-10 #cm\n",
    "\n",
    "k_lf = 2\n",
    "\n",
    "ode_params = {\n",
    "    'G_Th_v': G_Th, 'G_O_v': G_O,\n",
    "    'G_Th_i': G_Th, 'G_O_i': G_O,\n",
    "    'a': a, \n",
    "    'D_Th_i': D_Coeff(D_0_Th_i, E_m_Th_i, T),\n",
    "    'D_Th_v': D_Coeff(D_0_Th_v, E_m_Th_v, T),\n",
    "    'D_O_i':  D_Coeff(D_0_O_i,  E_m_O_i, T),\n",
    "    'D_O_v':  D_Coeff(D_0_O_v,  E_m_O_v, T),\n",
    "    'r0': r0,\n",
    "    'L': L,\n",
    "    'alpha': alpha,\n",
    "    'beta': beta,\n",
    "    'k_lf': k_lf\n",
    "}\n",
    "\n",
    "print(f\"D_Ce_i = {ode_params['D_Th_i']:.3e} cm^2/s\")\n",
    "print(f\"D_Ce_v = {ode_params['D_Th_v']:.3e} cm^2/s\")\n",
    "print(f\"D_O_i  = {ode_params['D_O_i']:.3e} cm^2/s\")\n",
    "print(f\"D_O_v  = {ode_params['D_O_v']:.3e} cm^2/s\")\n",
    "print(f\"G_Ce   = {ode_params['G_Th_v']:.3e} dpa/(s*cm^3)\")\n",
    "print(f\"G_O   = {ode_params['G_O_v']:.3e} dpa/(s*cm^3)\")\n"
   ]
  },
  {
   "cell_type": "code",
   "execution_count": 9,
   "id": "c05d7c34-b6e4-4440-97e8-e440d8687e4d",
   "metadata": {},
   "outputs": [],
   "source": [
    "# Initial conditions\n",
    "t0 = 0.0001149\n",
    "y0 = [G_Th*t0, G_O*t0, G_Th*t0, G_O*t0, G_O*t0*1e-6,  np.sqrt(N*Omega_0/(pi*b))]\n",
    "\n",
    "#Damage rate dpa/s\n",
    "G_0 = 1.9e-3\n",
    "\n",
    "# Total time from total dose\n",
    "dmg = 3.0   # dpa\n",
    "t_end = dmg / G_0\n",
    "t_span = (t0, t_end)\n",
    "t_eval = np.linspace(t0, t_end, 3000)\n"
   ]
  },
  {
   "cell_type": "markdown",
   "id": "c6444eb5-d886-4379-9100-a557369c39a9",
   "metadata": {},
   "source": [
    "<h3>Testing ODE system</h3>"
   ]
  },
  {
   "cell_type": "code",
   "execution_count": 10,
   "id": "95d0ddb9-f7ac-4bfc-9c6e-5bd7d0976b77",
   "metadata": {},
   "outputs": [],
   "source": [
    "#Collect results and plot\n",
    "#solution = solve_ivp(ODE_system, method='BDF', t_span=t_span, y0=y0,\n",
    "#                     args=(ode_params,), t_eval=t_eval)\n",
    "\n",
    "#results = pd.DataFrame(solution.y.T,\n",
    "#                       columns=['C_Th_v','C_O_v','C_Th_i','C_O_i','N_L','R_L'])\n",
    "#results['time'] = solution.t\n",
    "\n",
    "#interactive_plots(results, G_0)"
   ]
  },
  {
   "cell_type": "markdown",
   "id": "2fe9ed4d-efa2-4ffd-830d-31244ae8cb23",
   "metadata": {},
   "source": [
    "<h3>Doing the regression</h3>"
   ]
  },
  {
   "cell_type": "code",
   "execution_count": 11,
   "id": "8d680c59-3e1b-4e7b-8753-be48242a20b1",
   "metadata": {},
   "outputs": [],
   "source": [
    "#experimental data\n",
    "lines = ['Red', 'Green', 'Blue']\n",
    "filenames = [f'{lines[0]}-line-loop-diameter.csv', f'{lines[0]}-line-density.csv']\n",
    "\n",
    "data1 = load_data(filenames[0], ['Dose (dpa)', 'Diameter (nm)'])\n",
    "data2 = load_data(filenames[0], ['Dose (dpa)', 'Density (cm^-3)'])\n",
    "\n",
    "dose_exp_R, dose_exp_N, R_exp, N_exp = data1['Dose (dpa)'], data2['Dose (dpa)'], data1['Diameter (nm)']*1e-7, data2['Density (cm^-3)']*1e16"
   ]
  },
  {
   "cell_type": "code",
   "execution_count": 12,
   "id": "279a4ae8-d5d3-4e4f-bd56-d18bf2a39d22",
   "metadata": {},
   "outputs": [
    {
     "name": "stdout",
     "output_type": "stream",
     "text": [
      "Best fit parameters:\n",
      "E_Th_i = 1.903 eV\n",
      "E_O_v  = 2.216 eV\n",
      "E_O_i  = 1.041 eV\n",
      "k_lf   = 1.885e+00\n"
     ]
    }
   ],
   "source": [
    "# Combine experimental data into one array\n",
    "data_all = np.concatenate([R_exp, N_exp])\n",
    "\n",
    "# Initial guess and bounds\n",
    "p0 = [0.836, 1.8, 0.6, 5.0]  #E_Th_i, E_O_v, E_O_i, k_lf,\n",
    "bounds = ([0.5, 0.5, 0.5, 0], [4.0, 4.0, 4.0, 8])\n",
    "\n",
    "# Perform fit\n",
    "popt, pcov = curve_fit(\n",
    "    lambda _, E_Th_i, E_O_v, E_O_i, k_lf: \n",
    "        fit_function(E_Th_i, E_O_v, E_O_i, k_lf,\n",
    "                     dose_exp_R, dose_exp_N, y0, t_span, ode_params.copy(), G_0, t_eval),\n",
    "    xdata=np.zeros_like(data_all), \n",
    "    ydata=data_all, \n",
    "    p0=p0, bounds=bounds\n",
    ")\n",
    "\n",
    "print(\"Best fit parameters:\")\n",
    "print(f\"E_Th_i = {popt[0]:.3f} eV\")\n",
    "print(f\"E_O_v  = {popt[1]:.3f} eV\")\n",
    "print(f\"E_O_i  = {popt[2]:.3f} eV\")\n",
    "print(f\"k_lf   = {popt[3]:.3e}\")"
   ]
  },
  {
   "cell_type": "markdown",
   "id": "f762c5e5-5dea-408f-8f44-4df86cdfc61d",
   "metadata": {},
   "source": [
    "<h2>Plotting fit</h2>"
   ]
  },
  {
   "cell_type": "code",
   "execution_count": 13,
   "id": "b55f6478-3325-43f8-bdc5-923b3f50944b",
   "metadata": {},
   "outputs": [],
   "source": [
    "fit_params = ode_params.copy()\n",
    "\n",
    "fit_params['D_Th_i'] = D_Coeff(D_0_Th_i, popt[0], T)\n",
    "fit_params['D_O_i']  = D_Coeff(D_0_O_i, popt[1], T)\n",
    "fit_params['D_O_v']  = D_Coeff(D_0_O_v, popt[2], T)\n",
    "fit_params['k_lf']   = popt[3]"
   ]
  },
  {
   "cell_type": "code",
   "execution_count": 14,
   "id": "9f2673ee-3983-4a9b-bc2f-0262341c71df",
   "metadata": {},
   "outputs": [
    {
     "data": {
      "application/vnd.plotly.v1+json": {
       "config": {
        "plotlyServerURL": "https://plot.ly"
       },
       "data": [
        {
         "mode": "lines",
         "name": "C_Th_v",
         "type": "scatter",
         "x": {
          "bdata": "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",
          "dtype": "f8"
         },
         "y": {
          "bdata": "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",
          "dtype": "f8"
         }
        },
        {
         "mode": "lines",
         "name": "C_Th_i",
         "type": "scatter",
         "x": {
          "bdata": "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",
          "dtype": "f8"
         },
         "y": {
          "bdata": "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",
          "dtype": "f8"
         }
        }
       ],
       "layout": {
        "height": 500,
        "template": {
         "data": {
          "bar": [
           {
            "error_x": {
             "color": "#2a3f5f"
            },
            "error_y": {
             "color": "#2a3f5f"
            },
            "marker": {
             "line": {
              "color": "#E5ECF6",
              "width": 0.5
             },
             "pattern": {
              "fillmode": "overlay",
              "size": 10,
              "solidity": 0.2
             }
            },
            "type": "bar"
           }
          ],
          "barpolar": [
           {
            "marker": {
             "line": {
              "color": "#E5ECF6",
              "width": 0.5
             },
             "pattern": {
              "fillmode": "overlay",
              "size": 10,
              "solidity": 0.2
             }
            },
            "type": "barpolar"
           }
          ],
          "carpet": [
           {
            "aaxis": {
             "endlinecolor": "#2a3f5f",
             "gridcolor": "white",
             "linecolor": "white",
             "minorgridcolor": "white",
             "startlinecolor": "#2a3f5f"
            },
            "baxis": {
             "endlinecolor": "#2a3f5f",
             "gridcolor": "white",
             "linecolor": "white",
             "minorgridcolor": "white",
             "startlinecolor": "#2a3f5f"
            },
            "type": "carpet"
           }
          ],
          "choropleth": [
           {
            "colorbar": {
             "outlinewidth": 0,
             "ticks": ""
            },
            "type": "choropleth"
           }
          ],
          "contour": [
           {
            "colorbar": {
             "outlinewidth": 0,
             "ticks": ""
            },
            "colorscale": [
             [
              0,
              "#0d0887"
             ],
             [
              0.1111111111111111,
              "#46039f"
             ],
             [
              0.2222222222222222,
              "#7201a8"
             ],
             [
              0.3333333333333333,
              "#9c179e"
             ],
             [
              0.4444444444444444,
              "#bd3786"
             ],
             [
              0.5555555555555556,
              "#d8576b"
             ],
             [
              0.6666666666666666,
              "#ed7953"
             ],
             [
              0.7777777777777778,
              "#fb9f3a"
             ],
             [
              0.8888888888888888,
              "#fdca26"
             ],
             [
              1,
              "#f0f921"
             ]
            ],
            "type": "contour"
           }
          ],
          "contourcarpet": [
           {
            "colorbar": {
             "outlinewidth": 0,
             "ticks": ""
            },
            "type": "contourcarpet"
           }
          ],
          "heatmap": [
           {
            "colorbar": {
             "outlinewidth": 0,
             "ticks": ""
            },
            "colorscale": [
             [
              0,
              "#0d0887"
             ],
             [
              0.1111111111111111,
              "#46039f"
             ],
             [
              0.2222222222222222,
              "#7201a8"
             ],
             [
              0.3333333333333333,
              "#9c179e"
             ],
             [
              0.4444444444444444,
              "#bd3786"
             ],
             [
              0.5555555555555556,
              "#d8576b"
             ],
             [
              0.6666666666666666,
              "#ed7953"
             ],
             [
              0.7777777777777778,
              "#fb9f3a"
             ],
             [
              0.8888888888888888,
              "#fdca26"
             ],
             [
              1,
              "#f0f921"
             ]
            ],
            "type": "heatmap"
           }
          ],
          "histogram": [
           {
            "marker": {
             "pattern": {
              "fillmode": "overlay",
              "size": 10,
              "solidity": 0.2
             }
            },
            "type": "histogram"
           }
          ],
          "histogram2d": [
           {
            "colorbar": {
             "outlinewidth": 0,
             "ticks": ""
            },
            "colorscale": [
             [
              0,
              "#0d0887"
             ],
             [
              0.1111111111111111,
              "#46039f"
             ],
             [
              0.2222222222222222,
              "#7201a8"
             ],
             [
              0.3333333333333333,
              "#9c179e"
             ],
             [
              0.4444444444444444,
              "#bd3786"
             ],
             [
              0.5555555555555556,
              "#d8576b"
             ],
             [
              0.6666666666666666,
              "#ed7953"
             ],
             [
              0.7777777777777778,
              "#fb9f3a"
             ],
             [
              0.8888888888888888,
              "#fdca26"
             ],
             [
              1,
              "#f0f921"
             ]
            ],
            "type": "histogram2d"
           }
          ],
          "histogram2dcontour": [
           {
            "colorbar": {
             "outlinewidth": 0,
             "ticks": ""
            },
            "colorscale": [
             [
              0,
              "#0d0887"
             ],
             [
              0.1111111111111111,
              "#46039f"
             ],
             [
              0.2222222222222222,
              "#7201a8"
             ],
             [
              0.3333333333333333,
              "#9c179e"
             ],
             [
              0.4444444444444444,
              "#bd3786"
             ],
             [
              0.5555555555555556,
              "#d8576b"
             ],
             [
              0.6666666666666666,
              "#ed7953"
             ],
             [
              0.7777777777777778,
              "#fb9f3a"
             ],
             [
              0.8888888888888888,
              "#fdca26"
             ],
             [
              1,
              "#f0f921"
             ]
            ],
            "type": "histogram2dcontour"
           }
          ],
          "mesh3d": [
           {
            "colorbar": {
             "outlinewidth": 0,
             "ticks": ""
            },
            "type": "mesh3d"
           }
          ],
          "parcoords": [
           {
            "line": {
             "colorbar": {
              "outlinewidth": 0,
              "ticks": ""
             }
            },
            "type": "parcoords"
           }
          ],
          "pie": [
           {
            "automargin": true,
            "type": "pie"
           }
          ],
          "scatter": [
           {
            "fillpattern": {
             "fillmode": "overlay",
             "size": 10,
             "solidity": 0.2
            },
            "type": "scatter"
           }
          ],
          "scatter3d": [
           {
            "line": {
             "colorbar": {
              "outlinewidth": 0,
              "ticks": ""
             }
            },
            "marker": {
             "colorbar": {
              "outlinewidth": 0,
              "ticks": ""
             }
            },
            "type": "scatter3d"
           }
          ],
          "scattercarpet": [
           {
            "marker": {
             "colorbar": {
              "outlinewidth": 0,
              "ticks": ""
             }
            },
            "type": "scattercarpet"
           }
          ],
          "scattergeo": [
           {
            "marker": {
             "colorbar": {
              "outlinewidth": 0,
              "ticks": ""
             }
            },
            "type": "scattergeo"
           }
          ],
          "scattergl": [
           {
            "marker": {
             "colorbar": {
              "outlinewidth": 0,
              "ticks": ""
             }
            },
            "type": "scattergl"
           }
          ],
          "scattermap": [
           {
            "marker": {
             "colorbar": {
              "outlinewidth": 0,
              "ticks": ""
             }
            },
            "type": "scattermap"
           }
          ],
          "scattermapbox": [
           {
            "marker": {
             "colorbar": {
              "outlinewidth": 0,
              "ticks": ""
             }
            },
            "type": "scattermapbox"
           }
          ],
          "scatterpolar": [
           {
            "marker": {
             "colorbar": {
              "outlinewidth": 0,
              "ticks": ""
             }
            },
            "type": "scatterpolar"
           }
          ],
          "scatterpolargl": [
           {
            "marker": {
             "colorbar": {
              "outlinewidth": 0,
              "ticks": ""
             }
            },
            "type": "scatterpolargl"
           }
          ],
          "scatterternary": [
           {
            "marker": {
             "colorbar": {
              "outlinewidth": 0,
              "ticks": ""
             }
            },
            "type": "scatterternary"
           }
          ],
          "surface": [
           {
            "colorbar": {
             "outlinewidth": 0,
             "ticks": ""
            },
            "colorscale": [
             [
              0,
              "#0d0887"
             ],
             [
              0.1111111111111111,
              "#46039f"
             ],
             [
              0.2222222222222222,
              "#7201a8"
             ],
             [
              0.3333333333333333,
              "#9c179e"
             ],
             [
              0.4444444444444444,
              "#bd3786"
             ],
             [
              0.5555555555555556,
              "#d8576b"
             ],
             [
              0.6666666666666666,
              "#ed7953"
             ],
             [
              0.7777777777777778,
              "#fb9f3a"
             ],
             [
              0.8888888888888888,
              "#fdca26"
             ],
             [
              1,
              "#f0f921"
             ]
            ],
            "type": "surface"
           }
          ],
          "table": [
           {
            "cells": {
             "fill": {
              "color": "#EBF0F8"
             },
             "line": {
              "color": "white"
             }
            },
            "header": {
             "fill": {
              "color": "#C8D4E3"
             },
             "line": {
              "color": "white"
             }
            },
            "type": "table"
           }
          ]
         },
         "layout": {
          "annotationdefaults": {
           "arrowcolor": "#2a3f5f",
           "arrowhead": 0,
           "arrowwidth": 1
          },
          "autotypenumbers": "strict",
          "coloraxis": {
           "colorbar": {
            "outlinewidth": 0,
            "ticks": ""
           }
          },
          "colorscale": {
           "diverging": [
            [
             0,
             "#8e0152"
            ],
            [
             0.1,
             "#c51b7d"
            ],
            [
             0.2,
             "#de77ae"
            ],
            [
             0.3,
             "#f1b6da"
            ],
            [
             0.4,
             "#fde0ef"
            ],
            [
             0.5,
             "#f7f7f7"
            ],
            [
             0.6,
             "#e6f5d0"
            ],
            [
             0.7,
             "#b8e186"
            ],
            [
             0.8,
             "#7fbc41"
            ],
            [
             0.9,
             "#4d9221"
            ],
            [
             1,
             "#276419"
            ]
           ],
           "sequential": [
            [
             0,
             "#0d0887"
            ],
            [
             0.1111111111111111,
             "#46039f"
            ],
            [
             0.2222222222222222,
             "#7201a8"
            ],
            [
             0.3333333333333333,
             "#9c179e"
            ],
            [
             0.4444444444444444,
             "#bd3786"
            ],
            [
             0.5555555555555556,
             "#d8576b"
            ],
            [
             0.6666666666666666,
             "#ed7953"
            ],
            [
             0.7777777777777778,
             "#fb9f3a"
            ],
            [
             0.8888888888888888,
             "#fdca26"
            ],
            [
             1,
             "#f0f921"
            ]
           ],
           "sequentialminus": [
            [
             0,
             "#0d0887"
            ],
            [
             0.1111111111111111,
             "#46039f"
            ],
            [
             0.2222222222222222,
             "#7201a8"
            ],
            [
             0.3333333333333333,
             "#9c179e"
            ],
            [
             0.4444444444444444,
             "#bd3786"
            ],
            [
             0.5555555555555556,
             "#d8576b"
            ],
            [
             0.6666666666666666,
             "#ed7953"
            ],
            [
             0.7777777777777778,
             "#fb9f3a"
            ],
            [
             0.8888888888888888,
             "#fdca26"
            ],
            [
             1,
             "#f0f921"
            ]
           ]
          },
          "colorway": [
           "#636efa",
           "#EF553B",
           "#00cc96",
           "#ab63fa",
           "#FFA15A",
           "#19d3f3",
           "#FF6692",
           "#B6E880",
           "#FF97FF",
           "#FECB52"
          ],
          "font": {
           "color": "#2a3f5f"
          },
          "geo": {
           "bgcolor": "white",
           "lakecolor": "white",
           "landcolor": "#E5ECF6",
           "showlakes": true,
           "showland": true,
           "subunitcolor": "white"
          },
          "hoverlabel": {
           "align": "left"
          },
          "hovermode": "closest",
          "mapbox": {
           "style": "light"
          },
          "paper_bgcolor": "white",
          "plot_bgcolor": "#E5ECF6",
          "polar": {
           "angularaxis": {
            "gridcolor": "white",
            "linecolor": "white",
            "ticks": ""
           },
           "bgcolor": "#E5ECF6",
           "radialaxis": {
            "gridcolor": "white",
            "linecolor": "white",
            "ticks": ""
           }
          },
          "scene": {
           "xaxis": {
            "backgroundcolor": "#E5ECF6",
            "gridcolor": "white",
            "gridwidth": 2,
            "linecolor": "white",
            "showbackground": true,
            "ticks": "",
            "zerolinecolor": "white"
           },
           "yaxis": {
            "backgroundcolor": "#E5ECF6",
            "gridcolor": "white",
            "gridwidth": 2,
            "linecolor": "white",
            "showbackground": true,
            "ticks": "",
            "zerolinecolor": "white"
           },
           "zaxis": {
            "backgroundcolor": "#E5ECF6",
            "gridcolor": "white",
            "gridwidth": 2,
            "linecolor": "white",
            "showbackground": true,
            "ticks": "",
            "zerolinecolor": "white"
           }
          },
          "shapedefaults": {
           "line": {
            "color": "#2a3f5f"
           }
          },
          "ternary": {
           "aaxis": {
            "gridcolor": "white",
            "linecolor": "white",
            "ticks": ""
           },
           "baxis": {
            "gridcolor": "white",
            "linecolor": "white",
            "ticks": ""
           },
           "bgcolor": "#E5ECF6",
           "caxis": {
            "gridcolor": "white",
            "linecolor": "white",
            "ticks": ""
           }
          },
          "title": {
           "x": 0.05
          },
          "xaxis": {
           "automargin": true,
           "gridcolor": "white",
           "linecolor": "white",
           "ticks": "",
           "title": {
            "standoff": 15
           },
           "zerolinecolor": "white",
           "zerolinewidth": 2
          },
          "yaxis": {
           "automargin": true,
           "gridcolor": "white",
           "linecolor": "white",
           "ticks": "",
           "title": {
            "standoff": 15
           },
           "zerolinecolor": "white",
           "zerolinewidth": 2
          }
         }
        },
        "title": {
         "text": "Vacancy Concentrations"
        },
        "width": 600,
        "xaxis": {
         "exponentformat": "power",
         "title": {
          "text": "Time [s]"
         },
         "type": "log"
        },
        "yaxis": {
         "exponentformat": "power",
         "title": {
          "text": "Concentration [cm<sup>-3</sup>]"
         },
         "type": "log"
        }
       }
      },
      "image/png": "[encoded data removed]"
     },
     "metadata": {},
     "output_type": "display_data"
    },
    {
     "data": {
      "application/vnd.plotly.v1+json": {
       "config": {
        "plotlyServerURL": "https://plot.ly"
       },
       "data": [
        {
         "mode": "lines",
         "name": "C_O_v",
         "type": "scatter",
         "x": {
          "bdata": "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",
          "dtype": "f8"
         },
         "y": {
          "bdata": "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",
          "dtype": "f8"
         }
        },
        {
         "mode": "lines",
         "name": "C_O_i",
         "type": "scatter",
         "x": {
          "bdata": "rjcg+M4eHj8WSRQj9dngP5Vo2Kd82fA/n6wmvv5F+T9UeDpqQNkAQFmaYXWBDwVAXryIgMJFCUBj3q+LA3wNQDSAa0si2RBANhH/0EL0EkA5opJWYw8VQDwzJtyDKhdAPsS5YaRFGUBAVU3nxGAbQEPm4Gzlex1ARnd08gWXH0AkBAQ8E9kgQKXMzX6j5iFAJpWXwTP0IkCoXWEExAEkQCkmK0dUDyVAqu70ieQcJkAst77MdConQK1/iA8FOChALkhSUpVFKUCvEByVJVMqQDDZ5de1YCtAsqGvGkZuLEAzanld1nstQLQyQ6BmiS5ANvsM4/aWL0DbYeuSQ1IwQBxGULQL2TBAXSq11dNfMUCdDhr3m+YxQN7yfhhkbTJAHtfjOSz0MkBfu0hb9HozQKCfrXy8ATRA4IMSnoSINEAhaHe/TA81QGJM3OAUljVAojBBAt0cNkDjFKYjpaM2QCT5CkVtKjdAZN1vZjWxN0ClwdSH/Tc4QOWlOanFvjhAJoqeyo1FOUBnbgPsVcw5QKdSaA0eUzpA6DbNLubZOkAoGzJQrmA7QGn/lnF25ztAquP7kj5uPEDqx2C0BvU8QCusxdXOez1AbJAq95YCPkCsdI8YX4k+QO1Y9DknED9ALj1ZW++WP0C3EF++2w5AQNeCEc8/UkBA+PTD36OVQEAYZ3bwB9lAQDjZKAFsHEFAWUvbEdBfQUB5vY0iNKNBQJkvQDOY5kFAuqHyQ/wpQkDaE6VUYG1CQPqFV2XEsEJAGvgJdij0QkA7aryGjDdDQFvcbpfwekNAe04hqFS+Q0CcwNO4uAFEQLwyhskcRURA3KQ42oCIRED9Fuvq5MtEQB2JnftID0VAPftPDK1SRUBebQIdEZZFQH7ftC112UVAnlFnPtkcRkC/wxlPPWBGQN81zF+ho0ZA/6d+cAXnRkAgGjGBaSpHQECM45HNbUdAYP6VojGxR0CAcEizlfRHQKHi+sP5N0hAwVSt1F17SEDhxl/lwb5IQAI5EvYlAklAIqvEBopFSUBCHXcX7ohJQGOPKShSzElAgwHcOLYPSkCjc45JGlNKQMTlQFp+lkpA5FfzauLZSkAEyqV7Rh1LQCQ8WIyqYEtARa4KnQ6kS0BlIL2tcudLQIWSb77WKkxApgQizzpuTEDGdtTfnrFMQObohvAC9UxAB1s5AWc4TUAnzesRy3tNQEc/niIvv01AaLFQM5MCTkCIIwNE90VOQKiVtVRbiU5AyQdoZb/MTkDpeRp2IxBPQAnszIaHU09AKl5/l+uWT0BK0DGoT9pPQDUhctzZDlBARVrL5IswUEBVkyTtPVJQQGbMffXvc1BAdgXX/aGVUECGPjAGVLdQQJZ3iQ4G2VBAprDiFrj6UEC26TsfahxRQMYilSccPlFA11vuL85fUUDnlEc4gIFRQPfNoEAyo1FABwf6SOTEUUAXQFNRluZRQCd5rFlICFJAOLIFYvopUkBI615qrEtSQFgkuHJebVJAaF0RexCPUkB4lmqDwrBSQIjPw4t00lJAmAgdlCb0UkCpQXac2BVTQLl6z6SKN1NAybMorTxZU0DZ7IG17npTQOkl272gnFNA+V40xlK+U0AKmI3OBOBTQBrR5ta2AVRAKgpA32gjVEA6Q5nnGkVUQEp88u/MZlRAWrVL+H6IVEBr7qQAMapUQHsn/gjjy1RAi2BXEZXtVECbmbAZRw9VQKvSCSL5MFVAuwtjKqtSVUDLRLwyXXRVQNx9FTsPllVA7LZuQ8G3VUD878dLc9lVQAwpIVQl+1VAHGJ6XNccVkAsm9NkiT5WQD3ULG07YFZATQ2Gde2BVkBdRt99n6NWQG1/OIZRxVZAfbiRjgPnVkCN8eqWtQhXQJ4qRJ9nKldArmOdpxlMV0C+nPavy21XQM7VT7h9j1dA3g6pwC+xV0DuRwLJ4dJXQP6AW9GT9FdAD7q02UUWWEAf8w3i9zdYQC8sZ+qpWVhAP2XA8lt7WEBPnhn7DZ1YQF/XcgPAvlhAcBDMC3LgWECASSUUJAJZQJCCfhzWI1lAoLvXJIhFWUCw9DAtOmdZQMAtijXsiFlA0GbjPZ6qWUDhnzxGUMxZQPHYlU4C7llAARLvVrQPWkARS0hfZjFaQCGEoWcYU1pAMb36b8p0WkBC9lN4fJZaQFIvrYAuuFpAYmgGieDZWkByoV+RkvtaQILauJlEHVtAkhMSovY+W0CiTGuqqGBbQLOFxLJagltAw74duwykW0DT93bDvsVbQOMw0Mtw51tA82kp1CIJXEADo4Lc1CpcQBTc2+SGTFxAJBU17ThuXEA0To716o9cQESH5/2csVxAVMBABk/TXEBk+ZkOAfVcQHUy8xazFl1AhWtMH2U4XUCVpKUnF1pdQKXd/i/Je11AtRZYOHudXUDFT7FALb9dQNWICknf4F1A5sFjUZECXkD2+rxZQyReQAY0FmL1RV5AFm1vaqdnXkAmpshyWYleQDbfIXsLq15ARxh7g73MXkBXUdSLb+5eQGeKLZQhEF9Ad8OGnNMxX0CH/N+khVNfQJc1Oa03dV9AqG6StemWX0C4p+u9m7hfQMjgRMZN2l9A2Bmezv/7X0B0qXvr2A5gQPxFqO+xH2BAhOLU84owYEAMfwH4Y0FgQJQbLvw8UmBAHLhaABZjYEClVIcE73NgQC3xswjIhGBAtY3gDKGVYEA9Kg0ReqZgQMXGORVTt2BATWNmGSzIYEDV/5IdBdlgQF2cvyHe6WBA5TjsJbf6YEBt1RgqkAthQPVxRS5pHGFAfQ5yMkItYUAFq542Gz5hQI5Hyzr0TmFAFuT3Ps1fYUCegCRDpnBhQCYdUUd/gWFArrl9S1iSYUA2VqpPMaNhQL7y1lMKtGFARo8DWOPEYUDOKzBcvNVhQFbIXGCV5mFA3mSJZG73YUBmAbZoRwhiQO6d4mwgGWJAdzoPcfkpYkD/1jt10jpiQIdzaHmrS2JADxCVfYRcYkCXrMGBXW1iQB9J7oU2fmJAp+Uaig+PYkAvgkeO6J9iQLcedJLBsGJAP7uglprBYkDHV82ac9JiQE/0+Z5M42JA15AmoyX0YkBgLVOn/gRjQOjJf6vXFWNAcGasr7AmY0D4AtmziTdjQICfBbhiSGNACDwyvDtZY0CQ2F7AFGpjQBh1i8TtemNAoBG4yMaLY0AoruTMn5xjQLBKEdF4rWNAOOc91VG+Y0DBg2rZKs9jQEkgl90D4GNA0bzD4dzwY0BZWfDltQFkQOH1HOqOEmRAaZJJ7mcjZEDxLnbyQDRkQHnLovYZRWRAAWjP+vJVZECJBPz+y2ZkQBGhKAOld2RAmT1VB36IZEAh2oELV5lkQKp2rg8wqmRAMhPbEwm7ZEC6rwcY4stkQEJMNBy73GRAyuhgIJTtZEBShY0kbf5kQNohuihGD2VAYr7mLB8gZUDqWhMx+DBlQHL3PzXRQWVA+pNsOapSZUCCMJk9g2NlQArNxUFcdGVAk2nyRTWFZUAbBh9KDpZlQKOiS07npmVAKz94UsC3ZUCz26RWmchlQDt40Vpy2WVAwxT+XkvqZUBLsSpjJPtlQNNNV2f9C2ZAW+qDa9YcZkDjhrBvry1mQGsj3XOIPmZA878JeGFPZkB8XDZ8OmBmQAT5YoATcWZAjJWPhOyBZkAUMryIxZJmQJzO6Iyeo2ZAJGsVkXe0ZkCsB0KVUMVmQDSkbpkp1mZAvECbnQLnZkBE3ceh2/dmQMx59KW0CGdAVBYhqo0ZZ0Ddsk2uZipnQGVPerI/O2dA7eumthhMZ0B1iNO68VxnQP0kAL/KbWdAhcEsw6N+Z0ANXlnHfI9nQJX6hctVoGdAHZeyzy6xZ0ClM9/TB8JnQC3QC9jg0mdAtWw43LnjZ0A9CWXgkvRnQMalkeRrBWhATkK+6EQWaEDW3ursHSdoQF57F/H2N2hA5hdE9c9IaEButHD5qFloQPZQnf2BamhAfu3JAVt7aEAGivYFNIxoQI4mIwoNnWhAFsNPDuataECeX3wSv75oQCb8qBaYz2hAr5jVGnHgaEA3NQIfSvFoQL/RLiMjAmlAR25bJ/wSaUDPCogr1SNpQFentC+uNGlA30PhM4dFaUBn4A04YFZpQO98Ojw5Z2lAdxlnQBJ4aUD/tZNE64hpQIdSwEjEmWlAD+/sTJ2qaUCYixlRdrtpQCAoRlVPzGlAqMRyWSjdaUAwYZ9dAe5pQLj9y2Ha/mlAQJr4ZbMPakDINiVqjCBqQFDTUW5lMWpA2G9+cj5CakBgDKt2F1NqQOio13rwY2pAcEUEf8l0akD44TCDooVqQIF+XYd7lmpACRuKi1SnakCRt7aPLbhqQBlU45MGyWpAofAPmN/ZakApjTycuOpqQLEpaaCR+2pAOcaVpGoMa0DBYsKoQx1rQEn/7qwcLmtA0ZsbsfU+a0BZOEi1zk9rQOHUdLmnYGtAanGhvYBxa0DyDc7BWYJrQHqq+sUyk2tAAkcnyguka0CK41PO5LRrQBKAgNK9xWtAmhyt1pbWa0Aiudnab+drQKpVBt9I+GtAMvIy4yEJbEC6jl/n+hlsQEIrjOvTKmxAy8e476w7bEBTZOXzhUxsQNsAEvheXWxAY50+/DdubEDrOWsAEX9sQHPWlwTqj2xA+3LECMOgbECDD/EMnLFsQAusHRF1wmxAk0hKFU7TbEAb5XYZJ+RsQKOBox0A9WxAKx7QIdkFbUC0uvwlshZtQDxXKSqLJ21AxPNVLmQ4bUBMkIIyPUltQNQsrzYWWm1AXMnbOu9qbUDkZQg/yHttQGwCNUOhjG1A9J5hR3qdbUB8O45LU65tQATYuk8sv21AjHTnUwXQbUAUERRY3uBtQJ2tQFy38W1AJUptYJACbkCt5plkaRNuQDWDxmhCJG5AvR/zbBs1bkBFvB9x9EVuQM1YTHXNVm5AVfV4eaZnbkDdkaV9f3huQGUu0oFYiW5A7cr+hTGabkB1ZyuKCqtuQP0DWI7ju25AhqCEkrzMbkAOPbGWld1uQJbZ3Zpu7m5AHnYKn0f/bkCmEjejIBBvQC6vY6f5IG9AtkuQq9Ixb0A+6Lyvq0JvQMaE6bOEU29ATiEWuF1kb0DWvUK8NnVvQF5ab8APhm9A5/abxOiWb0Bvk8jIwadvQPcv9cyauG9Af8wh0XPJb0AHaU7VTNpvQI8Fe9kl629AF6Kn3f77b0BQH+rwawZwQJRtAHPYDnBA2LsW9UQXcEAcCi13sR9wQGBYQ/kdKHBApKZZe4owcEDo9G/99jhwQCxDhn9jQXBAcJGcAdBJcEC037KDPFJwQPgtyQWpWnBAPHzfhxVjcECAyvUJgmtwQMUYDIzuc3BACWciDlt8cEBNtTiQx4RwQJEDTxI0jXBA1VFllKCVcEAZoHsWDZ5wQF3ukZh5pnBAoTyoGuaucEDlir6cUrdwQCnZ1B6/v3BAbSfroCvIcECxdQEjmNBwQPXDF6UE2XBAORIuJ3HhcEB9YESp3elwQMGuWitK8nBABf1wrbb6cEBJS4cvIwNxQI2ZnbGPC3FA0eezM/wTcUAVNsq1aBxxQFmE4DfVJHFAndL2uUEtcUDhIA08rjVxQCVvI74aPnFAar05QIdGcUCuC1DC805xQPJZZkRgV3FANqh8xsxfcUB69pJIOWhxQL5EqcqlcHFAApO/TBJ5cUBG4dXOfoFxQIov7FDriXFAzn0C01eScUASzBhVxJpxQFYaL9cwo3FAmmhFWZ2rcUDetlvbCbRxQCIFcl12vHFAZlOI3+LEcUCqoZ5hT81xQO7vtOO71XFAMj7LZSjecUB2jOHnlOZxQLra92kB73FA/igO7G33cUBCdyRu2v9xQIbFOvBGCHJAyhNRcrMQckAOYmf0HxlyQFOwfXaMIXJAl/6T+PgpckDbTKp6ZTJyQB+bwPzROnJAY+nWfj5DckCnN+0Aq0tyQOuFA4MXVHJAL9QZBYRcckBzIjCH8GRyQLdwRgldbXJA+75ci8l1ckA/DXMNNn5yQINbiY+ihnJAx6mfEQ+PckAL+LWTe5dyQE9GzBXon3JAk5Til1SockDX4vgZwbByQBsxD5wtuXJAX38lHprBckCjzTugBspyQOcbUiJz0nJAK2popN/ackBvuH4mTONyQLMGlai463JA91SrKiX0ckA8o8GskfxyQIDx1y7+BHNAxD/usGoNc0AIjgQz1xVzQEzcGrVDHnNAkCoxN7Amc0DUeEe5HC9zQBjHXTuJN3NAXBV0vfU/c0CgY4o/YkhzQOSxoMHOUHNAKAC3QztZc0BsTs3Fp2FzQLCc40cUanNA9Or5yYByc0A4ORBM7XpzQHyHJs5Zg3NAwNU8UMaLc0AEJFPSMpRzQEhyaVSfnHNAjMB/1gulc0DQDpZYeK1zQBRdrNrktXNAWKvCXFG+c0Cc+djevcZzQOFH72Aqz3NAJZYF45bXc0Bp5BtlA+BzQK0yMudv6HNA8YBIadzwc0A1z17rSPlzQHkddW21AXRAvWuL7yEKdEABuqFxjhJ0QEUIuPP6GnRAiVbOdWcjdEDNpOT30yt0QBHz+nlANHRAVUER/Kw8dECZjyd+GUV0QN3dPQCGTXRAISxUgvJVdEBlemoEX150QKnIgIbLZnRA7RaXCDhvdEAxZa2KpHd0QHWzwwwRgHRAuQHajn2IdED9T/AQ6pB0QEGeBpNWmXRAhewcFcOhdEDKOjOXL6p0QA6JSRmcsnRAUtdfmwi7dECWJXYddcN0QNpzjJ/hy3RAHsKiIU7UdEBiELmjutx0QKZezyUn5XRA6qzlp5PtdEAu+/spAPZ0QHJJEqxs/nRAtpcoLtkGdUD65T6wRQ91QD40VTKyF3VAgoJrtB4gdUDG0IE2iyh1QAofmLj3MHVATm2uOmQ5dUCSu8S80EF1QNYJ2z49SnVAGljxwKlSdUBepgdDFlt1QKL0HcWCY3VA5kI0R+9rdUAqkUrJW3R1QG/fYEvIfHVAsy13zTSFdUD3e41PoY11QDvKo9ENlnVAfxi6U3qedUDDZtDV5qZ1QAe15ldTr3VASwP92b+3dUCPURNcLMB1QNOfKd6YyHVAF+4/YAXRdUBbPFbicdl1QJ+KbGTe4XVA49iC5krqdUAnJ5lot/J1QGt1r+oj+3VAr8PFbJADdkDzEdzu/At2QDdg8nBpFHZAe64I89UcdkC//B51QiV2QANLNfeuLXZAR5lLeRs2dkCL52H7hz52QM81eH30RnZAE4SO/2BPdkBY0qSBzVd2QJwguwM6YHZA4G7RhaZodkAkvecHE3F2QGgL/ol/eXZArFkUDOyBdkDwpyqOWIp2QDT2QBDFknZAeERXkjGbdkC8km0UnqN2QADhg5YKrHZARC+aGHe0dkCIfbCa47x2QMzLxhxQxXZAEBrdnrzNdkBUaPMgKdZ2QJi2CaOV3nZA3AQgJQLndkAgUzanbu92QGShTCnb93ZAqO9iq0cAd0DsPXkttAh3QDCMj68gEXdAdNqlMY0Zd0C4KLyz+SF3QP120jVmKndAQcXot9Iyd0CFE/85Pzt3QMlhFbyrQ3dADbArPhhMd0BR/kHAhFR3QJVMWELxXHdA2ZpuxF1ld0Ad6YRGym13QGE3m8g2dndApYWxSqN+d0Dp08fMD4d3QC0i3k58j3dAcXD00OiXd0C1vgpTVaB3QPkMIdXBqHdAPVs3Vy6xd0CBqU3Zmrl3QMX3Y1sHwndACUZ63XPKd0BNlJBf4NJ3QJHipuFM23dA1TC9Y7njd0AZf9PlJex3QF3N6WeS9HdAoRsA6v78d0DmaRZsawV4QCq4LO7XDXhAbgZDcEQWeECyVFnysB54QPaib3QdJ3hAOvGF9okveEB+P5x49jd4QMKNsvpiQHhABtzIfM9IeEBKKt/+O1F4QI549YCoWXhA0sYLAxVieEAWFSKFgWp4QFpjOAfucnhAnrFOiVp7eEDi/2QLx4N4QCZOe40zjHhAapyRD6CUeECu6qeRDJ14QPI4vhN5pXhANofUleWteEB61eoXUrZ4QL4jAZq+vnhAAnIXHCvHeEBGwC2el894QIoORCAE2HhAz1xaonDgeEATq3Ak3eh4QFf5hqZJ8XhAm0edKLb5eEDflbOqIgJ5QCPkySyPCnlAZzLgrvsSeUCrgPYwaBt5QO/ODLPUI3lAMx0jNUEseUB3azm3rTR5QLu5TzkaPXlA/wdmu4ZFeUBDVnw98015QIekkr9fVnlAy/KoQcxeeUAPQb/DOGd5QFOP1UWlb3lAl93rxxF4eUDbKwJKfoB5QB96GMzqiHlAY8guTleReUCnFkXQw5l5QOtkW1IwonlAL7Nx1JyqeUB0AYhWCbN5QLhPnth1u3lA/J20WuLDeUBA7MrcTsx5QIQ64V671HlAyIj34CfdeUAM1w1jlOV5QFAlJOUA7nlAlHM6Z232eUDYwVDp2f55QBwQZ2tGB3pAYF597bIPekCkrJNvHxh6QOj6qfGLIHpALEnAc/goekBwl9b1ZDF6QLTl7HfROXpA+DMD+j1CekA8ghl8qkp6QIDQL/4WU3pAxB5GgINbekAIbVwC8GN6QEy7coRcbHpAkAmJBsl0ekDUV5+INX16QBimtQqihXpAXfTLjA6OekChQuIOe5Z6QOWQ+JDnnnpAKd8OE1SnekBtLSWVwK96QLF7OxctuHpA9clRmZnAekA5GGgbBsl6QH1mfp1y0XpAwbSUH9/ZekAFA6uhS+J6QElRwSO46npAjZ/XpSTzekDR7e0nkft6QBU8BKr9A3tAWYoaLGoMe0Cd2DCu1hR7QOEmRzBDHXtAJXVdsq8le0Bpw3M0HC57QK0RiraINntA8V+gOPU+e0A1rra6YUd7QHn8zDzOT3tAvUrjvjpYe0ABmflAp2B7QEbnD8MTaXtAijUmRYBxe0DOgzzH7Hl7QBLSUklZgntAViBpy8WKe0Cabn9NMpN7QN68lc+em3tAIgusUQuke0BmWcLTd6x7QKqn2FXktHtA7vXu11C9e0AyRAVavcV7QHaSG9wpzntAuuAxXpbWe0D+LkjgAt97QEJ9XmJv53tAhst05Nvve0DKGYtmSPh7QA5ooei0AHxAUra3aiEJfECWBM7sjRF8QNpS5G76GXxAHqH68GYifEBi7xBz0yp8QKY9J/U/M3xA64s9d6w7fEAv2lP5GER8QHMoanuFTHxAt3aA/fFUfED7xJZ/Xl18QD8TrQHLZXxAg2HDgzdufEDHr9kFpHZ8QAv+74cQf3xAT0wGCn2HfECTmhyM6Y98QNfoMg5WmHxAGzdJkMKgfEBfhV8SL6l8QKPTdZSbsXxA5yGMFgi6fEArcKKYdMJ8QG++uBrhynxAswzPnE3TfED3WuUeutt8QDup+6Am5HxAf/cRI5PsfEDDRSil//R8QAeUPids/XxAS+JUqdgFfUCPMGsrRQ59QNR+ga2xFn1AGM2XLx4ffUBcG66xiid9QKBpxDP3L31A5LfatWM4fUAoBvE30EB9QGxUB7o8SX1AsKIdPKlRfUD08DO+FVp9QDg/SkCCYn1AfI1gwu5qfUDA23ZEW3N9QAQqjcbHe31ASHijSDSEfUCMxrnKoIx9QNAU0EwNlX1AFGPmznmdfUBYsfxQ5qV9QJz/EtNSrn1A4E0pVb+2fUAknD/XK799QGjqVVmYx31ArDhs2wTQfUDwhoJdcdh9QDTVmN/d4H1AeSOvYUrpfUC9ccXjtvF9QAHA22Uj+n1ARQ7y548CfkCJXAhq/Ap+QM2qHuxoE35AEfk0btUbfkBVR0vwQSR+QJmVYXKuLH5A3eN39Bo1fkAhMo52hz1+QGWApPjzRX5Aqc66emBOfkDtHNH8zFZ+QDFr5345X35Adbn9AKZnfkC5BxSDEnB+QP1VKgV/eH5AQaRAh+uAfkCF8lYJWIl+QMlAbYvEkX5ADY+DDTGafkBR3ZmPnaJ+QJUrsBEKq35A2XnGk3azfkAdyNwV47t+QGIW85dPxH5ApmQJGrzMfkDqsh+cKNV+QC4BNh6V3X5Ack9MoAHmfkC2nWIibu5+QPrreKTa9n5APjqPJkf/fkCCiKWoswd/QMbWuyogEH9ACiXSrIwYf0BOc+gu+SB/QJLB/rBlKX9A1g8VM9Ixf0AaXiu1Pjp/QF6sQTerQn9AovpXuRdLf0DmSG47hFN/QCqXhL3wW39AbuWaP11kf0CyM7HByWx/QPaBx0M2dX9AOtDdxaJ9f0B+HvRHD4Z/QMJsCsp7jn9AB7sgTOiWf0BLCTfOVJ9/QI9XTVDBp39A06Vj0i2wf0AX9HlUmrh/QFtCkNYGwX9An5CmWHPJf0Dj3rza39F/QCct01xM2n9Aa3vp3rjif0Cvyf9gJet/QPMXFuOR839AN2YsZf77f0A9WqFzNQKAQF+BrLRrBoBAgai39aEKgECjz8I22A6AQMX2zXcOE4BA5x3ZuEQXgEAJReT5ehuAQCts7zqxH4BATZP6e+cjgEBvugW9HSiAQJHhEP5TLIBAswgcP4owgEDVLyeAwDSAQPdWMsH2OIBAGX49Ai09gEA7pUhDY0GAQF3MU4SZRYBAf/Nexc9JgEChGmoGBk6AQMNBdUc8UoBA5WiAiHJWgEAHkIvJqFqAQCm3lgrfXoBAS96hSxVjgEBtBa2MS2eAQI8suM2Ba4BAslPDDrhvgEDUes5P7nOAQPah2ZAkeIBAGMnk0Vp8gEA68O8SkYCAQFwX+1PHhIBAfj4Glf2IgECgZRHWM42AQMKMHBdqkYBA5LMnWKCVgEAG2zKZ1pmAQCgCPtoMnoBASilJG0OigEBsUFRceaaAQI53X52vqoBAsJ5q3uWugEDSxXUfHLOAQPTsgGBSt4BAFhSMoYi7gEA4O5fivr+AQFpioiP1w4BAfImtZCvIgECesLilYcyAQMDXw+aX0IBA4v7OJ87UgEAEJtpoBNmAQCZN5ak63YBASHTw6nDhgEBqm/srp+WAQIzCBm3d6YBArukRrhPugEDQEB3vSfKAQPI3KDCA9oBAFF8zcbb6gEA2hj6y7P6AQFitSfMiA4FAetRUNFkHgUCc+191jwuBQL4ia7bFD4FA4El29/sTgUACcYE4MhiBQCSYjHloHIFARr+Xup4ggUBo5qL71CSBQIoNrjwLKYFArDS5fUEtgUDOW8S+dzGBQPCCz/+tNYFAEqraQOQ5gUA00eWBGj6BQFb48MJQQoFAeR/8A4dGgUCbRgdFvUqBQL1tEobzToFA35QdxylTgUABvCgIYFeBQCPjM0mWW4FARQo/isxfgUBnMUrLAmSBQIlYVQw5aIFAq39gTW9sgUDNpmuOpXCBQO/Nds/bdIFAEfWBEBJ5gUAzHI1RSH2BQFVDmJJ+gYFAd2qj07SFgUCZka4U64mBQLu4uVUhjoFA3d/ElleSgUD/BtDXjZaBQCEu2xjEmoFAQ1XmWfqegUBlfPGaMKOBQIej/Ntmp4FAqcoHHZ2rgUDL8RJe06+BQO0YHp8JtIFAD0Ap4D+4gUAxZzQhdryBQFOOP2KswIFAdbVKo+LEgUCX3FXkGMmBQLkDYSVPzYFA2ypsZoXRgUD9UXenu9WBQB95gujx2YFAQaCNKSjegUBjx5hqXuKBQIXuo6uU5oFApxWv7MrqgUDJPLotAe+BQOtjxW4384FADYvQr233gUAvstvwo/uBQFHZ5jHa/4FAcwDychAEgkCVJ/2zRgiCQLdOCPV8DIJA2XUTNrMQgkD7nB536RSCQB3EKbgfGYJAQOs0+VUdgkBiEkA6jCGCQIQ5S3vCJYJApmBWvPgpgkDIh2H9Li6CQOqubD5lMoJADNZ3f5s2gkAu/YLA0TqCQFAkjgEIP4JAckuZQj5DgkCUcqSDdEeCQLaZr8SqS4JA2MC6BeFPgkD658VGF1SCQBwP0YdNWIJAPjbcyINcgkBgXecJumCCQIKE8krwZIJApKv9iyZpgkDG0gjNXG2CQOj5Ew6TcYJACiEfT8l1gkAsSCqQ/3mCQE5vNdE1foJAcJZAEmyCgkCSvUtTooaCQLTkVpTYioJA1gti1Q6PgkD4Mm0WRZOCQBpaeFd7l4JAPIGDmLGbgkBeqI7Z55+CQIDPmRoepIJAovakW1SogkDEHbCciqyCQOZEu93AsIJACGzGHve0gkAqk9FfLbmCQEy63KBjvYJAbuHn4ZnBgkCQCPMi0MWCQLIv/mMGyoJA1FYJpTzOgkD2fRTmctKCQBilHyep1oJAOswqaN/agkBc8zWpFd+CQH4aQepL44JAoEFMK4LngkDCaFdsuOuCQOSPYq3u74JABrdt7iT0gkAp3ngvW/iCQEsFhHCR/IJAbSyPsccAg0CPU5ry/QSDQLF6pTM0CYNA06GwdGoNg0D1yLu1oBGDQBfwxvbWFYNAORfSNw0ag0BbPt14Qx6DQH1l6Ll5IoNAn4zz+q8mg0DBs/475iqDQOPaCX0cL4NABQIVvlIzg0AnKSD/iDeDQElQK0C/O4NAa3c2gfU/g0CNnkHCK0SDQK/FTANiSINA0exXRJhMg0DzE2OFzlCDQBU7bsYEVYNAN2J5BztZg0BZiYRIcV2DQHuwj4mnYYNAndeayt1lg0C//qULFGqDQOElsUxKboNAA028jYByg0AldMfOtnaDQEeb0g/teoNAacLdUCN/g0CL6eiRWYODQK0Q9NKPh4NAzzf/E8aLg0DxXgpV/I+DQBOGFZYylINANa0g12iYg0BX1CsYn5yDQHn7NlnVoINAmyJCmgulg0C9SU3bQamDQN9wWBx4rYNAAZhjXa6xg0Ajv26e5LWDQEXmed8auoNAZw2FIFG+g0CJNJBhh8KDQKtbm6K9xoNAzYKm4/PKg0DwqbEkKs+DQBLRvGVg04NANPjHppbXg0BWH9PnzNuDQHhG3igD4INAmm3paTnkg0C8lPSqb+iDQN67/+ul7INAAOMKLdzwg0AiChZuEvWDQEQxIa9I+YNAZlgs8H79g0CIfzcxtQGEQKqmQnLrBYRAzM1NsyEKhEDu9Fj0Vw6EQBAcZDWOEoRAMkNvdsQWhEBUanq3+hqEQHaRhfgwH4RAmLiQOWcjhEC635t6nSeEQNwGp7vTK4RA/i2y/AkwhEAgVb09QDSEQEJ8yH52OIRAZKPTv6w8hECGyt4A40CEQKjx6UEZRYRAyhj1gk9JhEDsPwDEhU2EQA5nCwW8UYRAMI4WRvJVhEBStSGHKFqEQHTcLMheXoRAlgM4CZVihEC4KkNKy2aEQNpRTosBa4RA/HhZzDdvhEAeoGQNbnOEQEDHb06kd4RAYu56j9p7hECEFYbQEICEQKY8kRFHhIRAyGOcUn2IhEDqiqeTs4yEQAyystTpkIRALtm9FSCVhEBQAMlWVpmEQHIn1JeMnYRAlE7f2MKhhEC3deoZ+aWEQNmc9VovqoRA+8MAnGWuhEAd6wvdm7KEQD8SFx7StoRAYTkiXwi7hECDYC2gPr+EQKWHOOF0w4RAx65DIqvHhEDp1U5j4cuEQAv9WaQX0IRALSRl5U3UhEBPS3AmhNiEQHFye2e63IRAk5mGqPDghEC1wJHpJuWEQNfnnCpd6YRA+Q6oa5PthEAbNrOsyfGEQD1dvu3/9YRAX4TJLjb6hECBq9RvbP6EQKPS37CiAoVAxfnq8dgGhUDnIPYyDwuFQAlIAXRFD4VAK28MtXsThUBNlhf2sReFQG+9IjfoG4VAkeQteB4ghUCzCzm5VCSFQNUyRPqKKIVA91lPO8EshUAZgVp89zCFQDuoZb0tNYVAXc9w/mM5hUB/9ns/mj2FQKEdh4DQQYVAw0SSwQZGhUDla50CPUqFQAeTqENzToVAKbqzhKlShUBL4b7F31aFQG0IygYWW4VAjy/VR0xfhUCxVuCIgmOFQNN968m4Z4VA9aT2Cu9rhUAXzAFMJXCFQDnzDI1bdIVAWxoYzpF4hUB+QSMPyHyFQKBoLlD+gIVAwo85kTSFhUDktkTSaomFQAbeTxOhjYVAKAVbVNeRhUBKLGaVDZaFQGxTcdZDmoVAjnp8F3qehUCwoYdYsKKFQNLIkpnmpoVA9O+d2hyrhUAWF6kbU6+FQDg+tFyJs4VAWmW/nb+3hUB8jMre9buFQJ6z1R8swIVAwNrgYGLEhUDiAeyhmMiFQAQp9+LOzIVAJlACJAXRhUBIdw1lO9WFQGqeGKZx2YVAjMUj56fdhUCu7C4o3uGFQNATOmkU5oVA8jpFqkrqhUAUYlDrgO6FQDaJWyy38oVAWLBmbe32hUB613GuI/uFQJz+fO9Z/4VAviWIMJADhkDgTJNxxgeGQAJ0nrL8C4ZAJJup8zIQhkBGwrQ0aRSGQGjpv3WfGIZAihDLttUchkCsN9b3CyGGQM5e4ThCJYZA8IXseXgphkASrfe6ri2GQDTUAvzkMYZAVvsNPRs2hkB4Ihl+UTqGQJpJJL+HPoZAvHAvAL5ChkDelzpB9EaGQAC/RYIqS4ZAIuZQw2BPhkBFDVwEl1OGQGc0Z0XNV4ZAiVtyhgNchkCrgn3HOWCGQM2piAhwZIZA79CTSaZohkAR+J6K3GyGQDMfqssScYZAVUa1DEl1hkB3bcBNf3mGQJmUy461fYZAu7vWz+uBhkDd4uEQIoaGQP8J7VFYioZAITH4ko6OhkBDWAPUxJKGQGV/DhX7loZAh6YZVjGbhkCpzSSXZ5+GQMv0L9ido4ZA7Rs7GdSnhkAPQ0ZaCqyGQDFqUZtAsIZAU5Fc3Ha0hkB1uGcdrbiGQJffcl7jvIZAuQZ+nxnBhkDbLYngT8WGQP1UlCGGyYZAH3yfYrzNhkBBo6qj8tGGQGPKteQo1oZAhfHAJV/ahkCnGMxmld6GQMk/16fL4oZA62bi6AHnhkANju0pOOuGQC+1+Gpu74ZAUdwDrKTzhkBzAw/t2veGQJUqGi4R/IZAt1Elb0cAh0DZeDCwfQSHQPufO/GzCIdAHcdGMuoMh0A/7lFzIBGHQGEVXbRWFYdAgzxo9YwZh0ClY3M2wx2HQMeKfnf5IYdA6bGJuC8mh0AM2ZT5ZSqHQC4AoDqcLodAUCere9Iyh0ByTra8CDeHQJR1wf0+O4dAtpzMPnU/h0DYw9d/q0OHQPrq4sDhR4dAHBLuARhMh0A+OflCTlCHQGBgBISEVIdAgocPxbpYh0CkrhoG8VyHQMbVJUcnYYdA6PwwiF1lh0AKJDzJk2mHQCxLRwrKbYdATnJSSwByh0BwmV2MNnaHQJLAaM1seodAtOdzDqN+h0DWDn9P2YKHQPg1ipAPh4dAGl2V0UWLh0A8hKASfI+HQF6rq1Oyk4dAgNK2lOiXh0Ci+cHVHpyHQMQgzRZVoIdA5kfYV4ukh0AIb+OYwaiHQCqW7tn3rIdATL35Gi6xh0Bu5ARcZLWHQJALEJ2auYdAsjIb3tC9h0DUWSYfB8KHQPaAMWA9xodAGKg8oXPKh0A6z0fiqc6HQFz2UiPg0odAfh1eZBbXh0CgRGmlTNuHQMJrdOaC34dA5JJ/J7njh0AGuopo7+eHQCjhlakl7IdASgih6lvwh0BsL6wrkvSHQI5Wt2zI+IdAsH3Crf78h0DSpM3uNAGIQPXL2C9rBYhAF/PjcKEJiEA5Gu+x1w2IQFtB+vINEohAfWgFNEQWiECfjxB1ehqIQMG2G7awHohA490m9+YiiEAFBTI4HSeIQCcsPXlTK4hASVNIuokviEBrelP7vzOIQI2hXjz2N4hAr8hpfSw8iEDR73S+YkCIQPMWgP+YRIhAFT6LQM9IiEA3ZZaBBU2IQFmMocI7UYhAe7OsA3JViECd2rdEqFmIQL8Bw4XeXYhA4SjOxhRiiEADUNkHS2aIQCV35EiBaohAR57vibduiEBpxfrK7XKIQIvsBQwkd4hArRMRTVp7iEDPOhyOkH+IQPFhJ8/Gg4hAE4kyEP2HiEA1sD1RM4yIQFfXSJJpkIhAef5T05+UiECbJV8U1piIQL1MalUMnYhA33N1lkKhiEABm4DXeKWIQCPCixivqYhARemWWeWtiEBnEKKaG7KIQIk3rdtRtohAq164HIi6iEDNhcNdvr6IQO+szp70wohAEdTZ3yrHiEAz++QgYcuIQFUi8GGXz4hAd0n7os3TiECZcAbkA9iIQLyXESU63IhA3r4cZnDgiEAA5ienpuSIQCINM+jc6IhARDQ+KRPtiEBmW0lqSfGIQIiCVKt/9YhAqqlf7LX5iEDM0Got7P2IQO73dW4iAolAEB+Br1gGiUAyRozwjgqJQFRtlzHFDolAdpSicvsSiUCYu62zMReJQLriuPRnG4lA3AnENZ4fiUD+MM921COJQCBY2rcKKIlAQn/l+EAsiUBkpvA5dzCJQIbN+3qtNIlAqPQGvOM4iUDKGxL9GT2JQOxCHT5QQYlADmoof4ZFiUAwkTPAvEmJQFK4PgHzTYlAdN9JQilSiUCWBlWDX1aJQLgtYMSVWolA2lRrBcxeiUD8e3ZGAmOJQB6jgYc4Z4lAQMqMyG5riUBi8ZcJpW+JQIQYo0rbc4lApj+uixF4iUDIZrnMR3yJQOqNxA1+gIlADLXPTrSEiUAu3NqP6oiJQFAD5tAgjYlAcirxEVeRiUCUUfxSjZWJQLZ4B5TDmYlA2J8S1fmdiUD6xh0WMKKJQBzuKFdmpolAPhU0mJyqiUBgPD/Z0q6JQINjShoJs4lApYpVWz+3iUDHsWCcdbuJQOnYa92rv4lACwB3HuLDiUAtJ4JfGMiJQE9OjaBOzIlAcXWY4YTQiUCTnKMiu9SJQLXDrmPx2IlA1+q5pCfdiUD5EcXlXeGJQBs50CaU5YlAPWDbZ8rpiUBfh+aoAO6JQIGu8ek28olAo9X8Km32iUDF/Adso/qJQOcjE63Z/olACUse7g8DikArcikvRgeKQE2ZNHB8C4pAb8A/sbIPikCR50ry6BOKQLMOVjMfGIpA1TVhdFUcikD3XGy1iyCKQBmEd/bBJIpAO6uCN/goikBd0o14Li2KQH/5mLlkMYpAoSCk+po1ikDDR6870TmKQOVuunwHPopAB5bFvT1CikApvdD+c0aKQEvk2z+qSopAbQvngOBOikCPMvLBFlOKQLFZ/QJNV4pA04AIRINbikD1pxOFuV+KQBfPHsbvY4pAOfYpByZoikBbHTVIXGyKQH1EQImScIpAn2tLysh0ikDBklYL/3iKQOO5YUw1fYpABeFsjWuBikAnCHjOoYWKQEovgw/YiYpAbFaOUA6OikCOfZmRRJKKQLCkpNJ6lopA0suvE7GaikD08rpU556KQBYaxpUdo4pAOEHR1lOnikBaaNwXiquKQHyP51jAr4pAnrbymfazikDA3f3aLLiKQOIECRxjvIpABCwUXZnAikAmUx+ez8SKQEh6Kt8FyYpAaqE1IDzNikCMyEBhctGKQK7vS6Ko1YpA0BZX497ZikDyPWIkFd6KQBRlbWVL4opANox4poHmikBYs4Pnt+qKQHrajiju7opAnAGaaSTzikC+KKWqWveKQOBPsOuQ+4pAAne7LMf/ikAknsZt/QOLQEbF0a4zCItAaOzc72kMi0CKE+gwoBCLQKw683HWFItAzmH+sgwZi0DwiAn0Qh2LQBKwFDV5IYtANNcfdq8li0BW/iq35SmLQHglNvgbLotAmkxBOVIyi0C8c0x6iDaLQN6aV7u+OotAAMJi/PQ+i0Ai6W09K0OLQEQQeX5hR4tAZjeEv5dLi0CIXo8Azk+LQKqFmkEEVItAzKylgjpYi0Du07DDcFyLQBD7uwSnYItAMyLHRd1ki0BVSdKGE2mLQHdw3cdJbYtAmZfoCIBxi0C7vvNJtnWLQN3l/orseYtA/wwKzCJ+i0AhNBUNWYKLQENbIE6PhotAZYIrj8WKi0CHqTbQ+46LQKnQQREyk4tAy/dMUmiXi0DtHliTnpuLQA9GY9TUn4tAMW1uFQuki0BTlHlWQaiLQHW7hJd3rItAl+KP2K2wi0C5CZsZ5LSLQNswploauYtA/Vexm1C9i0Aff7zchsGLQEGmxx29xYtAY83SXvPJi0CF9N2fKc6LQKcb6eBf0otAyUL0IZbWi0Draf9izNqLQA2RCqQC34tAL7gV5Tjji0BR3yAmb+eLQHMGLGel64tAlS03qNvvi0C3VELpEfSLQNl7TSpI+ItA+6JYa378i0AdymOstACMQD/xbu3qBIxAYRh6LiEJjECDP4VvVw2MQKVmkLCNEYxAx42b8cMVjEDptKYy+hmMQAvcsXMwHoxALQO9tGYijEBPKsj1nCaMQHFR0zbTKoxAk3jedwkvjEC1n+m4PzOMQNfG9Pl1N4xA+u3/Oqw7jEAcFQt84j+MQD48Fr0YRIxAYGMh/k5IjECCiiw/hUyMQKSxN4C7UIxAxthCwfFUjEDo/00CKFmMQAonWUNeXYxALE5khJRhjEBOdW/FymWMQHCcegYBaoxAksOFRzdujEC06pCIbXKMQNYRnMmjdoxA+DinCtp6jEAaYLJLEH+MQDyHvYxGg4xAXq7IzXyHjECA1dMOs4uMQKL83k/pj4xAxCPqkB+UjEDmSvXRVZiMQAhyABOMnIxAKpkLVMKgjEBMwBaV+KSMQG7nIdYuqYxAkA4tF2WtjECyNThYm7GMQNRcQ5nRtYxA9oNO2ge6jEAYq1kbPr6MQDrSZFx0woxAXPlvnarGjEB+IHve4MqMQKBHhh8Xz4xAwm6RYE3TjEDklZyhg9eMQAa9p+K524xAKOSyI/DfjEBKC75kJuSMQGwyyaVc6IxAjlnU5pLsjECwgN8nyfCMQNKn6mj/9IxA9M71qTX5jEAW9gDra/2MQDgdDCyiAY1AWkQXbdgFjUB8ayKuDgqNQJ6SLe9EDo1Awbk4MHsSjUDj4ENxsRaNQAUIT7LnGo1AJy9a8x0fjUBJVmU0VCONQGt9cHWKJ41AjaR7tsArjUCvy4b39i+NQNHykTgtNI1A8xmdeWM4jUAVQai6mTyNQDdos/vPQI1AWY++PAZFjUB7tsl9PEmNQJ3d1L5yTY1AvwTg/6hRjUDhK+tA31WNQANT9oEVWo1AJXoBw0tejUBHoQwEgmKNQGnIF0W4Zo1Ai+8ihu5qjUCtFi7HJG+NQM89OQhbc41A8WRESZF3jUATjE+Kx3uNQDWzWsv9f41AV9plDDSEjUB5AXFNaoiNQJsofI6gjI1AvU+Hz9aQjUDfdpIQDZWNQAGenVFDmY1AI8WoknmdjUBF7LPTr6GNQGcTvxTmpY1AiTrKVRyqjUCrYdWWUq6NQM2I4NeIso1A76/rGL+2jUAR1/ZZ9bqNQDP+AZsrv41AVSUN3GHDjUB3TBgdmMeNQJlzI17Oy41Au5ounwTQjUDdwTngOtSNQP/oRCFx2I1AIRBQYqfcjUBDN1uj3eCNQGVeZuQT5Y1AiIVxJUrpjUCqrHxmgO2NQMzTh6e28Y1A7vqS6Oz1jUAQIp4pI/qNQDJJqWpZ/o1AVHC0q48CjkB2l7/sxQaOQJi+yi38Co5AuuXVbjIPjkDcDOGvaBOOQP4z7PCeF45AIFv3MdUbjkBCggJzCyCOQGSpDbRBJI5AhtAY9XcojkCo9yM2riyOQMoeL3fkMI5A7EU6uBo1jkAObUX5UDmOQDCUUDqHPY5AUrtbe71BjkB04ma880WOQJYJcv0pSo5AuDB9PmBOjkDaV4h/llKOQPx+k8DMVo5AHqaeAQNbjkBAzalCOV+OQGL0tINvY45AhBvAxKVnjkCmQssF3GuOQMhp1kYScI5A6pDhh0h0jkAMuOzIfniOQC7f9wm1fI5AUAYDS+uAjkByLQ6MIYWOQJRUGc1XiY5AtnskDo6NjkDYoi9PxJGOQPrJOpD6lY5AHPFF0TCajkA+GFESZ56OQGA/XFOdoo5AgmZnlNOmjkCkjXLVCauOQMa0fRZAr45A6NuIV3azjkAKA5SYrLeOQCwqn9niu45AT1GqGhnAjkBxeLVbT8SOQJOfwJyFyI5AtcbL3bvMjkDX7dYe8tCOQPkU4l8o1Y5AGzztoF7ZjkA9Y/jhlN2OQF+KAyPL4Y5AgbEOZAHmjkCj2BmlN+qOQMX/JOZt7o5A5yYwJ6TyjkAJTjto2vaOQCt1RqkQ+45ATZxR6kb/jkBvw1wrfQOPQJHqZ2yzB49AsxFzrekLj0DVOH7uHxCPQPdfiS9WFI9AGYeUcIwYj0A7rp+xwhyPQF3VqvL4II9Af/y1My8lj0ChI8F0ZSmPQMNKzLWbLY9A5XHX9tExj0AHmeI3CDaPQCnA7Xg+Oo9AS+f4uXQ+j0BtDgT7qkKPQI81DzzhRo9AsVwafRdLj0DTgyW+TU+PQPWqMP+DU49AF9I7QLpXj0A5+UaB8FuPQFsgUsImYI9AfUddA11kj0CfbmhEk2iPQMGVc4XJbI9A47x+xv9wj0AF5IkHNnWPQCcLlUhseY9ASTKgiaJ9j0BrWavK2IGPQI2AtgsPho9Ar6fBTEWKj0DRzsyNe46PQPP1186xko9AFh3jD+iWj0A4RO5QHpuPQFpr+ZFUn49AfJIE04qjj0CeuQ8UwaePQMDgGlX3q49A4gcmli2wj0AELzHXY7SPQCZWPBiauI9ASH1HWdC8j0BqpFKaBsGPQIzLXds8xY9ArvJoHHPJj0DQGXRdqc2PQPJAf57f0Y9AFGiK3xXWj0A2j5UgTNqPQFi2oGGC3o9Aet2rorjij0CcBLfj7uaPQL4rwiQl649A4FLNZVvvj0ACetimkfOPQCSh4+fH949ARsjuKP77j0C09/w0GgCQQEWLglU1ApBA1h4IdlAEkEBnso2WawaQQPhFE7eGCJBAidmY16EKkEAabR74vAyQQKsApBjYDpBAPJQpOfMQkEDNJ69ZDhOQQF67NHopFZBA7066mkQXkECA4j+7XxmQQBF2xdt6G5BAoglL/JUdkEAzndAcsR+QQMQwVj3MIZBAVcTbXecjkEDmV2F+AiaQQHfr5p4dKJBACH9svzgqkECZEvLfUyyQQCqmdwBvLpBAuzn9IIowkEBMzYJBpTKQQN1gCGLANJBAbvSNgts2kED/hxOj9jiQQJAbmcMRO5BAIa8e5Cw9kECyQqQESD+QQEPWKSVjQZBA1GmvRX5DkEBl/TRmmUWQQPaQuoa0R5BAhyRAp89JkEAYuMXH6kuQQKlLS+gFTpBAOt/QCCFQkEDLclYpPFKQQFwG3ElXVJBA7ZlhanJWkEB+LeeKjViQQA/BbKuoWpBAoFTyy8NckEAx6Hfs3l6QQMJ7/Qz6YJBAUw+DLRVjkEDkoghOMGWQQHU2jm5LZ5BABsoTj2ZpkECXXZmvgWuQQCnxHtCcbZBAuoSk8LdvkEBLGCoR03GQQNyrrzHuc5BAbT81Ugl2kED+0rpyJHiQQI9mQJM/epBAIPrFs1p8kECxjUvUdX6QQEIh0fSQgJBA07RWFayCkEBkSNw1x4SQQPXbYVbihpBAhm/ndv2IkEAXA22XGIuQQKiW8rczjZBAOSp42E6PkEDKvf34aZGQQFtRgxmFk5BA7OQIOqCVkEB9eI5au5eQQA4MFHvWmZBAn5+Zm/GbkEAwMx+8DJ6QQMHGpNwnoJBAUloq/UKikEDj7a8dXqSQQHSBNT55ppBABRW7XpSokECWqEB/r6qQQCc8xp/KrJBAuM9LwOWukEBJY9HgALGQQNr2VgEcs5BAa4rcITe1kED8HWJCUreQQI2x52JtuZBAHkVtg4i7kECv2PKjo72QQEBseMS+v5BA0f/95NnBkEBik4MF9cOQQPMmCSYQxpBAhLqORivIkEAVThRnRsqQQKbhmYdhzJBAN3UfqHzOkEDICKXIl9CQQFmcKumy0pBA6i+wCc7UkEB7wzUq6daQQAxXu0oE2ZBAnepAax/bkEAufsaLOt2QQL8RTKxV35BAUKXRzHDhkEDhOFfti+OQQHLM3A2n5ZBAA2BiLsLnkECU8+dO3emQQCWHbW/465BAthrzjxPukEBHrniwLvCQQNhB/tBJ8pBAadWD8WT0kED6aAkSgPaQQIv8jjKb+JBAHJAUU7b6kECtI5pz0fyQQD63H5Ts/pBAz0qltAcBkUBg3irVIgORQPFxsPU9BZFAggU2FlkHkUATmbs2dAmRQKQsQVePC5FANcDGd6oNkUDGU0yYxQ+RQFfn0bjgEZFA6HpX2fsTkUB5Dt35FhaRQAqiYhoyGJFAmzXoOk0akUAsyW1baByRQL1c83uDHpFATvB4nJ4gkUDfg/68uSKRQHAXhN3UJJFAAasJ/u8mkUCSPo8eCymRQCPSFD8mK5FAtGWaX0EtkUBF+R+AXC+RQNaMpaB3MZFAZyArwZIzkUD4s7DhrTWRQIlHNgLJN5FAGtu7IuQ5kUCrbkFD/zuRQDwCx2MaPpFAzZVMhDVAkUBeKdKkUEKRQO+8V8VrRJFAgVDd5YZGkUAS5GIGokiRQKN36Ca9SpFANAtuR9hMkUDFnvNn806RQFYyeYgOUZFA58X+qClTkUB4WYTJRFWRQAntCepfV5FAmoCPCntZkUArFBUrlluRQLynmkuxXZFATTsgbMxfkUDezqWM52GRQG9iK60CZJFAAPawzR1mkUCRiTbuOGiRQCIdvA5UapFAs7BBL29skUBERMdPim6RQNXXTHClcJFAZmvSkMBykUD3/lex23SRQIiS3dH2dpFAGSZj8hF5kUCquegSLXuRQDtNbjNIfZFAzODzU2N/kUBddHl0foGRQO4H/5SZg5FAf5uEtbSFkUAQLwrWz4eRQKHCj/bqiZFAMlYVFwaMkUDD6Zo3IY6RQFR9IFg8kJFA5RCmeFeSkUB2pCuZcpSRQAc4sbmNlpFAmMs22qiYkUApX7z6w5qRQLryQRvfnJFAS4bHO/qekUDcGU1cFaGRQG2t0nwwo5FA/kBYnUulkUCP1N29ZqeRQCBoY96BqZFAsfvo/pyrkUBCj24fuK2RQNMi9D/Tr5FAZLZ5YO6xkUD1Sf+ACbSRQIbdhKEktpFAF3EKwj+4kUCoBJDiWrqRQDmYFQN2vJFAyiubI5G+kUBbvyBErMCRQOxSpmTHwpFAfeYrheLEkUAOerGl/caRQJ8NN8YYyZFAMKG85jPLkUDBNEIHT82RQFLIxydqz5FA41tNSIXRkUB079JooNORQAWDWIm71ZFAlhbeqdbXkUAnqmPK8dmRQLg96eoM3JFASdFuCyjekUDaZPQrQ+CRQGv4eUxe4pFA/Iv/bHnkkUCNH4WNlOaRQB6zCq6v6JFAr0aQzsrqkUBA2hXv5eyRQNFtmw8B75FAYgEhMBzxkUDzlKZQN/ORQIQoLHFS9ZFAFbyxkW33kUCmTzeyiPmRQDfjvNKj+5FAyHZC8779kUBZCsgT2v+RQOqdTTT1AZJAezHTVBAEkkAMxVh1KwaSQJ1Y3pVGCJJALuxjtmEKkkC/f+nWfAySQFATb/eXDpJA4ab0F7MQkkByOno4zhKSQAPO/1jpFJJAlGGFeQQXkkAl9QqaHxmSQLaIkLo6G5JASBwW21UdkkDZr5v7cB+SQGpDIRyMIZJA+9amPKcjkkCMaixdwiWSQB3+sX3dJ5JArpE3nvgpkkA/Jb2+EyySQNC4Qt8uLpJAYUzI/0kwkkDy300gZTKSQINz00CANJJAFAdZYZs2kkClmt6BtjiSQDYuZKLROpJAx8Hpwuw8kkBYVW/jBz+SQOno9AMjQZJAenx6JD5DkkALEABFWUWSQJyjhWV0R5JALTcLho9JkkC+ypCmqkuSQE9eFsfFTZJA4PGb5+BPkkBxhSEI/FGSQAIZpygXVJJAk6wsSTJWkkAkQLJpTViSQLXTN4poWpJARme9qoNckkDX+kLLnl6SQGiOyOu5YJJA+SFODNVikkCKtdMs8GSSQBtJWU0LZ5JArNzebSZpkkA9cGSOQWuSQM4D6q5cbZJAX5dvz3dvkkDwKvXvknGSQIG+ehCuc5JAElIAMcl1kkCj5YVR5HeSQDR5C3L/eZJAxQyRkhp8kkBWoBazNX6SQOcznNNQgJJAeMch9GuCkkAJW6cUh4SSQJruLDWihpJAK4KyVb2IkkC8FTh22IqSQE2pvZbzjJJA3jxDtw6PkkBv0MjXKZGSQABkTvhEk5JAkffTGGCVkkAii1k5e5eSQLMe31mWmZJARLJkerGbkkDVReqazJ2SQGbZb7vnn5JA92z12wKikkCIAHv8HaSSQBmUAB05ppJAqieGPVSokkA7uwteb6qSQMxOkX6KrJJAXeIWn6WukkDudZy/wLCSQH8JIuDbspJAEJ2nAPe0kkChMC0hEreSQDLEskEtuZJAw1c4Yki7kkBU672CY72SQOV+Q6N+v5JAdhLJw5nBkkAHpk7ktMOSQJg51ATQxZJAKc1ZJevHkkC6YN9FBsqSQEv0ZGYhzJJA3IfqhjzOkkBtG3CnV9CSQP6u9cdy0pJAj0J76I3UkkAg1gAJqdaSQLFphinE2JJAQv0LSt/akkDTkJFq+tySQGQkF4sV35JA9becqzDhkkCGSyLMS+OSQBffp+xm5ZJAqHItDYLnkkA5BrMtnemSQMqZOE6465JAWy2+btPtkkDswEOP7u+SQH1Uya8J8pJADuhO0CT0kkCge9TwP/aSQDEPWhFb+JJAwqLfMXb6kkBTNmVSkfySQOTJ6nKs/pJAdV1wk8cAk0AG8fWz4gKTQJeEe9T9BJNAKBgB9RgHk0C5q4YVNAmTQEo/DDZPC5NA29KRVmoNk0BsZhd3hQ+TQP35nJegEZNAjo0iuLsTk0AfIajY1hWTQLC0LfnxF5NAQUizGQ0ak0DS2zg6KByTQGNvvlpDHpNA9AJEe14gk0CFlsmbeSKTQBYqT7yUJJNAp73U3K8mk0A4UVr9yiiTQMnk3x3mKpNAWnhlPgEtk0DrC+teHC+TQHyfcH83MZNADTP2n1Izk0CexnvAbTWTQC9aAeGIN5NAwO2GAaQ5k0BRgQwivzuTQOIUkkLaPZNAc6gXY/U/k0AEPJ2DEEKTQJXPIqQrRJNAJmOoxEZGk0C39i3lYUiTQEiKswV9SpNA2R05JphMk0Bqsb5Gs06TQPtERGfOUJNAjNjJh+lSk0AdbE+oBFWTQK7/1MgfV5NAP5Na6TpZk0DQJuAJVluTQGG6ZSpxXZNA8k3rSoxfk0CD4XBrp2GTQBR19ovCY5NApQh8rN1lk0A2nAHN+GeTQMcvh+0TapNAWMMMDi9sk0DpVpIuSm6TQHrqF09lcJNAC36db4Byk0CcESOQm3STQC2lqLC2dpNAvjgu0dF4k0BPzLPx7HqTQOBfORIIfZNAcfO+MiN/k0ACh0RTPoGTQJMaynNZg5NAJK5PlHSFk0C1QdW0j4eTQEbVWtWqiZNA12jg9cWLk0Bo/GUW4Y2TQPmP6zb8j5NAiiNxVxeSk0Abt/Z3MpSTQKxKfJhNlpNAPd4BuWiYk0DOcYfZg5qTQF8FDfqenJNA8JiSGrqek0CBLBg71aCTQBLAnVvwopNAo1MjfAulk0A056icJqeTQMV6Lr1BqZNAVg603Vyrk0DnoTn+d62TQHg1vx6Tr5NACclEP66xk0CaXMpfybOTQCvwT4DktZNAvIPVoP+3k0BNF1vBGrqTQN6q4OE1vJNAbz5mAlG+k0AA0usibMCTQJFlcUOHwpNAIvn2Y6LEk0CzjHyEvcaTQEQgAqXYyJNA1bOHxfPKk0BnRw3mDs2TQPjakgYqz5NAiW4YJ0XRk0AaAp5HYNOTQKuVI2h71ZNAPCmpiJbXk0DNvC6psdmTQF5QtMnM25NA7+M56ufdk0CAd78KA+CTQBELRSse4pNAop7KSznkk0AzMlBsVOaTQMTF1Yxv6JNAVVlbrYrqk0Dm7ODNpeyTQHeAZu7A7pNACBTsDtzwk0CZp3Ev9/KTQCo7908S9ZNAu858cC33k0BMYgKRSPmTQN31h7Fj+5NAbokN0n79k0D/HJPymf+TQJCwGBO1AZRAIUSeM9ADlECy1yNU6wWUQENrqXQGCJRA1P4ulSEKlEBlkrS1PAyUQPYlOtZXDpRAh7m/9nIQlEAYTUUXjhKUQKngyjepFJRAOnRQWMQWlEDLB9Z43xiUQFybW5n6GpRA7S7huRUdlEB+wmbaMB+UQA9W7PpLIZRAoOlxG2cjlEAxffc7giWUQMIQfVydJ5RAU6QCfbgplEDkN4id0yuUQHXLDb7uLZRABl+T3gkwlECX8hj/JDKUQCiGnh9ANJRAuRkkQFs2lEBKralgdjiUQNtAL4GROpRAbNS0oaw8lED9ZzrCxz6UQI77v+LiQJRAH49FA/5ClECwIssjGUWUQEG2UEQ0R5RA0knWZE9JlEBj3VuFakuUQPRw4aWFTZRAhQRnxqBPlEAWmOzmu1GUQKcrcgfXU5RAOL/3J/JVlEDJUn1IDViUQFrmAmkoWpRA63mIiUNclEB8DQ6qXl6UQA2hk8p5YJRAnjQZ65RilEAvyJ4LsGSUQMBbJCzLZpRAUe+pTOZolEDigi9tAWuUQHMWtY0cbZRABKo6rjdvlECVPcDOUnGUQCbRRe9tc5RAt2TLD4l1lEBI+FAwpHeUQNmL1lC/eZRAah9ccdp7lED7suGR9X2UQIxGZ7IQgJRAHdrs0iuClECubXLzRoSUQD8B+BNihpRA0JR9NH2IlEBhKANVmIqUQPK7iHWzjJRAg08Ols6OlEAU45O26ZCUQKV2GdcEk5RANgqf9x+VlEDHnSQYO5eUQFgxqjhWmZRA6cQvWXGblEB6WLV5jJ2UQAvsOpqnn5RAnH/AusKhlEAuE0bb3aOUQL+my/v4pZRAUDpRHBSolEDhzdY8L6qUQHJhXF1KrJRAA/XhfWWulECUiGeegLCUQCUc7b6bspRAtq9y37a0lEBHQ/j/0baUQNjWfSDtuJRAaWoDQQi7lED6/YhhI72UQIuRDoI+v5RAHCWUolnBlECtuBnDdMOUQD5Mn+OPxZRAz98kBKvHlEBgc6okxsmUQPEGMEXhy5RAgpq1ZfzNlEATLjuGF9CUQKTBwKYy0pRANVVGx03UlEDG6MvnaNaUQFd8UQiE2JRA6A/XKJ/alEB5o1xJutyUQAo34mnV3pRAm8pnivDglEAsXu2qC+OUQL3xcssm5ZRAToX460HnlEDfGH4MXemUQHCsAy1465RAAUCJTZPtlECS0w5uru+UQCNnlI7J8ZRAtPoZr+TzlEBFjp/P//WUQNYhJfAa+JRAZ7WqEDb6lED4SDAxUfyUQInctVFs/pRAGnA7cocAlUCrA8GSogKVQDyXRrO9BJVAzSrM09gGlUBevlH08wiVQO9R1xQPC5VAgOVcNSoNlUAReeJVRQ+VQKIMaHZgEZVAM6DtlnsTlUDEM3O3lhWVQFXH+NexF5VA5lp++MwZlUB37gMZ6BuVQAiCiTkDHpVAmRUPWh4glUAqqZR6OSKVQLs8GptUJJVATNCfu28mlUDdYyXciiiVQG73qvylKpVA/4owHcEslUCQHrY93C6VQCGyO173MJVAskXBfhIzlUBD2UafLTWVQNRszL9IN5VAZQBS4GM5lUD2k9cAfzuVQIcnXSGaPZVAGLviQbU/lUCpTmhi0EGVQDri7YLrQ5VAy3VzowZGlUBcCfnDIUiVQO2cfuQ8SpVAfjAEBVhMlUAPxIklc06VQKBXD0aOUJVAMeuUZqlSlUDCfhqHxFSVQFMSoKffVpVA5KUlyPpYlUB1OavoFVuVQAbNMAkxXZVAl2C2KUxflUAo9DtKZ2GVQLmHwWqCY5VAShtHi51llUDbrsyruGeVQGxCUszTaZVA/dXX7O5rlUCOaV0NCm6VQB/94i0lcJVAsJBoTkBylUBBJO5uW3SVQNK3c492dpVAY0v5r5F4lUD03n7QrHqVQIZyBPHHfJVAFwaKEeN+lUComQ8y/oCVQDktlVIZg5VAysAaczSFlUBbVKCTT4eVQOznJbRqiZVAfXur1IWLlUAODzH1oI2VQJ+ithW8j5VAMDY8NteRlUDBycFW8pOVQFJdR3cNlpVA4/DMlyiYlUB0hFK4Q5qVQAUY2NhenJVAlqtd+XmelUAnP+MZlaCVQLjSaDqwopVASWbuWsuklUDa+XN75qaVQGuN+ZsBqZVA/CB/vByrlUCNtATdN62VQB5Iiv1Sr5VAr9sPHm6xlUBAb5U+ibOVQNECG1+ktZVAYpagf7+3lUDzKSag2rmVQIS9q8D1u5VAFVEx4RC+lUCm5LYBLMCVQDd4PCJHwpVAyAvCQmLElUBZn0djfcaVQOoyzYOYyJVAe8ZSpLPKlUAMWtjEzsyVQJ3tXeXpzpVALoHjBQXRlUC/FGkmINOVQFCo7kY71ZVA4Tt0Z1bXlUByz/mHcdmVQANjf6iM25VAlPYEyafdlUAliorpwt+VQLYdEAre4ZVAR7GVKvnjlUDYRBtLFOaVQGnYoGsv6JVA+msmjErqlUCL/6usZeyVQByTMc2A7pVArSa37ZvwlUA+ujwOt/KVQM9Nwi7S9JVAYOFHT+32lUDxdM1vCPmVQIIIU5Aj+5VAE5zYsD79lUCkL17RWf+VQDXD4/F0AZZAxlZpEpADlkBX6u4yqwWWQOh9dFPGB5ZAeRH6c+EJlkAKpX+U/AuWQJs4BbUXDpZALMyK1TIQlkC9XxD2TRKWQE7zlRZpFJZA34YbN4QWlkBwGqFXnxiWQAGuJni6GpZAkkGsmNUclkAj1TG58B6WQLRot9kLIZZARfw8+iYjlkDWj8IaQiWWQGcjSDtdJ5ZA+LbNW3gplkCJSlN8kyuWQBre2JyuLZZAq3FevckvlkA8BeTd5DGWQM2Yaf7/M5ZAXizvHhs2lkDvv3Q/NjiWQIBT+l9ROpZAEed/gGw8lkCiegWhhz6WQDMOi8GiQJZAxKEQ4r1ClkBVNZYC2USWQObIGyP0RpZAd1yhQw9JlkAI8CZkKkuWQJmDrIRFTZZAKhcypWBPlkC7qrfFe1GWQE0+PeaWU5ZA3tHCBrJVlkBvZUgnzVeWQAD5zUfoWZZAkYxTaANclkAiINmIHl6WQLOzXqk5YJZAREfkyVRilkDV2mnqb2SWQGZu7wqLZpZA9wF1K6ZolkCIlfpLwWqWQBkpgGzcbJZAqrwFjfdulkA7UIutEnGWQMzjEM4tc5ZAXXeW7kh1lkDuChwPZHeWQH+eoS9/eZZAEDInUJp7lkChxaxwtX2WQDJZMpHQf5ZAw+y3seuBlkBUgD3SBoSWQOUTw/IhhpZAdqdIEz2IlkAHO84zWIqWQJjOU1RzjJZAKWLZdI6OlkC69V6VqZCWQEuJ5LXEkpZA3Bxq1t+UlkBtsO/2+paWQP5DdRcWmZZAj9f6NzGblkAga4BYTJ2WQLH+BXlnn5ZAQpKLmYKhlkDTJRG6naOWQGS5ltq4pZZA9Uwc+9OnlkCG4KEb76mWQBd0JzwKrJZAqAetXCWulkA5mzJ9QLCWQMouuJ1bspZAW8I9vna0lkDsVcPekbaWQH3pSP+suJZADn3OH8i6lkCfEFRA47yWQDCk2WD+vpZAwTdfgRnBlkBSy+ShNMOWQONeasJPxZZAdPLv4mrHlkAFhnUDhsmWQJYZ+yOhy5ZAJ62ARLzNlkC4QAZl18+WQEnUi4Xy0ZZA2mcRpg3UlkBr+5bGKNaWQPyOHOdD2JZAjSKiB1/alkAeticoetyWQK9JrUiV3pZAQN0yabDglkDRcLiJy+KWQGIEPqrm5JZA85fDygHnlkCEK0nrHOmWQBW/zgs465ZAplJULFPtlkA35tlMbu+WQMh5X22J8ZZAWQ3ljaTzlkDqoGquv/WWQHs08M7a95ZADMh17/X5lkCdW/sPEfyWQC7vgDAs/pZAv4IGUUcAl0BQFoxxYgKXQOGpEZJ9BJdAcj2XspgGl0AD0RzTswiXQJRkovPOCpdAJfgnFOoMl0C2i600BQ+XQEcfM1UgEZdA2LK4dTsTl0BpRj6WVhWXQPrZw7ZxF5dAi21J14wZl0AcAc/3pxuXQK2UVBjDHZdAPijaON4fl0DPu19Z+SGXQGBP5XkUJJdA8eJqmi8ml0CCdvC6SiiXQBQKdttlKpdApZ37+4Asl0A2MYEcnC6XQMfEBj23MJdAWFiMXdIyl0Dp6xF+7TSXQHp/l54IN5dACxMdvyM5l0CcpqLfPjuXQC06KABaPZdAvs2tIHU/l0BPYTNBkEGXQOD0uGGrQ5dAcYg+gsZFl0ACHMSi4UeXQJOvScP8SZdAJEPP4xdMl0C11lQEM06XQEZq2iROUJdA1/1fRWlSl0BokeVlhFSXQPkka4afVpdAirjwprpYl0AbTHbH1VqXQKzf++fwXJdAPXOBCAxfl0DOBgcpJ2GXQF+ajElCY5dA8C0Sal1ll0CBwZeKeGeXQBJVHauTaZdAo+iiy65rl0A0fCjsyW2XQMUPrgzlb5dAVqMzLQByl0DnNrlNG3SXQHjKPm42dpdACV7EjlF4l0Ca8UmvbHqXQCuFz8+HfJdAvBhV8KJ+l0BNrNoQvoCXQN4/YDHZgpdAb9PlUfSEl0AAZ2tyD4eXQJH68JIqiZdAIo52s0WLl0CzIfzTYI2XQES1gfR7j5dA1UgHFZeRl0Bm3Iw1spOXQPdvElbNlZdAiAOYduiXl0AZlx2XA5qXQKoqo7cenJdAO74o2Dmel0DMUa74VKCXQF3lMxlwopdA7ni5OYukl0B/DD9apqaXQBCgxHrBqJdAoTNKm9yql0Ayx8+796yXQMNaVdwSr5dAVO7a/C2xl0DlgWAdSbOXQHYV5j1ktZdAB6lrXn+3l0CYPPF+mrmXQCnQdp+1u5dAumP8v9C9l0BL94Hg67+XQNyKBwEHwpdAbR6NISLEl0D+sRJCPcaXQI9FmGJYyJdAINkdg3PKl0CxbKOjjsyXQEIAKcSpzpdA05Ou5MTQl0BkJzQF4NKXQPW6uSX71JdAhk4/RhbXl0AX4sRmMdmXQKh1SodM25dAOQnQp2fdl0DKnFXIgt+XQFsw2+id4ZdA7MNgCbnjl0B9V+Yp1OWXQA7ra0rv55dAn37xagrql0AwEneLJeyXQMGl/KtA7pdAUjmCzFvwl0DjzAftdvKXQHRgjQ2S9JdABfQSLq32l0CWh5hOyPiXQCcbHm/j+pdAuK6jj/78l0BJQimwGf+XQNrVrtA0AZhAbGk08U8DmED9/LkRawWYQI6QPzKGB5hAHyTFUqEJmECwt0pzvAuYQEFL0JPXDZhA0t5VtPIPmEBjctvUDRKYQPQFYfUoFJhAhZnmFUQWmEAWLWw2XxiYQKfA8VZ6GphAOFR3d5UcmEDJ5/yXsB6YQFp7grjLIJhA6w4I2eYimEB8oo35ASWYQA02ExodJ5hAnsmYOjgpmEAvXR5bUyuYQMDwo3tuLZhAUYQpnIkvmEDiF6+8pDGYQHOrNN2/M5hABD+6/do1mECV0j8e9jeYQCZmxT4ROphAt/lKXyw8mEBIjdB/Rz6YQNkgVqBiQJhAarTbwH1CmED7R2HhmESYQIzb5gG0RphAHW9sIs9ImECuAvJC6kqYQD+Wd2MFTZhA0Cn9gyBPmEBhvYKkO1GYQPJQCMVWU5hAg+SN5XFVmEAUeBMGjVeYQKULmSaoWZhANp8eR8NbmEDHMqRn3l2YQFjGKYj5X5hA6VmvqBRimEB67TTJL2SYQAuBuulKZphAnBRACmZomEAtqMUqgWqYQL47S0ucbJhAT8/Qa7dumEDgYlaM0nCYQHH226ztcphAAophzQh1mECTHeftI3eYQCSxbA4/eZhAtUTyLlp7mEBG2HdPdX2YQNdr/W+Qf5hAaP+CkKuBmED5kgixxoOYQIomjtHhhZhAG7oT8vyHmECsTZkSGIqYQD3hHjMzjJhAznSkU06OmEBfCCp0aZCYQPCbr5SEkphAgS81tZ+UmEASw7rVupaYQKNWQPbVmJhANOrFFvGamEDFfUs3DJ2YQFYR0Vcnn5hA56RWeEKhmEB4ONyYXaOYQAnMYbl4pZhAml/n2ZOnmEAr82z6rqmYQL2G8hrKq5hA",
          "dtype": "f8"
         },
         "y": {
          "bdata": "2fJnB/JcRUO5spMBrTYEQ+bY8DeJNgRD1uxmt3c2BEOGZVlfZjYEQ1bm8S1TNgRDMQmt1D02BEN+IV3QJjYEQ9jrF5cONgRDGLfXj/U1BEMepPwM3DUEQyAxfSrCNQRDqhe2Fag1BEMH8MLSjTUEQxLXOWNzNQRDUkrg2Fg1BEPOxsAiPjUEQ5ZsUicjNQRD9++n6gc1BENK5WJm7DQEQ37ukpPQNARDz8GTcbQ0BENNT/YAmDQEQ0yh5Th7NARDfG0GGF40BEOY/nyhQDQEQ0+8bNIiNARDGjHXqQQ0BEO1tAwp5jMEQ+JMLwzHMwRDLUkEpaczBEN5Rdk9iDMEQ1rtl+tnMwRDpMJhqUYzBEPulytnJTMEQzht9SQEMwRDgUK/4uIyBEPLF4mgwTIEQxXtUl6gMgRDX8IcHH8yBEM70D2KWzIEQyeUh6U3MgRDE1jRwBMyBEP/Gxvc7zEEQ+vfZPfLMQRD16OuEqgxBEPDZ/gthDEEQ569z/ReMQRD/Ssb8DUxBENdmmbrDDEEQ7wIsubjMARDG3f94bowBEN65UjdkTAEQ9pTlNhoMARDOcLf0z8wBEOYMCvPFjAEQ/eedsrtLwRDVw3CxcQvBEO2ew3Bmy8EQxXqWLxyLwRDdFikt0kvBEPUxu+yIC8EQzM1O673LgRDkqOGqc4uBEPxEdKkpS4EQ1GAHaB8LgRDsO5om1MuBEMPXbSWKi4EQ27L/5EBLgRDzjlLjdgtBEMtqJaIry0EQ4wW4oOGLQRD7IQtf10tBENL83h6NC0EQ6phxHULLQRDjIDBHOIsBEODxSaXtSwEQ8DEcdSILARDRX6i1FssBEMQ8riXLiwEQyMgtR0BLARDfAiXZtMrBEMcq15ypSsEQwMIDEF3KwRDMR+f0kgrBEOm8BcnGisEQ2J8dj7rKgRDZcK6GLwqBEOvwuS1jCoEQz999BVdKgRDF/LpOC0qBEM1IcUe/SkEQ5oKhsfMKQRDR64sM5wpBEM6DLlhaykEQ3QkK1M6KQRD9faCBwkpBEO9g8B+1ygEQ8zK47ilKARDIczstXMoBEO+h9t1QSgEQ6L9r/gOKARDzC1qPtwnBEM+GApHqScEQ9VAzpx3JwRDdyud30UnBEPK8ev0EycEQ82TutzhJgRDgREJl68mBEPmatcjfSYEQ/ufJYNKJgRDwbDztBcmBEM4nUG55CUEQ19lD5CxJQRDOAldOX4lBEPAiCq1SiUEQ/rjdwMXJQRD5BpFJOMkBEN/LZIXryQEQ8obX916JARDxuWrdUYkBENzi3jgESQEQ9AMxR3dIwRD32mRLagjBEOdot0PcyMEQw23qcQ9IwRDLaf1SwgjBEP+csGl0iIEQ4AaDdKcIgRDsp3Y0GYiBEOV/COiMCIEQyg370X6IQRDbE06vMMhBENhPwUFjSEEQwcNUCBWIQRDXbYaDh8hBENkO2XO5yAEQxycL2GwIARDhNh5xnggBEOd8EP+QCAEQ2fkjQgJIARD4bNX5dAfBEMMX6GUmB8EQ+jlahZgHwRDdEi0aicfBEOxhn2R7h4EQ5+gxoq1HgRDPZaPVnweBEOMZ9j0Qh4EQ4wUoWUJHgRDPJ3pqM8dBEOdAbK+lR0EQ69B+qZbHQRDcl3CYSEdBEPlVArv5hwEQwko0k6sHARD3dYZgXEcBENfZfRcORwEQ3ZZUJcBHARDgK8/w8kbBEN9Z8LgkRsEQ2yB2O9ZGwRDT/2B8CEbBEMj277i6RoEQ+saj8axGgRDpbzym3kaBENSwOliQRoEQ/IldBsJGgRDhe2RxdAZBEMKF0NhmBkEQ4Kih+5fGQRD7Y9fbScZBENK38rd7hgEQ5qQyT+2GARD3aNbk30YBEMTGYHYRBgEQzvwOQ8MGARDVymGN9MXBENkxGVRmhcEQ2XB2FxhFwRDWCDfWSgXBEM+4XhI7xYEQxcEpii2FgRD44hm+nwWBEOhb7q9QxYEQ1K4oXIKFgRD9mIcGdEVBEOMbyqxlxUEQxXeyzpeFQRDka4AtiQVBEMA4cgi6xQEQ2F1JIGxFARDtWsT0XcUBEP8w5USPhQEQzZ+q0UEFARDYppUasoTBEOBGJGAkBMEQ5P4YIhWEwRDmDrEgRwTBEOP3rps4hIEQ3nkREmoEgRDVkxiF24SBEMlFhPXMxIEQ+dBV4j5EQRDnM8uK78RBENEv5m/hBEEQ94QmEVKEQRDa8QpvQ8RBEPr2U4m1RAEQ15RB4GaEARDZxx1VGEQBEPvr2OUKBAEQxK53OHvDwRDfbJiPbcPBEPeFninfg8EQ+RgnyBGDwRDOgtbqQ0PBEOPkC1C1Q4EQ5BrmeucDgRD7BYhpmQOBENPDUdyLA4EQ2fJjVD0DQRD4cV3QbwNBENtfYdFhA0EQ7VqP11MDQRDaggiiRQNBEM30bHJ3AwEQ8s/cR+lDARD087iim0MBEP9+IgMNgwEQ/c45qT+CwRDbQl9VMcLBEMO5c8bkAsEQ4ZGYftYCwRDhaiz8yELBEO3hUkF6woEQ8lYpTC0CgRDapxJdn0KBENHy7jWRgoEQw5gdVIQCgRDbNUB6tkJBEMOpuCdowkEQ6NMlG5tCQRD10OfXDcJBENaBoRoAQkEQ9cOxZLLCARD/dfk25UIBEN53GVEYAgEQ/iWyswqCARDKoKVdfUHBEO6GEk/wAcEQ1fVZyqLBwRDrTJ0N1YHBENsq/BmIQcEQ0C6X7nsBgRD19lDL7gGBEPehB/JgwYEQwM2dYdPBgRD9GfHahsGBENelZhz5wUEQ+44a6KzBQRDVM3B938FBEM7zR50TAUEQ5fRTpIYBQRDNEQMoeQEBEPnMffQsAQEQw95eSJ9BARDCvj8lUkEBEM4jesrFgQEQ/YWr+TiAwRDpHOxwK8DBEOfgVzAfAMEQ0cfGuRJAwRD+ipULBcDBEMXg3SZ5AIEQ/0F5SuyAgRDCZIP5H8CBEObBV7CTQIEQxE/OscbAgRDyhwO8+kBBEMkfUNGuAEEQ38+RMGGAQRDNz96ZFUBBEOuXU8wJAEEQ0B4LSXzAARDTG1+Q8IABEMyG6yLkQAEQ09gIP5gAARDAhtFmzAABEOrKYRjAAAEQ6dqR1fQ/wNDVbz4dqD/A0MT/QHDcP8DQ0ELzTtB/wNDPcXD4RH/A0NmCVC14v4DQxm227az/gNDtqnQ5oT+A0OcwphFVv4DQynfndMn/gNDu91Jkfn9A0OynAZ/y/0DQ2v6PZ2d/QNDRdVZ7G/9A0OgC8RsQv0DQ9l75h4V/QNDUAQrA+j8A0Nig/sZu/wDQ2/XwWOO/AND1d7n4GH8A0Pyd9eRNfwDQyaB+nYJ/ANDz9i6kN37A0NLXYLfsfsDQ/nsumOG+wNDOGbOHVv7A0NmpyYOMPsDQ+OOLTUF+wNDC/tMk9r6A0M/yu4osPoDQ93afPaF+gNDQwth/Fv6A0PQOQU7MvoDQ+JE07II+gND2Qo1ZN/5A0MSapRPtvkDQ+1AW3WN+QNDyG3z1WT5A0MBz8ZxPPkDQ/hCP0kU+QNDC6jGXOz4A0OY3MasxPgDQ/6+qTmd+ANDnC3ZA3b4A0PPBr8LT/gDQ/goxVEo+ANDdXJV1gH4A0OjwdmZ2/cDQ/llOx609wNDA587RIz3A0NuYFmVZPcDQ3U1uBE99wNDUql7uRX3A0NBR8eM7vYDQ32avovH9gNDPy6FtqD2A0PEjT4NevYDQ0VEDpBT9gND/twXPy32A0Mq434aB/YDQwLiZiLh9QNDw2TzVrv1A0On9ke4lfUDQ+giiEZw9QNDwnTXAUv1A0Nvd1nqJfUDQyq2MQAB9QNDL7yDQ9z0A0O3FHO0t/QDQ/1KI1OT9ANDPeq3H2/0A0OyfVQaS/QDQ5WQHEMn9ANDIq4zmgP0A0OUYb0f4PMDQyU23dO88wNDEbe2tpnzA0OSb23IdvMDQ+LqJAlU8wNDPrQAeTHzA0PfViQYD/MDQwBes+bs8gND3FTR5MryA0OvxqESqfIDQ7I+SHCH8gNDIUjo/WXyA0M3bqW7RPIDQy48o6kj8gNDQT0FyALyA0Or/O4W4vEDQ6YFhJbB8QNDbuPnRqHxA0M+IT4ogfEDQ09Kqjph8QND3ulPfkHxA0Mki1LzIfEDQ1251ZkC8QNDxP/8cePwA0OT6et7xPADQwQCxrel8ANDVNSuJYfwA0O868nFaPADQ3jTOphK8ANDwxYlnSzwA0PWQKzUDvADQ+7c8z7x7wNDRHYf3NPvA0MUmFKstu8DQ5jNsK+Z7wNDC6Jd5nzvA0OpoHxQYO8DQ6tUMe5D7wNDTUmfvyfvA0PKCerEC+8DQ1whNf7v7gNDPhuka9TuA0OrgloNue4DQ93ie+Od7gNDEccr7oLuA0N/uo0taO4DQ2RIxaFN7gND+vv1SjPuA0N8YEMpGe4DQwYOMSb+7QND2La55eLtA0PiWXPLx+0DQ/FWTtes7QND0A07CZLtA0NK3ilhd+0DQyooC99c7QNDPEvPgkLtA0NKp2ZMKO0DQyGcwTsO7QNDionQUPTsA0NTz4OL2uwDQ0XNy+vA7ANDLOOYcafsA0PTcNscjuwDQwbWg+107ANDj3KC41vsA0M7psf+QuwDQ9TQQz8q7ANDJVLnpBHsA0P6iaIv+esDQx7YZd/g6wNDXZwhtMjrA0OBNsatsOsDQ1UGRMyY6wNDpmuLD4HrA0M+xox3aesDQ+h1OARS6wNDcNp+tTrrA0OiU1CLI+sDQ0dBnYUM6wNDLANWpPXqA0Mc+Wrn3uoDQ+GCzE7I6gNDSABr2rHqA0Mc0TaKm+oDQydVIF6F6gNDNewXVm/qA0MS9g1yWeoDQ4jS8rFD6gNDYuG2FS7qA0NtgkqdGOoDQ3MVnkgD6gNDP/qhF+7pA0OekEYK2ekDQ1k4fCDE6QNDPFEzWq/pA0MTO1y3mukDQ6lV5zeG6QNDyADF23HpA0M9nOWiXekDQ9KHOY1J6QNDUyOxmjXpA0OLzjzLIekDQ0bpzB4O6QNDTdNRlfroA0Nu7Lsu5+gDQ3KU++rT6ANDJisBysDoA0NUEL3LregDQ8ijH/Ca6ANDTUUZN4joA0OuVJqgdegDQ7cxkyxj6ANDMjz02lDoA0Pr062rPugDQ65YsJ4s6ANDRSrssxroA0N8qFHrCOgDQx0z0UT35wND9SlbwOXnA0PP7N9d1OcDQ3XbTx3D5wNDs1Wb/rHnA0NUu7IBoecDQ/LbxNKP5wNDXgo+on7nA0P54aKNbecDQ6WFxJRc5wNDkNJzt0vnA0MyYIH1OucDQ1OAvU4q5wNDBT/4whnnA0OpYgFSCecDQ+prqPv45gNDw5W8v+jmA0N41Qye2OYDQ5zaZ5bI5gNDDg+cqLjmA0P5lnfUqOYDQ9ZQyBmZ5gNDadVbeInmA0PFd//veeYDQ0ZFgIBq5gNDmQWrKVvmA0OzOkzrS+YDQ9ogMMU85gNDnq4ity3mA0PblO/AHuYDQ7w+YuIP5gNDuNFFGwHmA0OSLWVr8uUDQ1jsitLj5QNDaWKBUNXlA0NsnhLlxuUDQ1hpCJC45QNDbkYsUarlA0M+c0conOUDQ6TnIhWO5QNDxlWHF4DlA0MbKj0vcuUDQ2OLDFxk5QNDrVq9nVblA0NUMxf0SOUDQ/5q4V475QNDoBHj3S3lA0N68eJwIOUDQxqPpxcT5QNDWSn30QXlA0NduZef+OQDQ5vyToDr5AND0kLic97kA0MN0hZ60eQDQ6aCsZLE5ANDQ/F2vbfkA0PXdCv6quQDQ54ek0ie5ANDJ7pxqJHkA0NHzYoZheQDQyWYoZt45ANDMhV5LmzkA0Mr+dPRX+QDQxyzdIVT5ANDW2wdSUfkA0ONCJAcO+QDQ6Iljv8u5AND2BvZ8SLkA0O4/THzFuQDQxiYWQML5ANDHHIQIv/jA0M0zRZP8+MDQxulLIrn4wND268R09vjA0PJXYUp0OMDQ4jZRo3E4wNDBggV/rjjA0N/iK57reMDQ3y00QWi4wND0J88nJbjA0OdGK0+i+MDQ75gOVWA4wNDAkhuonXjA0MjNDYBa+MDQ3EPbXFg4wNDBb3u8lXjA0PFGJeFS+MDQ2T3QSlB4wNDXybL3TbjA0P9aw6jLOMDQ1OH53gi4wNDQjAyXxjjA0N0F8pVDuMDQ2HmilwE4wNDSj9Qc/riA0M/vfWZ8OIDQxn0VtDm4gNDfXBPFt3iA0Pct7pr0+IDQ3JIdNDJ4gNDR5lXRMDiA0MwGkDHtuIDQ8ozCVmt4gNDgUeO+aPiA0OLr6qomuIDQ+q+OWaR4gNDasEWMojiA0Om+xwMf+IDQwKrJ/R14gNDrgUS6mziA0OlOrftY+IDQ65x8v5a4gNDXsueHVLiA0MRYZdJSeIDQ/JEt4JA4gND94HZyDfiA0PgG9kbL+IDQzsPkXsm4gNDX1Hc5x3iA0Nw0JVgFeIDQ19zmOUM4gND5Rm/dgTiA0OJnOQT/OEDQ57M47zz4QNDQHSXcevhA0NaVtox4+EDQ6Auh/3a4QNDk7F41NLhA0N+jIm2yuEDQ3lllKPC4QNDaNtzm7rhA0P4hQKesuEDQ6T1Gquq4QNDsrOXwqLhA0MzQlPkmuEDQwUcKBCT4QNDz7TwRYvhA0MHeYeFg+EDQ+rNxs574QNDhhGJIXThA0Owmqh9bOEDQwu5/+Jk4QNDBrVoUV3hA0PYz73IVeEDQ4lD2UhO4QND50KV0UbhA0OR+ctiP+EDQ+yLV/w34QNDLRcSnjDhA0NTsdVHKeEDQylpfPkh4QNDQ0bgshrhA0MFSdtzE+EDQ5pqRzwM4QND/Zz+CwXhA0Pxytri/eADQwfYtcD24ANDmqBppe/gA0PQ+c+Q6OADQ56xwoLh4ANDwI4be9rgA0PBULR50+ADQ/avZn7M4ANDgF0MicXgA0NklvabvuADQxIxchy44AND8m8Tp7HgA0ME+co7q+ADQ4yZidqk4ANDE0ZAg57gA0NkGuA1mOADQ41ZWvKR4AND4m2guIvgA0P46KOIheADQ6mDVmJ/4ANDEx6qRXngA0OXv5Ayc+ADQ9iW/Cht4ANDv/nfKGfgA0N3ZS0yYeADQ3B+10Rb4ANDXBDRYFXgA0MxDg2GT+ADQyqSfrRJ4ANDxN0Y7EPgA0O/Wc8sPuADQyGWlXY44ANDMUpfyTLgA0N8VCAlLeADQ9C6zIkn4ANDQKpY9yHgA0Mjd7htHOADQxOd4OwW4AND7b7FdBHgA0PTplwFDOADQyhGmp4G4ANDlrVzQAHgA0MJNd7q+98DQ68rz5323wND+yc8WfHfA0Ol3xod7N8DQ6cvYenm3wNDPRwFvuHfA0Pq0Pya3N8DQ3GgPoDX3wND3QTBbdLfA0N4n3pjzd8DQ9I4YmHI3wNDvsBuZ8PfA0NTTpd1vt8DQ+sf04u53wNDJZsZqrTfA0PhTGLQr98DQ0TppP6q3wNDt0vZNKbfA0Pmdvdyod8DQ8GU97ic3wNDe/bRBpjfA0OLFH9ck98DQ6uO97mO3wND2is0H4rfA0NY2i2Mhd8DQ6uv3QCB3wNDm+g8fXzfA0M26UQBeN8DQ8o874xz3wND65U1IG/fA0NwzhG7at8DQ3TnfV1m3wNDVAl0B2LfA0Ozg+64Xd8DQ3XN53FZ3wNDxIRaMlXfA0MLb0H6UN8DQ/x4l8lM3wNDiLZXoEjfA0PoYn1+RN8DQ5bgA2RA3wNDUbnmUDzfA0MZniFFON8DQzZnsEA03wNDLhSPQzDfA0PQy7lNLN8DQyvcLF8o3wNDkrrkdyTfA0OeA96XIN8DQyh7Fb8c3wNDUAyI7RjfA0MDCzgaFd8DQwdjlzkR3wNDs+nhXg3fA0MF0g6KCd8DQ4ZpFbsF3wNDRxjt8QHfA0PiYI0u/t4DQ3zg7XD63gNDw04GufbeA0Ptfc4G894DQ7xaPlrv3gNDeOxNs+veA0P1VPUR6N4DQ5DQLHbk3gNDL7bs3+DeA0NAdy1P3d4DQ76f58PZ3gNDKtYTPtbeA0OR26q90t4DQ4aLpULP3gNDKNz8zMveA0Mg3qlcyN4DQ5+8pfHE3gNDX73pi8HeA0OlQG8rvt4DQz3BL9C63gNDf9QkerfeA0NLKkgptN4DQwuNk92w3gNDsuEAl63eA0O8J4pVqt4DQy95KRmn3gNDmwrZ4aPeA0MYK5OvoN4DQ0lEUoKd3gNDWNoQWpreA0P8i8k2l94DQ3ISdxiU3gNDgUEU/5DeA0N8B5zqjd4DQzxtCduK3gNDJpZX0IfeA0MnwIHKhN4DQ7VDg8mB3gND0ZNXzX7eA0MFPvrVe94DQ2LqZuN43gNDh1uZ9XXeA0OYbo0Mc94DQ0UbPyhw3gNDxXOqSG3eA0PcpMttat4DQ9X1npdn3gNDhMggxmTeA0NImU35Yd4DQwf/ITFf3gNDNKuabVzeA0PIabSuWd4DQ0ghbPRW3gNDwdK+PlTeA0PImamNUd4DQ3+sKeFO3gNDjls8OUzeA0MpEt+VSd4DQwtWD/dG3gNDe8fKXETeA0NHIQ/HQd4DQ8g42jU/3gND4P0pqTzeA0P5evwgOt4DQwnVT5033gNDjksiHjXeA0OOOHKjMt4DQ5wQPi0w3gND0GKEuy3eA0PQ2ENOK94DQ8c2e+Uo3gNDbVspgSbeA0MBQE0hJN4DQ0z45cUh3gNDorLybh/eA0Pet3IcHd4DQ2ZrZc4a3gNDKUvKhBjeA0OAJhk0Ft4DQy97kt8T3gNDz6OijhHeA0P8UkVBD94DQ21NdvcM3gND8mkxsQreA0NzkXJuCN4DQ/K+NS8G3gNDh/928wPeA0NncjK7Ad4DQ9xIZIb/3QNDTcYIVf3dA0M1QBwn+90DQy0em/z43QND49mB1fbdA0Mf/8yx9N0DQ8IreZHy3QNDxw+DdPDdA0NAbeda7t0DQ1kYo0Ts3QNDV/eyMerdA0OXAhQi6N0DQ49EwxXm3QNDz9m9DOTdA0MA8QAH4t0DQ+HKiQTg3QNDTLpVBd7dA0M2JGIJ3N0DQ6h/rBDa3QNDyFUyG9jdA0PUQfEo1t0DQyDx5jnU3QNDHiMRTtLdA0NUqW1l0N0DQ2Nn+n/O3QNDBlO1nczdA0MPdJy+yt0DQ2nkreLI3QNDGdDnCcfdA0M9dUg0xd0DQwokzmHD3QNDzz53ksHdA0P1OULGv90DQ/2bLf293QNDf/03N7zdA0MvCWB0ut0DQ9h7pLS43QNDXiQE+LbdA0O/430+td0DQxGtEIiz3QNDgoW71LHdA0NbhH0ksN0DQ/zSVXeu3QND36xDzazdA0OXX0Ymq90DQ85KXYKp3QNDSeCH4afdA0Plo8VDpt0DQ5grFqmk3QNDch95EaPdA0OZOe58od0DQ05Gdeuf3QND7CMOXZ7dA0PjwrjRnN0DQ8EldUmb3QNDKGFDxJndA0PVmyNCmN0DQ6AOFsOW3QNDdgQbR5XdA0Nf2jLOk90DQ3z/XViS3QNDBvWc5ZDdA0NPTvB1j90DQ8OwWAmO3QND5dPWn4zdA0NUgWs5i90DQ8OUF9aJ3QNDA/zbdYjdA0P7trkYh90DQ6rXsb6F3QNDK4LFZ4TdA0Ow7PUTg90DQ4RfRMOB3QNDCzWydYDdA0Ni+4oaf90DQ7Crub993QNDKog2Z3zdA0MAGf8Qe90DQ0HwEL153QND4alpa3jdA0O36wYcd90DQ31l5s513QNDz9AFhHTdA0Ms8WI7c90DQ/iT+/Rx3QNDeJDNsHDdA0PVx9Zub90DQxolFS9u3QNDNZ2G8WzdA0P5Lim2a90DQxrj+nxq3QNDL8z5RWndA0OzBiQRaN0DQwO5d95m3QNDYBPzrWXdA0PuT5R/ZN0DQ7KyWVNj3QNDlolBKWLdA0NmLEoBYd0DQ9P8cdtf3QNDbma3t17dA0Ot3hiWXd0DQ+jklHZc3QNDWgIqWVvdA0MiytY9Wt0DQ0HZmSRZ3QNDm9ZxDVjdA0P4cl34Vt0DQwJpW+VV3QNDRn1q1FTdA0M1fonFU90DQyFEt7hS3QNDQbHyrVHdA0OusTqlUN0DQ2Q7jp5P3QNDQk7smU7dA0ML9FOXTd0DQ2RAxJZM3QND1FA8mEvdA0PHTLubSt0DQ4tlQKFJ3QNDUtbKqEjdA0Mu5FmyR90DQxje7L1G3QND6ByDy0XdA0NdAxzbRN0DQxb+tuxD3QNDl4NTAEPdA0NEFPEVQt0DQ2g6jy1B3QNDLYotR0DdA0OkoctiP90DQ74oaYA+3QNDT9EFoD3dA0MQV6HBPN0DQ5x/O+U73QNDcBrUCjvdA0PuAGsyOt0DQ1gWAFw53QND10eThzjdA0NzjCS1N90DQxrls+Q23QNDm1xBFjbdA0OpB81JNd0DQ9oEV3803QNDpnzftjPdA0NqoWbwMt0DQ2Ov7Csy3QNDtexxaTHdA0NiqfaoMN0DQ1M/e+ov3QNDUxIALi/dA0MPkIVzLt0DQxgwDLst3QND4XOUBC3dA0PB5h5QLN0DQ/EdrJ0r3QNDrXfd6SrdA0PCLIUoKt0DQ+QanWgp3QNDv/cjqijdA0MBgBjtJ90DQ1h3eTEn3QNDdqhFdybdA0MN5Xu+Jd0DQ9AFGwcl3QNDd+ohUSTdA0O4eY+cI90DQ02hYuki3QND8lWaNyLdA0NikzWHId0DQ15cM9gg3QNDpLqSKiDdA0P3vlJ+H90DQxyBctMe3QND1h/xKR7dA0PvwM2BHd0DQy6RB9sc3QNDX8SdNRzdA0NNlY+RG90DQ8hF3O4a3QNDnx6DTRrdA0Ojb4OtGd0DQ6mP3A4Z3QNDhdyNcRjdA0MOu5bVF90DQxyX9joX3QNDi+OsoRbdA0M2GrkJFt0DQ/u7GnMV3QNDuVDR3RTdA0NSZ9xJFN0DQ6iVO7cT3QNDoXjuJRPdA0MitPSVEt0DQxXzTQcS3QNDYuf5eRHdA0P2SfjtEN0DQ77aSGMQ3QNDqWDr2Q/dA0Ooqd9RD90DQ62KJcsO3QNDrt+8RQ7dA0Ofi6XBDd0DQ3h43z4N3QNDNJdqvQzdA0PN30Y9DN0DQ0BRdL4L3QNDjPHyQAvdA0OyzcLECt0DQ7P540kK3QNDlJBW0AndA0NatBpYCd0DQwyOMOEI3QNDtE2YawjdA0NcKlL3B90DQxJiXoQH3QND4jm9EgfdA0Pe/W6iBt0DQxcBdDMG3QNDoJ3MxQXdA0OPNHlZBd0DQ/steu4E3QND/PjPhATdA0OtC3scBN0DQyrje7UD3QNDkQPTTwPdA0MB+IDrAt0DQ5xShogC3QNDhazjJgLdA0PhpZnGAd0DQ9XlqGcB3QNDjBoSCgHdA0Mt+dWtAN0DQ+Y99VIA3QND5Ktw+f/cA0NVDUmh/9wDQ2wzf0r/3ANDWfYT9f7cA0NTNQih/twDQ4/WXE7+3ANDRccS/f3cA0Ou+yqt/dwDQwZvpl793ANDiiOGEf3cA0N4IsvF/NwDQxJ8dnv83ANDmUeJMvzcA0NRowTr+9wDQ4G06aT73ANDcKc5YPvcA0Nmr/Uc+9wDQ68GH9v63ANDl+62mvrcA0Ntr75b+twDQ4GYNx763ANDJAAj4vncA0OrQ4Kn+dwDQ2rHVm753ANDufahNvncA0PxQ2UA+dwDQ2soosv43ANDhSRamPjcA0Ocv45m+NwDQw+IQTb43ANDQRN0B/jcA0OU/Sfa99wDQ27qXq733ANDNIQahPfcA0NQfFxb99wDQyuLJjT33ANDMnB6DvfcA0PR8Vnq9twDQ3ndxsf23ANDmgfDpvbcA0OmS1CH9twDQyjaXWb23ANDBuAFM/bcA0OCsY8A9twDQxjN+s713ANDxLRGnvXcA0MC7nJu9dwDQ8oBfz/13ANDk3xqEfXcA0NV7jTk9NwDQ4Lq3bf03ANDDwhljPTcA0Nt4clh9NwDQ4wUDDj03AND20IrD/TcA0NGESfn89wDQzoo/7/z3ANDoDOzmfPcA0Ph4kJ089wDQ+XorU/z3ANDEPzzK/PcA0NH1hQJ89wDQ+w0EOfy3AND4tjlxfLcA0OGhpWl8twDQ7kFH4by3AND1SGCZ/LcA0O3qb5J8twDQ7hv1Czy3ANDsUnDEPLcA0P3EIv18dwDQ2GiK9vx3ANDQt6kwfHcA0NsqPao8dwDQy/oIJHx3ANDXIgjevHcA0NAd/5j8dwDQ6emsU7x3AND3As9OvHcA0Opn6Am8dwDQ1Re3BPx3ANDpUfwAfHcA0PgXtzw8NwDQ8iqoODw3ANDnzU90fDcA0MmDbLC8NwDQ5tC/7Tw3ANDvOokqPDcA0PFHSOc8NwDQ2/3+ZDw3AND9JaphvDcA0MLHzJ98NwDQ+u1k3Tw3ANDRoXObPDcA0NRuuJl8NwDQ7yF0F/w3ANDuBuYWvDcA0PzszlW8NwDQ5qJtVLw3ANDWNsLUPDcA0NY6zxO8NwDQ0H/SE3w3ANDOmAwTfDcA0PqWvNN8NwDQ3Q/kk/w3ANDemENUvDcA0MdGGVV8NwDQ/69mVnw3ANDOrGrXvDcA0NtU5tk8NwDQ7IJaWvw3ANDpDwVc/DcA0NZWKB78NwDQ2nMCoXw3AND6AtVj/DcA0NrjX+a8NwDQwPLiqbw3ANDQEJ3s/DcA0MydEXB8NwDQ2fl9c/w3AND6h2J3/DcA0NGqf/v8NwDQ4QWWgHx3ANDLPiYE/HcA0ND5Lwm8dwDQ090xjrx3ANDU0W2T/HcA0PQ94xl8dwDQ8YvS3zx3ANDtJTxk/HcA0OY0YCs8dwDQ+yU+cXx3ANDq5Bc4PHcA0NOeqr78dwDQ8sK5Bfy3ANDmv4JNfLcA0OtFR1T8twDQ3cTHnLy3AND6r4NkvLcA0N24uyy8twDQwhMvNTy3ANDDc189/LcA0NxOi8b89wDQ55s1D/z3ANDez9tZfPcA0NvkvqL89wDQ2BIfbPz3ANDskf22/PcA0NGemYF9NwDQ37Nzi/03ANDODIwW/TcA0PUnIuH9NwDQywF4rT03ANDnGY04/TcA0P9v4MS9dwDQ6gT0UL13ANDcWcddPXcA0OvxGmm9dwDQzQ4t9n13ANDU9IGDvbcA0Pk9ytC9twDQ0vrLWv23ANDsn/MlPbcA0PcZAe/9twDQwJM3un23AND0udQFffcA0Nw7F5B99wDQ3UPCG733AND8QdMm/fcA0NojirJ99wDQ9Vco/f33ANDqS62JvjcA0PJwGJW+NwDQ5HRqIb43AND0SCIt/jcA0PSbwDp+NwDQ1CBERv53ANDfRm7TfncA0MA/vyA+dwDQ/j11rT53AND+MlI6fncA0MJRFIe+twDQ6kv81P63ANDzFkrivrcA0PekPrA+twDQ72kYPj63ANDvmZdMPvcA0OuqfBo+9wDQ8tBGqL73ANDzgTa2/vcA0PhyS8W/NwDQ6ZpG1H83ANDNb6cjPzcA0Mbo7PI/NwDQ1v1XwX93ANDbJOhQv3cA0M+XXiA/dwDQzI05L793ANDJPvk/f3cA0Nilno9/twDQ7HrpH3+3ANDS+Jjvv7cA0PgYrf//twDQ5ZXn0H/3ANDCawbhP/cA0NJTSzH/9wDQ90p0QoA3QNDwjEKTwDdA0NqVteTAN0DQ7yKONkA3QNDFsMtHwHdA0NM9bZlAd0DQ6UY1KwB3QND4SWF9AHdA0MzF8o8At0DQ0boooUC3QNDOJYPzwLdA0OfHxAZA90DQ4aEpGMD3QNDbcbMrgPdA0NL6Ij6A90DQ4vu2EYE3QNDDt+8kwTdA0MtwTThBN0DQ7OdQC8F3QND5H7gfQXdA0N2cBTNBd0DQ5p/3BwG3QND8bo4bQbdA0OVMim+Bt0DQxX4rQ8H3QNDdh7HYQfdA0MxunS0B90DQzfhtgcI3QND7qqNWwjdA0MvMPmvCN0DQ02L+QQJ3QNDDtiOWgndA0OuM7mwCd0DQ9+8eAcK3QNDyZPNXgrdA0MI2re2Ct0DQ7GyNw8L3QNDS0JNaAvdA0PVrvjBC90DQ8IfOhwM3QND/b0RdwzdA0Pks3/SDN0DQ00thC4N3QNDg1cfiw3dA0NEYVHoDd0DQ8l6GkYO3QNDu9V6pA7dA0M9pXIDD90DQ+YdAmMP3QNDwXUpww/dA0NT5OgjEN0DQ5GiQIUQ3QND6+ow5xDdA0NE+blJEd0DQ/QK3KwR3QNDyl6XEBLdA0MLNex0Et0DQ3HP2tkS3QNDK3FjPxPdA0PfXoalE90DQ6jeQwwU3QNDFziccxTdA0MxtI/bFN0DQ3SdHkQV3QND0D9JrRXdA0Ou6A8XFt0DQ+nmcoEW3QND1opy7BbdA0M9Jg9YF90DQ1sMScQX3QND5JEgMRjdA0MCDZaeGN0DQ1TVqQwZ3QNDM+AmexndA0OrIarlGd0DQ1zzplAa3QNDeS4dvBrdA0PwrAwoG90DQ2dJdZQb3QNDQt9WARzdA0OZSrFuHN0DQ0JohNwc3QNDyxXQSh3dA0N7MZS5Hd0DQ1Wa0Cge3QNDEzCFmB7dA0Mp07EIH90DQ8hkVnkf3QND18Zy6h/dA0P42wZcIN0DQ4eHEs4g3QNDmK2VQCHdA0P8MpCzId0DQzv9ASci3QNDl/LqmiLdA0MN+koPI90DQ1L7IYQj3QND1d5v+SPdA0PBjTRvJN0DQ/fxb+Uk3QNDFfYhXCXdA0NxhUrTJd0DQxqM6Uom3QND2vb+wibdA0M1s4o7J90DQ2ivjLQn3QNDadoELijdA0PpI/OnKN0DQ1F8VyIp3QNDx9QxnSndA0MmH4IYKt0DQwdOSJQq3QNDulSEECvdA0NJJzaNK90DQ3q6XQos3QNDyQP7hyzdA0Nv+Q0GLd0DQ12SloQt3QNDPsaUAy7dA0N2jQiDLt0DQyTh8QIv3QNDILtQgy/dA0P8FSUEMN0DQwPtboUw3QNDOjwuBzHdA0NhAGOJMd0DQ+82DQwy3QNDF94sjzLdA0PG9MESM90DQ596zJYz3QNDA3BMGzTdA0ML1kGgNN0DQ4qurCU13QNDC/yMqzXdA0PUweIxNt0DQ+cDrrg23QND+8buPzfdA0OFEKXHN90DQ7Dm0E843QNDZFBy2DjdA0NAVYlhOd0DQ5/9Fes53QNDlFIYdTrdA0PsXZD/Ot0DQy8qfoo73QNDnMLhFTzdA0MvM7uhPN0DQ5uICi493QNDTtDPuj3dA0NwGAtIPt0DQ+FvvNU+3QNDPObjYz/dA0PWi4HyP90DQ71xlYFA3QNDuakfEUHdA0NMRiChQd0DQ7BalzFC3QND2vqEwkLdA0N6O+lTQ90DQ/cxxOVD3QNDdPQVeETdA0PMmd4KRd0DQ5U5Hp5F3QNDHezUMUbdA0NuygLGRt0DQ0nup1pH3QNDLHLE70fdA0NLcViFSN0DQ5cHZBtJ3QNDuVHnsUndA0MTbeJISt0DQ8J3VeBK3QNDnZBAeEvdA0Mz16MQTN0DQ85rf6lM3QNDcW/TQk3dA0PaA6DcTd0DQ4BL5XZO3QNDkmmjEU/dA0P6gdqsT90DQ165ikhQ3QNDGTW05FDdA0NEG1eBUd0DQ6+Scx5S3QND5cIJvFLdA0Mq1BlaU90DQ3vvo/hT3QNDkj6ol1TdA0Pf6yY3Vd0DQ4wiINdV3QNDfw6Ud1bdA0NX3IIYV90DQ2q57LlX3QND6I0MWFjdA0MaFof2WN0DQzikXZVZ3QNDXPKPNFrdA0Oiuh3UWt0DQyW3BnRb3QNDAaJKFFzdA0NRNem0XN0DQzAr4lVd3QNDuj01913dA0MKJ+KYXt0DQzyh6Dpf3QNDamZI3V/dA0OwMAGAYN0DQym6EiNh3QND8bx8xmHdA0Mj8z5qYt0DQ9sWWQ5j3QNDM+LKsmPdA0NID5RXZN0DQzNYtPxk3QNDEncromXdA0P/JflHZt0DQxUfHe5m3QNDcByXlGfdA0Mr2GY7aN0DQ2IMjOJo3QNDL3MGimndA0OvxtUxat0DQ/zA+dlq3QNDMhxygmvdA0Ntkj4rbN0DQ8bdXtRs3QNDW7jSfW3dA0NG3Jknbt0DQ6MDtNFu3QNDjOggfG/dA0MeReAmcN0DQ3PT8dFw3QNDqE1VfXHdA0PWbQopct0DQxvuENVy3QNDkIhogXPdA0NS9xAudN0DQ3v0Cdt03QNDJzpTiHXdA0Nyguw1dt0DQ3aH1eN23QNDUAMOknfdA0MasJVAeN0DQ+9HbO943QND7ISRnnndA0MrIQVOet0DQ8jWxv163QND3V/WrXvdA0OIdjNefN0DQ+LU3Q593QNDBzXVv33dA0MTURlxft0DQyHjqSJ/3QNDS6WG1H/dA0OvUa+GgN0DQ2aiIzmB3QNDjFHj64HdA0M9Ge6egt0DQ5SzQ1KD3QNDrNrjBYTdA0OgSM65hN0DQ423Am6F3QNDjeGAIobdA0O7gEjXht0DQzNPWYyH3QNDEQezQYjdA0NvYlX3iN0DQ2kbQK2J3QNDGuxyY4rdA0Ofju0Zi90DQxG9r9CL3QNDjDG5h4zdA0Mspgk/jd0DQw3VoPaN3QNDSHh+ro7dA0P7SaJmj90DQz8EDB+Q3QNDMWG715DdA0PrGrCQkd0DQ4rr6UmS3QNDKI1oA5PdA0PhuSu9k90DQ9ArM3eU3QNDEJ1+MZXdA0O9xw3sld0DQ/Nl4KaW3QNDzDH2YZfdA0Nj5U4dmN0DQ9U66tiY3QNDPezHlJndA0O1s+dQmt0DQ1pLSQ2b3QNDRm3syZvdA0OV09CGnN0DQ2I49kOd3QNDyVVcAZ7dA0Pk5QK/nt0DQ9Ci6Xyf3QNDqEYQO6DdA0OHi3b5oN0DQ4grHLih3QNDxuAAd6LdA0NeZSQ2o90DQ2lzhvWj3QNDBcUmtaTdA0NMFAV1pd0DQ1gbITWm3QNDR5R69abdA0MzORG2p90DQzfE5Hao3QNDb+/0N6ndA0P1dEH5qd0DQwFUir6q3QND4XhPhKvdA0MtR2FKrN0DQ36RvxCt3QNDbSpq163dA0OT5GCert0DQ4qSo2Wv3QND6QYyLbDdA0NLFAz1sN0DQ0iNMb2x3QNDeESihbLdA0N2DF5Os90DQ9q3ZBe03QNDPBm24LTdA0M3A1Kqtd0DQ2JIOHS23QNDWLtoPrfdA0OwLuMIuN0DQwR1p9O43QND7WC1nrndA0MExQxqut0DQ+FzrTW73QNDHkCXAbzdA0NU/MnNvN0DQxx7RZq93QNDD48JZ77dA0PFChY0v90DQ9jAagHA3QND4YMHz8DdA0N4Juycwd0DQzd7GGvC3QNDtlSMOcPdA0OPhUcIxN0DQ1vgSdfE3QNDsjeTpsXdA0MtXiN2xt0DQ2Ym+kXH3QND9mIXFsjdA0N15nrmyN0DQ3yDJLfJ3QNDpQwUiMrdA0OJVElZy90DQ78txCrM3QND4mqE/MzdA0OL3onOzd0DQ1Fb1KDO3QNDz7Njc8/dA0OdujdG0N0DQ1VCUBnR3QNDjx2t7NHdA0PkHk7A0t0DQ+0YM5TT3QNDQ95baNTdA0N/Qcg81d0DQzsVeBHW3QNDDyxr5tbdA0OTWKG7190DQ2JtGpHY3QNDFD3WZtndA0NCmtQ82t0DQ4VXFRPb3QNDdkeY6dvdA0OuPF3A3N0DQ8YJZJfd3QNDV4Gsbt7dA0P5dTZG390DQ0e6AR7g3QND2CAO9uDdA0NHfFvO4d0DQyuf6abi3QNDHly4f+PdA0O5hcdY5N0DQ5TuFjLl3QNDSWmmC+bdA0NxyHXl5t0DQ6XehL/n3QNDfX7TmejdA0OTemF06d0DQ4ClLk/q3QND3NE6KuvdA0NB0oUF7N0DQ0h5D+Hs3QNDiZnXvO3dA0OeBd6Y7t0DQx+QInXv3QNDpgulUfDdA0PLSmUu8d0DQycgYwvy3QNDVF6e6PLdA0Pr1xbG890DQ4RfzKP03QNDuMe+gfXdA0Mh4+1f9t0DQ1eEWT733QND830BHfjdA0OPouX7+N0DQ8PEBdv53QNDKLdhuvrdA0NXTPmZ+90DQ+pWzHn83QNDeanaWf3dA0OdFiQ6/t0DQ+9wqBr/3QNDCItn+//dA0OCN2HcAN4DQ/VIlb0B3gND+ZEDnwLeA0Mp5auAA94DQx0VjmIE3gNDbfSpRAXeA0O0Vf8mBt4DQ4oLjgkH3gNDiOhV7AfeA0NGv1bPCN4DQ19ikLIJ3gNDa6QClgreA0MCWK15C94DQ75PkF0M3gNDOF6rQQ3eA0MJVv4lDt4DQ8oJiQoP3gNDE0xL7w/eA0N/70TUEN4DQ6XGdbkR3gNDHqTdnhLeA0OFWnyEE94DQ3G8UWoU3gNDfJxdUBXeA0M+zZ82Ft4DQ1EhGB0X3gNDTmvGAxjeA0PNfarqGN4DQ2grxNEZ3gNDt0YTuRreA0NUopegG94DQ9cQUYgc3gND2mQ/cB3eA0P1cGJYHt4DQ8IHukAf3gND2ftFKSDeA0PTHwYSId4DQ0pG+voh3gND1kEi5CLeA0MR5X3NI94DQ5MCDbck3gND9WzPoCXeA0PR9sSKJt4DQ75y7XQn3gNDV7NIXyjeA0M0i9ZJKd4DQ+/MljQq3gNDH0uJHyveA0Nf2K0KLN4DQ0dHBPYs3gNDcGqM4S3eA0NzFEbNLt4DQ+kXMbkv3gNDa0dNpTDeA0OSdZqRMd4DQ/d0GH4y3gNDNBjHajPeA0PgMaZXNN4DQ5WUtUQ13gND7BL1MTbeA0N+f2QfN94DQ+SsAw043gNDt23S+jjeA0OPlNDoOd4DQwf0/dY63gNDtl5axTveA0M2p+WzPN4DQyCgn6I93gNDDByIkT7eA0OV7Z6AP94DQ1Ln429A3gND3NtWX0HeA0POnfdOQt4DQ+A/B0FD3gNDOcunM0TeA0Mn7oAmRd4DQ3aLkhlG3gND8YXcDEfeA0NkwF4ASN4DQ5kdGfRI3gNDXIAL6EneA0N4yzXcSt4DQ7nhl9BL3gND6aUxxUzeA0PU+gK6Td4DQ0bDC69O3gNDCOJLpE/eA0PoOcOZUN4DQ6+tcY9R3gNDKiBXhVLeA0MjdHN7U94DQ2aMxnFU3gNDvktQaFXeA0P2lBBfVt4DQ9pKB1ZX3gNDNVA0TVjeA0PRh5dEWd4DQ3vUMDxa3gND/hgANFveA0MkOAUsXN4DQ7oUQCRd3gNDipGwHF7eA0NgkVYVX94DQwb3MQ5g3gNDSaVCB2HeA0PzfogAYt4DQ9BmA/pi3gNDqz+z82PeA0NP7JftZN4DQ4hPsedl3gNDIEz/4WbeA0PkxIHcZ94DQ52cONdo3gNDGbYj0mneA0Mh9ELNat4DQ4E5lshr3gNDBGkdxGzeA0N2Zdi/bd4DQ6IRx7tu3gNDU1Dpt2/eA0NVBD+0cN4DQ3IQyLBx3gNDdleErXLeA0MsvHOqc94DQ2Ahlqd03gND3GnrpHXeA0NseHOidt4DQ9wvLqB33gND9nIbnnjeA0OGJDuced4DQ1cnjZp63gNDNF4RmXveA0Poq8eXfN4DQ0Dzr5Z93gNDBRfKlX7eA0ME+hWVf94DQwh/k5SA3gND24hClIHeA0NJ+iKUgt4DQx62NJSD3gNDJZ93lITeA0MomOuUhd4DQ/SDkJWG3gNDU0VmlofeA0MQv2yXiN4DQ/jTo5iJ3gND1WYLmoreA0NyWqObi94DQ5uRa52M3gNDHO9jn43eA0O+VYyhjt4DQ06o5KOP3gNDl8lsppDeA0NknCSpkd4DQ4ADDKyS3gNDt+Eir5PeA0PTGWmylN4DQ6GO3rWV3gND6yKDuZbeA0N9uVa9l94DQyI1WcGY3gNDpXiKxZneA0PRZurJmt4DQ3LieM6b3gNDU84105zeA0M/DSHYnd4DQwKCOt2e3gNDZg+C4p/eA0M4mPfnoN4DQ0H/mu2h3gNDTyds86LeA0Mr82r5o94DQ6FFl/+k3gNDfAHxBabeA0OICXgMp94DQ5BALBOo3gNDX4kNGqneA0PBxhshqt4DQ4DbViir3gNDaKq+L6zeA0NEFlM3rd4DQ98BFD+u3gNDBlABR6/eA0OC4xpPsN4DQx+fYFex3gNDqWXSX7LeA0PrGXBos94DQ7CeOXG03gNDw9YuerXeA0PvpE+Dtt4DQwHsm4y33gNDwo4TlrjeA0P/b7afud4DQ4JyhKm63gNDF3l9s7veA0OJZqG9vN4DQ6Qd8Me93gNDMoFp0r7eA0P/cw3dv94DQ9fY2+fA3gNDg5LU8sHeA0PRg/f9wt4DQ4qPRAnE3gNDe5i7FMXeA0NugVwgxt4DQy8tJyzH3gNDiX4bOMjeA0NHWDlEyd4DQzWdgFDK3gNDHTDxXMveA0PM84ppzN4DQwzLTXbN3gNDqJg5g87eA0NsP06Qz94DQySii53Q3gNDmqPxqtHeA0OZJoC40t4DQ+0NN8bT3gNDYjwW1NTeA0PClB3i1d4DQ9n5TPDW3gNDcU6k/tfeA0NXdSMN2d4DQ1VRyhva3gNDN8WYKtveA0PIs4453N4DQ9T/q0jd3gNDJIzwV97eA0OGO1xn394DQ8Tw7nbg3gNDqY6ohuHeA0MA+IiW4t4DQ5YPkKbj3gNDNLi9tuTeA0On1BHH5d4DQ7pHjNfm3gNDN/Qs6OfeA0PrvPP46N4DQ6CE4Anq3gNDIS7zGuveA0M7nCss7N4DQ7ixiT3t3gNDY1ENT+7eA0MJXrZg794DQ3O6hHLw3gNDbUl4hPHeA0PD7ZCW8t4DQ0CKzqjz3gNDrgExu/TeA0PaNrjN9d4DQ3WPYuH23gND9PF99ffeA0PGRcMJ+d4DQ6N1Mh763gNDSGzLMvveA0NuFI5H/N4DQ9BYelz93gNDKCSQcf7eA0MxYc+G/94DQ6X6N5wA3wNDP9vJsQHfA0O57YTHAt8DQ84cad0D3wNDOFN28wTfA0Oxe6wJBt8DQ/WACyAH3wNDvU2TNgjfA0PEzENNCd8DQ8XoHGQK3wNDeYweewvfA0OcokiSDN8DQ+gVm6kN3wNDF9EVwQ7fA0PkvrjYD98DQwnKg/AQ3wNDQd12CBLfA0NG45EgE98DQ9PG1DgU3wNDonI/URXfA0Nu0dFpFt8DQ/DNi4IX3wND5VJtmxjfA0MFS3a0Gd8DQwyhps0a3wNDtD/+5hvfA0O4EX0AHd8DQ9EBIxoe3wNDu/rvMx/fA0Mv5+NNIN8DQ+mx/mch3wNDo0VAgiLfA0MXjaicI98DQwBzN7ck3wNDGOLs0SXfA0MZxcjsJt8DQ78Gywco3wNDxJHzIinfA0PhUEI+Kt8DQ9Iut1kr3wNDUhZSdSzfA0MZ8hKRLd8DQ+Ss+awu3wNDbDEGyS/fA0NsajjlMN8DQ59CkAEy3wNDvqQNHjPfA0OFe7A6NN8DQ62xeFc13wND8jFmdDbfA0MN53iRN98DQ7q7sK443wNDspoNzDnfA0Oxbo/pOt8DQ3AiNgc83wNDqqABJT3fA0Ma1PFCPt8DQ3qnBmE/3wNDhAVAf0DfA0Pz2J2dQd8DQ4IMILxC3wND6orG2kPfA0PnPpH5RN8DQzMTgBhG3wNDiPKSN0ffA0Ohx8lWSN8DQzl9JHZJ3wNDCf6ilUrfA0PMNEW1S98DQzwMC9VM3wNDFW/09E3fA0MRSAEVT98DQ+qBMTVQ3wNDWgeFVVHfA0Mcw/t1Ut8DQ+uflZZT3wNDgIhSt1TfA0OYZzLYVd8DQ+snNflW3wNDNLRaGljfA0Mu96I7Wd8DQ5TbDV1a3wNDH0ybflvfA0OLM0ugXN8DQ5F8HcJd3wND7BES5F7fA0NY3igGYN8DQ43MYShh3wNDR8e8SmLfA0NAuTltY98DQzKN2I9k3wND2S2ZsmXfA0PuhXvVZt8DQyyAf/hn3wNDTQelG2nfA0MMBuw+at8DQyRnVGJr3wNDThXehWzfA0NG+4ipbd8DQ8UDVc1u3wNDhxlC8W/fA0NGJ1AVcd8DQ7sXfzly3wNDo9XOXXPfA0O2Sz+CdN8DQ7Bk0KZ13wNDSwuCy3bfA0NCKlTwd98DQ06sRhV53wNDK3xZOnrfA0OThIxfe98DQ0Gw34R83wND7ulSqn3fA0NWHObPft8DQzIymfV/3wNDPhZsG4HfA0M0s15Bgt8DQ83zcGeD3wNDxsKijYTfA0PYCvSzhd8DQ722ZNqG3wNDMLH0AIjfA0Ps5KMnid8DQ6s8ck6K3wNDKKNfdYvfA0McA2ycjN8DQ0NHl8ON3wNDV1rh6o7fA0MTJ0oSkN8DQzCY0TmR3wNDaph3YZLfA0N6EjyJk98DQxzxHrGU3wNDCR8g2ZXfA0P9hj8Bl98DQ7ETfSmY3wND4K/YUZnfA0NGRlJ6mt8DQ5vB6aKb3wNDmwyfy5zfA0P/EXL0nd8DQ4S8Yh2f3wND4vZwRqDfA0PVq5xvod8DQxfG5Zii3wNDYjBMwqPfA0Nx1c/rpN8DQ/6fcBWm3wNDxHouP6ffA0N+UAlpqN8DQ+ULAZOp3wNDtJcVvarfA0Om3kbnq98DQ3XLlBGt3wND3Ej/O67fA0OVQYZmr98DQ1qgKZGw3wND50/pu7HfA0P1OsXmst8DQz9MvRG03wNDf27RPLXfA0NxjAFott8DQ82QTZO33wNDUGa1vrjfA0Oz9zjqud8DQ7Av2BW73wNDA/mSQbzfA0NmPmltvd8DQ/nrEJq+3wNDv8wnx7/fA0O/Xl70wN8DQxeTtCHC3wND4loqT8PfA0M9p798xN8DQ0RpdKrF3wNDE5JI2MbfA0PGEjwGyN8DQ3vcTjTJ3wNDTOCAYsrfA0NXD9KQy98DQ7daQr/M3wNDirPR7c3fA0PqCoAcz98DQ/VRTUvQ3wNDxnk5etHfA0N7c0Sp0t8DQy8wbtjT3wND/qC2B9XfA0MFtx031t8DQ2Bjo2bX3wNDLJdHltjfA0OEQwrG2d8DQ4VZ6/Xa3wNDS8rqJdzfA0PyhghW3d8DQ5iARIbe3wNDV6iett/fA0NM7xbn4N8DQ5RGrRfi3wNDS59hSOPfA0ON6jN55N8DQ3YZJKrl3wNDIh0y2+bfA0Ov5l0M6N8DQzhnpz3p3wND2Y8Ob+rfA0OvUZOg698DQ9WdNdLs3wNDaWX1A+7fA0OHmdI1798DQ0orzWfw3wNDzwvlmfHfA0MzLBrM8t8DQ5F9bP7z3wNDBvHbMPXfA0Oud2hj9t8DQ6YCEpb33wNDCYPYyPjfA0P06bv7+d8DQ4MovC773wND0y/ZYfzfA0MA8RKV/d8DQyVdacj+3wNDYGXc+//fA0PN+msvAeADQ4cOGGMC4ANDrJHglgPgA0NXdcXKBOADQ6Sqxv4F4ANDsSLkMgfgA0OZzh1nCOADQ3ifc5sJ4ANDa4blzwrgA0OOdHMEDOADQ/1aHTkN4AND1SrjbQ7gA0Mx1cSiD+ADQy9LwtcQ4AND6n3bDBLgA0N/XhBCE+ADQwreYHcU4ANDp+3MrBXgA0NyflTiFuADQ4iB9xcY4ANDBei1TRngA0MGo4+DGuADQ6ajhLkb4ANDAtuU7xzgA0M1OsAlHuADQ16yBlwf4ANDlzRokiDgA0P8seTIIeADQ6wbfP8i4ANDwGIuNiTgA0NWePtsJeADQ4pN46Mm4ANDedPl2ifgA0M++wISKeADQ/a1Okkq4ANDvfSMgCvgA0OvqPm3LOADQ+nCgO8t4ANDhzQiJy/gA0Ol7t1eMOADQ1/is5Yx4AND0wCkzjLgA0MbO64GNOADQ1SC0j414ANDm8cQdzbgA0MM/GivN+ADQ8MQ2+c44AND3PZmIDrgA0N0nwxZO+ADQ6f7y5E84ANDkfykyj3gA0NOk5cDP+ADQ/uwozxA4ANDtEbJdUHgA0OWRQivQuADQ7yeYOhD4ANDQkPSIUXgA0NGJF1bRuADQ+MyAZVH4ANDNmC+zkjgA0NanZQISuADQ23bg0JL4ANDiguMfEzgA0POHq22TeADQ1UG5/BO4ANDO7M5K1DgA0OdFqVlUeADQ5YhKaBS4ANDQ8XF2lPgA0PB8noVVeADQyybSFBW4ANDn68ui1fgA0M3IS3GWOADQxHhQwFa4ANDSeByPFvgA0P6D7p3XOADQ0JhGbNd4ANDPMWQ7l7gA0MFLSAqYOADQ7mJx2Vh4ANDdcyGoWLgA0NU5l3dY+ADQ3PITBll4AND7mNTVWbgA0PhqXGRZ+ADQ2mLp81o4ANDovn0CWrgA0Op5VlGa+ADQ5hA1oJs4ANDjvtpv23gA0OlBxX8buADQ/tV1zhw4ANDrNewdXHgA0PTfaGycuADQ445qe9z4AND+PvHLHXgA0Mttv1pduADQ0tZSqd34ANDbNat5HjgA0OvHigieuADQy4juV974ANDBtVgnXzgA0NTJR/bfeADQzIF9Bh/4ANDv2XfVoDgA0MVOOGUgeADQ1Nt+dKC4ANDk/YnEYTgA0PxxGxPheADQ4vJx42G4ANDffU4zIfgA0PiOcAKieADQ9iHXUmK4ANDedAQiIvgA0PjBNrGjOADQzIWuQWO4ANDg/WtRI/gA0Pwk7iDkOADQ5fi2MKR4ANDlNIOApPgA0MEVVpBlOADQ3A2FYGV4ANDDdsgwZbgA0MgsEMBmOADQ5uofUGZ4ANDcLfOgZrgA0OTzzbCm+ADQ/bjtQKd4ANDjOdLQ57gA0NHzfiDn+ADQxqIvMSg4AND9wqXBaLgA0PRSIhGo+ADQ5s0kIek4ANDSMGuyKXgA0PJ4eMJp+ADQxKJL0uo4ANDFaqRjKngA0PFNwrOquADQxQlmQ+s4AND9mQ+Ua3gA0Nc6vmSruADQzmoy9Sv4ANDgZGzFrHgA0MkmbFYsuADQxiyxZqz4ANDTM/v3LTgA0O24y8ftuADQ0bihWG34AND8L3xo7jgA0OmaXPmueADQ1vYCim74ANDAv23a7zgA0ONynquveADQ+4zU/G+4ANDGSxBNMDgA0MApkR3weADQ5aUXbrC4ANDzeqL/cPgA0OXm89AxeADQ+iZKITG4ANDs9iWx8fgA0PpShoLyeADQ33jsk7K4ANDYpVgksvgA0OLUyPWzOADQ+oQ+xnO4ANDcsDnXc/gA0MWVemh0OADQ8fB/+XR4ANDefkqKtPgA0Mf72pu1OADQ6qVv7LV4ANDDuAo99bgA0M9waY72OADQyosOYDZ4ANDyBPgxNrgA0MIa5sJ3OADQ94ka07d4ANDPTRPk97gA0MWjEfY3+ADQ10fVB3h4ANDBOF0YuLgA0P+w6mn4+ADQz278uzk4ANDtLlPMubgA0NWssB35+ADQxWYRb3o4AND5F3eAurgA0O19opI6+ADQ3xVS47s4ANDKm0f1O3gA0OzMAca7+ADQwmTAmDw4ANDHocRpvHgA0Pl/zPs8uADQ1LwaTL04ANDVUuzePXgA0PjAxC/9uADQ+4MgAX44ANDaFkDTPngA0NE3JmS+uADQ3SIQ9n74AND7FAAIP3gA0OdKNBm/uADQ3sCs63/4ANDeNGo9ADhA0OHiLE7AuEDQ5oazYID4QNDpHr7yQThA0OXmzwRBuEDQ2dwkFgH4QNDBez2nwjhA0NlAXDnCeEDQ3ij+y4L4QNDM8WZdgzhA0OHWUq+DeEDQ2ZTDQYP4QNDxKXiTRDhA0OTQ8qVEeEDQ8YfxN0S4QNDUC3QJRThA0MiX+5tFeEDQzCoHrYW4QNDbPtg/hfhA0PJS7VGGeEDQzqMG48a4QNDsa+T1xvhA0MgqR0gHeEDQ3truWge4QNDs+lmsR/hA0O9Fib6IOEDQ4nl9kIi4QNDC0nZiyPhA0M2NM3UJOEDQ/yZ0h0m4QNDT23pZifhA0MjoRGwKOEDQ2ooS/kp4QNDFvaVQivhA0Mb/fGLLOEDQ2owX9Ut4QND94LdHi/hA0Oz52xoMOEDQ5NRDbIx4QNDh7O++zLhA0OEAIFFNOEDQ3srVI814QNDXyc42TbhA0Mj5ywjOOEDQ7pdMm054QNDFX5ItzrhA0MoO28BPOEDQ+WHpks94QNDP1fulT7hA0MpnEbgP+EDQ5VJrypB4QNDdVIodULhA0O9qbG/Q+EDQ19CSwpF4QNDTQ/1VEbhA0N7A6+fR+EDQ9sReepI4QNDXi1TNUrhA0P5SD2AS+EDQ55XN8tM4QNDP0xBFk7hA0PPGVthT+EDQ0GzhKxQ4QNDhgu+91HhA0OTFQdDU+EDQ1nEX45U4QNDywrI2VXhA0Pc2z8lV+EDQ34qx3BY4QNDpOldvFnhA0NADAQIW+EDQ0aFuVNc4QNDp0d+n13hA0NXRlLrXuEDQ0h0NTdg4QNDbMQng2HhA0O3KSnPYuEDQxqXORtk4QNDif9YZ2XhA0P3VYezZuEDQ1WNxP9n4QNDlpgQTGnhA0OtamuYauEDQ4321ORr4QNDKC9NMW3hA0NxB9R9buEDQ1tyacpv4QND12INF3HhA0Pay79jcuEDQ1SggLBz4QNDOtNP/XThA0N9Vy1KduEDQxAgGZd34QND5h8T5HjhA0PySRsxeuEDQyaRMX574QNDdOhVy3zhA0PQQogYfuEDQyuTyGV/4QNDeswWs4DhA0Ot4XIAguEDQ7jF3E2D4QNDjWtUm4ThA0MgxtnoheEDQ2LIbDaH4QNDR2UNhIjhA0PAj7vRieEDQ8E6dx+L4QNDPFlAbYzhA0Mk3ha7jeEDQ2u8+giP4QNDBOfrVpDhA0PiUOqkkeEDQ/fs9fKS4QNDNq4OQZThA0ORhzSPleEDQ/xrZ92W4QNDaE6nK5jhA0PIIfR5meEDQxDZTcia4QNDMWe0FpzhA0MevydlneEDQ8rTp7Oe4QNDKJg0AqDhA0Mq/81QoeEDQ8L7c5+i4QND5IAm7qPhA0OBgeU8peEDQ47wsIum4QND+8CI2qfhA0O85WwpqeEDQ8RRXXiq4QNDBPhZx6vhA0Nxy2IWreEDQ/u+d2Wu4QNDl8WYtK/hA0M20sUDseEDQ8vX/lKy4QNDSclDorPhA0OimZTxtOEDQ8o78UC24QNDsqJZkLfhA0NNwc3fuOEDQ46KTS+64QNDaPHYfrvhA0PM6G/OvOEDQ69jEh6+4QNDAlXAbb/hA0O4r3m9wOEDQ8NmPg3C4QNDF20OXcPhA0OltemsxOEDQ2Ez0PzF4QNDPdnBTMfhA0Msmr6cyOEDQyBpxuzJ4QNDDDnZPMvhA0Pj/PaMzOEDQ5anH93N4QNDGixTLc/hA0NgfZF90OEDQ1uO2s3R4QND/lEuHtPhA0NDthNv1OEDQ+sObcDV4QNDXNbTEdfhA0OBAkhj2OEDQ0KJybTZ4QNDh2BYBtvhA0M6fvRX3OEDQ0TYnand4QNDjGRU+97hA0P9GBhN4OEDQ37r6J7h4QND+dHG8OLhA0NXwrFC5OEDQ4GyqZTl4QNDXpiu5ubhA0PZacA46OEDQ9oc34rp4QNDSacK3erhA0MQ/0Iv7OEDQxgaiIHt4QNDSe7Z0+7hA0OMcTgm8OEDQ8qZo3jx4QND7Fwby/LhA0PbsJ8d9OEDQ4CLMHD14QNDw+LNwvbhA0ONrHcV+OEDQ8feLWj54QNDWm/wuvrhA0MvVL8N/OEDQy6DmmD94QNDQfKBs/7hA0NRl3UGAOIDQ0VodVkB4gNDCFuBrALiA0OBZZn/A+IDQ5p9vVIF4gNDO5ntpQbiA0NOrin5B+IDQ7uycUwJ4gNDbJzFnwriA0NIYSXzC+IDQzn3kEYN4gNDJ1QImg7iA0P8bYvtD+IDQ6A6GkER4gND/K+0lBLiA0P6w1roE+IDQ4FsDDwV4gNDe5/JjxbiA0PQUpLjF+IDQ2p8ZjcZ4gNDMBJGixriA0MNCjHfG+IDQ+lZJzMd4gNDrPcohx7iA0NA2TXbH+IDQ470TS8h4gNDfT9xgyLiA0P4r5/XI+IDQ+c72Ssl4gNDMtkdgCbiA0PDfW3UJ+IDQ4MfyCgp4gNDWrQtfSriA0MxMp7RK+IDQ/GOGSYt4gNDg8Cfei7iA0PPvDDPL+IDQ795zCMx4gNDPO1yeDLiA0MuDSTNM+IDQ33P3yE14gNDFCqmdjbiA0PaEnfLN+IDQ7l/UiA54gNDmmY4dTriA0NlvSjKO+IDQwJ6Ix894gNDXJIodD7iA0Nb/DfJP+IDQ+etUR5B4gND6px1c0LiA0NMv6PIQ+IDQ/cK3B1F4gND0nUec0biA0PH9WrIR+IDQ7+AwR1J4gNDowwic0riA0Nbj4zIS+IDQ9D+AB5N4gND61B/c07iA0OVewfJT+IDQ7d0mR5R4gNDOjI1dFLiA0MGqtrJU+IDQwTSiR9V4gNDHqBCdVbiA0M7CgXLV+IDQ0YG0SBZ4gNDJoqmdlriA0PEi4XMW+IDQwoBbiJd4gND4d9feF7iA0MwHlvOX+IDQ+GxXyRh4gND3ZBtemLiA0MNsYTQY+IDQ1gIpSZl4gNDqozOfGbiA0PpMwHTZ+IDQ//zPClp4gND1sKBf2riA0NUls/Va+IDQ2VkJixt4gND7yKGgm7iA0Pdx+7Yb+IDQxdJYC9x4gNDhpzahXLiA0MSuF3cc+IDQ6WR6TJ14gNDJx9+iXbiA0OCVhvgd+IDQ54twTZ54gNDY5pvjXriA0O8kibke+IDQ5AM5jp94gNDyf2tkX7iA0NOXH7of+IDQwoeVz+B4gND5Tg4loLiA0PIoiHtg+IDQ5xRE0SF4gNDSTsNm4biA0O4VQ/yh+IDQ9OWGUmJ4gNDgvQroIriA0OtZEb3i+IDQz/daE6N4gNDH1STpY7iA0M2v8X8j+IDQ24UAFSR4gNDrklCq5LiA0PhVIwClOIDQ+8r3lmV4gNDwMQ3sZbiA0M+FZkImOIDQ1ETAmCZ4gND4rRyt5riA0Pa7+oOnOIDQyK6amad4gNDownyvZ7iA0NG1IAVoOIDQ/IPF22h4gNDkrK0xKLiA0MPslkcpOIDQ1AEBnSl4gNDP5+5y6biA0PEeHQjqOIDQ8mGNnup4gNDNr//0qriA0P1F9AqrOIDQ+2Gp4Kt4gNDCAKG2q7iA0Mvf2sysOIDQ0v0V4qx4gNDRFdL4rLiA0MDnkU6tOIDQ3G+RpK14gNDd65O6rbiA0P9Y11CuOIDQ+7Ucpq54gNDMfeO8rriA0OvwLFKvOIDQ1En26K94gNDACEL+77iA0Olo0FTwOIDQyilfqvB4gNDcxvCA8PiA0Nv/AtcxOIDQwM+XLTF4gNDGtayDMfiA0Ocug9lyOIDQ3Hhcr3J4gNDg0DcFcviA0O6zUtuzOIDQ/9+wcbN4gNDPEo9H8/iA0NYJb930OIDQz0GR9DR4gND1OLUKNPiA0MFsWiB1OIDQ7pmAtrV4gND2/mhMtfiA0NRYEeL2OIDQwSQ8uPZ4gND3n6jPNviA0PIIlqV3OIDQ6pxFu7d4gNDbmHYRt/iA0P755+f4OIDQzz7bPjh4gNDGJE/UePiA0N4nxeq5OIDQ0Yc9QLm4gNDa/3XW+fiA0POOMC06OIDQ1rErQ3q4gND9pWgZuviA0OMo5i/7OIDQwTjlRju4gNDSEqYce/iA0NAz5/K8OIDQ9VnrCPy4gND8Am+fPPiA0N5q9TV9OIDQ1pC8C724gNDfMQQiPfiA0PGJzbh+OIDQyNiYDr64gNDe2mPk/viA0O2M8Ps/OIDQ7+2+0X+4gNDfOg4n//iA0PYvnr4AOMDQ7svwVEC4wNDDjEMqwPjA0O6uFsEBeMDQ6i8r10G4wNDwDIItwfjA0PrEGUQCeMDQxNNxmkK4wNDH90rwwvjA0P6tpUcDeMDQ4vQA3YO4wNDvB92zw/jA0N2muwoEeMDQ6A2Z4IS4wNDJerl2xPjA0Ptqmg1FeMDQ+Bu744W4wND6Ct66BfjA0Pu1whCGeMDQ9pom5sa4wNDldQx9RvjA0MIEcxOHeMDQxwUaqge4wND+SBPAiDjA0OQ9HVcIeMDQwM0orYi4wNDSNfTECTjA0NX1gprJeMDQyUpR8Um4wNDqceIHyjjA0PXqc95KeMDQ6fHG9Qq4wNDDxltLizjA0MElsOILeMDQ302H+Mu4wNDcfJ/PTDjA0PUweWXMeMDQ52cUPIy4wNDwnrATDTjA0M6VDWnNeMDQ/ogrwE34wND+dgtXDjjA0MtdLG2OeMDQ4vqORE74wNDCjTHazzjA0OgSFnGPeMDQ0Qg8CA/4wND6rKLe0DjA0OK+CvWQeMDQxrp0DBD4wNDjnx6i0TjA0PfqijmReMDQwFs20BH4wND67eSm0jjA0OUhk72SeMDQ/DPDlFL4wND9ovTq0zjA0OdspwGTuMDQ9o7amFP4wNDpB88vFDjA0PxVRIXUuMDQ7bW7HFT4wND6pnLzFTjA0ODl64nVuMDQ3fHlYJX4wNDvCGB3VjjA0NJnnA4WuMDQxM1ZJNb4wNDEN5b7lzjA0M4kVdJXuMDQ35GV6Rf4wND2/Va/2DjA0NEl2JaYuMDQ68ibrVj4wNDEpB9EGXjA0Nj15BrZuMDQ5nwp8Zn4wNDqdPCIWnjA0OKeOF8auMDQzHXA9hr4wNDlucpM23jA0OtoVOObuMDQ239gOlv4wNDzfKxRHHjA0PCeeafcuMDQ0KKHvtz4wNDRBxaVnXjA0O9J5mxduMDQ6Sk2wx44wND74ohaHnjA0OU0mrDeuMDQ4lztx584wNDxGUHen3jA0M7oVrVfuMDQ+UdsTCA4wNDt9MKjIHjA0OoumfnguMDQ63Kx0KE4wNDvfsqnoXjA0PORZH5huMDQ9eg+lSI4wNDzARnsInjA0OladYLi+MDQ1fHSGeM4wND2BW+wo3jA0MfTTYej+MDQyJlsXmQ4wND1lUv1ZHjA0MyF7Awk+MDQy2hM4yU4wNDu+u555XjA0PU7kJDl+MDQ22izp6Y4wNDff5c+pnjA0P5+u1Vm+MDQ9iPgbGc4wNDD7UXDZ7jA0OWYrBon+MDQ2GQS8Sg4wNDaDbpH6LjA0OgTIl7o+MDQ//KK9ek4wNDfKnQMqbjA0MM4HeOp+MDQ6ZmIeqo4wNDPzXNRarjA0PPQ3uhq+MDQ0qKK/2s4wNDqADeWK7jA0PdnpK0r+MDQ+FcSRCx4wNDqjICbLLjA0MtGL3Hs+MDQ2EFeiO14wNDO/I4f7bjA0Oy1vnat+MDQ72qvDa54wNDUGaBkrrjA0NjAUjuu+MDQ+tzEEq94wND3rXapb7jA0Mzv6YBwOMDQ9+HdF3B4wND2QdEucLjA0MXNxUVxOMDQ48N6HDF4wNDN4O8zMbjA0MGkJIoyOMDQ/AraoTJ4wND7U5D4MrjA0Pz8B08zOMDQ/cJ+pfN4wND8JHX887jA0PTgLZP0OMDQ5jOlqvR4wNDM3N4B9PjA0OcZltj1OMDQ8igP7/V4wNDrhklG9fjA0NDyQt32OMDQ32n89LZ4wNDVKzcLtvjA0O8z8aK3OMDQ6wJsubd4wNDGlKeQt/jA0P8oIue4OMDQ0nuefrh4wND9jFpVuPjA0P5Y1my5OMDQ0l8Sg7m4wND3HI8aufjA0OnPy/G6OMDQ6HaIiLq4wNDwTsXfuvjA0P7Wgza7OMDQ0cwAjbu4wNDmrP4ke/jA0Pr3O/t8OMDQy+k50ny4wNDXQHgpfPjA0Nr7NgB9eMDQ09d0l324wND/kvMuffjA0NwsMYV+eMDQ5qCwXH64wNDcrq8zfvjA0PvT7gp/eMDQwY7tIX+4wNDrnOw4f/jA0Pd8aw9AeQDQ4mtqZkC5ANDqJ6m9QPkA0MvvaNRBeQDQxYBoa0G5ANDU2KeCQjkA0Pb2JtlCeQDQ6RcmcEK5ANDpeWWHQzkA0PUa5R5DeQDQybnkdUO5ANDk0+PMRDkA0MQnYyNEeQDQ5PHiekS5ANDEseGRRTkA0OEk4OhFeQDQ94kgP0W5ANDF3N8WRjkA0Mldni1GeQDQ/0ldBEb5ANDlnpvbRzkA0Pna2rJHeQDQ+XxZCUf5ANDhgRfgSDkA0PAm1jdIeQDQ4qvUTkj5AND2jdKlSTkA0OlLELxJeQDQ+OFOU0n5ANDiDswqSjkA0OLRSYFKuQDQ+KbG2Er5ANDhDYQvSzkA0NmDQQZLuQDQ38Y93Qv5ANDxE/p0DDkA0Msq9osMuQDQ60iy4gz5ANDPa665DTkA0PRRalANuQDQ2Hhlpw35AND43iD+DjkA0NLBG9UOuQDQ5F7WbA75ANDq9ZCDD3kA0OPDStoPuQDQzIYEsQ/5ANDi+73H0HkA0OQiNx7QuQDQzjev9dD5ANDd+ehM0XkA0NFnIKPRuQDQ5j0YetH5AND",
          "dtype": "f8"
         }
        }
       ],
       "layout": {
        "height": 500,
        "template": {
         "data": {
          "bar": [
           {
            "error_x": {
             "color": "#2a3f5f"
            },
            "error_y": {
             "color": "#2a3f5f"
            },
            "marker": {
             "line": {
              "color": "#E5ECF6",
              "width": 0.5
             },
             "pattern": {
              "fillmode": "overlay",
              "size": 10,
              "solidity": 0.2
             }
            },
            "type": "bar"
           }
          ],
          "barpolar": [
           {
            "marker": {
             "line": {
              "color": "#E5ECF6",
              "width": 0.5
             },
             "pattern": {
              "fillmode": "overlay",
              "size": 10,
              "solidity": 0.2
             }
            },
            "type": "barpolar"
           }
          ],
          "carpet": [
           {
            "aaxis": {
             "endlinecolor": "#2a3f5f",
             "gridcolor": "white",
             "linecolor": "white",
             "minorgridcolor": "white",
             "startlinecolor": "#2a3f5f"
            },
            "baxis": {
             "endlinecolor": "#2a3f5f",
             "gridcolor": "white",
             "linecolor": "white",
             "minorgridcolor": "white",
             "startlinecolor": "#2a3f5f"
            },
            "type": "carpet"
           }
          ],
          "choropleth": [
           {
            "colorbar": {
             "outlinewidth": 0,
             "ticks": ""
            },
            "type": "choropleth"
           }
          ],
          "contour": [
           {
            "colorbar": {
             "outlinewidth": 0,
             "ticks": ""
            },
            "colorscale": [
             [
              0,
              "#0d0887"
             ],
             [
              0.1111111111111111,
              "#46039f"
             ],
             [
              0.2222222222222222,
              "#7201a8"
             ],
             [
              0.3333333333333333,
              "#9c179e"
             ],
             [
              0.4444444444444444,
              "#bd3786"
             ],
             [
              0.5555555555555556,
              "#d8576b"
             ],
             [
              0.6666666666666666,
              "#ed7953"
             ],
             [
              0.7777777777777778,
              "#fb9f3a"
             ],
             [
              0.8888888888888888,
              "#fdca26"
             ],
             [
              1,
              "#f0f921"
             ]
            ],
            "type": "contour"
           }
          ],
          "contourcarpet": [
           {
            "colorbar": {
             "outlinewidth": 0,
             "ticks": ""
            },
            "type": "contourcarpet"
           }
          ],
          "heatmap": [
           {
            "colorbar": {
             "outlinewidth": 0,
             "ticks": ""
            },
            "colorscale": [
             [
              0,
              "#0d0887"
             ],
             [
              0.1111111111111111,
              "#46039f"
             ],
             [
              0.2222222222222222,
              "#7201a8"
             ],
             [
              0.3333333333333333,
              "#9c179e"
             ],
             [
              0.4444444444444444,
              "#bd3786"
             ],
             [
              0.5555555555555556,
              "#d8576b"
             ],
             [
              0.6666666666666666,
              "#ed7953"
             ],
             [
              0.7777777777777778,
              "#fb9f3a"
             ],
             [
              0.8888888888888888,
              "#fdca26"
             ],
             [
              1,
              "#f0f921"
             ]
            ],
            "type": "heatmap"
           }
          ],
          "histogram": [
           {
            "marker": {
             "pattern": {
              "fillmode": "overlay",
              "size": 10,
              "solidity": 0.2
             }
            },
            "type": "histogram"
           }
          ],
          "histogram2d": [
           {
            "colorbar": {
             "outlinewidth": 0,
             "ticks": ""
            },
            "colorscale": [
             [
              0,
              "#0d0887"
             ],
             [
              0.1111111111111111,
              "#46039f"
             ],
             [
              0.2222222222222222,
              "#7201a8"
             ],
             [
              0.3333333333333333,
              "#9c179e"
             ],
             [
              0.4444444444444444,
              "#bd3786"
             ],
             [
              0.5555555555555556,
              "#d8576b"
             ],
             [
              0.6666666666666666,
              "#ed7953"
             ],
             [
              0.7777777777777778,
              "#fb9f3a"
             ],
             [
              0.8888888888888888,
              "#fdca26"
             ],
             [
              1,
              "#f0f921"
             ]
            ],
            "type": "histogram2d"
           }
          ],
          "histogram2dcontour": [
           {
            "colorbar": {
             "outlinewidth": 0,
             "ticks": ""
            },
            "colorscale": [
             [
              0,
              "#0d0887"
             ],
             [
              0.1111111111111111,
              "#46039f"
             ],
             [
              0.2222222222222222,
              "#7201a8"
             ],
             [
              0.3333333333333333,
              "#9c179e"
             ],
             [
              0.4444444444444444,
              "#bd3786"
             ],
             [
              0.5555555555555556,
              "#d8576b"
             ],
             [
              0.6666666666666666,
              "#ed7953"
             ],
             [
              0.7777777777777778,
              "#fb9f3a"
             ],
             [
              0.8888888888888888,
              "#fdca26"
             ],
             [
              1,
              "#f0f921"
             ]
            ],
            "type": "histogram2dcontour"
           }
          ],
          "mesh3d": [
           {
            "colorbar": {
             "outlinewidth": 0,
             "ticks": ""
            },
            "type": "mesh3d"
           }
          ],
          "parcoords": [
           {
            "line": {
             "colorbar": {
              "outlinewidth": 0,
              "ticks": ""
             }
            },
            "type": "parcoords"
           }
          ],
          "pie": [
           {
            "automargin": true,
            "type": "pie"
           }
          ],
          "scatter": [
           {
            "fillpattern": {
             "fillmode": "overlay",
             "size": 10,
             "solidity": 0.2
            },
            "type": "scatter"
           }
          ],
          "scatter3d": [
           {
            "line": {
             "colorbar": {
              "outlinewidth": 0,
              "ticks": ""
             }
            },
            "marker": {
             "colorbar": {
              "outlinewidth": 0,
              "ticks": ""
             }
            },
            "type": "scatter3d"
           }
          ],
          "scattercarpet": [
           {
            "marker": {
             "colorbar": {
              "outlinewidth": 0,
              "ticks": ""
             }
            },
            "type": "scattercarpet"
           }
          ],
          "scattergeo": [
           {
            "marker": {
             "colorbar": {
              "outlinewidth": 0,
              "ticks": ""
             }
            },
            "type": "scattergeo"
           }
          ],
          "scattergl": [
           {
            "marker": {
             "colorbar": {
              "outlinewidth": 0,
              "ticks": ""
             }
            },
            "type": "scattergl"
           }
          ],
          "scattermap": [
           {
            "marker": {
             "colorbar": {
              "outlinewidth": 0,
              "ticks": ""
             }
            },
            "type": "scattermap"
           }
          ],
          "scattermapbox": [
           {
            "marker": {
             "colorbar": {
              "outlinewidth": 0,
              "ticks": ""
             }
            },
            "type": "scattermapbox"
           }
          ],
          "scatterpolar": [
           {
            "marker": {
             "colorbar": {
              "outlinewidth": 0,
              "ticks": ""
             }
            },
            "type": "scatterpolar"
           }
          ],
          "scatterpolargl": [
           {
            "marker": {
             "colorbar": {
              "outlinewidth": 0,
              "ticks": ""
             }
            },
            "type": "scatterpolargl"
           }
          ],
          "scatterternary": [
           {
            "marker": {
             "colorbar": {
              "outlinewidth": 0,
              "ticks": ""
             }
            },
            "type": "scatterternary"
           }
          ],
          "surface": [
           {
            "colorbar": {
             "outlinewidth": 0,
             "ticks": ""
            },
            "colorscale": [
             [
              0,
              "#0d0887"
             ],
             [
              0.1111111111111111,
              "#46039f"
             ],
             [
              0.2222222222222222,
              "#7201a8"
             ],
             [
              0.3333333333333333,
              "#9c179e"
             ],
             [
              0.4444444444444444,
              "#bd3786"
             ],
             [
              0.5555555555555556,
              "#d8576b"
             ],
             [
              0.6666666666666666,
              "#ed7953"
             ],
             [
              0.7777777777777778,
              "#fb9f3a"
             ],
             [
              0.8888888888888888,
              "#fdca26"
             ],
             [
              1,
              "#f0f921"
             ]
            ],
            "type": "surface"
           }
          ],
          "table": [
           {
            "cells": {
             "fill": {
              "color": "#EBF0F8"
             },
             "line": {
              "color": "white"
             }
            },
            "header": {
             "fill": {
              "color": "#C8D4E3"
             },
             "line": {
              "color": "white"
             }
            },
            "type": "table"
           }
          ]
         },
         "layout": {
          "annotationdefaults": {
           "arrowcolor": "#2a3f5f",
           "arrowhead": 0,
           "arrowwidth": 1
          },
          "autotypenumbers": "strict",
          "coloraxis": {
           "colorbar": {
            "outlinewidth": 0,
            "ticks": ""
           }
          },
          "colorscale": {
           "diverging": [
            [
             0,
             "#8e0152"
            ],
            [
             0.1,
             "#c51b7d"
            ],
            [
             0.2,
             "#de77ae"
            ],
            [
             0.3,
             "#f1b6da"
            ],
            [
             0.4,
             "#fde0ef"
            ],
            [
             0.5,
             "#f7f7f7"
            ],
            [
             0.6,
             "#e6f5d0"
            ],
            [
             0.7,
             "#b8e186"
            ],
            [
             0.8,
             "#7fbc41"
            ],
            [
             0.9,
             "#4d9221"
            ],
            [
             1,
             "#276419"
            ]
           ],
           "sequential": [
            [
             0,
             "#0d0887"
            ],
            [
             0.1111111111111111,
             "#46039f"
            ],
            [
             0.2222222222222222,
             "#7201a8"
            ],
            [
             0.3333333333333333,
             "#9c179e"
            ],
            [
             0.4444444444444444,
             "#bd3786"
            ],
            [
             0.5555555555555556,
             "#d8576b"
            ],
            [
             0.6666666666666666,
             "#ed7953"
            ],
            [
             0.7777777777777778,
             "#fb9f3a"
            ],
            [
             0.8888888888888888,
             "#fdca26"
            ],
            [
             1,
             "#f0f921"
            ]
           ],
           "sequentialminus": [
            [
             0,
             "#0d0887"
            ],
            [
             0.1111111111111111,
             "#46039f"
            ],
            [
             0.2222222222222222,
             "#7201a8"
            ],
            [
             0.3333333333333333,
             "#9c179e"
            ],
            [
             0.4444444444444444,
             "#bd3786"
            ],
            [
             0.5555555555555556,
             "#d8576b"
            ],
            [
             0.6666666666666666,
             "#ed7953"
            ],
            [
             0.7777777777777778,
             "#fb9f3a"
            ],
            [
             0.8888888888888888,
             "#fdca26"
            ],
            [
             1,
             "#f0f921"
            ]
           ]
          },
          "colorway": [
           "#636efa",
           "#EF553B",
           "#00cc96",
           "#ab63fa",
           "#FFA15A",
           "#19d3f3",
           "#FF6692",
           "#B6E880",
           "#FF97FF",
           "#FECB52"
          ],
          "font": {
           "color": "#2a3f5f"
          },
          "geo": {
           "bgcolor": "white",
           "lakecolor": "white",
           "landcolor": "#E5ECF6",
           "showlakes": true,
           "showland": true,
           "subunitcolor": "white"
          },
          "hoverlabel": {
           "align": "left"
          },
          "hovermode": "closest",
          "mapbox": {
           "style": "light"
          },
          "paper_bgcolor": "white",
          "plot_bgcolor": "#E5ECF6",
          "polar": {
           "angularaxis": {
            "gridcolor": "white",
            "linecolor": "white",
            "ticks": ""
           },
           "bgcolor": "#E5ECF6",
           "radialaxis": {
            "gridcolor": "white",
            "linecolor": "white",
            "ticks": ""
           }
          },
          "scene": {
           "xaxis": {
            "backgroundcolor": "#E5ECF6",
            "gridcolor": "white",
            "gridwidth": 2,
            "linecolor": "white",
            "showbackground": true,
            "ticks": "",
            "zerolinecolor": "white"
           },
           "yaxis": {
            "backgroundcolor": "#E5ECF6",
            "gridcolor": "white",
            "gridwidth": 2,
            "linecolor": "white",
            "showbackground": true,
            "ticks": "",
            "zerolinecolor": "white"
           },
           "zaxis": {
            "backgroundcolor": "#E5ECF6",
            "gridcolor": "white",
            "gridwidth": 2,
            "linecolor": "white",
            "showbackground": true,
            "ticks": "",
            "zerolinecolor": "white"
           }
          },
          "shapedefaults": {
           "line": {
            "color": "#2a3f5f"
           }
          },
          "ternary": {
           "aaxis": {
            "gridcolor": "white",
            "linecolor": "white",
            "ticks": ""
           },
           "baxis": {
            "gridcolor": "white",
            "linecolor": "white",
            "ticks": ""
           },
           "bgcolor": "#E5ECF6",
           "caxis": {
            "gridcolor": "white",
            "linecolor": "white",
            "ticks": ""
           }
          },
          "title": {
           "x": 0.05
          },
          "xaxis": {
           "automargin": true,
           "gridcolor": "white",
           "linecolor": "white",
           "ticks": "",
           "title": {
            "standoff": 15
           },
           "zerolinecolor": "white",
           "zerolinewidth": 2
          },
          "yaxis": {
           "automargin": true,
           "gridcolor": "white",
           "linecolor": "white",
           "ticks": "",
           "title": {
            "standoff": 15
           },
           "zerolinecolor": "white",
           "zerolinewidth": 2
          }
         }
        },
        "title": {
         "text": "Interstitial Concentrations"
        },
        "width": 600,
        "xaxis": {
         "exponentformat": "power",
         "title": {
          "text": "Time [s]"
         },
         "type": "log"
        },
        "yaxis": {
         "exponentformat": "power",
         "title": {
          "text": "Concentration [cm<sup>-3</sup>]"
         },
         "type": "log"
        }
       }
      },
      "image/png": "[encoded data removed]"
     },
     "metadata": {},
     "output_type": "display_data"
    },
    {
     "data": {
      "application/vnd.plotly.v1+json": {
       "config": {
        "plotlyServerURL": "https://plot.ly"
       },
       "data": [
        {
         "mode": "lines",
         "name": "N_L",
         "type": "scatter",
         "x": {
          "bdata": "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",
          "dtype": "f8"
         },
         "y": {
          "bdata": "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",
          "dtype": "f8"
         }
        }
       ],
       "layout": {
        "height": 500,
        "template": {
         "data": {
          "bar": [
           {
            "error_x": {
             "color": "#2a3f5f"
            },
            "error_y": {
             "color": "#2a3f5f"
            },
            "marker": {
             "line": {
              "color": "#E5ECF6",
              "width": 0.5
             },
             "pattern": {
              "fillmode": "overlay",
              "size": 10,
              "solidity": 0.2
             }
            },
            "type": "bar"
           }
          ],
          "barpolar": [
           {
            "marker": {
             "line": {
              "color": "#E5ECF6",
              "width": 0.5
             },
             "pattern": {
              "fillmode": "overlay",
              "size": 10,
              "solidity": 0.2
             }
            },
            "type": "barpolar"
           }
          ],
          "carpet": [
           {
            "aaxis": {
             "endlinecolor": "#2a3f5f",
             "gridcolor": "white",
             "linecolor": "white",
             "minorgridcolor": "white",
             "startlinecolor": "#2a3f5f"
            },
            "baxis": {
             "endlinecolor": "#2a3f5f",
             "gridcolor": "white",
             "linecolor": "white",
             "minorgridcolor": "white",
             "startlinecolor": "#2a3f5f"
            },
            "type": "carpet"
           }
          ],
          "choropleth": [
           {
            "colorbar": {
             "outlinewidth": 0,
             "ticks": ""
            },
            "type": "choropleth"
           }
          ],
          "contour": [
           {
            "colorbar": {
             "outlinewidth": 0,
             "ticks": ""
            },
            "colorscale": [
             [
              0,
              "#0d0887"
             ],
             [
              0.1111111111111111,
              "#46039f"
             ],
             [
              0.2222222222222222,
              "#7201a8"
             ],
             [
              0.3333333333333333,
              "#9c179e"
             ],
             [
              0.4444444444444444,
              "#bd3786"
             ],
             [
              0.5555555555555556,
              "#d8576b"
             ],
             [
              0.6666666666666666,
              "#ed7953"
             ],
             [
              0.7777777777777778,
              "#fb9f3a"
             ],
             [
              0.8888888888888888,
              "#fdca26"
             ],
             [
              1,
              "#f0f921"
             ]
            ],
            "type": "contour"
           }
          ],
          "contourcarpet": [
           {
            "colorbar": {
             "outlinewidth": 0,
             "ticks": ""
            },
            "type": "contourcarpet"
           }
          ],
          "heatmap": [
           {
            "colorbar": {
             "outlinewidth": 0,
             "ticks": ""
            },
            "colorscale": [
             [
              0,
              "#0d0887"
             ],
             [
              0.1111111111111111,
              "#46039f"
             ],
             [
              0.2222222222222222,
              "#7201a8"
             ],
             [
              0.3333333333333333,
              "#9c179e"
             ],
             [
              0.4444444444444444,
              "#bd3786"
             ],
             [
              0.5555555555555556,
              "#d8576b"
             ],
             [
              0.6666666666666666,
              "#ed7953"
             ],
             [
              0.7777777777777778,
              "#fb9f3a"
             ],
             [
              0.8888888888888888,
              "#fdca26"
             ],
             [
              1,
              "#f0f921"
             ]
            ],
            "type": "heatmap"
           }
          ],
          "histogram": [
           {
            "marker": {
             "pattern": {
              "fillmode": "overlay",
              "size": 10,
              "solidity": 0.2
             }
            },
            "type": "histogram"
           }
          ],
          "histogram2d": [
           {
            "colorbar": {
             "outlinewidth": 0,
             "ticks": ""
            },
            "colorscale": [
             [
              0,
              "#0d0887"
             ],
             [
              0.1111111111111111,
              "#46039f"
             ],
             [
              0.2222222222222222,
              "#7201a8"
             ],
             [
              0.3333333333333333,
              "#9c179e"
             ],
             [
              0.4444444444444444,
              "#bd3786"
             ],
             [
              0.5555555555555556,
              "#d8576b"
             ],
             [
              0.6666666666666666,
              "#ed7953"
             ],
             [
              0.7777777777777778,
              "#fb9f3a"
             ],
             [
              0.8888888888888888,
              "#fdca26"
             ],
             [
              1,
              "#f0f921"
             ]
            ],
            "type": "histogram2d"
           }
          ],
          "histogram2dcontour": [
           {
            "colorbar": {
             "outlinewidth": 0,
             "ticks": ""
            },
            "colorscale": [
             [
              0,
              "#0d0887"
             ],
             [
              0.1111111111111111,
              "#46039f"
             ],
             [
              0.2222222222222222,
              "#7201a8"
             ],
             [
              0.3333333333333333,
              "#9c179e"
             ],
             [
              0.4444444444444444,
              "#bd3786"
             ],
             [
              0.5555555555555556,
              "#d8576b"
             ],
             [
              0.6666666666666666,
              "#ed7953"
             ],
             [
              0.7777777777777778,
              "#fb9f3a"
             ],
             [
              0.8888888888888888,
              "#fdca26"
             ],
             [
              1,
              "#f0f921"
             ]
            ],
            "type": "histogram2dcontour"
           }
          ],
          "mesh3d": [
           {
            "colorbar": {
             "outlinewidth": 0,
             "ticks": ""
            },
            "type": "mesh3d"
           }
          ],
          "parcoords": [
           {
            "line": {
             "colorbar": {
              "outlinewidth": 0,
              "ticks": ""
             }
            },
            "type": "parcoords"
           }
          ],
          "pie": [
           {
            "automargin": true,
            "type": "pie"
           }
          ],
          "scatter": [
           {
            "fillpattern": {
             "fillmode": "overlay",
             "size": 10,
             "solidity": 0.2
            },
            "type": "scatter"
           }
          ],
          "scatter3d": [
           {
            "line": {
             "colorbar": {
              "outlinewidth": 0,
              "ticks": ""
             }
            },
            "marker": {
             "colorbar": {
              "outlinewidth": 0,
              "ticks": ""
             }
            },
            "type": "scatter3d"
           }
          ],
          "scattercarpet": [
           {
            "marker": {
             "colorbar": {
              "outlinewidth": 0,
              "ticks": ""
             }
            },
            "type": "scattercarpet"
           }
          ],
          "scattergeo": [
           {
            "marker": {
             "colorbar": {
              "outlinewidth": 0,
              "ticks": ""
             }
            },
            "type": "scattergeo"
           }
          ],
          "scattergl": [
           {
            "marker": {
             "colorbar": {
              "outlinewidth": 0,
              "ticks": ""
             }
            },
            "type": "scattergl"
           }
          ],
          "scattermap": [
           {
            "marker": {
             "colorbar": {
              "outlinewidth": 0,
              "ticks": ""
             }
            },
            "type": "scattermap"
           }
          ],
          "scattermapbox": [
           {
            "marker": {
             "colorbar": {
              "outlinewidth": 0,
              "ticks": ""
             }
            },
            "type": "scattermapbox"
           }
          ],
          "scatterpolar": [
           {
            "marker": {
             "colorbar": {
              "outlinewidth": 0,
              "ticks": ""
             }
            },
            "type": "scatterpolar"
           }
          ],
          "scatterpolargl": [
           {
            "marker": {
             "colorbar": {
              "outlinewidth": 0,
              "ticks": ""
             }
            },
            "type": "scatterpolargl"
           }
          ],
          "scatterternary": [
           {
            "marker": {
             "colorbar": {
              "outlinewidth": 0,
              "ticks": ""
             }
            },
            "type": "scatterternary"
           }
          ],
          "surface": [
           {
            "colorbar": {
             "outlinewidth": 0,
             "ticks": ""
            },
            "colorscale": [
             [
              0,
              "#0d0887"
             ],
             [
              0.1111111111111111,
              "#46039f"
             ],
             [
              0.2222222222222222,
              "#7201a8"
             ],
             [
              0.3333333333333333,
              "#9c179e"
             ],
             [
              0.4444444444444444,
              "#bd3786"
             ],
             [
              0.5555555555555556,
              "#d8576b"
             ],
             [
              0.6666666666666666,
              "#ed7953"
             ],
             [
              0.7777777777777778,
              "#fb9f3a"
             ],
             [
              0.8888888888888888,
              "#fdca26"
             ],
             [
              1,
              "#f0f921"
             ]
            ],
            "type": "surface"
           }
          ],
          "table": [
           {
            "cells": {
             "fill": {
              "color": "#EBF0F8"
             },
             "line": {
              "color": "white"
             }
            },
            "header": {
             "fill": {
              "color": "#C8D4E3"
             },
             "line": {
              "color": "white"
             }
            },
            "type": "table"
           }
          ]
         },
         "layout": {
          "annotationdefaults": {
           "arrowcolor": "#2a3f5f",
           "arrowhead": 0,
           "arrowwidth": 1
          },
          "autotypenumbers": "strict",
          "coloraxis": {
           "colorbar": {
            "outlinewidth": 0,
            "ticks": ""
           }
          },
          "colorscale": {
           "diverging": [
            [
             0,
             "#8e0152"
            ],
            [
             0.1,
             "#c51b7d"
            ],
            [
             0.2,
             "#de77ae"
            ],
            [
             0.3,
             "#f1b6da"
            ],
            [
             0.4,
             "#fde0ef"
            ],
            [
             0.5,
             "#f7f7f7"
            ],
            [
             0.6,
             "#e6f5d0"
            ],
            [
             0.7,
             "#b8e186"
            ],
            [
             0.8,
             "#7fbc41"
            ],
            [
             0.9,
             "#4d9221"
            ],
            [
             1,
             "#276419"
            ]
           ],
           "sequential": [
            [
             0,
             "#0d0887"
            ],
            [
             0.1111111111111111,
             "#46039f"
            ],
            [
             0.2222222222222222,
             "#7201a8"
            ],
            [
             0.3333333333333333,
             "#9c179e"
            ],
            [
             0.4444444444444444,
             "#bd3786"
            ],
            [
             0.5555555555555556,
             "#d8576b"
            ],
            [
             0.6666666666666666,
             "#ed7953"
            ],
            [
             0.7777777777777778,
             "#fb9f3a"
            ],
            [
             0.8888888888888888,
             "#fdca26"
            ],
            [
             1,
             "#f0f921"
            ]
           ],
           "sequentialminus": [
            [
             0,
             "#0d0887"
            ],
            [
             0.1111111111111111,
             "#46039f"
            ],
            [
             0.2222222222222222,
             "#7201a8"
            ],
            [
             0.3333333333333333,
             "#9c179e"
            ],
            [
             0.4444444444444444,
             "#bd3786"
            ],
            [
             0.5555555555555556,
             "#d8576b"
            ],
            [
             0.6666666666666666,
             "#ed7953"
            ],
            [
             0.7777777777777778,
             "#fb9f3a"
            ],
            [
             0.8888888888888888,
             "#fdca26"
            ],
            [
             1,
             "#f0f921"
            ]
           ]
          },
          "colorway": [
           "#636efa",
           "#EF553B",
           "#00cc96",
           "#ab63fa",
           "#FFA15A",
           "#19d3f3",
           "#FF6692",
           "#B6E880",
           "#FF97FF",
           "#FECB52"
          ],
          "font": {
           "color": "#2a3f5f"
          },
          "geo": {
           "bgcolor": "white",
           "lakecolor": "white",
           "landcolor": "#E5ECF6",
           "showlakes": true,
           "showland": true,
           "subunitcolor": "white"
          },
          "hoverlabel": {
           "align": "left"
          },
          "hovermode": "closest",
          "mapbox": {
           "style": "light"
          },
          "paper_bgcolor": "white",
          "plot_bgcolor": "#E5ECF6",
          "polar": {
           "angularaxis": {
            "gridcolor": "white",
            "linecolor": "white",
            "ticks": ""
           },
           "bgcolor": "#E5ECF6",
           "radialaxis": {
            "gridcolor": "white",
            "linecolor": "white",
            "ticks": ""
           }
          },
          "scene": {
           "xaxis": {
            "backgroundcolor": "#E5ECF6",
            "gridcolor": "white",
            "gridwidth": 2,
            "linecolor": "white",
            "showbackground": true,
            "ticks": "",
            "zerolinecolor": "white"
           },
           "yaxis": {
            "backgroundcolor": "#E5ECF6",
            "gridcolor": "white",
            "gridwidth": 2,
            "linecolor": "white",
            "showbackground": true,
            "ticks": "",
            "zerolinecolor": "white"
           },
           "zaxis": {
            "backgroundcolor": "#E5ECF6",
            "gridcolor": "white",
            "gridwidth": 2,
            "linecolor": "white",
            "showbackground": true,
            "ticks": "",
            "zerolinecolor": "white"
           }
          },
          "shapedefaults": {
           "line": {
            "color": "#2a3f5f"
           }
          },
          "ternary": {
           "aaxis": {
            "gridcolor": "white",
            "linecolor": "white",
            "ticks": ""
           },
           "baxis": {
            "gridcolor": "white",
            "linecolor": "white",
            "ticks": ""
           },
           "bgcolor": "#E5ECF6",
           "caxis": {
            "gridcolor": "white",
            "linecolor": "white",
            "ticks": ""
           }
          },
          "title": {
           "x": 0.05
          },
          "xaxis": {
           "automargin": true,
           "gridcolor": "white",
           "linecolor": "white",
           "ticks": "",
           "title": {
            "standoff": 15
           },
           "zerolinecolor": "white",
           "zerolinewidth": 2
          },
          "yaxis": {
           "automargin": true,
           "gridcolor": "white",
           "linecolor": "white",
           "ticks": "",
           "title": {
            "standoff": 15
           },
           "zerolinecolor": "white",
           "zerolinewidth": 2
          }
         }
        },
        "title": {
         "text": "Dislocation Loop Density"
        },
        "width": 600,
        "xaxis": {
         "title": {
          "text": "Dose [dpa]"
         }
        },
        "yaxis": {
         "title": {
          "text": "Loop Density [ 10<sup>16</sup> cm<sup>-3</sup>] "
         }
        }
       }
      },
      "image/png": "[encoded data removed]"
     },
     "metadata": {},
     "output_type": "display_data"
    },
    {
     "data": {
      "application/vnd.plotly.v1+json": {
       "config": {
        "plotlyServerURL": "https://plot.ly"
       },
       "data": [
        {
         "mode": "lines",
         "name": "R_L",
         "type": "scatter",
         "x": {
          "bdata": "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",
          "dtype": "f8"
         },
         "y": {
          "bdata": "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",
          "dtype": "f8"
         }
        }
       ],
       "layout": {
        "height": 500,
        "template": {
         "data": {
          "bar": [
           {
            "error_x": {
             "color": "#2a3f5f"
            },
            "error_y": {
             "color": "#2a3f5f"
            },
            "marker": {
             "line": {
              "color": "#E5ECF6",
              "width": 0.5
             },
             "pattern": {
              "fillmode": "overlay",
              "size": 10,
              "solidity": 0.2
             }
            },
            "type": "bar"
           }
          ],
          "barpolar": [
           {
            "marker": {
             "line": {
              "color": "#E5ECF6",
              "width": 0.5
             },
             "pattern": {
              "fillmode": "overlay",
              "size": 10,
              "solidity": 0.2
             }
            },
            "type": "barpolar"
           }
          ],
          "carpet": [
           {
            "aaxis": {
             "endlinecolor": "#2a3f5f",
             "gridcolor": "white",
             "linecolor": "white",
             "minorgridcolor": "white",
             "startlinecolor": "#2a3f5f"
            },
            "baxis": {
             "endlinecolor": "#2a3f5f",
             "gridcolor": "white",
             "linecolor": "white",
             "minorgridcolor": "white",
             "startlinecolor": "#2a3f5f"
            },
            "type": "carpet"
           }
          ],
          "choropleth": [
           {
            "colorbar": {
             "outlinewidth": 0,
             "ticks": ""
            },
            "type": "choropleth"
           }
          ],
          "contour": [
           {
            "colorbar": {
             "outlinewidth": 0,
             "ticks": ""
            },
            "colorscale": [
             [
              0,
              "#0d0887"
             ],
             [
              0.1111111111111111,
              "#46039f"
             ],
             [
              0.2222222222222222,
              "#7201a8"
             ],
             [
              0.3333333333333333,
              "#9c179e"
             ],
             [
              0.4444444444444444,
              "#bd3786"
             ],
             [
              0.5555555555555556,
              "#d8576b"
             ],
             [
              0.6666666666666666,
              "#ed7953"
             ],
             [
              0.7777777777777778,
              "#fb9f3a"
             ],
             [
              0.8888888888888888,
              "#fdca26"
             ],
             [
              1,
              "#f0f921"
             ]
            ],
            "type": "contour"
           }
          ],
          "contourcarpet": [
           {
            "colorbar": {
             "outlinewidth": 0,
             "ticks": ""
            },
            "type": "contourcarpet"
           }
          ],
          "heatmap": [
           {
            "colorbar": {
             "outlinewidth": 0,
             "ticks": ""
            },
            "colorscale": [
             [
              0,
              "#0d0887"
             ],
             [
              0.1111111111111111,
              "#46039f"
             ],
             [
              0.2222222222222222,
              "#7201a8"
             ],
             [
              0.3333333333333333,
              "#9c179e"
             ],
             [
              0.4444444444444444,
              "#bd3786"
             ],
             [
              0.5555555555555556,
              "#d8576b"
             ],
             [
              0.6666666666666666,
              "#ed7953"
             ],
             [
              0.7777777777777778,
              "#fb9f3a"
             ],
             [
              0.8888888888888888,
              "#fdca26"
             ],
             [
              1,
              "#f0f921"
             ]
            ],
            "type": "heatmap"
           }
          ],
          "histogram": [
           {
            "marker": {
             "pattern": {
              "fillmode": "overlay",
              "size": 10,
              "solidity": 0.2
             }
            },
            "type": "histogram"
           }
          ],
          "histogram2d": [
           {
            "colorbar": {
             "outlinewidth": 0,
             "ticks": ""
            },
            "colorscale": [
             [
              0,
              "#0d0887"
             ],
             [
              0.1111111111111111,
              "#46039f"
             ],
             [
              0.2222222222222222,
              "#7201a8"
             ],
             [
              0.3333333333333333,
              "#9c179e"
             ],
             [
              0.4444444444444444,
              "#bd3786"
             ],
             [
              0.5555555555555556,
              "#d8576b"
             ],
             [
              0.6666666666666666,
              "#ed7953"
             ],
             [
              0.7777777777777778,
              "#fb9f3a"
             ],
             [
              0.8888888888888888,
              "#fdca26"
             ],
             [
              1,
              "#f0f921"
             ]
            ],
            "type": "histogram2d"
           }
          ],
          "histogram2dcontour": [
           {
            "colorbar": {
             "outlinewidth": 0,
             "ticks": ""
            },
            "colorscale": [
             [
              0,
              "#0d0887"
             ],
             [
              0.1111111111111111,
              "#46039f"
             ],
             [
              0.2222222222222222,
              "#7201a8"
             ],
             [
              0.3333333333333333,
              "#9c179e"
             ],
             [
              0.4444444444444444,
              "#bd3786"
             ],
             [
              0.5555555555555556,
              "#d8576b"
             ],
             [
              0.6666666666666666,
              "#ed7953"
             ],
             [
              0.7777777777777778,
              "#fb9f3a"
             ],
             [
              0.8888888888888888,
              "#fdca26"
             ],
             [
              1,
              "#f0f921"
             ]
            ],
            "type": "histogram2dcontour"
           }
          ],
          "mesh3d": [
           {
            "colorbar": {
             "outlinewidth": 0,
             "ticks": ""
            },
            "type": "mesh3d"
           }
          ],
          "parcoords": [
           {
            "line": {
             "colorbar": {
              "outlinewidth": 0,
              "ticks": ""
             }
            },
            "type": "parcoords"
           }
          ],
          "pie": [
           {
            "automargin": true,
            "type": "pie"
           }
          ],
          "scatter": [
           {
            "fillpattern": {
             "fillmode": "overlay",
             "size": 10,
             "solidity": 0.2
            },
            "type": "scatter"
           }
          ],
          "scatter3d": [
           {
            "line": {
             "colorbar": {
              "outlinewidth": 0,
              "ticks": ""
             }
            },
            "marker": {
             "colorbar": {
              "outlinewidth": 0,
              "ticks": ""
             }
            },
            "type": "scatter3d"
           }
          ],
          "scattercarpet": [
           {
            "marker": {
             "colorbar": {
              "outlinewidth": 0,
              "ticks": ""
             }
            },
            "type": "scattercarpet"
           }
          ],
          "scattergeo": [
           {
            "marker": {
             "colorbar": {
              "outlinewidth": 0,
              "ticks": ""
             }
            },
            "type": "scattergeo"
           }
          ],
          "scattergl": [
           {
            "marker": {
             "colorbar": {
              "outlinewidth": 0,
              "ticks": ""
             }
            },
            "type": "scattergl"
           }
          ],
          "scattermap": [
           {
            "marker": {
             "colorbar": {
              "outlinewidth": 0,
              "ticks": ""
             }
            },
            "type": "scattermap"
           }
          ],
          "scattermapbox": [
           {
            "marker": {
             "colorbar": {
              "outlinewidth": 0,
              "ticks": ""
             }
            },
            "type": "scattermapbox"
           }
          ],
          "scatterpolar": [
           {
            "marker": {
             "colorbar": {
              "outlinewidth": 0,
              "ticks": ""
             }
            },
            "type": "scatterpolar"
           }
          ],
          "scatterpolargl": [
           {
            "marker": {
             "colorbar": {
              "outlinewidth": 0,
              "ticks": ""
             }
            },
            "type": "scatterpolargl"
           }
          ],
          "scatterternary": [
           {
            "marker": {
             "colorbar": {
              "outlinewidth": 0,
              "ticks": ""
             }
            },
            "type": "scatterternary"
           }
          ],
          "surface": [
           {
            "colorbar": {
             "outlinewidth": 0,
             "ticks": ""
            },
            "colorscale": [
             [
              0,
              "#0d0887"
             ],
             [
              0.1111111111111111,
              "#46039f"
             ],
             [
              0.2222222222222222,
              "#7201a8"
             ],
             [
              0.3333333333333333,
              "#9c179e"
             ],
             [
              0.4444444444444444,
              "#bd3786"
             ],
             [
              0.5555555555555556,
              "#d8576b"
             ],
             [
              0.6666666666666666,
              "#ed7953"
             ],
             [
              0.7777777777777778,
              "#fb9f3a"
             ],
             [
              0.8888888888888888,
              "#fdca26"
             ],
             [
              1,
              "#f0f921"
             ]
            ],
            "type": "surface"
           }
          ],
          "table": [
           {
            "cells": {
             "fill": {
              "color": "#EBF0F8"
             },
             "line": {
              "color": "white"
             }
            },
            "header": {
             "fill": {
              "color": "#C8D4E3"
             },
             "line": {
              "color": "white"
             }
            },
            "type": "table"
           }
          ]
         },
         "layout": {
          "annotationdefaults": {
           "arrowcolor": "#2a3f5f",
           "arrowhead": 0,
           "arrowwidth": 1
          },
          "autotypenumbers": "strict",
          "coloraxis": {
           "colorbar": {
            "outlinewidth": 0,
            "ticks": ""
           }
          },
          "colorscale": {
           "diverging": [
            [
             0,
             "#8e0152"
            ],
            [
             0.1,
             "#c51b7d"
            ],
            [
             0.2,
             "#de77ae"
            ],
            [
             0.3,
             "#f1b6da"
            ],
            [
             0.4,
             "#fde0ef"
            ],
            [
             0.5,
             "#f7f7f7"
            ],
            [
             0.6,
             "#e6f5d0"
            ],
            [
             0.7,
             "#b8e186"
            ],
            [
             0.8,
             "#7fbc41"
            ],
            [
             0.9,
             "#4d9221"
            ],
            [
             1,
             "#276419"
            ]
           ],
           "sequential": [
            [
             0,
             "#0d0887"
            ],
            [
             0.1111111111111111,
             "#46039f"
            ],
            [
             0.2222222222222222,
             "#7201a8"
            ],
            [
             0.3333333333333333,
             "#9c179e"
            ],
            [
             0.4444444444444444,
             "#bd3786"
            ],
            [
             0.5555555555555556,
             "#d8576b"
            ],
            [
             0.6666666666666666,
             "#ed7953"
            ],
            [
             0.7777777777777778,
             "#fb9f3a"
            ],
            [
             0.8888888888888888,
             "#fdca26"
            ],
            [
             1,
             "#f0f921"
            ]
           ],
           "sequentialminus": [
            [
             0,
             "#0d0887"
            ],
            [
             0.1111111111111111,
             "#46039f"
            ],
            [
             0.2222222222222222,
             "#7201a8"
            ],
            [
             0.3333333333333333,
             "#9c179e"
            ],
            [
             0.4444444444444444,
             "#bd3786"
            ],
            [
             0.5555555555555556,
             "#d8576b"
            ],
            [
             0.6666666666666666,
             "#ed7953"
            ],
            [
             0.7777777777777778,
             "#fb9f3a"
            ],
            [
             0.8888888888888888,
             "#fdca26"
            ],
            [
             1,
             "#f0f921"
            ]
           ]
          },
          "colorway": [
           "#636efa",
           "#EF553B",
           "#00cc96",
           "#ab63fa",
           "#FFA15A",
           "#19d3f3",
           "#FF6692",
           "#B6E880",
           "#FF97FF",
           "#FECB52"
          ],
          "font": {
           "color": "#2a3f5f"
          },
          "geo": {
           "bgcolor": "white",
           "lakecolor": "white",
           "landcolor": "#E5ECF6",
           "showlakes": true,
           "showland": true,
           "subunitcolor": "white"
          },
          "hoverlabel": {
           "align": "left"
          },
          "hovermode": "closest",
          "mapbox": {
           "style": "light"
          },
          "paper_bgcolor": "white",
          "plot_bgcolor": "#E5ECF6",
          "polar": {
           "angularaxis": {
            "gridcolor": "white",
            "linecolor": "white",
            "ticks": ""
           },
           "bgcolor": "#E5ECF6",
           "radialaxis": {
            "gridcolor": "white",
            "linecolor": "white",
            "ticks": ""
           }
          },
          "scene": {
           "xaxis": {
            "backgroundcolor": "#E5ECF6",
            "gridcolor": "white",
            "gridwidth": 2,
            "linecolor": "white",
            "showbackground": true,
            "ticks": "",
            "zerolinecolor": "white"
           },
           "yaxis": {
            "backgroundcolor": "#E5ECF6",
            "gridcolor": "white",
            "gridwidth": 2,
            "linecolor": "white",
            "showbackground": true,
            "ticks": "",
            "zerolinecolor": "white"
           },
           "zaxis": {
            "backgroundcolor": "#E5ECF6",
            "gridcolor": "white",
            "gridwidth": 2,
            "linecolor": "white",
            "showbackground": true,
            "ticks": "",
            "zerolinecolor": "white"
           }
          },
          "shapedefaults": {
           "line": {
            "color": "#2a3f5f"
           }
          },
          "ternary": {
           "aaxis": {
            "gridcolor": "white",
            "linecolor": "white",
            "ticks": ""
           },
           "baxis": {
            "gridcolor": "white",
            "linecolor": "white",
            "ticks": ""
           },
           "bgcolor": "#E5ECF6",
           "caxis": {
            "gridcolor": "white",
            "linecolor": "white",
            "ticks": ""
           }
          },
          "title": {
           "x": 0.05
          },
          "xaxis": {
           "automargin": true,
           "gridcolor": "white",
           "linecolor": "white",
           "ticks": "",
           "title": {
            "standoff": 15
           },
           "zerolinecolor": "white",
           "zerolinewidth": 2
          },
          "yaxis": {
           "automargin": true,
           "gridcolor": "white",
           "linecolor": "white",
           "ticks": "",
           "title": {
            "standoff": 15
           },
           "zerolinecolor": "white",
           "zerolinewidth": 2
          }
         }
        },
        "title": {
         "text": "Dislocation Loop Radius"
        },
        "width": 600,
        "xaxis": {
         "title": {
          "text": "Dose [dpa]"
         }
        },
        "yaxis": {
         "title": {
          "text": "Loop Radius [nm]"
         }
        }
       }
      },
      "image/png": "[encoded data removed]"
     },
     "metadata": {},
     "output_type": "display_data"
    }
   ],
   "source": [
    "solution = solve_ivp(ODE_system, method='BDF', t_span=t_span, y0=y0,\n",
    "                     args=(ode_params,), t_eval=t_eval)\n",
    "\n",
    "results = pd.DataFrame(solution.y.T,\n",
    "                       columns=['C_Th_v','C_O_v','C_Th_i','C_O_i','N_L','R_L'])\n",
    "results['time'] = solution.t\n",
    "\n",
    "\n",
    "interactive_plots(results, G_0)"
   ]
  }
 ],
 "metadata": {
  "kernelspec": {
   "display_name": "Python 3 (ipykernel)",
   "language": "python",
   "name": "python3"
  },
  "language_info": {
   "codemirror_mode": {
    "name": "ipython",
    "version": 3
   },
   "file_extension": ".py",
   "mimetype": "text/x-python",
   "name": "python",
   "nbconvert_exporter": "python",
   "pygments_lexer": "ipython3",
   "version": "3.9.23"
  }
 },
 "nbformat": 4,
 "nbformat_minor": 5
}
